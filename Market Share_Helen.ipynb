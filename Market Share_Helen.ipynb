{
 "cells": [
  {
   "cell_type": "code",
   "execution_count": null,
   "id": "86f29b40-0a72-4b0c-88e7-3bee31868cdc",
   "metadata": {
    "tags": []
   },
   "outputs": [],
   "source": [
    "project_path = \"/home/jupyter\"\n",
    "import os\n",
    "import sys\n",
    "sys.path.append(project_path)\n",
    "\n",
    "from google.cloud import bigquery\n",
    "import importlib\n",
    "import plotly.express as px\n",
    "\n",
    "import numpy as np\n",
    "import pandas as pd\n",
    "from datetime import datetime\n",
    "\n",
    "import ft_digital_trade.src.utils.read_data as read_utils\n",
    "import ft_digital_trade.src.utils.clean_utils as clean_utils\n",
    "import ft_digital_trade.src.utils.calculation_utils as calc_utils\n",
    "import ft_digital_trade.src.utils.plot_utils as plot_utils"
   ]
  },
  {
   "cell_type": "code",
   "execution_count": null,
   "id": "083b09f5-d2db-467c-a35f-9dae6ec5714f",
   "metadata": {
    "tags": []
   },
   "outputs": [],
   "source": [
    "client = bigquery.Client()"
   ]
  },
  {
   "cell_type": "code",
   "execution_count": null,
   "id": "c9f07b72-2650-44be-8375-024c30c93da1",
   "metadata": {
    "tags": []
   },
   "outputs": [],
   "source": [
    "#This allows you to select different location of merchant spend for face-to-face and online\n",
    "## for more information run the following:\n",
    "##help(read_utils.read_visa)\n",
    "#visa_data = read_utils.read_f2f_online(cardholder_origin = \"all\", f2f =  \"uk\", online =  \"all\")\n",
    "\n",
    "#This applies the same filters for face-to-face and online data\n",
    "## for more information run the following:\n",
    "##help(read_utils.read_visa)\n",
    "visa_data = read_utils.read_visa(cardholder_origin = \"uk\", cardholders_location = \"uk\", spend_location = \"uk\")"
   ]
  },
  {
   "cell_type": "code",
   "execution_count": null,
   "id": "da0f7c26-5dfe-4434-a058-2249ecdfe7ac",
   "metadata": {
    "tags": []
   },
   "outputs": [],
   "source": [
    "visa = calc_utils.calculate_visa(visa_data)\n",
    "visa = clean_utils.rename_columns(df = visa, suffix = '_spoc')"
   ]
  },
  {
   "cell_type": "code",
   "execution_count": null,
   "id": "8dfb80b8-1f13-40c9-b651-e5635dc34059",
   "metadata": {
    "tags": []
   },
   "outputs": [],
   "source": [
    "global_cards = read_utils.read_global_cards()\n",
    "global_cards = clean_utils.clean_global(global_cards)\n",
    "global_cards = calc_utils.calculate_global(global_cards, 'card')"
   ]
  },
  {
   "cell_type": "code",
   "execution_count": null,
   "id": "4fcfcd6f-3aa1-4611-b3b9-2baddda2327c",
   "metadata": {
    "tags": []
   },
   "outputs": [],
   "source": [
    "global_spend = read_utils.read_global_spend()\n",
    "global_spend = clean_utils.clean_global(global_spend)\n",
    "global_spend = calc_utils.calculate_global(global_spend, 'spend')"
   ]
  },
  {
   "cell_type": "code",
   "execution_count": null,
   "id": "020ec734-a292-4c11-89c8-d93123a5d431",
   "metadata": {
    "tags": []
   },
   "outputs": [],
   "source": [
    "global_df = global_cards.merge(global_spend, how = 'inner', on = 'year', suffixes = ('_cards', '_spend'))\n",
    "global_df = clean_utils.rename_columns(df = global_df, suffix = '_global')"
   ]
  },
  {
   "cell_type": "code",
   "execution_count": null,
   "id": "29cbe9bf-74a3-4979-9b1d-e24eb9ebc2b0",
   "metadata": {
    "tags": []
   },
   "outputs": [],
   "source": [
    "uk_finance = read_utils.read_uk_finance()\n",
    "uk_finance = clean_utils.clean_uk_finance(uk_finance)\n",
    "uk_finance = calc_utils.calculate_uk_finance(uk_finance)\n",
    "uk_finance = uk_finance[['year', 'cardholders','total value of purchases',\"total volume of purchases\"]]\n",
    "uk_finance = clean_utils.rename_columns(df = uk_finance , suffix = '_uk_finance')"
   ]
  },
  {
   "cell_type": "code",
   "execution_count": null,
   "id": "dfaeb530-f3e3-4823-9c32-2470e0f7e276",
   "metadata": {
    "tags": []
   },
   "outputs": [],
   "source": [
    "boe = read_utils.read_boe()\n",
    "boe = clean_utils.clean_boe(boe)\n",
    "boe = calc_utils.calculate_boe(boe)\n",
    "boe = clean_utils.rename_columns(df = boe , suffix = '_boe')"
   ]
  },
  {
   "cell_type": "code",
   "execution_count": null,
   "id": "6a87b914-fc04-4df2-ae9b-6b119725e99e",
   "metadata": {
    "tags": []
   },
   "outputs": [],
   "source": [
    "link = read_utils.read_link()"
   ]
  },
  {
   "cell_type": "code",
   "execution_count": null,
   "id": "afad4208-0cc8-4a41-b546-ce2dad8b83f1",
   "metadata": {
    "tags": []
   },
   "outputs": [],
   "source": [
    "merged = visa.merge(uk_finance, how = 'outer', on = 'year')\n",
    "merged = merged.merge(boe, how = 'outer', on = 'year')\n",
    "merged = merged.merge(global_df, how = 'outer', on = 'year')"
   ]
  },
  {
   "cell_type": "code",
   "execution_count": null,
   "id": "37ecaedf-84de-4e2a-8a3c-64dc5aaff27f",
   "metadata": {
    "tags": []
   },
   "outputs": [],
   "source": [
    "cardholders = merged[['year','cardholders_spoc','cardholders_uk_finance','visa_total_cards_global','total_cards_global', 'visa_marketshare_cards_global']]\n",
    "cardholders = cardholders.copy()\n",
    "cardholders['uk_finance_marketshare'] = cardholders['cardholders_spoc'] / cardholders['cardholders_uk_finance'] *100\n",
    "cardholders['global_marketshare'] = cardholders['cardholders_spoc'] / cardholders['total_cards_global'] *100\n",
    "#melt df for charts\n",
    "cardholders = pd.melt(cardholders, id_vars='year',var_name='Data source', value_name='value')\n",
    "cardholders = calc_utils.calculate_index(df = cardholders)"
   ]
  },
  {
   "cell_type": "code",
   "execution_count": null,
   "id": "e2c90454-808c-46e4-9dcf-6e7ffdca8acd",
   "metadata": {
    "tags": []
   },
   "outputs": [],
   "source": [
    "spend = merged[['year','spend_spoc', \n",
    "        'total value of purchases_uk_finance',\n",
    "       'Mastercard values_boe', 'Visa Europe values_boe',\n",
    "       'Mastercard and Visa values_boe', 'Visa proportion_boe',\n",
    "       'debit_spend_global', 'credit_spend_global', 'visa_total_spend_global',\n",
    "       'total_spend_global', 'visa_marketshare_spend_global']]\n",
    "spend = spend.copy()\n",
    "# #replace 2024 spending with NA\n",
    "spend['spend_spoc'] = np.where(spend['year']==2024, np.nan, spend['spend_spoc'])\n",
    "spend['total value of purchases_uk_finance'] = np.where(spend['year']==2024, np.nan, spend['total value of purchases_uk_finance'])\n",
    "#calculate marketshare\n",
    "spend['uk_finance_marketshare'] = spend['spend_spoc'] / spend['total value of purchases_uk_finance'] *100\n",
    "spend['global_marketshare'] = spend['spend_spoc'] / spend['total_spend_global'] *100\n",
    "spend['boe_marketshare'] = spend['spend_spoc'] / spend['Mastercard and Visa values_boe'] *100\n",
    "#copy used for getting 2019 marketshare\n",
    "spend_copy = spend.copy()\n",
    "#melt df for charts\n",
    "spend = pd.melt(spend, id_vars='year',var_name='Data source', value_name='value')\n",
    "spend = calc_utils.calculate_index(df = spend)"
   ]
  },
  {
   "cell_type": "code",
   "execution_count": null,
   "id": "5ec94d58-28b9-4b52-b26a-dc03d74c0b8a",
   "metadata": {
    "tags": []
   },
   "outputs": [],
   "source": [
    "plot_utils.plot_total_cardholders(df = cardholders)"
   ]
  },
  {
   "cell_type": "code",
   "execution_count": null,
   "id": "505e2af2-71f7-42cd-81d8-4352cc946247",
   "metadata": {
    "tags": []
   },
   "outputs": [],
   "source": [
    "plot_utils.plot_visa_cardholders(df = cardholders)"
   ]
  },
  {
   "cell_type": "code",
   "execution_count": null,
   "id": "f52f7349-bd2e-4327-b086-555714a8bd82",
   "metadata": {
    "tags": []
   },
   "outputs": [],
   "source": [
    "plot_utils.plot_marketshare_cardholders(df = cardholders)"
   ]
  },
  {
   "cell_type": "code",
   "execution_count": null,
   "id": "c9a5e6a1-f2eb-44fc-9d0e-9fe56fed6ac8",
   "metadata": {
    "tags": []
   },
   "outputs": [],
   "source": [
    "plot_utils.plot_total_spend(df = spend)"
   ]
  },
  {
   "cell_type": "code",
   "execution_count": null,
   "id": "3835fe2d-a849-4738-8b80-dc9fffa7271e",
   "metadata": {
    "tags": []
   },
   "outputs": [],
   "source": [
    "plot_utils.plot_visa_spend(df = spend)"
   ]
  },
  {
   "cell_type": "code",
   "execution_count": null,
   "id": "9cfaed11-a7fc-4dcb-adbe-b9ee4ffd5d41",
   "metadata": {
    "tags": []
   },
   "outputs": [],
   "source": [
    "plot_utils.plot_marketshare_spend(df = spend)"
   ]
  },
  {
   "cell_type": "code",
   "execution_count": null,
   "id": "aede05f0-29a7-4af3-9ac9-7fc0f987673b",
   "metadata": {
    "tags": []
   },
   "outputs": [],
   "source": [
    "#options of marketshare threshold\n",
    "# marketshare_2019 = spend_copy.iloc[0]['visa_marketshare_spend_global']\n",
    "# marketshare_2019 = spend_copy.iloc[0]['global_marketshare']\n",
    "marketshare_2019 = spend_copy.iloc[0]['uk_finance_marketshare']\n",
    "marketshare_2019"
   ]
  },
  {
   "cell_type": "code",
   "execution_count": null,
   "id": "b09a4412-33d6-4d1e-a88f-3fdad6a2f365",
   "metadata": {
    "tags": []
   },
   "outputs": [],
   "source": [
    "df = merged.copy()\n",
    "#remove 2024 due to incomplete data\n",
    "df = df[df['year'] != 2024]\n",
    "#index spoc data\n",
    "df['idx_cardholders_spoc'] = df['cardholders_spoc'].transform(lambda x: (x / x.iloc[0] * 100))\n",
    "df['idx_spend_spoc'] = df['spend_spoc'].transform(lambda x: (x / x.iloc[0] * 100))\n",
    "# adjust visa spend to 2019 cardholders\n",
    "df['visa_adj_spend_spoc'] = (df['spend_spoc']/df['idx_cardholders_spoc'])*100\n",
    "df['total_spoc'] = df['visa_adj_spend_spoc'] / marketshare_2019 *100\n",
    "#rename columns\n",
    "df = df.rename(columns={'total value of purchases_uk_finance': 'total_uk_finance'})\n",
    "df = df.rename(columns={'visa_total_spend_global': 'visa_total_global','total_spend_global':'total_global'})\n",
    "df = df.rename(columns={'Visa Europe values_boe': 'visa_total_boe', 'Mastercard and Visa values_boe': 'total_boe'})\n",
    "#filter columns\n",
    "df = df[['year', 'visa_adj_spend_spoc', 'total_spoc', 'visa_total_global', 'total_global', 'total_uk_finance', 'visa_total_boe', 'total_boe' ]]\n",
    "#melt df\n",
    "df = pd.melt(df, id_vars='year',var_name='Data source', value_name='value')\n",
    "df = calc_utils.calculate_index(df = df)"
   ]
  },
  {
   "cell_type": "code",
   "execution_count": null,
   "id": "f50a5334-a5a1-41b9-8f76-12fd97b4a136",
   "metadata": {
    "tags": []
   },
   "outputs": [],
   "source": [
    "plot_utils.plot_adjusted_visa(df = df, y_value = \"value\")"
   ]
  },
  {
   "cell_type": "code",
   "execution_count": null,
   "id": "73147538-9b01-4d3f-97bf-4f96a6bdefcc",
   "metadata": {
    "tags": []
   },
   "outputs": [],
   "source": [
    "plot_utils.plot_adjusted_visa(df = df, y_value = \"index\")"
   ]
  },
  {
   "cell_type": "code",
   "execution_count": null,
   "id": "7be9be85-b88d-4c6f-b878-5d5e05bd9f83",
   "metadata": {},
   "outputs": [],
   "source": []
  }
 ],
 "metadata": {
  "environment": {
   "kernel": "python3",
   "name": "r-cpu.m125",
   "type": "gcloud",
   "uri": "us-docker.pkg.dev/deeplearning-platform-release/gcr.io/r-cpu:m125"
  },
  "language_info": {
   "codemirror_mode": {
    "name": "ipython",
    "version": 3
   },
   "file_extension": ".py",
   "mimetype": "text/x-python",
   "name": "python",
   "nbconvert_exporter": "python",
   "pygments_lexer": "ipython3",
   "version": "3.10.15"
  }
 },
 "nbformat": 4,
 "nbformat_minor": 5
}
