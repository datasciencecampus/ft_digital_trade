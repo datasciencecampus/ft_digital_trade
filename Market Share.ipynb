{
 "cells": [
  {
   "cell_type": "code",
   "execution_count": null,
   "id": "86f29b40-0a72-4b0c-88e7-3bee31868cdc",
   "metadata": {
    "tags": []
   },
   "outputs": [],
   "source": [
    "project_path = \"/home/jupyter\"\n",
    "import os\n",
    "import sys\n",
    "sys.path.append(project_path)\n",
    "\n",
    "from google.cloud import bigquery\n",
    "import importlib\n",
    "import plotly.express as px\n",
    "\n",
    "import numpy as np\n",
    "import pandas as pd\n",
    "from datetime import datetime\n",
    "\n",
    "import ft_digital_trade.src.utils.marketshare.read_data as read_utils\n",
    "import ft_digital_trade.src.utils.marketshare.clean_utils as clean_utils\n",
    "import ft_digital_trade.src.utils.marketshare.calculation_utils as calc_utils\n",
    "import ft_digital_trade.src.utils.marketshare.plot_utils as plot_utils"
   ]
  },
  {
   "cell_type": "code",
   "execution_count": null,
   "id": "083b09f5-d2db-467c-a35f-9dae6ec5714f",
   "metadata": {
    "tags": []
   },
   "outputs": [],
   "source": [
    "client = bigquery.Client()"
   ]
  },
  {
   "cell_type": "code",
   "execution_count": null,
   "id": "c9f07b72-2650-44be-8375-024c30c93da1",
   "metadata": {
    "tags": []
   },
   "outputs": [],
   "source": [
    "#This allows you to select different location of merchant spend for face-to-face and online\n",
    "## for more information run the following:\n",
    "##help(read_utils.read_visa)\n",
    "#visa_data = read_utils.read_f2f_online(cardholder_origin = \"all\", f2f =  \"uk\", online =  \"all\")\n",
    "\n",
    "#This applies the same filters for face-to-face and online data\n",
    "## for more information run the following:\n",
    "##help(read_utils.read_visa)\n",
    "visa_data = read_utils.read_visa(cardholder_origin = \"uk\", cardholders_location = \"uk\", spend_location = \"uk\")"
   ]
  },
  {
   "cell_type": "code",
   "execution_count": null,
   "id": "da0f7c26-5dfe-4434-a058-2249ecdfe7ac",
   "metadata": {
    "tags": []
   },
   "outputs": [],
   "source": [
    "visa = calc_utils.calculate_visa(visa_data)\n",
    "visa = clean_utils.rename_columns(df = visa, suffix = '_spoc')"
   ]
  },
  {
   "cell_type": "code",
   "execution_count": null,
   "id": "8dfb80b8-1f13-40c9-b651-e5635dc34059",
   "metadata": {
    "tags": []
   },
   "outputs": [],
   "source": [
    "global_cards = read_utils.read_global_cards()\n",
    "global_cards = clean_utils.clean_global(global_cards)\n",
    "global_cards = calc_utils.calculate_global(global_cards, 'card')"
   ]
  },
  {
   "cell_type": "code",
   "execution_count": null,
   "id": "4fcfcd6f-3aa1-4611-b3b9-2baddda2327c",
   "metadata": {},
   "outputs": [],
   "source": []
  }
 ],
 "metadata": {
  "environment": {
   "kernel": "python3",
   "name": "r-cpu.m125",
   "type": "gcloud",
   "uri": "us-docker.pkg.dev/deeplearning-platform-release/gcr.io/r-cpu:m125"
  },
  "language_info": {
   "codemirror_mode": {
    "name": "ipython",
    "version": 3
   },
   "file_extension": ".py",
   "mimetype": "text/x-python",
   "name": "python",
   "nbconvert_exporter": "python",
   "pygments_lexer": "ipython3",
   "version": "3.10.15"
  }
 },
 "nbformat": 4,
 "nbformat_minor": 5
}
