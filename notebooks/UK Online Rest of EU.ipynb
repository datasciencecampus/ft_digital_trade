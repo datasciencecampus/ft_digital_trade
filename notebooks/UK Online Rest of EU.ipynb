{
 "cells": [
  {
   "cell_type": "code",
   "execution_count": null,
   "id": "ba1ecee8-1a7b-4baa-bc4c-ef4d03734125",
   "metadata": {
    "tags": []
   },
   "outputs": [],
   "source": [
    "project_path = \"/home/jupyter\"\n",
    "import os\n",
    "import sys\n",
    "sys.path.append(project_path)\n",
    "from google.cloud import bigquery, storage\n",
    "\n",
    "import matplotlib.pyplot as plt\n",
    "import numpy as np\n",
    "import pandas as pd\n",
    "import plotly.express as px\n",
    "\n",
    "from fintrans_toolbox.src import bq_utils as bq"
   ]
  },
  {
   "cell_type": "code",
   "execution_count": null,
   "id": "78bd4fba-d15b-45a1-9c40-b723a097ba85",
   "metadata": {
    "tags": []
   },
   "outputs": [],
   "source": [
    "client = bigquery.Client()"
   ]
  },
  {
   "cell_type": "code",
   "execution_count": null,
   "id": "298ff50f-6275-40ee-a4d7-0e155a03f3c6",
   "metadata": {
    "tags": []
   },
   "outputs": [],
   "source": [
    "# Summarise the data by country\n",
    "UK_spending_by_country = '''SELECT time_period_value, destination_country, spend FROM `ons-fintrans-data-prod.fintrans_visa.spend_origin_and_channel` where time_period = 'Quarter' and mcg = 'All' and merchant_channel = 'Online' and cardholder_origin_country = 'All' and cardholder_origin = 'UNITED KINGDOM' and destination_country != 'UNITED KINGDOM' GROUP BY destination_country, \n",
    "time_period_value, spend ORDER BY time_period_value, destination_country DESC'''\n",
    "df_by_country = bq.read_bq_table_sql(client, UK_spending_by_country)\n",
    "df_by_country.head()\n"
   ]
  },
  {
   "cell_type": "code",
   "execution_count": null,
   "id": "46bbb817-c06e-476c-ad61-8497dd6603ed",
   "metadata": {
    "tags": []
   },
   "outputs": [],
   "source": [
    "# Assign value and percentage change variables\n",
    "df_by_country = df_by_country.sort_values(['destination_country','time_period_value'])\n",
    "df_by_country['pct_change'] = df_by_country.groupby(['destination_country']).spend.pct_change()\n",
    "df_by_country['value_change'] = df_by_country.groupby(['destination_country']).spend.diff()\n"
   ]
  },
  {
   "cell_type": "code",
   "execution_count": null,
   "id": "ef64fea3-c061-4630-936a-77ce418155d2",
   "metadata": {
    "tags": []
   },
   "outputs": [],
   "source": [
    "# Plot stacked bar chart with all values\n",
    "df_by_country[['time_period_value','destination_country','spend']].groupby(['time_period_value','destination_country']).sum().unstack().plot(kind = 'bar', stacked = 'True')"
   ]
  },
  {
   "cell_type": "code",
   "execution_count": null,
   "id": "e1a98a00-cdfa-4c5e-b682-c98fe2887e50",
   "metadata": {
    "tags": []
   },
   "outputs": [],
   "source": [
    "# Plot line chart using plotly express for all countries\n",
    "pfig2 = px.line(\n",
    "        df_by_country,\n",
    "        x=\"time_period_value\",\n",
    "        y=\"spend\",\n",
    "        color=\"destination_country\")\n",
    "pfig2"
   ]
  },
  {
   "cell_type": "code",
   "execution_count": null,
   "id": "7ef2b53f-b4be-4253-bcbe-39ff108b074b",
   "metadata": {
    "tags": []
   },
   "outputs": [],
   "source": [
    "# Filter data for 'REST OF EUROPE'\n",
    "df_rest_of_europe = df_by_country[df_by_country['destination_country'] == 'REST OF EUROPE']\n",
    "\n",
    "# Plot line chart using plotly.express for REST OF EUROPE only\n",
    "pfig2 = px.line(\n",
    "    df_rest_of_europe,\n",
    "    x=\"time_period_value\",\n",
    "    y=\"spend\",\n",
    "    title=\"Spending Over Time - REST OF EUROPE\",\n",
    "    labels={\"time_period_value\": \"Time Period\", \"spend\": \"Spending\"},\n",
    ")\n",
    "pfig2.show()"
   ]
  },
  {
   "cell_type": "code",
   "execution_count": null,
   "id": "2509645e-aeea-43c3-97a9-0e55c578509f",
   "metadata": {
    "tags": []
   },
   "outputs": [],
   "source": [
    "project_path = \"/home/jupyter\"\n",
    "import os\n",
    "import sys\n",
    "sys.path.append(project_path)\n",
    "from google.cloud import bigquery, storage\n",
    "\n",
    "import matplotlib.pyplot as plt\n",
    "import numpy as np\n",
    "import pandas as pd\n",
    "import plotly.express as px\n",
    "\n",
    "from fintrans_toolbox.src import bq_utils as bq\n",
    "client = bigquery.Client()\n",
    "# Summarise the data by country\n",
    "UK_spending_by_country = '''SELECT time_period_value, destination_country, spend FROM ons-fintrans-data-prod.fintrans_visa.spend_origin_and_channel where time_period = 'Quarter' and mcg = 'All' and merchant_channel = 'Online' and cardholder_origin_country = 'All' and cardholder_origin = 'UNITED KINGDOM' and destination_country != 'UNITED KINGDOM' GROUP BY destination_country, \n",
    "time_period_value, spend ORDER BY time_period_value, destination_country DESC'''\n",
    "df_by_country = bq.read_bq_table_sql(client, UK_spending_by_country)\n",
    "df_by_country.head()\n",
    "# Assign value and percentage change variables\n",
    "df_by_country = df_by_country.sort_values(['destination_country','time_period_value'])\n",
    "df_by_country['pct_change'] = df_by_country.groupby(['destination_country']).spend.pct_change()\n",
    "df_by_country['value_change'] = df_by_country.groupby(['destination_country']).spend.diff()\n",
    "# Plot stacked bar chart with all values\n",
    "df_by_country[['time_period_value','destination_country','spend']].groupby(['time_period_value','destination_country']).sum().unstack().plot(kind = 'bar', stacked = 'True')\n",
    "# Select some contries to plot and reduce dataframe\n",
    "countries = [\n",
    "'REST OF EUROPE'] \n",
    "plot_df = df_by_country[['time_period_value','destination_country','spend']].loc[df_by_country['destination_country'].isin(countries) ]\n",
    "# Line chart using plotly express\n",
    "pfig = px.line(\n",
    "        plot_df,\n",
    "        x=\"time_period_value\",\n",
    "        y=\"spend\",\n",
    "        color=\"destination_country\")\n",
    "pfig"
   ]
  },
  {
   "cell_type": "code",
   "execution_count": null,
   "id": "df43d8b1-eb94-4588-b88d-11572746a4ab",
   "metadata": {
    "tags": []
   },
   "outputs": [],
   "source": [
    "# Filter data for 'REST OF EUROPE'\n",
    "df_rest_of_europe = df_by_country[df_by_country['destination_country'] == 'REST OF EUROPE']\n",
    "\n",
    "# Plot line chart using matplotlib\n",
    "plt.figure(figsize=(10, 6))\n",
    "plt.plot(df_rest_of_europe['time_period_value'], df_rest_of_europe['spend'], marker='o', color='b')\n",
    "plt.title('Spending Over Time - REST OF EUROPE')\n",
    "plt.xlabel('Time Period')\n",
    "plt.ylabel('Spending')\n",
    "plt.grid(True)\n",
    "plt.xticks(rotation=45)\n",
    "plt.tight_layout()\n",
    "plt.show()"
   ]
  },
  {
   "cell_type": "code",
   "execution_count": null,
   "id": "ca6bab58-d2c6-459e-b162-2217737faa1a",
   "metadata": {
    "tags": []
   },
   "outputs": [],
   "source": [
    "import plotly.express as px\n",
    "\n",
    "# Plot line chart using plotly.express\n",
    "fig = px.line(df_rest_of_europe, x='time_period_value', y='spend', title='Spending Over Time - REST OF EUROPE')\n",
    "fig.update_layout(xaxis_title='Time Period', yaxis_title='Spending')\n",
    "fig.show()"
   ]
  },
  {
   "cell_type": "code",
   "execution_count": null,
   "id": "306d076a-8b87-4a3a-ab8b-419922a155c7",
   "metadata": {},
   "outputs": [],
   "source": []
  },
  {
   "cell_type": "code",
   "execution_count": null,
   "id": "a4f67d22-36e0-45df-b4de-0564d9fc7f9d",
   "metadata": {},
   "outputs": [],
   "source": []
  }
 ],
 "metadata": {
  "environment": {
   "kernel": "python3",
   "name": "r-cpu.m125",
   "type": "gcloud",
   "uri": "us-docker.pkg.dev/deeplearning-platform-release/gcr.io/r-cpu:m125"
  },
  "language_info": {
   "codemirror_mode": {
    "name": "ipython",
    "version": 3
   },
   "file_extension": ".py",
   "mimetype": "text/x-python",
   "name": "python",
   "nbconvert_exporter": "python",
   "pygments_lexer": "ipython3",
   "version": "3.10.15"
  }
 },
 "nbformat": 4,
 "nbformat_minor": 5
}
