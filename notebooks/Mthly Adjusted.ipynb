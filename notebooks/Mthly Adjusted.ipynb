{
 "cells": [
  {
   "cell_type": "code",
   "execution_count": null,
   "id": "01484c4a-2b29-44ca-b842-74104ddd2e6c",
   "metadata": {
    "tags": []
   },
   "outputs": [],
   "source": [
    "project_path = \"/home/jupyter\"\n",
    "import os\n",
    "import sys\n",
    "\n",
    "sys.path.append(project_path)\n",
    "import numpy as np\n",
    "import pandas as pd\n",
    "import matplotlib.pyplot as plt\n",
    "import re\n",
    "from google.cloud import bigquery\n",
    "\n",
    "from fintrans_toolbox.src import bq_utils as bq\n",
    "from fintrans_toolbox.src import table_utils as t\n",
    "\n",
    "\n",
    "client = bigquery.Client()"
   ]
  },
  {
   "cell_type": "code",
   "execution_count": null,
   "id": "36f8fc24-b30a-4f87-8345-46d00637acf4",
   "metadata": {
    "tags": []
   },
   "outputs": [],
   "source": [
    "# Total UK Cardholder Dometic Online Monthly\n",
    "\n",
    "# Summarise the data by UK Cardholder Online Spending Total Monthly Domestics\n",
    "\n",
    "UK_spending_Online_All = '''SELECT time_period_value, SUM(spend) AS total_spend\n",
    "FROM `ons-fintrans-data-prod.fintrans_visa.spend_origin_and_channel` \n",
    "where time_period = 'Month' \n",
    "and mcg = 'All'\n",
    "and merchant_channel = 'Online' \n",
    "and cardholder_origin_country = 'All' \n",
    "and cardholder_origin = 'UNITED KINGDOM' \n",
    "and destination_country = 'UNITED KINGDOM' \n",
    "GROUP BY destination_country, \n",
    "time_period_value \n",
    "ORDER BY time_period_value'''\n",
    "df_by_Online_All = bq.read_bq_table_sql(client, UK_spending_Online_All)\n",
    "df_by_Online_All = df_by_Online_All.rename(columns={'total_spend': 'Online_spend_All'})\n",
    "df_by_Online_All.head()\n",
    "\n",
    "print(df_by_Online_All)\n",
    "\n",
    "# Save the DataFrame to a CSV file\n",
    "csv_filename = \"UK_Online_Spending_Mth_Dom.csv\"\n",
    "df_by_Online_All.to_csv(csv_filename, index=False)\n",
    "\n",
    "print(f\"CSV file '{csv_filename}' has been created successfully.\")"
   ]
  },
  {
   "cell_type": "code",
   "execution_count": null,
   "id": "10a49235-a161-44df-b85a-1b03af8a8248",
   "metadata": {
    "tags": []
   },
   "outputs": [],
   "source": [
    "# Total UK Cardholder International Online Monthly\n",
    "\n",
    "# Summarise the data by UK Cardholder Online Spending Total Monthly Abroad\n",
    "\n",
    "UK_spending_Online_All = '''SELECT time_period_value, SUM(spend) AS total_spend\n",
    "FROM `ons-fintrans-data-prod.fintrans_visa.spend_origin_and_channel` \n",
    "where time_period = 'Month' \n",
    "and mcg = 'All'\n",
    "and merchant_channel = 'Online' \n",
    "and cardholder_origin_country = 'All' \n",
    "and cardholder_origin = 'UNITED KINGDOM' \n",
    "and destination_country != 'UNITED KINGDOM' \n",
    "GROUP BY destination_country, \n",
    "time_period_value \n",
    "ORDER BY time_period_value'''\n",
    "df_by_Online_All = bq.read_bq_table_sql(client, UK_spending_Online_All)\n",
    "df_by_Online_All = df_by_Online_All.rename(columns={'total_spend': 'Online_spend_All'})\n",
    "df_by_Online_All.head()\n",
    "\n",
    "print(df_by_Online_All)\n",
    "\n",
    "# Save the DataFrame to a CSV file\n",
    "csv_filename = \"UK_Online_Spending_Mth_Intl.csv\"\n",
    "df_by_Online_All.to_csv(csv_filename, index=False)\n",
    "\n",
    "print(f\"CSV file '{csv_filename}' has been created successfully.\")"
   ]
  },
  {
   "cell_type": "code",
   "execution_count": null,
   "id": "caf0ad48-b58b-49b7-be46-11b4e6177c94",
   "metadata": {
    "tags": []
   },
   "outputs": [],
   "source": [
    "# Summarise the data by UK Cardholder Spending All Monthly --------------- Cardholders' Number Total Monthly ----  mcg = 'All'\n",
    "\n",
    "UK_spending_by_mcg_All = '''SELECT time_period_value, cardholders, destination_country, spend \n",
    "FROM `ons-fintrans-data-prod.fintrans_visa.spend_origin_and_channel` \n",
    "where time_period = 'Month' \n",
    "and mcg = 'All' \n",
    "and merchant_channel = 'All' \n",
    "and cardholder_origin_country = 'All' \n",
    "and cardholder_origin = 'UNITED KINGDOM' \n",
    " \n",
    "GROUP BY cardholders, destination_country, \n",
    "time_period_value, spend \n",
    "ORDER BY time_period_value, destination_country DESC'''\n",
    "df_by_mcg_All = bq.read_bq_table_sql(client, UK_spending_by_mcg_All)\n",
    "df_by_mcg_All.head()\n",
    "\n",
    "# Caculate UK Domestic Total Spending Quarterly\n",
    "\n",
    "# Assuming df_by_mcg_All is the DataFrame returned from the BigQuery query\n",
    "# Then group by 'time_period_value' and sum the 'spend' for each quarter\n",
    "\n",
    "# Check if df_by_mcg_All is not None and has the expected columns\n",
    "if df_by_mcg_All is not None and 'time_period_value' in df_by_mcg_All.columns and 'spend' in df_by_mcg_All.columns:\n",
    "    # Group by quarter and sum the spend\n",
    "    UK_spending_by_mcg_All = df_by_mcg_All.groupby('time_period_value')['cardholders'].sum().reset_index()\n",
    "   \n",
    " # Rename the column\n",
    "    UK_spending_by_mcg_All = UK_spending_by_mcg_All.rename(columns={'cardholders': 'Spend_mcg_All_cardholders'})\n",
    "    print(UK_spending_by_mcg_All)\n",
    "else:\n",
    "    print(\"DataFrame is empty or missing required columns.\")\n",
    "    \n",
    "    \n",
    "# Save to CSV\n",
    "UK_spending_by_mcg_All.to_csv(\"UK_Spend_Mth_All_cardholders.csv\", index=False)\n"
   ]
  },
  {
   "cell_type": "code",
   "execution_count": null,
   "id": "5455d746-9553-4048-aeaf-389a4a54d31b",
   "metadata": {},
   "outputs": [],
   "source": []
  },
  {
   "cell_type": "code",
   "execution_count": null,
   "id": "af0a5c97-9599-444c-9f8e-b0da28194bf7",
   "metadata": {},
   "outputs": [],
   "source": []
  }
 ],
 "metadata": {
  "environment": {
   "kernel": "python3",
   "name": "r-cpu.m125",
   "type": "gcloud",
   "uri": "us-docker.pkg.dev/deeplearning-platform-release/gcr.io/r-cpu:m125"
  },
  "language_info": {
   "codemirror_mode": {
    "name": "ipython",
    "version": 3
   },
   "file_extension": ".py",
   "mimetype": "text/x-python",
   "name": "python",
   "nbconvert_exporter": "python",
   "pygments_lexer": "ipython3",
   "version": "3.10.15"
  }
 },
 "nbformat": 4,
 "nbformat_minor": 5
}
