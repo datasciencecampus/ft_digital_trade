{
 "cells": [
  {
   "cell_type": "code",
   "execution_count": null,
   "id": "49e59018-78ba-4f5b-9100-07fd1704bc64",
   "metadata": {
    "tags": []
   },
   "outputs": [],
   "source": [
    "project_path = \"/home/jupyter\"\n",
    "import os\n",
    "import sys\n",
    "\n",
    "sys.path.append(project_path)\n",
    "import numpy as np\n",
    "import pandas as pd\n",
    "import matplotlib.pyplot as plt\n",
    "import re\n",
    "import plotly.express as px\n",
    "import plotly.graph_objects as go\n",
    "from datetime import datetime\n",
    "from google.cloud import bigquery\n",
    "\n",
    "from fintrans_toolbox.src import bq_utils as bq\n",
    "from fintrans_toolbox.src import table_utils as t\n",
    "\n",
    "import ft_digital_trade.src.utils.read_data as read_utils\n",
    "import ft_digital_trade.src.utils.clean_utils as clean_utils\n",
    "import ft_digital_trade.src.utils.calculation_utils as calc_utils\n",
    "import ft_digital_trade.src.utils.plot_utils as plot_utils\n",
    "\n",
    "client = bigquery.Client()"
   ]
  },
  {
   "cell_type": "code",
   "execution_count": null,
   "id": "b75b56be-2d45-4dc4-a2ba-0fa1f598b876",
   "metadata": {
    "tags": []
   },
   "outputs": [],
   "source": [
    "# Calculating Visa marketshare drop-off using change in cardholders over time\n",
    "# Looks at how total number of UK cardholders in the dataset changes over time to scale each category of spend\n",
    "\n",
    "cardholders = '''SELECT time_period_value, sum(cardholders) as total_cardholders\n",
    "FROM `ons-fintrans-data-prod.fintrans_visa.spend_origin_and_channel`\n",
    "WHERE time_period = 'Month' \n",
    "  AND mcg = 'All' \n",
    "  AND mcc = 'All'\n",
    "  AND merchant_channel = 'All'\n",
    "  AND cardholder_origin = 'UNITED KINGDOM'\n",
    "  AND cardholder_origin_country = 'All'\n",
    "  GROUP BY time_period_value\n",
    "  ORDER BY time_period_value ASC\n",
    "'''\n",
    "cardholders_total = bq.read_bq_table_sql(client, cardholders)\n",
    "#cardholders_total\n",
    "\n",
    "base_cardholders = cardholders_total['total_cardholders'].iloc[0]\n",
    "#base_cardholder\n",
    "\n",
    "cardholders_total['Change from Base'] = (base_cardholders / cardholders_total['total_cardholders'])\n",
    "cardholders_total # Change from Base column can now be multiplied against each quarter's spend values to adjust the spend for Visa's marketshare"
   ]
  },
  {
   "cell_type": "code",
   "execution_count": null,
   "id": "662604da-cad3-412e-ab18-607d1e5895cc",
   "metadata": {
    "tags": []
   },
   "outputs": [],
   "source": [
    "# Summing everything up on a yearly basis\n",
    "yearly_cardholders = cardholders_total\n",
    "yearly_cardholders['Year'] = yearly_cardholders['time_period_value'].str[:4]\n",
    "yearly_cardholders = yearly_cardholders.groupby(['Year'])['total_cardholders'].sum().reset_index()\n",
    "\n",
    "yearly_base_cardholders = yearly_cardholders['total_cardholders'].iloc[0]\n",
    "yearly_cardholders['Change from Base'] = (yearly_base_cardholders / yearly_cardholders['total_cardholders'])\n",
    "\n",
    "#yearly_cardholders"
   ]
  },
  {
   "cell_type": "code",
   "execution_count": null,
   "id": "54a1c9d1-5e8d-40b0-a800-7bcd989754e5",
   "metadata": {},
   "outputs": [],
   "source": []
  },
  {
   "cell_type": "code",
   "execution_count": null,
   "id": "41050943-6849-46de-acbb-e6fbf7314b6b",
   "metadata": {
    "tags": []
   },
   "outputs": [],
   "source": [
    "# 1. Online vs Face-to-Face Spending"
   ]
  },
  {
   "cell_type": "code",
   "execution_count": null,
   "id": "9e2e934b-c578-451b-9e35-5653f35cf58a",
   "metadata": {
    "tags": []
   },
   "outputs": [],
   "source": [
    "# Total spend by UK cardholders\n",
    "total_spend = '''SELECT time_period_value, sum(spend) as total_spend\n",
    "FROM `ons-fintrans-data-prod.fintrans_visa.spend_origin_and_channel`\n",
    "WHERE time_period = 'Month' \n",
    "  AND mcg = 'All' \n",
    "  AND mcc = 'All'\n",
    "  AND merchant_channel = 'All'\n",
    "  AND cardholder_origin = 'UNITED KINGDOM'\n",
    "  AND cardholder_origin_country = 'All' \n",
    "GROUP BY time_period_value\n",
    "ORDER BY time_period_value ASC'''\n",
    "spend_total = bq.read_bq_table_sql(client, total_spend)\n",
    "#spend_total"
   ]
  },
  {
   "cell_type": "code",
   "execution_count": null,
   "id": "6e46a341-1f5d-4e4c-9970-d12423d87fd0",
   "metadata": {
    "tags": []
   },
   "outputs": [],
   "source": [
    "# Total online spend by UK cardholders\n",
    "total_online_spend = '''SELECT time_period_value, sum(spend) as total_online_spend\n",
    "FROM `ons-fintrans-data-prod.fintrans_visa.spend_origin_and_channel`\n",
    "WHERE time_period = 'Month' \n",
    "  AND mcg = 'All' \n",
    "  AND mcc = 'All'\n",
    "  AND merchant_channel = 'Online'\n",
    "  AND cardholder_origin = 'UNITED KINGDOM'\n",
    "  AND cardholder_origin_country = 'All'\n",
    "GROUP BY time_period_value\n",
    "ORDER BY time_period_value ASC'''\n",
    "online_spend = bq.read_bq_table_sql(client, total_online_spend)\n",
    "#online_spend.head()"
   ]
  },
  {
   "cell_type": "code",
   "execution_count": null,
   "id": "47105d90-eb87-4946-bdd1-1384bd261cd9",
   "metadata": {
    "tags": []
   },
   "outputs": [],
   "source": [
    "# Total online spend by UK cardholders\n",
    "total_f2f_spend = '''SELECT time_period_value, sum(spend) as total_f2f_spend\n",
    "FROM `ons-fintrans-data-prod.fintrans_visa.spend_origin_and_channel`\n",
    "WHERE time_period = 'Month' \n",
    "  AND mcg = 'All' \n",
    "  AND mcc = 'All'\n",
    "  AND merchant_channel = 'Face to Face'\n",
    "  AND cardholder_origin = 'UNITED KINGDOM'\n",
    "  AND cardholder_origin_country = 'All'\n",
    "GROUP BY time_period_value\n",
    "ORDER BY time_period_value ASC'''\n",
    "f2f_spend = bq.read_bq_table_sql(client, total_f2f_spend)\n",
    "#f2f_spend.head()"
   ]
  },
  {
   "cell_type": "code",
   "execution_count": null,
   "id": "919e2a75-224a-4180-8ecf-fb1232018863",
   "metadata": {
    "tags": []
   },
   "outputs": [],
   "source": [
    "# Merge tables together and check if sum of online+f2f = total (it does)\n",
    "online_vs_f2f = pd.merge(online_spend, f2f_spend, on='time_period_value')\n",
    "online_vs_f2f = pd.merge(online_vs_f2f, spend_total, on='time_period_value')\n",
    "online_vs_f2f['Total_Spend'] = online_vs_f2f['total_online_spend'] + online_vs_f2f['total_f2f_spend']\n",
    "online_vs_f2f['check'] = online_vs_f2f['Total_Spend'] - online_vs_f2f['total_spend']\n",
    "#online_vs_f2f"
   ]
  },
  {
   "cell_type": "code",
   "execution_count": null,
   "id": "dee914a9-fcc2-4198-8f73-4c4f2f73329a",
   "metadata": {
    "tags": []
   },
   "outputs": [],
   "source": [
    "# Drop the additional total spend figure and check columns\n",
    "online_vs_f2f = online_vs_f2f.drop(columns=['total_spend', 'check'])\n",
    "#online_vs_f2f"
   ]
  },
  {
   "cell_type": "code",
   "execution_count": null,
   "id": "0026ca12-2710-4bbb-96ab-156991802a5c",
   "metadata": {
    "tags": []
   },
   "outputs": [],
   "source": [
    "# Calculating the adjusted spend values for each category\n",
    "adjusted_spend = online_vs_f2f\n",
    "adjusted_spend['adjusted_total_online_spend'] = adjusted_spend['total_online_spend'] * cardholders_total['Change from Base']\n",
    "adjusted_spend['adjusted_total_f2f_spend'] = adjusted_spend['total_f2f_spend'] * cardholders_total['Change from Base']\n",
    "adjusted_spend['adjusted_total_spend'] = adjusted_spend['Total_Spend'] * cardholders_total['Change from Base']\n",
    "\n",
    "#adjusted_spend"
   ]
  },
  {
   "cell_type": "code",
   "execution_count": null,
   "id": "08498136-1808-4192-bd76-7571fceef326",
   "metadata": {
    "tags": []
   },
   "outputs": [],
   "source": [
    "# Dropping the un-adjusted values to clean the table\n",
    "adjusted_spend = adjusted_spend.drop(columns=['total_online_spend', 'total_f2f_spend', 'Total_Spend'])\n",
    "adjusted_spend.to_csv('test.csv')"
   ]
  },
  {
   "cell_type": "code",
   "execution_count": null,
   "id": "363f91c0-8695-49df-933f-855e2fbe11f7",
   "metadata": {
    "tags": []
   },
   "outputs": [],
   "source": [
    "# Calculating the indices of spend for each category of spend\n",
    "online_vs_f2f_index = adjusted_spend\n",
    "\n",
    "# Defining a function to calculate the average spend in 2019 for each category to use as the base value\n",
    "\n",
    "def average_spend(df, column_name, year=2019):\n",
    "    # Convert year to string for comparison\n",
    "    year_str = str(year)\n",
    "    \n",
    "    # Filter rows where 'time_period_value' starts with the year\n",
    "    filtered_df = df[df['time_period_value'].astype(str).str.startswith(year_str)]\n",
    "    \n",
    "    # Calculate and return the average\n",
    "    return filtered_df[column_name].mean()\n",
    "\n",
    "\n",
    "# Calculating the indexed spend value for each type of spend\n",
    "online_vs_f2f_index['online_spend_index'] = (online_vs_f2f_index['adjusted_total_online_spend'] / average_spend(online_vs_f2f_index, 'adjusted_total_online_spend')) * 100\n",
    "online_vs_f2f_index['f2f_spend_index'] = (online_vs_f2f_index['adjusted_total_f2f_spend'] / average_spend(online_vs_f2f_index, 'adjusted_total_f2f_spend')) * 100\n",
    "online_vs_f2f_index['total_spend_index'] = (online_vs_f2f_index['adjusted_total_spend'] / average_spend(online_vs_f2f_index, 'adjusted_total_spend')) * 100\n",
    "\n",
    "#average_spend(online_vs_f2f_index, 'adjusted_total_online_spend')\n",
    "online_vs_f2f_index"
   ]
  },
  {
   "cell_type": "code",
   "execution_count": null,
   "id": "48db84e3-87eb-4fc2-9b46-e277ba1e766a",
   "metadata": {
    "tags": []
   },
   "outputs": [],
   "source": [
    "# Dropping additional columns so it contains just data used for graph\n",
    "online_vs_f2f_index = online_vs_f2f_index.drop(columns=['adjusted_total_online_spend', 'adjusted_total_f2f_spend', 'adjusted_total_spend'])\n",
    "online_vs_f2f_index"
   ]
  },
  {
   "cell_type": "code",
   "execution_count": null,
   "id": "22b3e567-be38-4525-a317-7d7e4c2177b7",
   "metadata": {
    "tags": []
   },
   "outputs": [],
   "source": [
    "# Line chart for the first section's graph\n",
    "fig1 = px.line(\n",
    "        online_vs_f2f_index,\n",
    "        x=\"time_period_value\",\n",
    "        y=[\"online_spend_index\", \"f2f_spend_index\", \"total_spend_index\"],\n",
    "    )\n",
    "fig1"
   ]
  },
  {
   "cell_type": "code",
   "execution_count": null,
   "id": "2a409b84-09c7-42c2-addc-98a427de21f0",
   "metadata": {},
   "outputs": [],
   "source": [
    "# Difference between 202506 and 202106\n",
    "starting_month = \"202106\"\n",
    "finishing_month = \"202506\"\n",
    "\n",
    "online_start = online_vs_f2f_index\n",
    "\n",
    "\n",
    "# Extract values directly\n",
    "online_start_value = online_vs_f2f_index.loc[online_vs_f2f_index['time_period_value'] == starting_month, 'f2f_spend_index'].values[0]\n",
    "online_end_value = online_vs_f2f_index.loc[online_vs_f2f_index['time_period_value'] == finishing_month, 'f2f_spend_index'].values[0]\n",
    "\n",
    "difference = online_end_value - online_start_value\n",
    "difference"
   ]
  },
  {
   "cell_type": "code",
   "execution_count": null,
   "id": "b1eb734b-e9d5-44a5-9289-5823e803a7ed",
   "metadata": {
    "tags": []
   },
   "outputs": [],
   "source": [
    "# 2. International vs Domestic Online Spend"
   ]
  },
  {
   "cell_type": "code",
   "execution_count": null,
   "id": "b0a7d7b2-46dd-414d-b368-08ce8f2bc61e",
   "metadata": {
    "tags": []
   },
   "outputs": [],
   "source": [
    "# Total spend in the UK by UK cardholders\n",
    "total_spend_domestic = '''SELECT time_period_value, sum(spend) as total_spend_domestic\n",
    "FROM `ons-fintrans-data-prod.fintrans_visa.spend_origin_and_channel`\n",
    "WHERE time_period = 'Quarter' \n",
    "  AND mcg = 'All' \n",
    "  AND mcc = 'All'\n",
    "  AND merchant_channel = 'All'\n",
    "  AND cardholder_origin = 'UNITED KINGDOM'\n",
    "  AND cardholder_origin_country = 'All' \n",
    "  AND destination_country = 'UNITED KINGDOM'\n",
    "GROUP BY time_period_value\n",
    "ORDER BY time_period_value ASC'''\n",
    "spend_domestic = bq.read_bq_table_sql(client, total_spend_domestic)\n",
    "#spend_domestic.head()"
   ]
  },
  {
   "cell_type": "code",
   "execution_count": null,
   "id": "8f0c0f8e-f67b-41fb-9c26-41a0bc4fb825",
   "metadata": {
    "tags": []
   },
   "outputs": [],
   "source": [
    "# Total spend in foreign countries by UK cardholders\n",
    "total_spend_abroad = '''SELECT time_period_value, sum(spend) as total_spend_abroad\n",
    "FROM `ons-fintrans-data-prod.fintrans_visa.spend_origin_and_channel`\n",
    "WHERE time_period = 'Quarter'\n",
    "  AND mcg = 'All' \n",
    "  AND mcc = 'All'\n",
    "  AND merchant_channel = 'All'\n",
    "  AND cardholder_origin = 'UNITED KINGDOM'\n",
    "  AND cardholder_origin_country = 'All'\n",
    "  AND destination_country != 'UNITED KINGDOM' \n",
    "GROUP BY time_period_value\n",
    "ORDER BY time_period_value ASC'''\n",
    "spend_abroad = bq.read_bq_table_sql(client, total_spend_abroad)\n",
    "#spend_abroad.head()"
   ]
  },
  {
   "cell_type": "code",
   "execution_count": null,
   "id": "fbe17c50-49cf-4c01-8c09-fe1f60200b35",
   "metadata": {
    "tags": []
   },
   "outputs": [],
   "source": [
    "# Total online spend in UK by UK cardholders\n",
    "total_online_spend_domestic = '''SELECT time_period_value, sum(spend) as total_online_spend_domestic\n",
    "FROM `ons-fintrans-data-prod.fintrans_visa.spend_origin_and_channel`\n",
    "WHERE time_period = 'Quarter' \n",
    "  AND mcg = 'All' \n",
    "  AND mcc = 'All'\n",
    "  AND merchant_channel = 'Online'\n",
    "  AND cardholder_origin = 'UNITED KINGDOM'\n",
    "  AND cardholder_origin_country = 'All'\n",
    "  AND destination_country = 'UNITED KINGDOM' \n",
    "GROUP BY time_period_value\n",
    "ORDER BY time_period_value ASC'''\n",
    "online_spend_domestic = bq.read_bq_table_sql(client, total_online_spend_domestic)\n",
    "#online_spend_domestic.head()"
   ]
  },
  {
   "cell_type": "code",
   "execution_count": null,
   "id": "ff27bebb-16df-43c6-9360-42ab365b2528",
   "metadata": {
    "tags": []
   },
   "outputs": [],
   "source": [
    "# Total online spend in foreign countries by UK cardholders\n",
    "total_online_spend_abroad = '''SELECT time_period_value, sum(spend) as total_online_spend_abroad\n",
    "FROM `ons-fintrans-data-prod.fintrans_visa.spend_origin_and_channel`\n",
    "WHERE time_period = 'Quarter' \n",
    "  AND mcg = 'All'\n",
    "  AND mcc = 'All'\n",
    "  AND merchant_channel = 'Online'\n",
    "  AND cardholder_origin = 'UNITED KINGDOM'\n",
    "  AND cardholder_origin_country = 'All'\n",
    "  AND destination_country != 'UNITED KINGDOM' \n",
    "GROUP BY time_period_value\n",
    "ORDER BY time_period_value ASC'''\n",
    "online_spend_abroad = bq.read_bq_table_sql(client, total_online_spend_abroad)\n",
    "#online_spend_abroad.head()"
   ]
  },
  {
   "cell_type": "code",
   "execution_count": null,
   "id": "6326a7ef-0abb-434c-81c8-bbe18bb66486",
   "metadata": {
    "tags": []
   },
   "outputs": [],
   "source": [
    "# Merging all together into one table\n",
    "int_vs_dom_spend = pd.merge(spend_domestic, spend_abroad, on='time_period_value')\n",
    "int_vs_dom_spend = pd.merge(int_vs_dom_spend, online_spend_domestic, on='time_period_value')\n",
    "int_vs_dom_spend = pd.merge(int_vs_dom_spend, online_spend_abroad, on='time_period_value')\n",
    "\n",
    "#int_vs_dom_spend"
   ]
  },
  {
   "cell_type": "code",
   "execution_count": null,
   "id": "ed00e856-4337-43f1-8ae7-c88ae6271f18",
   "metadata": {
    "tags": []
   },
   "outputs": [],
   "source": [
    "adjusted_int_vs_dom_spend = int_vs_dom_spend\n",
    "adjusted_int_vs_dom_spend['adjusted_total_domestic_spend'] = adjusted_int_vs_dom_spend['total_spend_domestic'] * cardholders_total['Change from Base']\n",
    "adjusted_int_vs_dom_spend['adjusted_total_abroad_spend'] = adjusted_int_vs_dom_spend['total_spend_abroad'] * cardholders_total['Change from Base']\n",
    "adjusted_int_vs_dom_spend['adjusted_online_domestic_spend'] = adjusted_int_vs_dom_spend['total_online_spend_domestic'] * cardholders_total['Change from Base']\n",
    "adjusted_int_vs_dom_spend['adjusted_online_abroad_spend'] = adjusted_int_vs_dom_spend['total_online_spend_abroad'] * cardholders_total['Change from Base']\n",
    "\n",
    "adjusted_int_vs_dom_spend"
   ]
  },
  {
   "cell_type": "code",
   "execution_count": null,
   "id": "2ff25871-b676-485a-851d-ae1085dc76d6",
   "metadata": {
    "tags": []
   },
   "outputs": [],
   "source": [
    "# Calculating the proportions of each categories spend that is online\n",
    "int_vs_dom_ratios = adjusted_int_vs_dom_spend\n",
    "int_vs_dom_ratios['domestic_online_ratio'] = (int_vs_dom_ratios['adjusted_online_domestic_spend'] / int_vs_dom_ratios['adjusted_total_domestic_spend']) * 100\n",
    "int_vs_dom_ratios['abroad_online_ratio'] = (int_vs_dom_ratios['adjusted_online_abroad_spend'] / int_vs_dom_ratios['adjusted_total_abroad_spend']) * 100\n",
    "# Totals come from section 1 - this won't work if the cell dropping the below columns has been run (also in section 1)\n",
    "int_vs_dom_ratios['total_online_ratio'] = (adjusted_spend['adjusted_total_online_spend'] / adjusted_spend['adjusted_total_spend']) * 100 \n",
    "\n",
    "\n",
    "int_vs_dom_ratios"
   ]
  },
  {
   "cell_type": "code",
   "execution_count": null,
   "id": "84bf7fbe-c522-470f-a887-c7de2bbaf04d",
   "metadata": {
    "tags": []
   },
   "outputs": [],
   "source": [
    "# Dropping the extra columns so it's just the data for the graph\n",
    "int_vs_dom_ratios = int_vs_dom_ratios.drop(columns=['total_spend_domestic', 'total_spend_abroad', 'total_online_spend_domestic', 'total_online_spend_abroad', 'adjusted_total_domestic_spend', 'adjusted_total_abroad_spend', 'adjusted_online_domestic_spend', 'adjusted_online_abroad_spend'])\n",
    "\n",
    "int_vs_dom_ratios"
   ]
  },
  {
   "cell_type": "code",
   "execution_count": null,
   "id": "99dc24d2-4f86-4a1a-bc52-d6c28a75812b",
   "metadata": {
    "tags": []
   },
   "outputs": [],
   "source": [
    "# Line chart for the second section's graph\n",
    "fig2 = px.line(\n",
    "        int_vs_dom_ratios,\n",
    "        x=\"time_period_value\",\n",
    "        y=[\"abroad_online_ratio\", \"domestic_online_ratio\"],\n",
    "    )\n",
    "fig2"
   ]
  },
  {
   "cell_type": "code",
   "execution_count": null,
   "id": "b7092f61-a7a1-474b-a364-256f3596d6e4",
   "metadata": {},
   "outputs": [],
   "source": []
  },
  {
   "cell_type": "code",
   "execution_count": null,
   "id": "42fac8a0-fb3e-4896-be2d-d9a25c9678fa",
   "metadata": {
    "tags": []
   },
   "outputs": [],
   "source": [
    "# 3. Online spend by country"
   ]
  },
  {
   "cell_type": "code",
   "execution_count": null,
   "id": "d4c1dcbc-a6bf-4809-bcfa-6f3c2d12854c",
   "metadata": {
    "tags": []
   },
   "outputs": [],
   "source": [
    "# Total abroad spend by UK cardholders by destination country\n",
    "total_by_country = '''SELECT time_period_value, sum(spend) as total_spend, destination_country\n",
    "FROM `ons-fintrans-data-prod.fintrans_visa.spend_origin_and_channel`\n",
    "WHERE time_period = 'Quarter' \n",
    "  AND mcg = 'All' \n",
    "  AND mcc = 'All'\n",
    "  AND merchant_channel = 'All'\n",
    "  AND cardholder_origin = 'UNITED KINGDOM'\n",
    "  AND cardholder_origin_country = 'All'\n",
    "  AND destination_country != 'UNITED KINGDOM'\n",
    "GROUP BY time_period_value, destination_country\n",
    "ORDER BY time_period_value ASC'''\n",
    "spend_by_country = bq.read_bq_table_sql(client, total_by_country)\n",
    "#spend_by_country"
   ]
  },
  {
   "cell_type": "code",
   "execution_count": null,
   "id": "26008da8-030e-4a40-b434-cd4599a1b952",
   "metadata": {
    "tags": []
   },
   "outputs": [],
   "source": [
    "# Total spend by UK cardholders by destination country, online\n",
    "online_by_country = '''SELECT time_period_value, sum(spend) as online_spend, destination_country\n",
    "FROM `ons-fintrans-data-prod.fintrans_visa.spend_origin_and_channel`\n",
    "WHERE time_period = 'Quarter' \n",
    "  AND mcg = 'All' \n",
    "  AND mcc = 'All'\n",
    "  AND merchant_channel = 'Online'\n",
    "  AND cardholder_origin = 'UNITED KINGDOM'\n",
    "  AND cardholder_origin_country = 'All'\n",
    "  AND destination_country != 'UNITED KINGDOM'\n",
    "GROUP BY time_period_value, destination_country\n",
    "ORDER BY time_period_value ASC'''\n",
    "online_spend_by_country = bq.read_bq_table_sql(client, online_by_country)\n",
    "#online_spend_by_country"
   ]
  },
  {
   "cell_type": "code",
   "execution_count": null,
   "id": "f035ee57-79ca-4ad9-ad09-9c3a3c3a53f3",
   "metadata": {
    "tags": []
   },
   "outputs": [],
   "source": [
    "# Summing everything up on a yearly basis\n",
    "spend_by_country['Year'] = spend_by_country['time_period_value'].str[:4]\n",
    "yearly_totals = spend_by_country.groupby(['destination_country', 'Year'])['total_spend'].sum().reset_index()\n",
    "\n",
    "online_spend_by_country['Year'] = online_spend_by_country['time_period_value'].str[:4]\n",
    "online_yearly_totals = online_spend_by_country.groupby(['destination_country', 'Year'])['online_spend'].sum().reset_index()\n",
    "\n",
    "online_spend_by_country"
   ]
  },
  {
   "cell_type": "code",
   "execution_count": null,
   "id": "736ee2eb-0f1a-4732-9dcd-fc92763b611d",
   "metadata": {
    "tags": []
   },
   "outputs": [],
   "source": [
    "# Merging the 2 quarterly tables together (checked if spend figures are lined up properly, looks good)\n",
    "merged_quarterly_totals = pd.merge(spend_by_country, online_spend_by_country, on=('time_period_value', 'destination_country'), how='outer')\n",
    "#merged_quarterly_totals"
   ]
  },
  {
   "cell_type": "code",
   "execution_count": null,
   "id": "da2a0400-ee5e-4c79-b59a-2a4a487a9a7a",
   "metadata": {
    "tags": []
   },
   "outputs": [],
   "source": [
    "# 1. % of spend that was online for each country per quarter\n",
    "merged_quarterly_totals['percent_online_spend'] = (merged_quarterly_totals['online_spend'] / merged_quarterly_totals['total_spend']) * 100\n",
    "\n",
    "# 2. % of total online spend that each country contributes in each quarter\n",
    "# First, calculate total online spend per year\n",
    "total_online_per_quarter = merged_quarterly_totals.groupby('time_period_value')['online_spend'].transform('sum')\n",
    "\n",
    "# Then calculate the percentage each country contributes\n",
    "merged_quarterly_totals['percent_of_total_online_by_country'] = (merged_quarterly_totals['online_spend'] / total_online_per_quarter) * 100\n",
    "#merged_quarterly_totals.to_csv(\"quarterly_by_country.csv\")"
   ]
  },
  {
   "cell_type": "code",
   "execution_count": null,
   "id": "d280b3c7-dc6e-426a-9e64-e7af4b0fb83b",
   "metadata": {
    "tags": []
   },
   "outputs": [],
   "source": [
    "# Merging the 2 yearly tables together (checked if spend figures are lined up properly, looks good)\n",
    "merged_yearly_totals = pd.merge(yearly_totals, online_yearly_totals, on=('Year', 'destination_country'), how='outer')\n",
    "#merged_yearly_totals"
   ]
  },
  {
   "cell_type": "code",
   "execution_count": null,
   "id": "644b7664-1409-42ff-9c95-c9c6e49d35bd",
   "metadata": {
    "tags": []
   },
   "outputs": [],
   "source": [
    "# 1. % of spend that was online for each country-year\n",
    "merged_yearly_totals['percent_online_spend'] = (merged_yearly_totals['online_spend'] / merged_yearly_totals['total_spend']) * 100\n",
    "\n",
    "# 2. % of total online spend that each country contributes in each year\n",
    "# First, calculate total online spend per year\n",
    "total_online_per_year = merged_yearly_totals.groupby('Year')['online_spend'].transform('sum')\n",
    "\n",
    "# Then calculate the percentage each country contributes\n",
    "merged_yearly_totals['percent_of_total_online_by_country'] = (merged_yearly_totals['online_spend'] / total_online_per_year) * 100\n",
    "merged_yearly_totals.to_csv(\"temp.csv\")"
   ]
  },
  {
   "cell_type": "code",
   "execution_count": null,
   "id": "b8172ac0-22f3-46e5-a2be-29025721ed00",
   "metadata": {
    "tags": []
   },
   "outputs": [],
   "source": [
    "# Dropping and cleaning the table so it only contains the relevant data for graph\n",
    "# Only want 2019 and 2024 data so\n",
    "years_to_remove = ['2020', '2021', '2022', '2023', '2025'] #Number is stored as a string so need to use ''\n",
    "\n",
    "# Filter the DataFrame\n",
    "spend_by_country_graph = merged_yearly_totals[~merged_yearly_totals['Year'].isin(years_to_remove)]\n",
    "spend_by_country_graph = spend_by_country_graph.drop(columns=['total_spend', 'online_spend'])\n",
    "\n",
    "#spend_by_country_graph"
   ]
  },
  {
   "cell_type": "code",
   "execution_count": null,
   "id": "64aac0d2-2a13-4178-944f-2959dc2a98e6",
   "metadata": {
    "tags": []
   },
   "outputs": [],
   "source": [
    "# Pivot to get 2019 and 2024 values side-by-side\n",
    "pivot_df = spend_by_country_graph.pivot(index='destination_country', columns='Year', values=['percent_online_spend', 'percent_of_total_online_by_country'])\n",
    "pivot_df.columns = [f\"{col}_{year}\" for col, year in pivot_df.columns]\n",
    "pivot_df.reset_index(inplace=True)\n",
    "pivot_df"
   ]
  },
  {
   "cell_type": "code",
   "execution_count": null,
   "id": "63274451-3734-4f33-ac19-2c1937656235",
   "metadata": {
    "tags": []
   },
   "outputs": [],
   "source": [
    "# Create bubble chart\n",
    "fig3 = px.scatter(\n",
    "    pivot_df,\n",
    "    x='percent_online_spend_2019',\n",
    "    y='percent_online_spend_2024',\n",
    "    size='percent_of_total_online_by_country_2024',\n",
    "    hover_name='destination_country',\n",
    "    labels={\n",
    "        'percent_online_spend_2019': '% Online Spend in 2019',\n",
    "        'percent_online_spend_2024': '% Online Spend in 2024',\n",
    "        'percent_of_total_online_by_country_2024': '% of Total Online Spend in 2024'\n",
    "    },\n",
    "    title='Online Spend Comparison: 2019 vs 2024 by Country'\n",
    ")\n",
    "\n",
    "fig3.show()"
   ]
  },
  {
   "cell_type": "code",
   "execution_count": null,
   "id": "47127e98-ab7e-4987-a35c-6e9dea45b198",
   "metadata": {},
   "outputs": [],
   "source": []
  },
  {
   "cell_type": "code",
   "execution_count": null,
   "id": "a0f609f9-bbe8-4c84-a6fa-f3924ec3b954",
   "metadata": {
    "tags": []
   },
   "outputs": [],
   "source": [
    "# 4. Online spending by MCC"
   ]
  },
  {
   "cell_type": "code",
   "execution_count": null,
   "id": "147b0ec8-fc3a-442b-b459-e0a16479c60a",
   "metadata": {
    "tags": []
   },
   "outputs": [],
   "source": [
    "# Total spend abroad+online by UK cardholders by merchant category\n",
    "abroad_online_by_mcc = '''SELECT time_period_value, sum(spend) as total_spend_abroad_online, mcc\n",
    "FROM `ons-fintrans-data-prod.fintrans_visa.spend_origin_and_channel`\n",
    "WHERE time_period = 'Quarter'\n",
    "  AND mcg != 'All' \n",
    "  AND mcc != 'All'\n",
    "  AND merchant_channel = 'Online'\n",
    "  AND cardholder_origin = 'UNITED KINGDOM'\n",
    "  AND cardholder_origin_country = 'All'\n",
    "  AND destination_country != 'UNITED KINGDOM'\n",
    "GROUP BY time_period_value, mcc\n",
    "ORDER BY time_period_value ASC'''\n",
    "spend_by_mcc = bq.read_bq_table_sql(client, abroad_online_by_mcc)\n",
    "#spend_by_mcc"
   ]
  },
  {
   "cell_type": "code",
   "execution_count": null,
   "id": "851a01e5-ea0c-4843-b79d-c624bf8b277d",
   "metadata": {
    "tags": []
   },
   "outputs": [],
   "source": [
    "# Summing everything up on a yearly basis\n",
    "spend_by_mcc['Year'] = spend_by_mcc['time_period_value'].str[:4]\n",
    "yearly_totals = spend_by_mcc.groupby(['mcc', 'Year'])['total_spend_abroad_online'].sum().reset_index()\n",
    "yearly_totals.to_csv('spendbymcc.csv')\n",
    "\n",
    "yearly_totals"
   ]
  },
  {
   "cell_type": "code",
   "execution_count": null,
   "id": "46f5c55c-44b1-425e-9d82-35806545650a",
   "metadata": {
    "tags": []
   },
   "outputs": [],
   "source": [
    "adjusted_by_mcc = yearly_totals\n",
    "\n",
    "# Merge the two dataframes on 'Year'\n",
    "merged = pd.merge(adjusted_by_mcc, yearly_cardholders, on='Year', how='left')\n",
    "\n",
    "# Calculate adjusted spend\n",
    "merged['adjusted_spend_by_mcc_abroad_online'] = merged['total_spend_abroad_online'] * merged['Change from Base']\n",
    "\n",
    "\n",
    "adjusted_by_mcc = merged\n",
    "#adjusted_by_mcc"
   ]
  },
  {
   "cell_type": "code",
   "execution_count": null,
   "id": "9465d807-83bb-4282-aae8-cb1b178beb78",
   "metadata": {
    "tags": []
   },
   "outputs": [],
   "source": [
    "# Only need the 2024 data for this diagram so removing the other years\n",
    "years_to_remove = ['2019', '2020', '2021', '2022', '2023', '2025']\n",
    "\n",
    "# Filter the DataFrame\n",
    "adjusted_by_mcc = adjusted_by_mcc[~adjusted_by_mcc['Year'].isin(years_to_remove)]\n",
    "adjusted_by_mcc = adjusted_by_mcc.drop(columns=['total_spend_abroad_online', 'Change from Base', 'total_cardholders'])\n",
    "\n",
    "#adjusted_by_mcc"
   ]
  },
  {
   "cell_type": "code",
   "execution_count": null,
   "id": "356c4779-36b7-471f-b571-c431e63d29d7",
   "metadata": {
    "tags": []
   },
   "outputs": [],
   "source": [
    "# Ordering the table by size of spend\n",
    "spend_by_mcc_ordered = adjusted_by_mcc.sort_values(by='adjusted_spend_by_mcc_abroad_online', ascending=False)\n",
    "\n",
    "#spend_by_mcc_ordered"
   ]
  },
  {
   "cell_type": "code",
   "execution_count": null,
   "id": "9ec813d1-8d70-41ca-86af-046590d9c1b3",
   "metadata": {
    "tags": []
   },
   "outputs": [],
   "source": [
    "# Calculating the % of the total spend abroad+online in 2024 each mcc makes up\n",
    "all_mcc_spend_abroad_online = spend_by_mcc_ordered['adjusted_spend_by_mcc_abroad_online'].sum()\n",
    "# Summing up every MCC does not equal using mcc = 'All' because there is some unknown category of spend due to data suppressios\n",
    "# We decided that summing each individual mcc group up and using that total to calculate the % would be most appropriate\n",
    "\n",
    "spend_by_mcc_ordered[\"% of 'All' mcc spend\"] = (spend_by_mcc_ordered['adjusted_spend_by_mcc_abroad_online'] / all_mcc_spend_abroad_online) * 100\n",
    "\n",
    "#spend_by_mcc_ordered"
   ]
  },
  {
   "cell_type": "code",
   "execution_count": null,
   "id": "5869a5b6-b1d7-46f6-a8de-593bb0fe732e",
   "metadata": {
    "tags": []
   },
   "outputs": [],
   "source": [
    "# Select for top 10\n",
    "top_10_mcc = spend_by_mcc_ordered.head(10)\n",
    "\n",
    "top_10_mcc"
   ]
  },
  {
   "cell_type": "code",
   "execution_count": null,
   "id": "3adee4c7-4b7b-4a45-ae4e-c1370c786114",
   "metadata": {
    "tags": []
   },
   "outputs": [],
   "source": [
    "# Creating the bar graph\n",
    "\n",
    "fig4 = px.bar(top_10_mcc, x=\"mcc\", y=\"% of 'All' mcc spend\", title=\"Top 10 MCCs by share of Online + Abroad Spending\")\n",
    "fig4.show()"
   ]
  },
  {
   "cell_type": "code",
   "execution_count": null,
   "id": "6e6d4f3a-1d38-42fa-89d0-fda472c67674",
   "metadata": {},
   "outputs": [],
   "source": []
  },
  {
   "cell_type": "code",
   "execution_count": null,
   "id": "993e5b4f-b4ab-4aca-bc6d-981d2d034950",
   "metadata": {},
   "outputs": [],
   "source": [
    "\n",
    "# 5. International Cardholder Spend Online by Region"
   ]
  },
  {
   "cell_type": "code",
   "execution_count": null,
   "id": "1a811847-8877-4862-9aea-3bad26f17d28",
   "metadata": {
    "tags": []
   },
   "outputs": [],
   "source": [
    "# Total spend in the UK by international cardholders\n",
    "int_total_spend = '''SELECT time_period_value, sum(spend) as int_total_spend\n",
    "FROM `ons-fintrans-data-prod.fintrans_visa.spend_origin_and_channel`\n",
    "WHERE time_period = 'Quarter' \n",
    "  AND mcg = 'All' \n",
    "  AND mcc = 'All'\n",
    "  AND merchant_channel = 'All'\n",
    "  AND cardholder_origin = 'International Cardholder'\n",
    "  AND destination_country = 'UNITED KINGDOM'\n",
    "GROUP BY time_period_value\n",
    "ORDER BY time_period_value ASC'''\n",
    "int_total_spend = bq.read_bq_table_sql(client, int_total_spend)\n",
    "int_total_spend.head()"
   ]
  },
  {
   "cell_type": "code",
   "execution_count": null,
   "id": "a43ba5eb-a2a2-4c88-af6d-c18bfca0526a",
   "metadata": {
    "tags": []
   },
   "outputs": [],
   "source": [
    "# Total spend in the UK by international cardholders\n",
    "int_online_spend = '''SELECT time_period_value, sum(spend) as int_online_spend\n",
    "FROM `ons-fintrans-data-prod.fintrans_visa.spend_origin_and_channel`\n",
    "WHERE time_period = 'Quarter' \n",
    "  AND mcg = 'All' \n",
    "  AND mcc = 'All'\n",
    "  AND merchant_channel = 'Online'\n",
    "  AND cardholder_origin = 'International Cardholder'\n",
    "  AND destination_country = 'UNITED KINGDOM'\n",
    "GROUP BY time_period_value\n",
    "ORDER BY time_period_value ASC'''\n",
    "int_online_spend = bq.read_bq_table_sql(client, int_online_spend)\n",
    "int_online_spend.head()"
   ]
  },
  {
   "cell_type": "code",
   "execution_count": null,
   "id": "774b1ac2-17fd-4592-802b-2abec66a7e77",
   "metadata": {
    "tags": []
   },
   "outputs": [],
   "source": [
    "# Merge the two dataframes on 'time_period_value'\n",
    "merged = pd.merge(int_total_spend, int_online_spend, on='time_period_value', how='left')\n",
    "merged"
   ]
  },
  {
   "cell_type": "code",
   "execution_count": null,
   "id": "118f215e-23ea-4f0d-8b31-a397c5023bc3",
   "metadata": {
    "tags": []
   },
   "outputs": [],
   "source": [
    "# Calculating the proportions of each categories spend that is online\n",
    "int_total_vs_online = merged\n",
    "int_total_vs_online['Online % Ratio'] = (int_total_vs_online['int_online_spend'] / int_total_vs_online['int_total_spend']) * 100\n",
    "int_total_vs_online\n"
   ]
  },
  {
   "cell_type": "code",
   "execution_count": null,
   "id": "8d56c8bc-111d-4aba-9723-0854a0bd955e",
   "metadata": {
    "tags": []
   },
   "outputs": [],
   "source": [
    "# Calculating the indexed spend value for each type of spend\n",
    "int_total_vs_online['online_spend_index'] = (int_total_vs_online['int_online_spend'] / average_spend(int_total_vs_online, 'int_online_spend')) * 100\n",
    "int_total_vs_online['total_spend_index'] = (int_total_vs_online['int_total_spend'] / average_spend(int_total_vs_online, 'int_total_spend')) * 100\n",
    "int_total_vs_online"
   ]
  },
  {
   "cell_type": "code",
   "execution_count": null,
   "id": "121b4345-ee4b-4dd8-9f61-30812832245a",
   "metadata": {
    "tags": []
   },
   "outputs": [],
   "source": [
    "int_total_vs_online_graph = int_total_vs_online.drop(columns=['int_total_spend', 'int_online_spend'])\n",
    "int_total_vs_online_graph"
   ]
  },
  {
   "cell_type": "code",
   "execution_count": null,
   "id": "c5bb3fde-02ad-41e8-be18-b7fa296db9f0",
   "metadata": {
    "tags": []
   },
   "outputs": [],
   "source": [
    "\n",
    "# Create the figure\n",
    "fig5 = go.Figure()\n",
    "\n",
    "# Line for online spend index\n",
    "fig5.add_trace(go.Scatter(\n",
    "    x=int_total_vs_online_graph[\"time_period_value\"],\n",
    "    y=int_total_vs_online_graph[\"online_spend_index\"],\n",
    "    mode='lines+markers',\n",
    "    name='Online Spend Index'\n",
    "))\n",
    "\n",
    "# Line for total spend index\n",
    "fig5.add_trace(go.Scatter(\n",
    "    x=int_total_vs_online_graph[\"time_period_value\"],\n",
    "    y=int_total_vs_online_graph[\"total_spend_index\"],\n",
    "    mode='lines+markers',\n",
    "    name='Total Spend Index'\n",
    "))\n",
    "\n",
    "# Bar for Online % Ratio\n",
    "fig5.add_trace(go.Bar(\n",
    "    x=int_total_vs_online_graph[\"time_period_value\"],\n",
    "    y=int_total_vs_online_graph[\"Online % Ratio\"],\n",
    "    name='Online % Ratio',\n",
    "    yaxis='y2',\n",
    "    opacity=0.6\n",
    "))\n",
    "\n",
    "# Layout with secondary y-axis\n",
    "fig5.update_layout(\n",
    "    title=\"Spend Indices and Online % Ratio Over Time\",\n",
    "    xaxis_title=\"Time Period\",\n",
    "    yaxis=dict(\n",
    "        title=\"Spend Index\",\n",
    "        side='left'\n",
    "    ),\n",
    "    yaxis2=dict(\n",
    "        title=\"Online % Ratio\",\n",
    "        overlaying='y',\n",
    "        side='right',\n",
    "        range=[0, 100]\n",
    "    ),\n",
    "    #legend=dict(x=0.01, y=0.99)\n",
    ")\n",
    "\n",
    "fig5.show()\n"
   ]
  }
 ],
 "metadata": {
  "environment": {
   "kernel": "python3",
   "name": "r-cpu.m125",
   "type": "gcloud",
   "uri": "us-docker.pkg.dev/deeplearning-platform-release/gcr.io/r-cpu:m125"
  },
  "language_info": {
   "codemirror_mode": {
    "name": "ipython",
    "version": 3
   },
   "file_extension": ".py",
   "mimetype": "text/x-python",
   "name": "python",
   "nbconvert_exporter": "python",
   "pygments_lexer": "ipython3",
   "version": "3.10.15"
  }
 },
 "nbformat": 4,
 "nbformat_minor": 5
}
