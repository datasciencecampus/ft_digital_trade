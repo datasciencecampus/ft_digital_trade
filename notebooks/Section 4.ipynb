{
 "cells": [
  {
   "cell_type": "code",
   "execution_count": null,
   "id": "a31540bc-834e-49b6-b142-178e84eeeafd",
   "metadata": {
    "tags": []
   },
   "outputs": [],
   "source": [
    "project_path = \"/home/jupyter\"\n",
    "import os\n",
    "import sys\n",
    "\n",
    "sys.path.append(project_path)\n",
    "import numpy as np\n",
    "import pandas as pd\n",
    "import matplotlib.pyplot as plt\n",
    "import re\n",
    "import plotly.express as px\n",
    "import plotly.graph_objects as go\n",
    "from datetime import datetime\n",
    "from google.cloud import bigquery\n",
    "\n",
    "from fintrans_toolbox.src import bq_utils as bq\n",
    "from fintrans_toolbox.src import table_utils as t\n",
    "\n",
    "client = bigquery.Client()"
   ]
  },
  {
   "cell_type": "code",
   "execution_count": null,
   "id": "7da3f8a8-8bb5-42a9-8fcd-f5ec41cb3746",
   "metadata": {
    "tags": []
   },
   "outputs": [],
   "source": [
    "# Calculating Visa marketshare drop-off using change in cardholders over time\n",
    "# Looks at how total number of UK cardholders in the dataset changes over time to scale each category of spend\n",
    "\n",
    "# Added destination_country = \"UK\" so it only captures UK cardholders that actually used their card in the UK and doesn't double count cardholders that also spent money abroad\n",
    "# May miss some UK cardholders that only spend money abroad, but that is likely an immaterial number of cardholders\n",
    "cardholders = '''SELECT time_period_value, sum(cardholders) as total_cardholders\n",
    "FROM `ons-fintrans-data-prod.fintrans_visa.spend_origin_and_channel`\n",
    "WHERE time_period = 'Month' \n",
    "  AND mcg = 'All' \n",
    "  AND mcc = 'All'\n",
    "  AND merchant_channel = 'All'\n",
    "  AND cardholder_origin = 'UNITED KINGDOM'\n",
    "  AND cardholder_origin_country = 'All'\n",
    "  AND destination_country = 'UNITED KINGDOM' \n",
    "  GROUP BY time_period_value\n",
    "  ORDER BY time_period_value ASC\n",
    "'''\n",
    "cardholders_total = bq.read_bq_table_sql(client, cardholders)\n",
    "#cardholders_total\n",
    "\n",
    "base_cardholders = cardholders_total['total_cardholders'].iloc[0]\n",
    "#base_cardholder\n",
    "\n",
    "cardholders_total['Change from Base'] = (base_cardholders / cardholders_total['total_cardholders'])\n",
    "#cardholders_total # Change from Base column can now be multiplied against each quarter's spend values to adjust the spend for Visa's marketshare"
   ]
  },
  {
   "cell_type": "markdown",
   "id": "e5dec175-8d0d-40a0-ae66-322db9258841",
   "metadata": {
    "jp-MarkdownHeadingCollapsed": true,
    "tags": []
   },
   "source": [
    "#########################################################\n",
    "#                Graphs for section 4                   #\n",
    "#########################################################"
   ]
  },
  {
   "cell_type": "markdown",
   "id": "efab8e69-7c97-44cb-a16e-ac7c7e244b38",
   "metadata": {
    "tags": []
   },
   "source": [
    "# Figure 1: Average spend per cardholder online vs face-to-face"
   ]
  },
  {
   "cell_type": "code",
   "execution_count": null,
   "id": "0d70f30a-e7a9-4337-b677-03eaaf7f189d",
   "metadata": {
    "tags": []
   },
   "outputs": [],
   "source": [
    "# Total spend by UK cardholders\n",
    "total_spend = '''SELECT time_period_value, sum(spend) as total_spend\n",
    "FROM `ons-fintrans-data-prod.fintrans_visa.spend_origin_and_channel`\n",
    "WHERE time_period = 'Month' \n",
    "  AND mcg = 'All' \n",
    "  AND mcc = 'All'\n",
    "  AND merchant_channel = 'All'\n",
    "  AND cardholder_origin = 'UNITED KINGDOM'\n",
    "  AND cardholder_origin_country = 'All' \n",
    "GROUP BY time_period_value\n",
    "ORDER BY time_period_value ASC'''\n",
    "spend_total = bq.read_bq_table_sql(client, total_spend)\n",
    "#spend_total"
   ]
  },
  {
   "cell_type": "code",
   "execution_count": null,
   "id": "23e0db0d-c773-40c0-b491-ffe20064b087",
   "metadata": {
    "tags": []
   },
   "outputs": [],
   "source": [
    "# Total online spend by UK cardholders\n",
    "total_online_spend = '''SELECT time_period_value, sum(spend) as total_online_spend\n",
    "FROM `ons-fintrans-data-prod.fintrans_visa.spend_origin_and_channel`\n",
    "WHERE time_period = 'Month' \n",
    "  AND mcg = 'All' \n",
    "  AND mcc = 'All'\n",
    "  AND merchant_channel = 'Online'\n",
    "  AND cardholder_origin = 'UNITED KINGDOM'\n",
    "  AND cardholder_origin_country = 'All'\n",
    "GROUP BY time_period_value\n",
    "ORDER BY time_period_value ASC'''\n",
    "online_spend = bq.read_bq_table_sql(client, total_online_spend)\n",
    "#online_spend.head()"
   ]
  },
  {
   "cell_type": "code",
   "execution_count": null,
   "id": "73ac36d0-8d8f-4f18-8127-0e9889c5b0ac",
   "metadata": {
    "tags": []
   },
   "outputs": [],
   "source": [
    "# Total online spend by UK cardholders\n",
    "total_f2f_spend = '''SELECT time_period_value, sum(spend) as total_f2f_spend\n",
    "FROM `ons-fintrans-data-prod.fintrans_visa.spend_origin_and_channel`\n",
    "WHERE time_period = 'Month' \n",
    "  AND mcg = 'All' \n",
    "  AND mcc = 'All'\n",
    "  AND merchant_channel = 'Face to Face'\n",
    "  AND cardholder_origin = 'UNITED KINGDOM'\n",
    "  AND cardholder_origin_country = 'All'\n",
    "GROUP BY time_period_value\n",
    "ORDER BY time_period_value ASC'''\n",
    "f2f_spend = bq.read_bq_table_sql(client, total_f2f_spend)\n",
    "f2f_spend.head()"
   ]
  },
  {
   "cell_type": "code",
   "execution_count": null,
   "id": "44b0f1de-6ca4-4aec-9997-fe991e1f77f4",
   "metadata": {
    "tags": []
   },
   "outputs": [],
   "source": [
    "# Merge tables together and check if sum of online+f2f = total (it does)\n",
    "online_vs_f2f = pd.merge(online_spend, f2f_spend, on='time_period_value')\n",
    "online_vs_f2f = pd.merge(online_vs_f2f, spend_total, on='time_period_value')\n",
    "online_vs_f2f['Total_Spend'] = online_vs_f2f['total_online_spend'] + online_vs_f2f['total_f2f_spend']\n",
    "online_vs_f2f['check'] = online_vs_f2f['Total_Spend'] - online_vs_f2f['total_spend']\n",
    "#online_vs_f2f"
   ]
  },
  {
   "cell_type": "code",
   "execution_count": null,
   "id": "3f88a766-6689-4e6b-8231-0ebf9942e14d",
   "metadata": {
    "tags": []
   },
   "outputs": [],
   "source": [
    "# Drop the additional total spend figure and check columns\n",
    "online_vs_f2f = online_vs_f2f.drop(columns=['total_spend', 'check'])\n",
    "#online_vs_f2f"
   ]
  },
  {
   "cell_type": "code",
   "execution_count": null,
   "id": "e2d3d31e-46ec-4b2b-aa82-e6c54f6e818c",
   "metadata": {
    "tags": []
   },
   "outputs": [],
   "source": [
    "# Defining a function to calculate the average spend in 2019 for each category to use as the base value\n",
    "\n",
    "def average_spend(df, column_name, year=2019):\n",
    "    # Convert year to string for comparison\n",
    "    year_str = str(year)\n",
    "    \n",
    "    # Filter rows where 'time_period_value' starts with the year\n",
    "    filtered_df = df[df['time_period_value'].astype(str).str.startswith(year_str)]\n",
    "    \n",
    "    # Calculate and return the average\n",
    "    return filtered_df[column_name].mean()"
   ]
  },
  {
   "cell_type": "code",
   "execution_count": null,
   "id": "1334d427-b00a-48ce-b74c-c2cf6832d326",
   "metadata": {
    "tags": []
   },
   "outputs": [],
   "source": [
    "# Number of cardholders that spent money online\n",
    "online_cardholders = '''SELECT time_period_value, sum(cardholders) as online_cardholders\n",
    "FROM `ons-fintrans-data-prod.fintrans_visa.spend_origin_and_channel`\n",
    "WHERE time_period = 'Month' \n",
    "  AND mcg = 'All' \n",
    "  AND mcc = 'All'\n",
    "  AND merchant_channel = 'Online'\n",
    "  AND cardholder_origin = 'UNITED KINGDOM'\n",
    "  AND cardholder_origin_country = 'All'\n",
    "  AND destination_country = 'UNITED KINGDOM'\n",
    "  GROUP BY time_period_value\n",
    "  ORDER BY time_period_value ASC\n",
    "'''\n",
    "online_cardholders = bq.read_bq_table_sql(client, online_cardholders)\n",
    "#online_cardholders"
   ]
  },
  {
   "cell_type": "code",
   "execution_count": null,
   "id": "73cac5ff-50f9-42f1-a326-b712900096e9",
   "metadata": {
    "tags": []
   },
   "outputs": [],
   "source": [
    "# Number of cardholders that spent money online\n",
    "f2f_cardholders =  '''SELECT time_period_value, sum(cardholders) as f2f_cardholders\n",
    "FROM `ons-fintrans-data-prod.fintrans_visa.spend_origin_and_channel`\n",
    "WHERE time_period = 'Month' \n",
    "  AND mcg = 'All' \n",
    "  AND mcc = 'All'\n",
    "  AND merchant_channel = 'Face to Face'\n",
    "  AND cardholder_origin = 'UNITED KINGDOM'\n",
    "  AND cardholder_origin_country = 'All'\n",
    "  AND destination_country = 'UNITED KINGDOM'\n",
    "  GROUP BY time_period_value\n",
    "  ORDER BY time_period_value ASC\n",
    "'''\n",
    "f2f_cardholders = bq.read_bq_table_sql(client, f2f_cardholders)\n",
    "#f2f_cardholders"
   ]
  },
  {
   "cell_type": "code",
   "execution_count": null,
   "id": "51e0cb03-5cbf-4d5d-a928-225de09d2995",
   "metadata": {
    "tags": []
   },
   "outputs": [],
   "source": [
    "# Merge cardholder tables and spend table together\n",
    "spend_per_cardholder = pd.merge(online_vs_f2f, online_cardholders, on='time_period_value')\n",
    "spend_per_cardholder = pd.merge(spend_per_cardholder, f2f_cardholders, on='time_period_value')\n",
    "spend_per_cardholder = pd.merge(spend_per_cardholder, cardholders_total, on='time_period_value')\n",
    "\n",
    "# Calculate averages - currently using total cardholders instead of cardholders with transactions online/ f2f (need to check DSC method)\n",
    "spend_per_cardholder[\"Average per Cardholder Online\"] = spend_per_cardholder[\"total_online_spend\"] / spend_per_cardholder[\"online_cardholders\"]\n",
    "spend_per_cardholder[\"Average per Cardholder F2F\"] = spend_per_cardholder[\"total_f2f_spend\"] / spend_per_cardholder[\"f2f_cardholders\"]\n",
    "spend_per_cardholder[\"Average per Cardholder Total\"] = spend_per_cardholder[\"Total_Spend\"] / spend_per_cardholder[\"total_cardholders\"]\n",
    "\n",
    "#spend_per_cardholder"
   ]
  },
  {
   "cell_type": "code",
   "execution_count": null,
   "id": "e1aefad7-278a-47b7-8d4e-f71837459fdc",
   "metadata": {
    "tags": []
   },
   "outputs": [],
   "source": [
    "# These index values don't match DSC publication, needs double checking\n",
    "index_spend_per_cardholder = spend_per_cardholder\n",
    "index_spend_per_cardholder['Avg per Cardholder Online Index'] = (index_spend_per_cardholder['Average per Cardholder Online'] / average_spend(index_spend_per_cardholder, 'Average per Cardholder Online')) * 100\n",
    "index_spend_per_cardholder['Avg per Cardholder F2F Index'] = (index_spend_per_cardholder['Average per Cardholder F2F'] / average_spend(index_spend_per_cardholder, 'Average per Cardholder F2F')) * 100\n",
    "index_spend_per_cardholder['Avg per Cardholder Index'] = (index_spend_per_cardholder['Average per Cardholder Total'] / average_spend(index_spend_per_cardholder, 'Average per Cardholder Total')) * 100\n",
    "index_spend_per_cardholder"
   ]
  },
  {
   "cell_type": "code",
   "execution_count": null,
   "id": "2d09bf69-bd73-4383-a5cf-01bbae82dd31",
   "metadata": {
    "tags": []
   },
   "outputs": [],
   "source": [
    "clean_index_per_cardholder = index_spend_per_cardholder\n",
    "clean_index_per_cardholder = clean_index_per_cardholder.drop(columns=[\"total_online_spend\", \"total_f2f_spend\", \"Total_Spend\", \"online_cardholders\", \"f2f_cardholders\", \"total_cardholders\",\n",
    "                                                                      \"Change from Base\", \"Average per Cardholder Online\", \"Average per Cardholder F2F\", \"Average per Cardholder Total\"])\n",
    "                                                             \n",
    "clean_index_per_cardholder"
   ]
  },
  {
   "cell_type": "code",
   "execution_count": null,
   "id": "a4c1f004-154d-4695-a59e-7f916710e5d9",
   "metadata": {
    "tags": []
   },
   "outputs": [],
   "source": [
    "melted_df = clean_index_per_cardholder.melt(\n",
    "    id_vars=\"time_period_value\",\n",
    "    value_vars=[\n",
    "        \"Avg per Cardholder Online Index\",\n",
    "        \"Avg per Cardholder F2F Index\",\n",
    "        \"Avg per Cardholder Index\"\n",
    "    ],\n",
    "    var_name=\"Merchant Channel Type\",\n",
    "    value_name=\"Value\"\n",
    ")\n",
    "#melted_df.to_csv(\"Figure 1: Indexed spend per cardholder, by merchant channel.csv\")"
   ]
  },
  {
   "cell_type": "code",
   "execution_count": null,
   "id": "9e068e6b-8892-465b-b3b0-6b8774a5ebb9",
   "metadata": {
    "tags": []
   },
   "outputs": [],
   "source": [
    "fig1 = px.line(\n",
    "    melted_df,\n",
    "    x=\"time_period_value\",\n",
    "    y=\"Value\",\n",
    "    color=\"Merchant Channel Type\",\n",
    "    title=\"Average Spend per Cardholder by Merchant Channel\"\n",
    ")\n",
    "fig1.show()"
   ]
  },
  {
   "cell_type": "markdown",
   "id": "c1443947-3ded-4546-9741-7575455c945b",
   "metadata": {
    "jp-MarkdownHeadingCollapsed": true,
    "tags": []
   },
   "source": [
    "# Figure 2:  Online vs Face-to-Face Spending "
   ]
  },
  {
   "cell_type": "code",
   "execution_count": null,
   "id": "2ed6993b-17b3-4fea-96e7-74eb657c1cbb",
   "metadata": {
    "tags": []
   },
   "outputs": [],
   "source": [
    "# Merging the total and online spend tables together\n",
    "online_ratio = pd.merge(spend_total, online_spend, on='time_period_value')\n",
    "\n",
    "# Calculating the % of spend that is online in each quarter\n",
    "online_ratio[\"Online %\"] = (online_ratio[\"total_online_spend\"] / online_ratio[\"total_spend\"]) * 100\n",
    "\n",
    "#online_ratio.to_csv(\"Figure 2: Ratio of total spend that is online.csv\")"
   ]
  },
  {
   "cell_type": "code",
   "execution_count": null,
   "id": "5dee845a-e5da-4482-8a49-647804dffa27",
   "metadata": {
    "tags": []
   },
   "outputs": [],
   "source": [
    "# Line chart for figure 2\n",
    "fig2 = px.line(\n",
    "        online_ratio,\n",
    "        x=\"time_period_value\",\n",
    "        y=[\"Online %\"],\n",
    "    )\n",
    "fig2"
   ]
  },
  {
   "cell_type": "markdown",
   "id": "69e97a2f-0022-48f7-9996-70899ea6d5c8",
   "metadata": {
    "jp-MarkdownHeadingCollapsed": true,
    "tags": []
   },
   "source": [
    "#########################################################\n",
    "#                Analysis for section 4                 #\n",
    "#########################################################"
   ]
  },
  {
   "cell_type": "code",
   "execution_count": null,
   "id": "d9f9d085-1e46-4652-94ee-6b56f96595f6",
   "metadata": {
    "tags": []
   },
   "outputs": [],
   "source": [
    "# Create function to calculate difference between 2 months for a certain value in a table\n",
    "def nom_growth_between_months(starting_month, finishing_month, table, column):\n",
    "    if starting_month == \"2019 average\":\n",
    "        start_value = average_spend(table, column)\n",
    "    else:\n",
    "        start_value = table.loc[table['time_period_value'] == starting_month, column].values[0]\n",
    "    \n",
    "    end_value = table.loc[table['time_period_value'] == finishing_month, column].values[0]\n",
    "    \n",
    "    difference = end_value - start_value\n",
    "    return difference\n",
    "\n",
    "def pct_growth_between_months(starting_month, finishing_month, table, column):\n",
    "    if starting_month == \"2019 average\":\n",
    "        start_value = average_spend(table, column)\n",
    "    else:\n",
    "        start_value = table.loc[table['time_period_value'] == starting_month, column].values[0]\n",
    "    \n",
    "    end_value = table.loc[table['time_period_value'] == finishing_month, column].values[0]\n",
    "    \n",
    "    difference = end_value/ start_value - 1\n",
    "    return difference"
   ]
  },
  {
   "cell_type": "markdown",
   "id": "3a4f30cf-ca45-47c5-92d9-921e2106cf8f",
   "metadata": {
    "tags": []
   },
   "source": [
    "# Average spend per cardholder analysis\n",
    "\n",
    "\n",
    "## This method needs checking as the values don't match DSC"
   ]
  },
  {
   "cell_type": "code",
   "execution_count": null,
   "id": "43a0f38d-3238-4b37-a4e2-1434d166a562",
   "metadata": {
    "tags": []
   },
   "outputs": [],
   "source": [
    "# Calculate difference in the index for total, online, and f2f spending since start \n",
    "starting_month = \"2019 average\"\n",
    "finishing_month = \"202506\"\n",
    "\n",
    "total_difference = nom_growth_between_months(starting_month, finishing_month, index_spend_per_cardholder, \"Avg per Cardholder Index\")\n",
    "online_difference = nom_growth_between_months(starting_month, finishing_month, index_spend_per_cardholder, \"Avg per Cardholder Online Index\")\n",
    "f2f_difference = nom_growth_between_months(starting_month, finishing_month, index_spend_per_cardholder, \"Avg per Cardholder F2F Index\")\n",
    "\n",
    "print(f\"Difference in average spend per cardholder in {finishing_month} from {starting_month}: {total_difference}\")\n",
    "print(f\"Difference in average spend online per cardholder spend in {finishing_month} from {starting_month}: {online_difference}\")\n",
    "print(f\"Difference in average spend f2f per cardholder spend in {finishing_month} from {starting_month}: {f2f_difference}\")"
   ]
  },
  {
   "cell_type": "code",
   "execution_count": null,
   "id": "273a533d-51ad-4ed9-b1b9-dfecb33d93ce",
   "metadata": {
    "tags": []
   },
   "outputs": [],
   "source": [
    "# Calculate % difference for total, online, and f2f spending since June 2021 \n",
    "starting_month = \"202106\"\n",
    "finishing_month = \"202306\"\n",
    "\n",
    "total_difference = pct_growth_between_months(starting_month, finishing_month, index_spend_per_cardholder, \"Avg per Cardholder Index\")\n",
    "online_difference = pct_growth_between_months(starting_month, finishing_month, index_spend_per_cardholder, \"Avg per Cardholder Online Index\")\n",
    "f2f_difference = pct_growth_between_months(starting_month, finishing_month, index_spend_per_cardholder, \"Avg per Cardholder F2F Index\")\n",
    "\n",
    "print(f\"Percentage difference in average spend per cardholder in {finishing_month} in comparison with {starting_month}: {total_difference}\")\n",
    "print(f\"Percentage difference in average spend online per cardholder spend in {finishing_month} in comparison with {starting_month}: {online_difference}\")\n",
    "print(f\"Percentage difference in average spend f2f per cardholder spend in {finishing_month} in comparison with {starting_month}: {f2f_difference}\")"
   ]
  },
  {
   "cell_type": "markdown",
   "id": "024117d1-45aa-4800-a839-4ffcb323b0a9",
   "metadata": {},
   "source": [
    "## Average transaction value analysis "
   ]
  },
  {
   "cell_type": "markdown",
   "id": "8233a6a7-992a-44ce-a60e-a4ec17553247",
   "metadata": {},
   "source": [
    "### These values also don't match with what was published by DSC ###"
   ]
  },
  {
   "cell_type": "code",
   "execution_count": null,
   "id": "62a91555-1f97-4b37-8f1c-c0677ef6d431",
   "metadata": {
    "tags": []
   },
   "outputs": [],
   "source": [
    "# Number of transactions that were made online and the total online spend\n",
    "online_transactions = '''SELECT time_period_value, sum(transactions) as online_transactions, sum(spend) as online_spend\n",
    "FROM `ons-fintrans-data-prod.fintrans_visa.spend_origin_and_channel`\n",
    "WHERE time_period = 'Month' \n",
    "  AND mcg = 'All' \n",
    "  AND mcc = 'All'\n",
    "  AND merchant_channel = 'Online'\n",
    "  AND cardholder_origin = 'UNITED KINGDOM'\n",
    "  AND cardholder_origin_country = 'All'\n",
    "  GROUP BY time_period_value\n",
    "  ORDER BY time_period_value ASC\n",
    "'''\n",
    "online_transactions = bq.read_bq_table_sql(client, online_transactions)\n",
    "online_transactions = pd.merge(online_transactions, online_cardholders, on=\"time_period_value\", how=\"outer\")\n",
    "online_transactions"
   ]
  },
  {
   "cell_type": "code",
   "execution_count": null,
   "id": "1a8c7418-bf26-4db2-877c-cdaddaea940b",
   "metadata": {
    "tags": []
   },
   "outputs": [],
   "source": [
    "# Number of transactions that were made f2f and the total f2f spend\n",
    "f2f_transactions = '''SELECT time_period_value, sum(transactions) as f2f_transactions, sum(spend) as f2f_spend\n",
    "FROM `ons-fintrans-data-prod.fintrans_visa.spend_origin_and_channel`\n",
    "WHERE time_period = 'Month' \n",
    "  AND mcg = 'All' \n",
    "  AND mcc = 'All'\n",
    "  AND merchant_channel = 'Face to Face'\n",
    "  AND cardholder_origin = 'UNITED KINGDOM'\n",
    "  AND cardholder_origin_country = 'All'\n",
    "  GROUP BY time_period_value\n",
    "  ORDER BY time_period_value ASC\n",
    "'''\n",
    "f2f_transactions = bq.read_bq_table_sql(client, f2f_transactions)\n",
    "f2f_transactions = pd.merge(f2f_transactions, f2f_cardholders, on=\"time_period_value\", how=\"outer\")\n",
    "f2f_transactions"
   ]
  },
  {
   "cell_type": "code",
   "execution_count": null,
   "id": "4a9425d6-3766-491b-bdb7-2d65a0615443",
   "metadata": {
    "tags": []
   },
   "outputs": [],
   "source": [
    "# Calculating the average spend per transaction online and f2f\n",
    "spend_per_transaction = pd.merge(online_transactions, f2f_transactions, on=\"time_period_value\", how=\"outer\")\n",
    "\n",
    "spend_per_transaction[\"Average per Transaction Online\"] = spend_per_transaction[\"online_spend\"] / spend_per_transaction[\"online_transactions\"]\n",
    "spend_per_transaction[\"Average per Transaction F2F\"] = spend_per_transaction[\"f2f_spend\"] / spend_per_transaction[\"f2f_transactions\"]\n",
    "\n",
    "spend_per_transaction"
   ]
  },
  {
   "cell_type": "code",
   "execution_count": null,
   "id": "3b96e8e6-70f2-48e8-9881-6bf53a31f092",
   "metadata": {
    "tags": []
   },
   "outputs": [],
   "source": [
    "# Calculating the average number of transactions per cardholder\n",
    "spend_per_transaction[\"Average Number of Transactions per Cardholder Online\"] = spend_per_transaction[\"online_transactions\"] / spend_per_transaction[\"online_cardholders\"] \n",
    "spend_per_transaction[\"Average Number of Transactions per Cardholder F2F\"] = spend_per_transaction[\"f2f_transactions\"] / spend_per_transaction[\"f2f_cardholders\"]\n",
    "\n",
    "spend_per_transaction"
   ]
  },
  {
   "cell_type": "code",
   "execution_count": null,
   "id": "bb83779a-164d-4303-a282-f6edd57d84ba",
   "metadata": {
    "tags": []
   },
   "outputs": [],
   "source": [
    "# Calculating the average transaction value per cardholder\n",
    "spend_per_transaction[\"Average Transaction Value per Cardholder Online\"] = spend_per_transaction[\"Average per Transaction Online\"] / spend_per_transaction[\"Average Number of Transactions per Cardholder Online\"]\n",
    "spend_per_transaction[\"Average Transaction Value per Cardholder F2F\"] = spend_per_transaction[\"Average per Transaction F2F\"] / spend_per_transaction[\"Average Number of Transactions per Cardholder F2F\"]\n",
    "\n",
    "spend_per_transaction"
   ]
  },
  {
   "cell_type": "code",
   "execution_count": null,
   "id": "39a3762f-cac7-4476-912b-19fe44e1b88f",
   "metadata": {
    "tags": []
   },
   "outputs": [],
   "source": [
    "# Calculating the index for each average transaction value per cardholder and number of transactions\n",
    "indexed_spend_per_transaction = pd.DataFrame()\n",
    "indexed_spend_per_transaction[\"time_period_value\"] = spend_per_transaction[\"time_period_value\"]\n",
    "\n",
    "indexed_spend_per_transaction[\"Avg per Transaction per Cardholder Online Index\"] = (spend_per_transaction['Average Transaction Value per Cardholder Online'] / average_spend(spend_per_transaction, 'Average Transaction Value per Cardholder Online')) * 100\n",
    "indexed_spend_per_transaction[\"Avg per Transaction per Cardholder F2F Index\"] = (spend_per_transaction['Average Transaction Value per Cardholder F2F'] / average_spend(spend_per_transaction, 'Average Transaction Value per Cardholder F2F')) * 100\n",
    "\n",
    "indexed_spend_per_transaction['Avg Number of Transactions per Cardholder Online Index'] = (spend_per_transaction['Average Number of Transactions per Cardholder Online'] / average_spend(spend_per_transaction, 'Average Number of Transactions per Cardholder Online')) * 100\n",
    "indexed_spend_per_transaction['Avg Number of Transactions per Cardholder F2F Index'] = (spend_per_transaction['Average Number of Transactions per Cardholder F2F'] / average_spend(spend_per_transaction, 'Average Number of Transactions per Cardholder F2F')) * 100\n",
    "\n",
    "indexed_spend_per_transaction[\"Average per Transaction Online Index\"] = (spend_per_transaction[\"Average per Transaction Online\"] / average_spend(spend_per_transaction, 'Average per Transaction Online')) * 100\n",
    "indexed_spend_per_transaction[\"Average per Transaction F2F Index\"] = (spend_per_transaction[\"Average per Transaction F2F\"] / average_spend(spend_per_transaction, 'Average per Transaction F2F')) * 100\n",
    "indexed_spend_per_transaction"
   ]
  },
  {
   "cell_type": "code",
   "execution_count": null,
   "id": "7a87043a-53bc-49bb-b716-2bd940f34695",
   "metadata": {
    "tags": []
   },
   "outputs": [],
   "source": [
    "melted_df_2 = indexed_spend_per_transaction.melt(\n",
    "    id_vars=\"time_period_value\",\n",
    "    value_vars=[\n",
    "        \"Average per Transaction Online Index\",\n",
    "        \"Average per Transaction F2F Index\",\n",
    "        \"Avg Number of Transactions per Cardholder Online Index\",\n",
    "        \"Avg Number of Transactions per Cardholder F2F Index\",\n",
    "    ],\n",
    "    var_name=\"Merchant Channel Type\",\n",
    "    value_name=\"Value\"\n",
    ")\n",
    "melted_df_2\n",
    "        #\"Avg per Transaction per Cardholder Online Index\",\n",
    "        #\"Avg per Transaction per Cardholder F2F Index\","
   ]
  },
  {
   "cell_type": "code",
   "execution_count": null,
   "id": "c213300f-977a-40cd-acd0-1c883b621b9b",
   "metadata": {
    "tags": []
   },
   "outputs": [],
   "source": [
    "fig10 = px.line(\n",
    "    melted_df_2,\n",
    "    x=\"time_period_value\",\n",
    "    y=\"Value\",\n",
    "    color=\"Merchant Channel Type\",\n",
    "    title=\"Average Spend per Transaction by Merchant Channel\"\n",
    ")\n",
    "fig10.show()"
   ]
  },
  {
   "cell_type": "code",
   "execution_count": null,
   "id": "24d81bda-f1c6-4c22-bfba-efb58a6ccb8d",
   "metadata": {
    "tags": []
   },
   "outputs": [],
   "source": [
    "# Calculate % difference for online and f2f average transaction value since start\n",
    "starting_month = \"2019 average\"\n",
    "finishing_month = \"202506\"\n",
    "\n",
    "online_difference = pct_growth_between_months(starting_month, finishing_month, indexed_spend_per_transaction, \"Average per Transaction Online Index\")\n",
    "f2f_difference = pct_growth_between_months(starting_month, finishing_month, indexed_spend_per_transaction, \"Average per Transaction F2F Index\")\n",
    "\n",
    "print(f\"Percentage difference in average spend online per transaction spend in {finishing_month} in comparison with {starting_month}: {online_difference}\")\n",
    "print(f\"Percentage difference in average spend f2f per transaction spend in {finishing_month} in comparison with {starting_month}: {f2f_difference}\")"
   ]
  },
  {
   "cell_type": "code",
   "execution_count": null,
   "id": "842d7936-93f3-445f-8efd-883a18c15f56",
   "metadata": {
    "tags": []
   },
   "outputs": [],
   "source": [
    "# Calculate % difference for online and f2f average transaction value since June 2021\n",
    "starting_month = \"202106\"\n",
    "finishing_month = \"202506\"\n",
    "\n",
    "online_difference = pct_growth_between_months(starting_month, finishing_month, indexed_spend_per_transaction, \"Average per Transaction Online Index\")\n",
    "f2f_difference = pct_growth_between_months(starting_month, finishing_month, indexed_spend_per_transaction, \"Average per Transaction F2F Index\")\n",
    "\n",
    "print(f\"Percentage difference in average spend online per transaction spend in {finishing_month} in comparison with {starting_month}: {online_difference}\")\n",
    "print(f\"Percentage difference in average spend f2f per transaction spend in {finishing_month} in comparison with {starting_month}: {f2f_difference}\")"
   ]
  },
  {
   "cell_type": "code",
   "execution_count": null,
   "id": "16df7056-ceb5-4ff2-a79b-11d50fdcfcfb",
   "metadata": {
    "tags": []
   },
   "outputs": [],
   "source": [
    "# Calculate % difference for average number of transactions per cardholder for both online and f2f spending since start\n",
    "starting_month = \"2019 average\"\n",
    "finishing_month = \"202506\"\n",
    "\n",
    "online_difference = pct_growth_between_months(starting_month, finishing_month, indexed_spend_per_transaction, \"Avg Number of Transactions per Cardholder Online Index\")\n",
    "f2f_difference = pct_growth_between_months(starting_month, finishing_month, indexed_spend_per_transaction, \"Avg Number of Transactions per Cardholder F2F Index\")\n",
    "\n",
    "print(f\"Percentage difference in average number of transactions per cardholder online in {finishing_month} in comparison with {starting_month}: {online_difference}\")\n",
    "print(f\"Percentage difference in average number of transactions per cardholder f2f in {finishing_month} in comparison with {starting_month}: {f2f_difference}\")"
   ]
  },
  {
   "cell_type": "code",
   "execution_count": null,
   "id": "b933379b-d393-4bd2-b926-c7ad58e9c1d8",
   "metadata": {
    "tags": []
   },
   "outputs": [],
   "source": [
    "# Calculate % difference for average number of transactions per cardholder for both online and f2f spending since June 2021\n",
    "starting_month = \"202106\"\n",
    "finishing_month = \"202506\"\n",
    "\n",
    "online_difference = pct_growth_between_months(starting_month, finishing_month, indexed_spend_per_transaction, \"Avg Number of Transactions per Cardholder Online Index\")\n",
    "f2f_difference = pct_growth_between_months(starting_month, finishing_month, indexed_spend_per_transaction, \"Avg Number of Transactions per Cardholder F2F Index\")\n",
    "\n",
    "print(f\"Percentage difference in average number of transactions per cardholder online in {finishing_month} in comparison with {starting_month}: {online_difference}\")\n",
    "print(f\"Percentage difference in average number of transactions per cardholder f2f in {finishing_month} in comparison with {starting_month}: {f2f_difference}\")"
   ]
  },
  {
   "cell_type": "markdown",
   "id": "947bfa59-c33e-4f4e-8391-c8b94e6f36e1",
   "metadata": {
    "tags": []
   },
   "source": [
    "# Online ratio analysis"
   ]
  },
  {
   "cell_type": "code",
   "execution_count": null,
   "id": "6a2731a8-0450-4fa9-b9d7-72ddceffe304",
   "metadata": {
    "tags": []
   },
   "outputs": [],
   "source": [
    "# Calculate difference in online ratio spending since start (June 2025 vs June 2019)\n",
    "starting_month = \"201906\"\n",
    "finishing_month = \"202506\"\n",
    "\n",
    "start_value = online_ratio.loc[online_ratio['time_period_value'] == starting_month, 'Online %'].values[0]\n",
    "finishing_value = online_ratio.loc[online_ratio['time_period_value'] == finishing_month, 'Online %'].values[0]\n",
    "\n",
    "difference = nom_growth_between_months(starting_month, finishing_month, online_ratio, \"Online %\")\n",
    "\n",
    "print(f\"Difference in online ratio from {finishing_month} in comparison with {starting_month}: {difference}\")\n",
    "print(f\"Online ratio in {starting_month} = {start_value} and {finishing_month} = {finishing_value}\")"
   ]
  },
  {
   "cell_type": "markdown",
   "id": "7a189ffb-59f5-4e59-8605-23843d119c53",
   "metadata": {
    "tags": []
   },
   "source": [
    "# MCG Driver Analysis"
   ]
  },
  {
   "cell_type": "code",
   "execution_count": null,
   "id": "715fd74c-0231-4367-bf6c-18d4a2471393",
   "metadata": {
    "tags": []
   },
   "outputs": [],
   "source": [
    "# Getting a total online spend by mcg, by UK cardholders\n",
    "online_by_mcg = '''SELECT time_period_value, sum(spend) as online_spend, mcg\n",
    "FROM `ons-fintrans-data-prod.fintrans_visa.spend_origin_and_channel`\n",
    "WHERE time_period = 'Month'\n",
    "  AND mcc = 'All'\n",
    "  AND merchant_channel = 'Online'\n",
    "  AND cardholder_origin = 'UNITED KINGDOM'\n",
    "  AND cardholder_origin_country = 'All'\n",
    "GROUP BY time_period_value, mcg\n",
    "ORDER BY time_period_value  ASC'''\n",
    "online_by_mcg_df = bq.read_bq_table_sql(client, online_by_mcg)\n",
    "#online_by_mcg_df"
   ]
  },
  {
   "cell_type": "code",
   "execution_count": null,
   "id": "6ba16e86-f4e0-4257-93a7-f7f876e5c5eb",
   "metadata": {
    "tags": []
   },
   "outputs": [],
   "source": [
    "# Getting a total f2f spend by mcg, by UK cardholders\n",
    "f2f_by_mcg = '''SELECT time_period_value, sum(spend) as f2f_spend, mcg\n",
    "FROM `ons-fintrans-data-prod.fintrans_visa.spend_origin_and_channel`\n",
    "WHERE time_period = 'Month'\n",
    "  AND mcc = 'All'\n",
    "  AND merchant_channel = 'Face to Face'\n",
    "  AND cardholder_origin = 'UNITED KINGDOM'\n",
    "  AND cardholder_origin_country = 'All'\n",
    "GROUP BY time_period_value, mcg\n",
    "ORDER BY time_period_value  ASC'''\n",
    "f2f_by_mcg_df = bq.read_bq_table_sql(client, f2f_by_mcg)\n",
    "#f2f_by_mcg_df"
   ]
  },
  {
   "cell_type": "code",
   "execution_count": null,
   "id": "72e719c9-7371-4e64-8121-bd84b463b98b",
   "metadata": {
    "tags": []
   },
   "outputs": [],
   "source": [
    "# Adjusting the monthly values for online spend values\n",
    "merged_df = online_by_mcg_df.merge(cardholders_total, on='time_period_value', how='left')\n",
    "merged_df['adjusted_spend'] = merged_df['online_spend'] * merged_df['Change from Base']\n",
    "\n",
    "online_by_mcg_df['adjusted_online_spend'] = merged_df['adjusted_spend']\n",
    "#online_by_mcg_df"
   ]
  },
  {
   "cell_type": "code",
   "execution_count": null,
   "id": "43a93994-0bfd-4387-b7fe-805900230d36",
   "metadata": {
    "tags": []
   },
   "outputs": [],
   "source": [
    "# Adjusting the quarterly values for f2f spend values\n",
    "merged_df_f2f = f2f_by_mcg_df.merge(cardholders_total, on='time_period_value', how='left')\n",
    "merged_df_f2f['adjusted_spend'] = merged_df_f2f['f2f_spend'] * merged_df_f2f['Change from Base']\n",
    "\n",
    "f2f_by_mcg_df['adjusted_f2f_spend'] = merged_df_f2f['adjusted_spend']\n",
    "f2f_by_mcg_df"
   ]
  },
  {
   "cell_type": "code",
   "execution_count": null,
   "id": "1d751423-1df1-46ad-99e3-9239ea43896e",
   "metadata": {
    "tags": []
   },
   "outputs": [],
   "source": [
    "# Bringing F2F and Online by MCG values into one table\n",
    "merged_df = pd.merge(online_by_mcg_df, f2f_by_mcg_df, on=[\"time_period_value\", \"mcg\"], how =\"inner\")\n",
    "merged_df                     "
   ]
  },
  {
   "cell_type": "code",
   "execution_count": null,
   "id": "530ce9d3-e921-4c17-be53-867d6756b2c8",
   "metadata": {
    "tags": []
   },
   "outputs": [],
   "source": [
    "# Cleaning up table\n",
    "cleaned_df = merged_df\n",
    "cleaned_df = cleaned_df.drop(columns=[\"online_spend\", \"f2f_spend\"])\n",
    "cleaned_df"
   ]
  },
  {
   "cell_type": "code",
   "execution_count": null,
   "id": "8bb1ee35-4e06-45f9-ae5d-63fa4f1824d4",
   "metadata": {
    "tags": []
   },
   "outputs": [],
   "source": [
    "# Summing everything up on a monthly basis and formatting the quarterly data for adjusted online and f2f values\n",
    "monthly_totals = cleaned_df.sort_values(by =[\"mcg\", \"time_period_value\"])\n",
    "\n",
    "monthly_totals"
   ]
  },
  {
   "cell_type": "code",
   "execution_count": null,
   "id": "19136033-b099-45b1-8808-a36ef8abda31",
   "metadata": {
    "tags": []
   },
   "outputs": [],
   "source": [
    "# Calculating change values for online and f2f spending\n",
    "monthly_totals['online_nominal_change'] = monthly_totals.groupby('mcg')['adjusted_online_spend'].diff()\n",
    "monthly_totals['online_percent_change'] = monthly_totals.groupby('mcg')['adjusted_online_spend'].pct_change() * 100\n",
    "\n",
    "monthly_totals['f2f_nominal_change'] = monthly_totals.groupby('mcg')['adjusted_f2f_spend'].diff()\n",
    "monthly_totals['f2f_percent_change'] = monthly_totals.groupby('mcg')['adjusted_f2f_spend'].pct_change() * 100\n",
    "\n",
    "monthly_totals"
   ]
  },
  {
   "cell_type": "code",
   "execution_count": null,
   "id": "bd743f83-8b91-4710-a95e-c89ca83a310c",
   "metadata": {
    "tags": []
   },
   "outputs": [],
   "source": [
    "# Grabbing the total change when mcg = 'All' for each channel\n",
    "# Using mcg='All' instead of summing each mcg up \n",
    "all_nominal_online = monthly_totals[monthly_totals['mcg'] == 'All'][['time_period_value', 'online_nominal_change']].rename(columns={'online_nominal_change': 'MoM Change Online'})\n",
    "all_nominal_f2f = monthly_totals[monthly_totals['mcg'] == 'All'][['time_period_value', 'f2f_nominal_change']].rename(columns={'f2f_nominal_change': 'MoM Change F2F'})\n",
    "\n",
    "all_nominal_f2f"
   ]
  },
  {
   "cell_type": "code",
   "execution_count": null,
   "id": "c60c79d5-0e99-43b6-8c58-84a8f711e745",
   "metadata": {
    "tags": []
   },
   "outputs": [],
   "source": [
    "# Merge to get 'All' nominal change for each merchant channel back in table\n",
    "monthly_totals = pd.merge(monthly_totals, all_nominal_online, on='time_period_value', how='inner')\n",
    "monthly_totals = pd.merge(monthly_totals, all_nominal_f2f, on='time_period_value', how='left')\n",
    "#merged_df = pd.merge(online_by_mcg_df, f2f_by_mcg_df, on=[\"time_period_value\", \"mcg\"], how =\"inner\")\n",
    "\n",
    "# Calculate contribution to 'All' nominal change\n",
    "monthly_totals['contribution_to_online_change'] = (monthly_totals['online_nominal_change'] / monthly_totals['MoM Change Online']) * 100\n",
    "monthly_totals['contribution_to_f2f_change'] = (monthly_totals['f2f_nominal_change'] / monthly_totals['MoM Change F2F']) * 100\n",
    "monthly_totals\n",
    "#print(monthly_totals.columns.tolist())"
   ]
  },
  {
   "cell_type": "code",
   "execution_count": null,
   "id": "a87e56a4-fbf3-4a23-9dfb-a7cb8f0285dd",
   "metadata": {
    "tags": []
   },
   "outputs": [],
   "source": [
    "wanted_columns = ['time_period_value', 'mcg', 'contribution_to_online_change','MoM Change Online', 'online_nominal_change', \"online_percent_change\"]\n",
    "drivers_for_online_spend = monthly_totals[wanted_columns]\n",
    "drivers_for_online_spend = drivers_for_online_spend.sort_values(by = [\"time_period_value\", \"contribution_to_online_change\"])\n",
    "\n",
    "drivers_for_online_spend"
   ]
  },
  {
   "cell_type": "code",
   "execution_count": null,
   "id": "046425f4-462e-4b86-a4f6-292a1ca7f1b8",
   "metadata": {
    "tags": []
   },
   "outputs": [],
   "source": [
    "wanted_columns = ['time_period_value', 'mcg', 'contribution_to_f2f_change', 'MoM Change F2F', 'f2f_nominal_change', \"f2f_percent_change\"]\n",
    "drivers_for_f2f_spend = monthly_totals[wanted_columns]\n",
    "drivers_for_f2f_spend = drivers_for_f2f_spend.sort_values(by = [\"time_period_value\", \"contribution_to_f2f_change\"])\n",
    "drivers_for_f2f_spend"
   ]
  },
  {
   "cell_type": "code",
   "execution_count": null,
   "id": "c65a87e0-58cd-4d95-b137-5b996d64c77d",
   "metadata": {
    "tags": []
   },
   "outputs": [],
   "source": [
    "mcg_of_interest = [\"All\", \"DEPARTMENT STORES\", \"DISCOUNT STORES\", \"APPAREL & ACCESSORIES\", \"TRAVEL SERVICES\", \"EDUCATION & GOVERNMENT\", \"AIRLINES\"]\n",
    "filtered_df = drivers_for_online_spend[drivers_for_online_spend['mcg'].isin(mcg_of_interest)]\n",
    "filtered_df"
   ]
  },
  {
   "cell_type": "code",
   "execution_count": null,
   "id": "3e975b66-4e68-4078-8a78-677611e8062a",
   "metadata": {
    "tags": []
   },
   "outputs": [],
   "source": [
    "f2f_mcg_of_interest = [\"All\", \"DEPARTMENT STORES\", \"DISCOUNT STORES\", \"APPAREL & ACCESSORIES\", \"RESTAURANTS\", \"RETAIL GOODS\", \"FOOD & GROCERY\"]\n",
    "filtered_df_f2f = drivers_for_f2f_spend[drivers_for_f2f_spend['mcg'].isin(f2f_mcg_of_interest)]\n",
    "filtered_df_f2f"
   ]
  },
  {
   "cell_type": "code",
   "execution_count": null,
   "id": "85161dc5-f7fd-4df0-9d2d-6fc349682bbe",
   "metadata": {
    "tags": []
   },
   "outputs": [],
   "source": [
    "# Calculating the average growth for each MCG in each month from 202201 onwards\n",
    "\n",
    "# Creating temporary copies to avoid SettingWithCopyWarning\n",
    "temp_df = filtered_df.copy()\n",
    "temp_df_f2f = filtered_df_f2f.copy()\n",
    "\n",
    "# Extract year and month\n",
    "temp_df['year'] = temp_df['time_period_value'].str[:4].astype(int)\n",
    "temp_df['month'] = temp_df['time_period_value'].str[-2:].str.replace('M', '').astype(int)\n",
    "temp_df_f2f['year'] = temp_df_f2f['time_period_value'].str[:4].astype(int)\n",
    "temp_df_f2f['month'] = temp_df_f2f['time_period_value'].str[-2:].str.replace('M', '').astype(int)\n",
    "\n",
    "# Filter for 202201 and later\n",
    "temp_df = temp_df[(temp_df['year'] > 2021)]\n",
    "temp_df_f2f = temp_df_f2f[(temp_df_f2f['year'] > 2021)] \n",
    "\n",
    "# Recalculate month for grouping\n",
    "temp_df['month'] = temp_df['time_period_value'].str[-2:]\n",
    "temp_df_f2f['month'] = temp_df_f2f['time_period_value'].str[-2:]\n",
    "\n",
    "# Group and calculate average percent_change in each month\n",
    "average_df_2022 = temp_df.groupby(['mcg', 'month'])[['online_percent_change', 'contribution_to_online_change']].mean().reset_index()\n",
    "average_df_f2f_2022 = temp_df_f2f.groupby(['mcg', 'month'])[['f2f_percent_change', 'contribution_to_f2f_change']].mean().reset_index()\n",
    "\n",
    "average_df_2022"
   ]
  },
  {
   "cell_type": "code",
   "execution_count": null,
   "id": "942ea8f5-4b1c-4707-bfcd-f5c8100184a4",
   "metadata": {
    "tags": []
   },
   "outputs": [],
   "source": [
    "# Line chart showing average growth in online spend in each month for selected MCGs from 2022 onwards\n",
    "fig4 = px.line(\n",
    "        average_df_2022,\n",
    "        x=\"month\",\n",
    "        y=[\"online_percent_change\"],\n",
    "    color = \"mcg\"\n",
    "    )\n",
    "fig4"
   ]
  },
  {
   "cell_type": "code",
   "execution_count": null,
   "id": "c53b4161-22d0-4881-9886-51e73441384d",
   "metadata": {
    "tags": []
   },
   "outputs": [],
   "source": [
    "# Line chart showing average growth in f2f spend in each month for selected MCGs from 2022 onwards\n",
    "fig5 = px.line(\n",
    "        average_df_f2f_2022,\n",
    "        x=\"month\",\n",
    "        y=[\"f2f_percent_change\"],\n",
    "    color = \"mcg\"\n",
    "    )\n",
    "fig5"
   ]
  },
  {
   "cell_type": "code",
   "execution_count": null,
   "id": "63e87ac1-ca1e-4810-939e-065b75cf011b",
   "metadata": {
    "tags": []
   },
   "outputs": [],
   "source": [
    "# Calculating the average growth for each MCG in each month from 202106 onwards (post pandemic period)\n",
    "# Specifically being done so we avoid the start of the 2021 year but capture the MoM changes in September and December of 2021\n",
    "\n",
    "# Creating temporary copies to avoid SettingWithCopyWarning\n",
    "temp_df = filtered_df.copy()\n",
    "temp_df_f2f = filtered_df_f2f.copy()\n",
    "\n",
    "# Extract year and month\n",
    "temp_df['year'] = temp_df['time_period_value'].str[:4].astype(int)\n",
    "temp_df['month'] = temp_df['time_period_value'].str[-2:].str.replace('M', '').astype(int)\n",
    "temp_df_f2f['year'] = temp_df_f2f['time_period_value'].str[:4].astype(int)\n",
    "temp_df_f2f['month'] = temp_df_f2f['time_period_value'].str[-2:].str.replace('M', '').astype(int)\n",
    "\n",
    "# Filter for 202201 and later\n",
    "temp_df = temp_df[(temp_df['year'] > 2021) | ((temp_df['year'] >= 2021) & (temp_df['month'] >= 6))]\n",
    "temp_df_f2f = temp_df_f2f[(temp_df_f2f['year'] > 2021) | ((temp_df_f2f['year'] >= 2021) & (temp_df_f2f['month'] >= 6))]\n",
    "\n",
    "# Recalculate month for grouping\n",
    "temp_df['month'] = temp_df['time_period_value'].str[-2:]\n",
    "temp_df_f2f['month'] = temp_df_f2f['time_period_value'].str[-2:]\n",
    "\n",
    "# Group and calculate average percent_change in each month\n",
    "average_df_202106 = temp_df.groupby(['mcg', 'month'])[['online_percent_change', 'contribution_to_online_change']].mean().reset_index()\n",
    "average_df_f2f_202106 = temp_df_f2f.groupby(['mcg', 'month'])[['f2f_percent_change', 'contribution_to_f2f_change']].mean().reset_index()\n",
    "\n",
    "average_df_202106"
   ]
  },
  {
   "cell_type": "code",
   "execution_count": null,
   "id": "a7b64324-2078-4080-80ee-d676d9dbe290",
   "metadata": {
    "tags": []
   },
   "outputs": [],
   "source": [
    "# Line chart showing average growth in online spend in each month for selected MCGs from 202106 onwards\n",
    "fig6 = px.line(\n",
    "        average_df_202106,\n",
    "        x=\"month\",\n",
    "        y=[\"online_percent_change\"],\n",
    "    color = \"mcg\"\n",
    "    )\n",
    "fig6"
   ]
  },
  {
   "cell_type": "code",
   "execution_count": null,
   "id": "9fa75300-2883-4577-9eda-7a4f9f68cad7",
   "metadata": {
    "tags": []
   },
   "outputs": [],
   "source": [
    "# Line chart showing average growth in f2f spend in each month for selected MCGs from 202106 onwards\n",
    "fig7 = px.line(\n",
    "        average_df_f2f_202106,\n",
    "        x=\"month\",\n",
    "        y=[\"f2f_percent_change\"],\n",
    "    color = \"mcg\"\n",
    "    )\n",
    "fig7"
   ]
  },
  {
   "cell_type": "code",
   "execution_count": null,
   "id": "8b2929bf-5bc9-4018-9569-53ea1e538c35",
   "metadata": {},
   "outputs": [],
   "source": []
  }
 ],
 "metadata": {
  "environment": {
   "kernel": "python3",
   "name": "r-cpu.m125",
   "type": "gcloud",
   "uri": "us-docker.pkg.dev/deeplearning-platform-release/gcr.io/r-cpu:m125"
  },
  "language_info": {
   "codemirror_mode": {
    "name": "ipython",
    "version": 3
   },
   "file_extension": ".py",
   "mimetype": "text/x-python",
   "name": "python",
   "nbconvert_exporter": "python",
   "pygments_lexer": "ipython3",
   "version": "3.10.15"
  }
 },
 "nbformat": 4,
 "nbformat_minor": 5
}
