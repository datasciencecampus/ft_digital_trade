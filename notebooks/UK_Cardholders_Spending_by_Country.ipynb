{
 "cells": [
  {
   "cell_type": "code",
   "execution_count": null,
   "id": "e3e2800a-159d-40ad-af4b-7283b9eeb124",
   "metadata": {
    "tags": []
   },
   "outputs": [],
   "source": [
    "project_path = \"/home/jupyter\"\n",
    "import os\n",
    "import sys\n",
    "\n",
    "sys.path.append(project_path)\n",
    "import numpy as np\n",
    "import pandas as pd\n",
    "import matplotlib.pyplot as plt\n",
    "import re\n",
    "from google.cloud import bigquery\n",
    "\n",
    "from fintrans_toolbox.src import bq_utils as bq\n",
    "from fintrans_toolbox.src import table_utils as t\n",
    "\n",
    "\n",
    "client = bigquery.Client()"
   ]
  },
  {
   "cell_type": "code",
   "execution_count": null,
   "id": "e013e3b7-54f4-4ac7-857c-1fd183814cab",
   "metadata": {
    "tags": []
   },
   "outputs": [],
   "source": [
    "UK_spending_by_country = '''SELECT time_period_value, destination_country, SUM(spend) AS total FROM `ons-fintrans-data-prod.fintrans_visa.spend_origin_and_channel` where time_period = 'Quarter' and merchant_channel = 'Online' and cardholder_origin_country = 'POSTAL_AREA' and cardholder_origin = 'UNITED KINGDOM' and destination_country != 'UNITED KINGDOM' GROUP BY destination_country, \n",
    "time_period_value ORDER BY time_period_value, total DESC'''\n",
    "df_by_country = bq.read_bq_table_sql(client, UK_spending_by_country)\n",
    "df_by_country"
   ]
  },
  {
   "cell_type": "code",
   "execution_count": null,
   "id": "f2c60295-a59b-4057-baa6-85f69e6fa5ba",
   "metadata": {
    "tags": []
   },
   "outputs": [],
   "source": [
    "df_by_country.to_csv('UK_Spending_Online_By_Country.csv')"
   ]
  },
  {
   "cell_type": "code",
   "execution_count": null,
   "id": "dda95389-66f7-47f1-b9e0-ea8de9bf1ee8",
   "metadata": {
    "tags": []
   },
   "outputs": [],
   "source": [
    "UK_spending_by_country1 = '''SELECT * FROM `ons-fintrans-data-prod.fintrans_visa.spend_origin_and_channel` where time_period = 'Quarter' and merchant_channel = 'Online' and cardholder_origin_country = 'All' and cardholder_origin = 'UNITED KINGDOM' and destination_country != 'UNITED KINGDOM' and mcc = 'All' and mcg = 'All'\n",
    "ORDER BY time_period_value DESC'''\n",
    "df_by_country1 = bq.read_bq_table_sql(client, UK_spending_by_country1)\n",
    "df_by_country1"
   ]
  },
  {
   "cell_type": "code",
   "execution_count": null,
   "id": "6b32c184-df8f-4dfc-ba5a-e46287303607",
   "metadata": {},
   "outputs": [],
   "source": [
    "Test Line"
   ]
  },
  {
   "cell_type": "code",
   "execution_count": null,
   "id": "81de5556-ceae-49c6-81f1-7f304452d019",
   "metadata": {
    "tags": []
   },
   "outputs": [],
   "source": [
    "df_by_country1.to_csv('UK_Spending_Online_By_Country1.csv')"
   ]
  }
 ],
 "metadata": {
  "environment": {
   "kernel": "python3",
   "name": "r-cpu.m125",
   "type": "gcloud",
   "uri": "us-docker.pkg.dev/deeplearning-platform-release/gcr.io/r-cpu:m125"
  },
  "language_info": {
   "codemirror_mode": {
    "name": "ipython",
    "version": 3
   },
   "file_extension": ".py",
   "mimetype": "text/x-python",
   "name": "python",
   "nbconvert_exporter": "python",
   "pygments_lexer": "ipython3",
   "version": "3.10.15"
  }
 },
 "nbformat": 4,
 "nbformat_minor": 5
}
