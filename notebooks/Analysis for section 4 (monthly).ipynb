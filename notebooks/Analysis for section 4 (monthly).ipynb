{
 "cells": [
  {
   "cell_type": "code",
   "execution_count": null,
   "id": "05cc7859-a25e-4638-93f0-70e75f59c859",
   "metadata": {
    "tags": []
   },
   "outputs": [],
   "source": [
    "project_path = \"/home/jupyter\"\n",
    "import os\n",
    "import sys\n",
    "\n",
    "sys.path.append(project_path)\n",
    "import numpy as np\n",
    "import pandas as pd\n",
    "import matplotlib.pyplot as plt\n",
    "import re\n",
    "import plotly.express as px\n",
    "import plotly.graph_objects as go\n",
    "from datetime import datetime\n",
    "from google.cloud import bigquery\n",
    "\n",
    "from fintrans_toolbox.src import bq_utils as bq\n",
    "from fintrans_toolbox.src import table_utils as t\n",
    "\n",
    "import ft_digital_trade.src.utils.read_data as read_utils\n",
    "import ft_digital_trade.src.utils.clean_utils as clean_utils\n",
    "import ft_digital_trade.src.utils.calculation_utils as calc_utils\n",
    "import ft_digital_trade.src.utils.plot_utils as plot_utils\n",
    "\n",
    "client = bigquery.Client()"
   ]
  },
  {
   "cell_type": "code",
   "execution_count": null,
   "id": "ddd19879-24ac-4b92-bdd5-f115f5848906",
   "metadata": {
    "tags": []
   },
   "outputs": [],
   "source": [
    "# Calculating Visa marketshare drop-off using change in cardholders over time\n",
    "# Looks at how total number of UK cardholders in the dataset changes over time to scale each category of spend\n",
    "\n",
    "cardholders = '''SELECT time_period_value, sum(cardholders) as total_cardholders\n",
    "FROM `ons-fintrans-data-prod.fintrans_visa.spend_origin_and_channel`\n",
    "WHERE time_period = 'Month' \n",
    "  AND mcg = 'All'\n",
    "  AND mcc = 'All'\n",
    "  AND merchant_channel = 'All'\n",
    "  AND cardholder_origin = 'UNITED KINGDOM'\n",
    "  AND cardholder_origin_country = 'All'\n",
    "  GROUP BY time_period_value\n",
    "  ORDER BY time_period_value ASC\n",
    "'''\n",
    "cardholders_total = bq.read_bq_table_sql(client, cardholders)\n",
    "#cardholders_total\n",
    "\n",
    "base_cardholders = cardholders_total['total_cardholders'].iloc[0]\n",
    "#base_cardholder\n",
    "\n",
    "cardholders_total['Change from Base'] = (base_cardholders / cardholders_total['total_cardholders'])\n",
    "cardholders_total # Change from Base column can now be multiplied against each quarter's spend values to adjust the spend for Visa's marketshare"
   ]
  },
  {
   "cell_type": "code",
   "execution_count": null,
   "id": "57d6f957-d956-46ce-91e9-521c6bcd25ba",
   "metadata": {
    "tags": []
   },
   "outputs": [],
   "source": [
    "# Calculating Total online spend ratio over time"
   ]
  },
  {
   "cell_type": "code",
   "execution_count": null,
   "id": "10b1eee2-7a16-4d7b-aa51-f50314795591",
   "metadata": {
    "tags": []
   },
   "outputs": [],
   "source": [
    "# Total spend by UK cardholders\n",
    "total_spend = '''SELECT time_period_value, sum(spend) as total_spend\n",
    "FROM `ons-fintrans-data-prod.fintrans_visa.spend_origin_and_channel`\n",
    "WHERE time_period = 'Month' \n",
    "  AND mcg = 'All' \n",
    "  AND mcc = 'All'\n",
    "  AND merchant_channel = 'All'\n",
    "  AND cardholder_origin = 'UNITED KINGDOM'\n",
    "  AND cardholder_origin_country = 'All' \n",
    "GROUP BY time_period_value\n",
    "ORDER BY time_period_value ASC'''\n",
    "spend_total = bq.read_bq_table_sql(client, total_spend)\n",
    "#spend_total.head()"
   ]
  },
  {
   "cell_type": "code",
   "execution_count": null,
   "id": "5d45b633-55e1-4452-bfa2-f849f05c9a37",
   "metadata": {
    "tags": []
   },
   "outputs": [],
   "source": [
    "# Total online spend by UK cardholders\n",
    "total_online_spend = '''SELECT time_period_value, sum(spend) as total_online_spend\n",
    "FROM `ons-fintrans-data-prod.fintrans_visa.spend_origin_and_channel`\n",
    "WHERE time_period = 'Month' \n",
    "  AND mcg = 'All' \n",
    "  AND mcc = 'All'\n",
    "  AND merchant_channel = 'Online'\n",
    "  AND cardholder_origin = 'UNITED KINGDOM'\n",
    "  AND cardholder_origin_country = 'All'\n",
    "GROUP BY time_period_value\n",
    "ORDER BY time_period_value ASC'''\n",
    "online_spend = bq.read_bq_table_sql(client, total_online_spend)\n",
    "online_spend.head()"
   ]
  },
  {
   "cell_type": "code",
   "execution_count": null,
   "id": "c91eb9ec-006d-4427-a25b-3877f42bca75",
   "metadata": {
    "tags": []
   },
   "outputs": [],
   "source": [
    "# Merging the 2 totals together\n",
    "online_ratio = pd.merge(spend_total, online_spend, on='time_period_value')\n",
    "\n",
    "# Calculating the % of spend that is online in each quarter\n",
    "online_ratio[\"Online %\"] = (online_ratio[\"total_online_spend\"] / online_ratio[\"total_spend\"]) * 100\n",
    "\n",
    "online_ratio"
   ]
  },
  {
   "cell_type": "code",
   "execution_count": null,
   "id": "f6b18516-4b59-4ff4-bbff-257bbfac1143",
   "metadata": {
    "tags": []
   },
   "outputs": [],
   "source": [
    "online_ratio['6-month Moving Average'] = online_ratio[\"Online %\"].rolling(window=6).mean()\n",
    "online_ratio"
   ]
  },
  {
   "cell_type": "code",
   "execution_count": null,
   "id": "6285b566-315d-4dd5-841e-23681bc5ef65",
   "metadata": {
    "tags": []
   },
   "outputs": [],
   "source": [
    "fig = px.line(\n",
    "        online_ratio,\n",
    "        x=\"time_period_value\",\n",
    "        y=[\"Online %\", \"6-month Moving Average\"],\n",
    "    )\n",
    "fig"
   ]
  },
  {
   "cell_type": "code",
   "execution_count": null,
   "id": "b88f8cf4-9a25-426e-957b-4f661fdded6b",
   "metadata": {
    "tags": []
   },
   "outputs": [],
   "source": [
    "# Difference between 202501 and 201901\n",
    "starting_month = \"201906\"\n",
    "finishing_month = \"202506\"\n",
    "\n",
    "online_start = online_ratio\n",
    "\n",
    "\n",
    "# Extract values directly\n",
    "online_start_value = online_ratio.loc[online_ratio['time_period_value'] == starting_month, '12-month Moving Average'].values[0]\n",
    "online_end_value = online_ratio.loc[online_ratio['time_period_value'] == finishing_month, '12-month Moving Average'].values[0]\n",
    "\n",
    "difference = online_end_value - online_start_value\n",
    "difference"
   ]
  },
  {
   "cell_type": "code",
   "execution_count": null,
   "id": "9867d9dd-1ce4-4cc1-9a81-85ffd3dc733e",
   "metadata": {
    "tags": []
   },
   "outputs": [],
   "source": [
    "# Average online % from 2022 onwards\n",
    "# Creating temporary copies to avoid SettingWithCopyWarning\n",
    "temp_df = online_ratio.copy()\n",
    "\n",
    "# Extract year and quarter\n",
    "temp_df['year'] = temp_df['time_period_value'].str[:4].astype(int)\n",
    "temp_df['month'] = temp_df['time_period_value'].str[-2:].str.replace('M', '').astype(int)\n",
    "\n",
    "# Filter for 2022Q1 and later\n",
    "temp_df = temp_df[(temp_df['year'] > 2021) | ((temp_df['year'] == 2022) & (temp_df['month'] >= 1))]\n",
    "\n",
    "# Drop helper columns\n",
    "temp_df = temp_df.drop(columns=['year', 'month'])\n",
    "\n",
    "avg_online_ratio = temp_df[\"Online %\"].mean()\n",
    "avg_online_ratio"
   ]
  },
  {
   "cell_type": "code",
   "execution_count": null,
   "id": "7a5c4e19-f456-45e5-88e7-22a47c4fc8d7",
   "metadata": {},
   "outputs": [],
   "source": []
  },
  {
   "cell_type": "code",
   "execution_count": null,
   "id": "3d765db6-b44d-4e12-abce-8957228bcbc3",
   "metadata": {
    "tags": []
   },
   "outputs": [],
   "source": [
    "# Calculating the top mcg drivers in each quarter specifically for Q1's after 2022"
   ]
  },
  {
   "cell_type": "code",
   "execution_count": null,
   "id": "0516add6-9b03-49e1-a1d5-f4d95af6494c",
   "metadata": {
    "tags": []
   },
   "outputs": [],
   "source": [
    "# Getting a total online spend by mcg, by UK cardholders\n",
    "online_by_mcg = '''SELECT time_period_value, sum(spend) as online_spend, mcg\n",
    "FROM `ons-fintrans-data-prod.fintrans_visa.spend_origin_and_channel`\n",
    "WHERE time_period = 'Month'\n",
    "  AND mcc = 'All'\n",
    "  AND merchant_channel = 'Online'\n",
    "  AND cardholder_origin = 'UNITED KINGDOM'\n",
    "  AND cardholder_origin_country = 'All'\n",
    "GROUP BY time_period_value, mcg\n",
    "ORDER BY time_period_value  ASC'''\n",
    "online_by_mcg_df = bq.read_bq_table_sql(client, online_by_mcg)\n",
    "#online_by_mcg_df"
   ]
  },
  {
   "cell_type": "code",
   "execution_count": null,
   "id": "1c048bac-b71f-47c6-8024-e35b5ead87ef",
   "metadata": {
    "tags": []
   },
   "outputs": [],
   "source": [
    "# Getting a total f2f spend by mcg, by UK cardholders\n",
    "f2f_by_mcg = '''SELECT time_period_value, sum(spend) as f2f_spend, mcg\n",
    "FROM `ons-fintrans-data-prod.fintrans_visa.spend_origin_and_channel`\n",
    "WHERE time_period = 'Month'\n",
    "  AND mcc = 'All'\n",
    "  AND merchant_channel = 'Face to Face'\n",
    "  AND cardholder_origin = 'UNITED KINGDOM'\n",
    "  AND cardholder_origin_country = 'All'\n",
    "GROUP BY time_period_value, mcg\n",
    "ORDER BY time_period_value  ASC'''\n",
    "f2f_by_mcg_df = bq.read_bq_table_sql(client, f2f_by_mcg)\n",
    "#f2f_by_mcg_df"
   ]
  },
  {
   "cell_type": "code",
   "execution_count": null,
   "id": "01008504-acdf-4d70-aac4-531bae77621a",
   "metadata": {
    "tags": []
   },
   "outputs": [],
   "source": [
    "# Adjusting the monthly values for online spend values\n",
    "merged_df = online_by_mcg_df.merge(cardholders_total, on='time_period_value', how='left')\n",
    "merged_df['adjusted_spend'] = merged_df['online_spend'] * merged_df['Change from Base']\n",
    "\n",
    "online_by_mcg_df['adjusted_online_spend'] = merged_df['adjusted_spend']\n",
    "online_by_mcg_df"
   ]
  },
  {
   "cell_type": "code",
   "execution_count": null,
   "id": "f0f6fc79-5fdd-4025-b9a9-cf3d5c2acd9f",
   "metadata": {
    "tags": []
   },
   "outputs": [],
   "source": [
    "# Adjusting the quarterly values for f2f spend values\n",
    "merged_df_f2f = f2f_by_mcg_df.merge(cardholders_total, on='time_period_value', how='left')\n",
    "merged_df_f2f['adjusted_spend'] = merged_df_f2f['f2f_spend'] * merged_df_f2f['Change from Base']\n",
    "\n",
    "f2f_by_mcg_df['adjusted_f2f_spend'] = merged_df_f2f['adjusted_spend']\n",
    "#f2f_by_mcg_df"
   ]
  },
  {
   "cell_type": "code",
   "execution_count": null,
   "id": "67f1ea22-975d-4557-8a10-94d42da6fdf0",
   "metadata": {
    "tags": []
   },
   "outputs": [],
   "source": [
    "# Summing everything up on a monthly basis and formatting the quarterly data - for online values\n",
    "monthly_totals = online_by_mcg_df.sort_values(by =[\"mcg\", \"time_period_value\"])\n",
    "\n",
    "monthly_totals"
   ]
  },
  {
   "cell_type": "code",
   "execution_count": null,
   "id": "5f0c2d64-1ef6-4bbc-ac2c-18e062c1a548",
   "metadata": {
    "tags": []
   },
   "outputs": [],
   "source": [
    "# Summing everything up on a yearly basis and formatting the quarterly data - for f2f values\n",
    "monthly_totals_f2f = f2f_by_mcg_df.sort_values(by =[\"mcg\", \"time_period_value\"])\n",
    "\n",
    "#monthly_totals_f2f"
   ]
  },
  {
   "cell_type": "code",
   "execution_count": null,
   "id": "bc2be6bf-b23f-495a-af01-0db27f4455b0",
   "metadata": {
    "tags": []
   },
   "outputs": [],
   "source": [
    "# Calculating change values for online spending\n",
    "monthly_totals['nominal_change'] = monthly_totals.groupby('mcg')['adjusted_online_spend'].diff()\n",
    "monthly_totals['percent_change'] = monthly_totals.groupby('mcg')['adjusted_online_spend'].pct_change() * 100\n",
    "\n",
    "monthly_totals"
   ]
  },
  {
   "cell_type": "code",
   "execution_count": null,
   "id": "2c062229-004a-4b59-b4e3-2556bb74bda5",
   "metadata": {
    "tags": []
   },
   "outputs": [],
   "source": [
    "# Calculating change values for f2f spending\n",
    "monthly_totals_f2f['nominal_change'] = monthly_totals_f2f.groupby('mcg')['adjusted_f2f_spend'].diff()\n",
    "monthly_totals_f2f['percent_change'] = monthly_totals_f2f.groupby('mcg')['adjusted_f2f_spend'].pct_change() * 100\n",
    "\n",
    "#monthly_totals_f2f"
   ]
  },
  {
   "cell_type": "code",
   "execution_count": null,
   "id": "ddd02b4b-5ee7-4b1f-94f9-1ffea4873f00",
   "metadata": {
    "tags": []
   },
   "outputs": [],
   "source": [
    "all_nominal = monthly_totals[monthly_totals['mcg'] == 'All'][['time_period_value', 'nominal_change']].rename(columns={'nominal_change': 'all_nominal_change'})\n",
    "all_nominal"
   ]
  },
  {
   "cell_type": "code",
   "execution_count": null,
   "id": "2e2b6408-9efe-4991-bd1f-210a6b01d85d",
   "metadata": {
    "tags": []
   },
   "outputs": [],
   "source": [
    "all_nominal_f2f = monthly_totals_f2f[monthly_totals_f2f['mcg'] == 'All'][['time_period_value', 'nominal_change']].rename(columns={'nominal_change': 'all_nominal_change'})\n",
    "#all_nominal_f2f"
   ]
  },
  {
   "cell_type": "code",
   "execution_count": null,
   "id": "7ea3c08b-4b82-428e-b293-68b415884c75",
   "metadata": {
    "tags": []
   },
   "outputs": [],
   "source": [
    "# Merge to get 'All' nominal change for each year back in table\n",
    "monthly_totals = monthly_totals.merge(all_nominal, on='time_period_value', how='left')\n",
    "\n",
    "# Calculate contribution to 'All' nominal change\n",
    "monthly_totals['contribution_to_all_change'] = (monthly_totals['nominal_change'] / monthly_totals['all_nominal_change']) * 100\n",
    "monthly_totals"
   ]
  },
  {
   "cell_type": "code",
   "execution_count": null,
   "id": "7d2fcfea-a569-4cd0-832a-d559fc314050",
   "metadata": {
    "tags": []
   },
   "outputs": [],
   "source": [
    "# Merge to get 'All' nominal change for each year back in table\n",
    "monthly_totals_f2f = monthly_totals_f2f.merge(all_nominal_f2f, on='time_period_value', how='left')\n",
    "\n",
    "# Calculate contribution to 'All' nominal change\n",
    "monthly_totals_f2f['contribution_to_all_change'] = (monthly_totals_f2f['nominal_change'] / monthly_totals_f2f['all_nominal_change']) * 100\n",
    "#monthly_totals_f2f"
   ]
  },
  {
   "cell_type": "code",
   "execution_count": null,
   "id": "1ba892f7-2450-4aec-858f-ad104c7fc710",
   "metadata": {
    "tags": []
   },
   "outputs": [],
   "source": [
    "#quarterly_totals.to_csv('online_mcg_totals_quarterly.csv')\n",
    "#quarterly_totals_f2f.to_csv('f2f_mcg_totals_quarterly.csv')"
   ]
  },
  {
   "cell_type": "code",
   "execution_count": null,
   "id": "68c3cf9a-7ea8-443a-8298-e061d206465c",
   "metadata": {
    "tags": []
   },
   "outputs": [],
   "source": [
    "# Summing everything up on a yearly basis and formatting the quarterly data\n",
    "drivers_for_online_spend = monthly_totals #[[\"time_period_value\", \"mcg\", \"contribution_to_all_change\",\"all_nominal_change\",\"nominal_change\"]]\n",
    "drivers_for_online_spend = drivers_for_online_spend.sort_values(by = [\"time_period_value\", \"contribution_to_all_change\"])\n",
    "drivers_for_online_spend\n",
    "\n",
    "# Summing everything up on a yearly basis and formatting the quarterly data\n",
    "drivers_for_f2f_spend = monthly_totals_f2f #[[\"time_period_value\", \"mcg\", \"contribution_to_all_change\",\"all_nominal_change\",\"nominal_change\"]]\n",
    "drivers_for_f2f_spend = drivers_for_f2f_spend.sort_values(by = [\"time_period_value\", \"contribution_to_all_change\"])\n",
    "#drivers_for_f2f_spend"
   ]
  },
  {
   "cell_type": "code",
   "execution_count": null,
   "id": "9636f068-1136-40b1-9edf-50f204df884a",
   "metadata": {
    "tags": []
   },
   "outputs": [],
   "source": [
    "drivers_for_f2f_spend.to_csv('m_f2f_drivers.csv')\n",
    "drivers_for_online_spend.to_csv('m_online_drivers.csv')"
   ]
  },
  {
   "cell_type": "code",
   "execution_count": null,
   "id": "a4f2d75a-cc0e-41b8-bfb3-3bb9246a2a3e",
   "metadata": {
    "tags": []
   },
   "outputs": [],
   "source": [
    "mcg_of_interest = [\"All\", \"DEPARTMENT STORES\", \"DISCOUNT STORES\", \"APPAREL & ACCESSORIES\", \"TRAVEL SERVICES\", \"EDUCATION & GOVERNMENT\", \"AIRLINES\"]\n",
    "filtered_df = drivers_for_online_spend[drivers_for_online_spend['mcg'].isin(mcg_of_interest)]\n",
    "filtered_df.to_csv('m_online_spend_by_mcg.csv')"
   ]
  },
  {
   "cell_type": "code",
   "execution_count": null,
   "id": "669fea5d-38fb-463c-8f4e-d0e063ef0c24",
   "metadata": {
    "tags": []
   },
   "outputs": [],
   "source": [
    "f2f_mcg_of_interest = [\"All\", \"DEPARTMENT STORES\", \"DISCOUNT STORES\", \"APPAREL & ACCESSORIES\", \"RESTAURANTS\", \"RETAIL GOODS\", \"FOOD & GROCERY\"]\n",
    "filtered_df_f2f = drivers_for_f2f_spend[drivers_for_f2f_spend['mcg'].isin(f2f_mcg_of_interest)]\n",
    "filtered_df_f2f.to_csv('m_f2f_spend_by_mcg.csv')"
   ]
  },
  {
   "cell_type": "code",
   "execution_count": null,
   "id": "707018d0-786d-4493-81ee-e9e09cec30a5",
   "metadata": {
    "tags": []
   },
   "outputs": [],
   "source": [
    "# Calculating the average growth for each MCG in each month\n",
    "\n",
    "# Creating temporary copies to avoid SettingWithCopyWarning\n",
    "temp_df = filtered_df.copy()\n",
    "temp_df_f2f = filtered_df_f2f.copy()\n",
    "\n",
    "# Extract year and month\n",
    "temp_df['year'] = temp_df['time_period_value'].str[:4].astype(int)\n",
    "temp_df['month'] = temp_df['time_period_value'].str[-2:].str.replace('M', '').astype(int)\n",
    "temp_df_f2f['year'] = temp_df_f2f['time_period_value'].str[:4].astype(int)\n",
    "temp_df_f2f['month'] = temp_df_f2f['time_period_value'].str[-2:].str.replace('M', '').astype(int)\n",
    "\n",
    "# Filter for 2022Q1 and later\n",
    "temp_df = ((temp_df['year'] == 2021) & (temp_df['month'] >= 12))\n",
    "temp_df_f2f = ((temp_df_f2f['year'] == 2021) & (temp_df_f2f['month'] >= 12))\n",
    "\n",
    "# Drop helper columns\n",
    "temp_df = temp_df.drop(columns=['year', 'month'])\n",
    "temp_df_f2f = temp_df_f2f.drop(columns=['year', 'month'])\n",
    "\n",
    "# Recalculate quarter for grouping\n",
    "temp_df['month'] = temp_df['time_period_value'].str[-2:]\n",
    "#temp_df_f2f['month'] = temp_df_f2f['time_period_value'].str[-2:]\n",
    "\n",
    "# Group and calculate average percent_change\n",
    "average_df = temp_df.groupby(['mcg', 'month'])[['percent_change', 'contribution_to_all_change']].mean().reset_index()\n",
    "average_df_f2f = temp_df_f2f.groupby(['mcg', 'month'])[['percent_change', 'contribution_to_all_change']].mean().reset_index()\n",
    "\n",
    "average_df"
   ]
  },
  {
   "cell_type": "code",
   "execution_count": null,
   "id": "cf642284-f33e-438c-b786-dbfa3cab028b",
   "metadata": {
    "tags": []
   },
   "outputs": [],
   "source": [
    "# Writing the average growth in each quarter for top online and f2f drivers to csv\n",
    "\n",
    "# These tables show the average % change and average contribution to the total change in online or f2f spending each mcg made up in each quarter. \n",
    "# Only looks at 2022Q1 onwards\n",
    "average_df.to_csv('M_online_drivers_avg_Q_growth.csv')\n",
    "average_df_f2f.to_csv('M_f2f_drivers_avg_Q_growth.csv')"
   ]
  },
  {
   "cell_type": "code",
   "execution_count": null,
   "id": "4401b811-00a4-4202-a690-f2c8966a1673",
   "metadata": {},
   "outputs": [],
   "source": []
  }
 ],
 "metadata": {
  "environment": {
   "kernel": "python3",
   "name": "r-cpu.m125",
   "type": "gcloud",
   "uri": "us-docker.pkg.dev/deeplearning-platform-release/gcr.io/r-cpu:m125"
  },
  "language_info": {
   "codemirror_mode": {
    "name": "ipython",
    "version": 3
   },
   "file_extension": ".py",
   "mimetype": "text/x-python",
   "name": "python",
   "nbconvert_exporter": "python",
   "pygments_lexer": "ipython3",
   "version": "3.10.15"
  }
 },
 "nbformat": 4,
 "nbformat_minor": 5
}
