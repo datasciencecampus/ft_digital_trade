{
 "cells": [
  {
   "cell_type": "code",
   "execution_count": null,
   "id": "22a5dc47-b29c-4f5d-ad21-f8ef0331d480",
   "metadata": {
    "tags": []
   },
   "outputs": [],
   "source": [
    "project_path = \"/home/jupyter\"\n",
    "import os\n",
    "import sys\n",
    "sys.path.append(project_path)\n",
    "from google.cloud import bigquery, storage\n",
    "\n",
    "import matplotlib.pyplot as plt\n",
    "import numpy as np\n",
    "import pandas as pd\n",
    "import plotly.express as px\n",
    "\n",
    "from fintrans_toolbox.src import bq_utils as bq\n",
    "\n",
    "client = bigquery.Client()\n",
    "\n",
    "# Summarise the data by B2B Online Abroad Total\n",
    "UK_spending_by_B2B_online_Intl = '''SELECT time_period_value, destination_country, spend \n",
    "FROM `ons-fintrans-data-prod.fintrans_visa.spend_origin_and_channel` \n",
    "where time_period = 'Quarter' \n",
    "and mcc = 'All' \n",
    "and mcg = 'BUSINESS TO BUSINESS' \n",
    "and merchant_channel = 'Online' \n",
    "and cardholder_origin_country = 'All' \n",
    "and cardholder_origin = 'UNITED KINGDOM' \n",
    "and destination_country != 'UNITED KINGDOM' \n",
    "GROUP BY destination_country, \n",
    "time_period_value, spend \n",
    "ORDER BY time_period_value, destination_country DESC'''\n",
    "df_by_B2B_online_Intl = bq.read_bq_table_sql(client, UK_spending_by_B2B_online_Intl)\n",
    "df_by_B2B_online_Intl = df_by_B2B_online_Intl.rename(columns={'spend': 'Intl_online_spend'})\n",
    "df_by_B2B_online_Intl.head()"
   ]
  },
  {
   "cell_type": "code",
   "execution_count": null,
   "id": "8757ca52-3139-4d72-b994-a244dd475495",
   "metadata": {
    "tags": []
   },
   "outputs": [],
   "source": [
    "# UK Cardholder Abroad Online Spend B2B Total\n",
    "\n",
    "# Extract the year from the time_period_value (assuming it's in format like '2023-Q1')\n",
    "df_by_B2B_online_Intl['year'] = df_by_B2B_online_Intl['time_period_value'].str[:4].astype(int)\n",
    "\n",
    "# Group by year and sum the online spend for each year\n",
    "df_yearly_B2B_online_Intl = df_by_B2B_online_Intl.groupby('year')['Intl_online_spend'].sum().reset_index()\n",
    "\n",
    "# Optionally, sort the result by year\n",
    "df_yearly_B2B_online_Intl = df_yearly_B2B_online_Intl.sort_values(by='year')\n",
    "\n",
    "# Display the result\n",
    "print(df_yearly_B2B_online_Intl)"
   ]
  },
  {
   "cell_type": "code",
   "execution_count": null,
   "id": "787649a2-f787-455e-9b57-e7d5b7bb3202",
   "metadata": {
    "tags": []
   },
   "outputs": [],
   "source": [
    "# Summarise the data by UK Cardholder Abroad Online Spending All -Quarterly\n",
    "\n",
    "UK_spending_by_online_Intl_All = '''SELECT time_period_value, destination_country, spend \n",
    "FROM `ons-fintrans-data-prod.fintrans_visa.spend_origin_and_channel` \n",
    "where time_period = 'Quarter' \n",
    "and mcg = 'All' \n",
    "and merchant_channel = 'Online' \n",
    "and cardholder_origin_country = 'All' \n",
    "and cardholder_origin = 'UNITED KINGDOM' \n",
    "and destination_country != 'UNITED KINGDOM' \n",
    "GROUP BY destination_country, \n",
    "time_period_value, spend \n",
    "ORDER BY time_period_value, destination_country DESC'''\n",
    "df_by_online_Intl_All = bq.read_bq_table_sql(client, UK_spending_by_online_Intl_All)\n",
    "df_by_online_Intl_All = df_by_online_Intl_All.rename(columns={'spend': 'Intl_online_all'})\n",
    "df_by_online_Intl_All.head()"
   ]
  },
  {
   "cell_type": "code",
   "execution_count": null,
   "id": "ac5705e6-ed7b-4553-a08e-5e4c219cbf23",
   "metadata": {
    "tags": []
   },
   "outputs": [],
   "source": [
    "# Summarised in Yearly Spending\n",
    "\n",
    "# Extract the year from the time_period_value (assuming it's in format like '2023-Q1')\n",
    "df_by_online_Intl_All['year'] = df_by_online_Intl_All['time_period_value'].str[:4].astype(int)\n",
    "\n",
    "# Group by year and sum the online spend for each year\n",
    "df_yearly_online_Intl_All = df_by_online_Intl_All.groupby('year')['Intl_online_all'].sum().reset_index()\n",
    "\n",
    "# Optionally, sort the result by year\n",
    "df_yearly_online_Intl_All = df_yearly_online_Intl_All.sort_values(by='year')\n",
    "\n",
    "# Display the result\n",
    "print(df_yearly_online_Intl_All)"
   ]
  },
  {
   "cell_type": "code",
   "execution_count": null,
   "id": "7694d5e5-1add-4c92-bd8f-69f5522ee5b9",
   "metadata": {
    "tags": []
   },
   "outputs": [],
   "source": [
    "# Summarise the data by UK Cardholder B2B Abroad All\n",
    "UK_spending_by_B2B_Intl_All = '''SELECT time_period_value, destination_country, spend \n",
    "FROM `ons-fintrans-data-prod.fintrans_visa.spend_origin_and_channel` \n",
    "where time_period = 'Quarter' \n",
    "and mcc = 'All' \n",
    "and mcg = 'BUSINESS TO BUSINESS' \n",
    "and merchant_channel = 'All' \n",
    "and cardholder_origin_country = 'All' \n",
    "and cardholder_origin = 'UNITED KINGDOM' \n",
    "and destination_country != 'UNITED KINGDOM' \n",
    "GROUP BY destination_country, \n",
    "time_period_value, spend \n",
    "ORDER BY time_period_value, destination_country DESC'''\n",
    "df_by_B2B_Intl_All = bq.read_bq_table_sql(client, UK_spending_by_B2B_Intl_All)\n",
    "df_by_B2B_Intl_All = df_by_B2B_Intl_All.rename(columns={'spend': 'Intl_B2B'})\n",
    "df_by_B2B_Intl_All.head()"
   ]
  },
  {
   "cell_type": "code",
   "execution_count": null,
   "id": "e87acff4-fc62-4dbb-8b54-2bf7b3602ea5",
   "metadata": {
    "tags": []
   },
   "outputs": [],
   "source": [
    "# UK Cardholder Yearly B2B Abroad Total\n",
    "\n",
    "# Extract the year from the time_period_value (assuming it's in format like '2023-Q1')\n",
    "df_by_B2B_Intl_All['year'] = df_by_B2B_Intl_All['time_period_value'].str[:4].astype(int)\n",
    "\n",
    "# Group by year and sum the online spend for each year\n",
    "df_yearly_B2B_Intl_All = df_by_B2B_Intl_All.groupby('year')['Intl_B2B'].sum().reset_index()\n",
    "\n",
    "# Optionally, sort the result by year\n",
    "df_yearly_B2B_Intl_All = df_yearly_B2B_Intl_All.sort_values(by='year')\n",
    "\n",
    "# Display the result\n",
    "print(df_yearly_B2B_Intl_All)"
   ]
  },
  {
   "cell_type": "code",
   "execution_count": null,
   "id": "b35f38f7-3b5c-446e-9c54-432deb38f259",
   "metadata": {
    "tags": []
   },
   "outputs": [],
   "source": [
    "## Summarise the data by UK Cardholder B2B Domestic Spending All\n",
    "\n",
    "UK_spending_by_B2B_Dom_All = '''SELECT time_period_value, destination_country, spend \n",
    "FROM `ons-fintrans-data-prod.fintrans_visa.spend_origin_and_channel` \n",
    "where time_period = 'Quarter' \n",
    "and mcc = 'All' \n",
    "and mcg = 'BUSINESS TO BUSINESS' \n",
    "and merchant_channel = 'All' \n",
    "and cardholder_origin_country = 'All' \n",
    "and cardholder_origin = 'UNITED KINGDOM' \n",
    "and destination_country = 'UNITED KINGDOM' \n",
    "GROUP BY destination_country, \n",
    "time_period_value, spend \n",
    "ORDER BY time_period_value, destination_country DESC'''\n",
    "df_by_B2B_Dom_All = bq.read_bq_table_sql(client, UK_spending_by_B2B_Dom_All)\n",
    "df_by_B2B_Dom_All = df_by_B2B_Dom_All.rename(columns={'spend': 'online_spend'})\n",
    "df_by_B2B_Dom_All.head()"
   ]
  },
  {
   "cell_type": "code",
   "execution_count": null,
   "id": "d658b42a-35c4-4502-ac05-98985dbec265",
   "metadata": {
    "tags": []
   },
   "outputs": [],
   "source": [
    "# Yearly UK Cardholder B2B Domestic Spending All\n",
    "\n",
    "# Extract the year from the time_period_value (assuming it's in format like '2023-Q1')\n",
    "df_by_B2B_Dom_All['year'] = df_by_B2B_Dom_All['time_period_value'].str[:4].astype(int)\n",
    "\n",
    "# Group by year and sum the online spend for each year\n",
    "df_yearly_B2B_Dom_All = df_by_B2B_Dom_All.groupby('year')['online_spend'].sum().reset_index()\n",
    "\n",
    "# Optionally, sort the result by year\n",
    "df_yearly_B2B_Dom_All = df_yearly_B2B_Dom_All.sort_values(by='year')\n",
    "\n",
    "# Display the result\n",
    "print(df_yearly_B2B_Dom_All)"
   ]
  },
  {
   "cell_type": "code",
   "execution_count": null,
   "id": "e049a52d-582d-4422-b761-feca6d67ecf0",
   "metadata": {
    "tags": []
   },
   "outputs": [],
   "source": [
    "# Summarise the data by UK Cardholder B2B Spend All\n",
    "\n",
    "UK_spending_by_B2B_All = '''SELECT time_period_value, destination_country, spend \n",
    "FROM `ons-fintrans-data-prod.fintrans_visa.spend_origin_and_channel` \n",
    "where time_period = 'Quarter' \n",
    "and mcc = 'All' \n",
    "and mcg = 'BUSINESS TO BUSINESS' \n",
    "and merchant_channel = 'All' \n",
    "and cardholder_origin_country = 'All' \n",
    "and cardholder_origin = 'UNITED KINGDOM' \n",
    "GROUP BY destination_country, \n",
    "time_period_value, spend \n",
    "ORDER BY time_period_value, destination_country DESC'''\n",
    "df_by_B2B_All = bq.read_bq_table_sql(client, UK_spending_by_B2B_All)\n",
    "df_by_B2B_All = df_by_B2B_All.rename(columns={'spend': 'b2b_spend'})\n",
    "df_by_B2B_All.head()\n"
   ]
  },
  {
   "cell_type": "code",
   "execution_count": null,
   "id": "d8b60022-3509-4ea2-9013-a8eb10518e73",
   "metadata": {
    "tags": []
   },
   "outputs": [],
   "source": [
    "# Yearly UK Cardholder B2B Spend All\n",
    "\n",
    "# Extract the year from the time_period_value (assuming it's in format like '2023-Q1')\n",
    "df_by_B2B_All['year'] = df_by_B2B_All['time_period_value'].str[:4].astype(int)\n",
    "\n",
    "# Group by year and sum the online spend for each year\n",
    "df_yearly_B2B_All = df_by_B2B_All.groupby('year')['b2b_spend'].sum().reset_index()\n",
    "\n",
    "# Optionally, sort the result by year\n",
    "df_yearly_B2B_All = df_yearly_B2B_All.sort_values(by='year')\n",
    "\n",
    "# Display the result\n",
    "print(df_yearly_B2B_All)"
   ]
  },
  {
   "cell_type": "code",
   "execution_count": null,
   "id": "c2b55f27-7841-457c-8c7f-abec38b1f74d",
   "metadata": {},
   "outputs": [],
   "source": []
  },
  {
   "cell_type": "code",
   "execution_count": null,
   "id": "31c8327d-9bd0-4743-b0db-742254104464",
   "metadata": {
    "tags": []
   },
   "outputs": [],
   "source": [
    "# Summarise the data by UK Cardholder B2B Online Domestic\n",
    "UK_spending_by_B2B_Dom_All = '''SELECT time_period_value, destination_country, spend \n",
    "FROM `ons-fintrans-data-prod.fintrans_visa.spend_origin_and_channel` \n",
    "where time_period = 'Quarter' \n",
    "and mcc = 'All' \n",
    "and mcg = 'BUSINESS TO BUSINESS' \n",
    "and merchant_channel = 'Online' \n",
    "and cardholder_origin_country = 'All' \n",
    "and cardholder_origin = 'UNITED KINGDOM' \n",
    "and destination_country = 'UNITED KINGDOM' \n",
    "GROUP BY destination_country, \n",
    "time_period_value, spend \n",
    "ORDER BY time_period_value, destination_country DESC'''\n",
    "df_by_B2B_Dom_All = bq.read_bq_table_sql(client, UK_spending_by_B2B_Dom_All)\n",
    "df_by_B2B_Dom_All = df_by_B2B_Dom_All.rename(columns={'spend': 'online_spend'})\n",
    "df_by_B2B_Dom_All.head()"
   ]
  },
  {
   "cell_type": "code",
   "execution_count": null,
   "id": "18c06e0e-f883-4ca8-b977-58c0a70a7c5d",
   "metadata": {
    "tags": []
   },
   "outputs": [],
   "source": [
    "# Extract the year from the time_period_value (assuming it's in format like '2023-Q1')\n",
    "df_by_B2B_Dom_All['year'] = df_by_B2B_Dom_All['time_period_value'].str[:4].astype(int)\n",
    "\n",
    "# Group by year and sum the online spend for each year\n",
    "df_yearly_B2B_Dom_All = df_by_B2B_Dom_All.groupby('year')['online_spend'].sum().reset_index()\n",
    "\n",
    "# Optionally, sort the result by year\n",
    "df_yearly_B2B_Dom_All = df_yearly_B2B_Dom_All.sort_values(by='year')\n",
    "\n",
    "# Display the result\n",
    "print(df_yearly_B2B_Dom_All)"
   ]
  },
  {
   "cell_type": "code",
   "execution_count": null,
   "id": "ceaacd8c-dad5-486a-a523-0809e77ebe1e",
   "metadata": {},
   "outputs": [],
   "source": []
  }
 ],
 "metadata": {
  "environment": {
   "kernel": "python3",
   "name": "r-cpu.m125",
   "type": "gcloud",
   "uri": "us-docker.pkg.dev/deeplearning-platform-release/gcr.io/r-cpu:m125"
  },
  "language_info": {
   "codemirror_mode": {
    "name": "ipython",
    "version": 3
   },
   "file_extension": ".py",
   "mimetype": "text/x-python",
   "name": "python",
   "nbconvert_exporter": "python",
   "pygments_lexer": "ipython3",
   "version": "3.10.15"
  }
 },
 "nbformat": 4,
 "nbformat_minor": 5
}
