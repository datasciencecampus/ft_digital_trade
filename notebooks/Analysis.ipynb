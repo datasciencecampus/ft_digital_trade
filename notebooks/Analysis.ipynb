{
 "cells": [
  {
   "cell_type": "code",
   "execution_count": null,
   "id": "2dfe8849-b565-41ad-b7fd-6df034040c76",
   "metadata": {
    "tags": []
   },
   "outputs": [],
   "source": [
    "project_path = \"/home/jupyter\"\n",
    "import os\n",
    "import sys\n",
    "\n",
    "sys.path.append(project_path)\n",
    "import numpy as np\n",
    "import pandas as pd\n",
    "import matplotlib.pyplot as plt\n",
    "import re\n",
    "import plotly.express as px\n",
    "from datetime import datetime\n",
    "from google.cloud import bigquery\n",
    "\n",
    "from fintrans_toolbox.src import bq_utils as bq\n",
    "from fintrans_toolbox.src import table_utils as t\n",
    "\n",
    "import ft_digital_trade.src.utils.read_data as read_utils\n",
    "import ft_digital_trade.src.utils.clean_utils as clean_utils\n",
    "import ft_digital_trade.src.utils.calculation_utils as calc_utils\n",
    "import ft_digital_trade.src.utils.plot_utils as plot_utils\n",
    "\n",
    "client = bigquery.Client()"
   ]
  },
  {
   "cell_type": "code",
   "execution_count": null,
   "id": "bd4094d3-cf11-486e-bff6-44879ced3e86",
   "metadata": {
    "tags": []
   },
   "outputs": [],
   "source": [
    "# Getting a total abroad + online spend by UK cardholders\n",
    "total_online = '''SELECT time_period_value, sum(spend) as total_online_spend\n",
    "FROM `ons-fintrans-data-prod.fintrans_visa.spend_origin_and_channel`\n",
    "WHERE time_period = 'Quarter' \n",
    "  AND mcg = 'All'\n",
    "  AND mcc = 'All'\n",
    "  AND merchant_channel = 'Online'\n",
    "  AND cardholder_origin = 'UNITED KINGDOM'\n",
    "  AND cardholder_origin_country = 'All'\n",
    "  AND destination_country != 'All'\n",
    "GROUP BY time_period_value\n",
    "ORDER BY time_period_value ASC'''\n",
    "total_spend = bq.read_bq_table_sql(client, total_online)\n",
    "#total_spend"
   ]
  },
  {
   "cell_type": "code",
   "execution_count": null,
   "id": "f8746e0c-8764-4d55-971e-a80c62e130dd",
   "metadata": {
    "tags": []
   },
   "outputs": [],
   "source": [
    "# Total spend by UK cardholders\n",
    "abroad_mccs = '''SELECT time_period_value, sum(spend) as total_spend_online, mcc\n",
    "FROM `ons-fintrans-data-prod.fintrans_visa.spend_origin_and_channel`\n",
    "WHERE time_period = 'Quarter' \n",
    "  AND mcg != 'All'\n",
    "  AND mcc != 'All'\n",
    "  AND merchant_channel = 'Online'\n",
    "  AND cardholder_origin = 'UNITED KINGDOM'\n",
    "  AND cardholder_origin_country = 'All' \n",
    "  AND destination_country = 'REST OF  EUROPE'\n",
    "GROUP BY time_period_value, mcc\n",
    "ORDER BY time_period_value, mcc ASC'''\n",
    "abroad_mcc_comparison = bq.read_bq_table_sql(client, abroad_mccs)\n",
    "abroad_mcc_comparison"
   ]
  },
  {
   "cell_type": "code",
   "execution_count": null,
   "id": "52beef14-de68-4193-bd68-c59931f23869",
   "metadata": {
    "tags": []
   },
   "outputs": [],
   "source": [
    "# Total spend by UK cardholders\n",
    "domestic_mccs = '''SELECT time_period_value, sum(spend) as total_spend_dom, mcc\n",
    "FROM `ons-fintrans-data-prod.fintrans_visa.spend_origin_and_channel`\n",
    "WHERE time_period = 'Quarter' \n",
    "  AND mcg != 'All'\n",
    "  AND mcc != 'All'\n",
    "  AND merchant_channel = 'Online'\n",
    "  AND cardholder_origin = 'UNITED KINGDOM'\n",
    "  AND cardholder_origin_country = 'All' \n",
    "  AND destination_country = 'UNITED KINGDOM'\n",
    "GROUP BY time_period_value, mcc\n",
    "ORDER BY time_period_value, mcc ASC'''\n",
    "domestic_mcc_comparison = bq.read_bq_table_sql(client, domestic_mccs)\n",
    "domestic_mcc_comparison"
   ]
  },
  {
   "cell_type": "code",
   "execution_count": null,
   "id": "1aec4f62-37ed-40c5-9bd2-b725dfd79e83",
   "metadata": {
    "tags": []
   },
   "outputs": [],
   "source": [
    "df_uk_pivot = domestic_mcc_comparison.pivot_table(index='time_period_value', columns='mcc', values='total_spend_dom', aggfunc='sum')\n",
    "df_abroad_pivot = abroad_mcc_comparison.pivot_table(index='time_period_value', columns='mcc', values='total_spend_online', aggfunc='sum')\n",
    "\n",
    "#df_uk_pivot"
   ]
  },
  {
   "cell_type": "code",
   "execution_count": null,
   "id": "8c73305e-ec89-4eaa-b57a-1d1fa588b5bf",
   "metadata": {
    "tags": []
   },
   "outputs": [],
   "source": [
    "df_uk_pivot.columns = [f'UK_{col}' for col in df_uk_pivot.columns]\n",
    "df_abroad_pivot.columns = [f'Abroad_{col}' for col in df_abroad_pivot.columns]\n",
    "\n",
    "df_abroad_pivot"
   ]
  },
  {
   "cell_type": "code",
   "execution_count": null,
   "id": "733a62c3-1952-42ee-b26a-b75a9ac0060b",
   "metadata": {
    "tags": []
   },
   "outputs": [],
   "source": [
    "merged_table = pd.merge(df_uk_pivot, df_abroad_pivot, on=('time_period_value'))\n",
    "merged_table = merged_table.reset_index()\n",
    "\n",
    "#Melt the DataFrame to long format for Plotly Express\n",
    "merged_table_melted = merged_table.melt(id_vars='time_period_value', var_name='Region_MCC', value_name='Total Spend')\n",
    "\n",
    "merged_table_melted"
   ]
  },
  {
   "cell_type": "code",
   "execution_count": null,
   "id": "27c27a32-7eb5-4356-bd37-9ca796b8c0a0",
   "metadata": {
    "tags": []
   },
   "outputs": [],
   "source": [
    "# Abroad vs Domestic spending online by MCC\n",
    "fig1 = px.line(\n",
    "    merged_table_melted,\n",
    "    x='time_period_value',\n",
    "    y='Total Spend',\n",
    "    color='Region_MCC',\n",
    "    markers=True,\n",
    "    title='Online, Domestic vs Abroad Spend Comparison'\n",
    ")\n",
    "\n",
    "# Show the plot\n",
    "fig1.show()"
   ]
  },
  {
   "cell_type": "code",
   "execution_count": null,
   "id": "68b0bcea-e6c8-4729-a4c0-141a794a8eec",
   "metadata": {
    "tags": []
   },
   "outputs": [],
   "source": [
    "# Abroad only comparison of MCCs\n",
    "fig2 = px.line(\n",
    "    abroad_mcc_comparison,\n",
    "    x='time_period_value',\n",
    "    y='total_spend_online',\n",
    "    color='mcc',\n",
    "    markers=True,\n",
    "    title='Abroad + Online Spend by Selected MCCs'\n",
    ")\n",
    "\n",
    "# Show the plot\n",
    "fig2.show()"
   ]
  },
  {
   "cell_type": "code",
   "execution_count": null,
   "id": "c0e2fe6e-d57a-4105-a45c-367a5f26e796",
   "metadata": {
    "tags": []
   },
   "outputs": [],
   "source": [
    "# Selecting for a specific period to investige\n",
    "merged_table_2019 = merged_table.head(4)\n",
    "merged_table_2019"
   ]
  },
  {
   "cell_type": "code",
   "execution_count": null,
   "id": "0fbf9d84-c4bf-4536-b217-0af1db0379e4",
   "metadata": {
    "tags": []
   },
   "outputs": [],
   "source": [
    "# Creating analysis tables\n",
    "\n",
    "def analysis_calcs(df, total_spend):\n",
    "    # Ensure 'time_period_value' is in both dataframes and align them\n",
    "    if 'time_period_value' not in df.columns or 'time_period_value' not in total_spend.columns:\n",
    "        raise ValueError(\"Both df and total_spend must contain 'time_period_value' column for alignment.\")\n",
    "\n",
    "    # Merge on 'time_period_value' to align both dataframes\n",
    "    df_merged = pd.merge(df, total_spend, on='time_period_value', suffixes=('', '_total'))\n",
    "\n",
    "    # Extract time column and numeric data\n",
    "    time_col = df_merged[['time_period_value']]\n",
    "    df_numeric = df.drop(columns='time_period_value')\n",
    "\n",
    "    # Automatically detect the spend column from total_spend (prioritize numeric columns)\n",
    "    spend_candidates = total_spend.drop(columns='time_period_value').select_dtypes(include='number')\n",
    "    if spend_candidates.shape[1] == 0:\n",
    "        raise ValueError(\"No numeric spend column found in total_spend.\")\n",
    "    total_spend_series = spend_candidates.iloc[:, 0]  # Use the first numeric column\n",
    "\n",
    "    # Align total_spend_series with df_numeric\n",
    "    total_spend_series = total_spend_series.reset_index(drop=True).reindex(df_numeric.index)\n",
    "\n",
    "    # Quarter-on-quarter difference\n",
    "    diff_df = df_numeric.diff().rename(columns=lambda x: f\"{x}_QoQ_Diff\")\n",
    "\n",
    "    # % Change quarter-on-quarter\n",
    "    pct_change_df = df_numeric.pct_change().rename(columns=lambda x: f\"{x}_QoQ_Pct_Change\")\n",
    "\n",
    "    # Each column's % of total spend\n",
    "    pct_of_total_df = df_numeric.div(total_spend_series, axis=0).rename(columns=lambda x: f\"{x}_Pct_of_Total\")\n",
    "\n",
    "    # Rolling average (2-quarter)\n",
    "    rolling_avg_df = df_numeric.rolling(window=2).mean().rename(columns=lambda x: f\"{x}_2Q_Rolling_Avg\")\n",
    "\n",
    "    # Combine all results\n",
    "    result_df = pd.concat([\n",
    "        time_col,\n",
    "        df_numeric,\n",
    "        diff_df,\n",
    "        pct_change_df,\n",
    "        total_spend_series.rename(\"Total_Spend\"),\n",
    "        pct_of_total_df,\n",
    "        rolling_avg_df,\n",
    "    ], axis=1)\n",
    "\n",
    "    # Format percentage columns\n",
    "    pct_cols = [col for col in result_df.columns if 'Pct' in col]\n",
    "    result_df[pct_cols] = result_df[pct_cols].applymap(lambda x: f\"{x:.2%}\" if pd.notnull(x) else \"\")\n",
    "\n",
    "    # Format numeric columns to 2 decimal places\n",
    "    num_cols = [col for col in result_df.columns if col not in pct_cols and col != 'time_period_value']\n",
    "    result_df[num_cols] = result_df[num_cols].applymap(lambda x: f\"{x:.2f}\" if pd.notnull(x) else \"\")\n",
    "\n",
    "    # Save to CSV\n",
    "    result_df.to_csv(\"enhanced_quarterly_spend_analysis.csv\", index=False)\n",
    "\n",
    "    return result_df\n",
    "\n",
    "\n",
    "\n",
    "analysis_df = analysis_calcs(merged_table, total_spend)\n",
    "analysis_df"
   ]
  },
  {
   "cell_type": "code",
   "execution_count": null,
   "id": "cdef56ad-24ac-445a-9288-49c7b6b4a632",
   "metadata": {
    "tags": []
   },
   "outputs": [],
   "source": [
    "result_1 = analysis_df.loc[:, [\"UK_MISC SPECIALTY RETAIL_QoQ_Diff\", \"Abroad_BOOK STORES_QoQ_Diff\"]]\n",
    "result_1"
   ]
  }
 ],
 "metadata": {
  "environment": {
   "kernel": "python3",
   "name": "r-cpu.m125",
   "type": "gcloud",
   "uri": "us-docker.pkg.dev/deeplearning-platform-release/gcr.io/r-cpu:m125"
  },
  "language_info": {
   "codemirror_mode": {
    "name": "ipython",
    "version": 3
   },
   "file_extension": ".py",
   "mimetype": "text/x-python",
   "name": "python",
   "nbconvert_exporter": "python",
   "pygments_lexer": "ipython3",
   "version": "3.10.15"
  }
 },
 "nbformat": 4,
 "nbformat_minor": 5
}
