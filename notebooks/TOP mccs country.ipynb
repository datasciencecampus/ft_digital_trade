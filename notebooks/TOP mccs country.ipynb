{
 "cells": [
  {
   "cell_type": "code",
   "execution_count": null,
   "id": "d9ff0af0-d14f-4101-aaa7-473796800a28",
   "metadata": {
    "tags": []
   },
   "outputs": [],
   "source": [
    "project_path = \"/home/jupyter\"\n",
    "import os\n",
    "import sys\n",
    "\n",
    "sys.path.append(project_path)\n",
    "import numpy as np\n",
    "import pandas as pd\n",
    "import matplotlib.pyplot as plt\n",
    "import plotly.express as px\n",
    "import re\n",
    "from google.cloud import bigquery\n",
    "\n",
    "from fintrans_toolbox.src import bq_utils as bq\n",
    "from fintrans_toolbox.src import table_utils as t\n",
    "\n",
    "client = bigquery.Client()"
   ]
  },
  {
   "cell_type": "code",
   "execution_count": null,
   "id": "be310ddc-30a0-4983-9226-33a58a395a2c",
   "metadata": {
    "tags": []
   },
   "outputs": [],
   "source": [
    "# Summarise the data by mcg\n",
    "UK_mcc_country = '''SELECT time_period_value, mcc, spend, destination_country\n",
    "FROM `ons-fintrans-data-prod.fintrans_visa.spend_origin_and_channel` \n",
    "where time_period = 'Quarter'\n",
    "and time_period_value IN (\"2024Q1\",\"2024Q2\",\"2024Q3\",\"2024Q4\")\n",
    "and merchant_channel = 'Online'\n",
    "and cardholder_origin_country = 'All' \n",
    "and cardholder_origin = 'UNITED KINGDOM'\n",
    "and destination_country != 'UNITED KINGDOM'\n",
    "and mcc IN (\"LARGE DIGITAL GOODS MERCHANT\",\"AIRLINES\",\"LODGING\",\"COMPUTER SOFTWARE STORES\",\"TRAVEL AGENCIES\",\"DIGITAL GOODS GAMES\")\n",
    "GROUP BY mcc, time_period_value, spend, destination_country\n",
    "ORDER BY time_period_value, spend DESC'''\n",
    "\n",
    "mcc_country_df = bq.read_bq_table_sql(client, UK_mcc_country)\n",
    "\n",
    "mcc_country_df['year'] = mcc_country_df['time_period_value'].str[:4]\n",
    "\n",
    "mcc_country_df.head()"
   ]
  },
  {
   "cell_type": "code",
   "execution_count": null,
   "id": "199a5492-8cdc-4837-97ad-98a911a4d559",
   "metadata": {
    "tags": []
   },
   "outputs": [],
   "source": [
    "mcc_country_df.to_csv('mcc_country_df.csv')\n",
    "df = pd.read_csv('mcc_country_df.csv')\n",
    "latest_year_mcc_country = df[df['year'] == 2024][['destination_country', 'spend','mcc']]\n",
    "latest_year_mcc_country.to_csv('latest_year_mcc_country.csv', index=False)"
   ]
  },
  {
   "cell_type": "code",
   "execution_count": null,
   "id": "5856db4f-d6a6-406d-8cdc-4186545a7db9",
   "metadata": {
    "tags": []
   },
   "outputs": [],
   "source": [
    "# Aggregate total spend per MCC and country\n",
    "agg_df = latest_year_mcc_country.groupby([\"mcc\", \"destination_country\"], as_index=False)[\"spend\"].sum()\n",
    "\n",
    "# Calculate total spend per MCC\n",
    "total_mcc_spend = agg_df.groupby(\"mcc\")[\"spend\"].sum().reset_index()\n",
    "total_mcc_spend.rename(columns={\"spend\": \"total_mcc_spend\"}, inplace=True)\n",
    "\n",
    "# Merge to get total MCC spend in the aggregated dataframe\n",
    "agg_df = agg_df.merge(total_mcc_spend, on=\"mcc\")\n",
    "\n",
    "# Calculate percentage contribution of each country within each MCC\n",
    "agg_df[\"percentage\"] = agg_df[\"spend\"] / agg_df[\"total_mcc_spend\"] * 100\n",
    "\n",
    "# Identify the top-spending country for each MCC\n",
    "idx = agg_df.groupby(\"mcc\")[\"spend\"].idxmax()\n",
    "top_countries = agg_df.loc[idx]\n",
    "\n",
    "# Create a bar chart\n",
    "fig = px.bar(\n",
    "    top_countries,\n",
    "    x=\"mcc\",\n",
    "    y=\"percentage\",\n",
    "    color=\"destination_country\",\n",
    "    title=\"Top Country Percentage Contribution Within Each MCC\",\n",
    "    labels={\"mcc\": \"Merchant Category Code\", \"percentage\": \"Percentage of Spend (%)\"},\n",
    "    barmode=\"group\"\n",
    ")\n",
    "\n",
    "# Show the chart\n",
    "fig.show()"
   ]
  },
  {
   "cell_type": "code",
   "execution_count": null,
   "id": "604850e9-e216-45cb-8e9f-5dca7bd5c5fc",
   "metadata": {},
   "outputs": [],
   "source": []
  },
  {
   "cell_type": "code",
   "execution_count": null,
   "id": "5063ec63-9e6f-42d7-a61e-aa5d48e1a476",
   "metadata": {},
   "outputs": [],
   "source": []
  }
 ],
 "metadata": {
  "environment": {
   "kernel": "python3",
   "name": "r-cpu.m125",
   "type": "gcloud",
   "uri": "us-docker.pkg.dev/deeplearning-platform-release/gcr.io/r-cpu:m125"
  },
  "language_info": {
   "codemirror_mode": {
    "name": "ipython",
    "version": 3
   },
   "file_extension": ".py",
   "mimetype": "text/x-python",
   "name": "python",
   "nbconvert_exporter": "python",
   "pygments_lexer": "ipython3",
   "version": "3.10.15"
  }
 },
 "nbformat": 4,
 "nbformat_minor": 5
}
