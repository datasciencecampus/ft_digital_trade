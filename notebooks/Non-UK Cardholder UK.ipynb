{
 "cells": [
  {
   "cell_type": "code",
   "execution_count": null,
   "id": "ae51adbc-e97e-4a65-b6e7-cc80d455bbff",
   "metadata": {
    "tags": []
   },
   "outputs": [],
   "source": [
    "project_path = \"/home/jupyter\"\n",
    "import os\n",
    "import sys\n",
    "sys.path.append(project_path)\n",
    "from google.cloud import bigquery, storage\n",
    "\n",
    "import matplotlib.pyplot as plt\n",
    "import numpy as np\n",
    "import pandas as pd\n",
    "import plotly.express as px\n",
    "\n",
    "from fintrans_toolbox.src import bq_utils as bq"
   ]
  },
  {
   "cell_type": "code",
   "execution_count": null,
   "id": "49f2b0dc-351e-4cbe-9c2a-732e23fe6deb",
   "metadata": {
    "tags": []
   },
   "outputs": [],
   "source": [
    "client = bigquery.Client()"
   ]
  },
  {
   "cell_type": "code",
   "execution_count": null,
   "id": "d9340a73-cbde-4352-a7d8-575cc63caf1f",
   "metadata": {
    "tags": []
   },
   "outputs": [],
   "source": [
    "# Summarise the data by country\n",
    "UK_spending_by_country2 = '''SELECT time_period_value, cardholder_origin_country, destination_country, spend \n",
    "FROM `ons-fintrans-data-prod.fintrans_visa.spend_origin_and_channel`\n",
    "WHERE time_period = 'Quarter' \n",
    "  AND mcg = 'All' \n",
    "  AND merchant_channel = 'Online' \n",
    "  AND cardholder_origin = 'International Cardholder'\n",
    "  AND cardholder_origin_country != 'All'\n",
    "  AND destination_country = 'UNITED KINGDOM' \n",
    "GROUP BY destination_country, time_period_value, cardholder_origin_country, spend \n",
    "ORDER BY time_period_value, spend DESC'''\n",
    "df_by_country2 = bq.read_bq_table_sql(client, UK_spending_by_country2)\n",
    "df_by_country2.head()"
   ]
  },
  {
   "cell_type": "code",
   "execution_count": null,
   "id": "637130c1-31fe-4c1d-b4e5-792c78d20d08",
   "metadata": {
    "tags": []
   },
   "outputs": [],
   "source": [
    "import pandas as pd\n",
    "\n",
    "# Assuming df_by_country2 is already loaded with the data from BigQuery\n",
    "# Group by time_period_value to sum the spend per quarter (this will be the Spend_Total)\n",
    "df_by_country2['Spend_Total'] = df_by_country2.groupby('time_period_value')['spend'].transform('sum')\n",
    "\n",
    "# Now df_by_country2 will have the original columns and the added Spend_Total for each row\n",
    "df_by_country2.head()"
   ]
  },
  {
   "cell_type": "code",
   "execution_count": null,
   "id": "fdeed1d8-0cb7-4253-b3cd-9798e4eb310c",
   "metadata": {
    "tags": []
   },
   "outputs": [],
   "source": [
    "import pandas as pd\n",
    "\n",
    "# Assuming df_by_country2 is already loaded with the data from BigQuery\n",
    "# Group by time_period_value and sum the spend\n",
    "quarterly_spending = df_by_country2.groupby('time_period_value')['spend'].sum().reset_index()\n",
    "\n",
    "# Rename the 'spend' column to 'Spend_Total'\n",
    "quarterly_spending.rename(columns={'spend': 'Spend_Total'}, inplace=True)\n",
    "\n",
    "# Display the result\n",
    "print(quarterly_spending)"
   ]
  },
  {
   "cell_type": "code",
   "execution_count": null,
   "id": "e9a46161-339b-4b9c-832a-b1722608febb",
   "metadata": {
    "tags": []
   },
   "outputs": [],
   "source": [
    "# Save the DataFrame to a CSV file\n",
    "quarterly_spending.to_csv('quarterly_spending_intlcard.csv', index=False)\n",
    "\n",
    "# Display a message confirming that the file has been saved\n",
    "print(\"CSV file has been saved as 'quarterly_spending_intlcard.csv'\")"
   ]
  },
  {
   "cell_type": "code",
   "execution_count": null,
   "id": "a8d00996-ae67-4b24-abd2-c2b44ce95a5c",
   "metadata": {
    "tags": []
   },
   "outputs": [],
   "source": [
    "df_by_country2.to_csv('UK_Spending_By_Country2.csv')"
   ]
  },
  {
   "cell_type": "code",
   "execution_count": null,
   "id": "d88203ef-295a-41a2-bacb-dfa7db861110",
   "metadata": {
    "tags": []
   },
   "outputs": [],
   "source": [
    "# Assign value and percentage change variables\n",
    "df_by_country2 = df_by_country2.sort_values(['destination_country','time_period_value'])\n",
    "df_by_country2['pct_change'] = df_by_country2.groupby(['destination_country']).spend.pct_change()\n",
    "df_by_country2['value_change'] = df_by_country2.groupby(['destination_country']).spend.diff()\n"
   ]
  },
  {
   "cell_type": "code",
   "execution_count": null,
   "id": "94ec5606-5ba3-4d67-acc6-5d3aab5b690f",
   "metadata": {
    "tags": []
   },
   "outputs": [],
   "source": [
    "# Plot stacked bar chart with all values\n",
    "df_by_country2[['time_period_value','destination_country','spend']].groupby(['time_period_value','destination_country']).sum().unstack().plot(kind = 'bar', stacked = 'True')"
   ]
  },
  {
   "cell_type": "code",
   "execution_count": null,
   "id": "785b90c8-fbc6-48e1-a786-2207d7fb9c01",
   "metadata": {
    "tags": []
   },
   "outputs": [],
   "source": [
    "# Plot line chart using plotly express for all countries\n",
    "pfig2 = px.line(\n",
    "        df_by_country2,\n",
    "        x=\"time_period_value\",\n",
    "        y=\"Spend_Total\",\n",
    "        color=\"destination_country\")\n",
    "pfig2"
   ]
  },
  {
   "cell_type": "code",
   "execution_count": null,
   "id": "00712678-7d7a-4262-a488-924837727a9f",
   "metadata": {
    "tags": []
   },
   "outputs": [],
   "source": [
    "# Summarise the data by country\n",
    "UK_spending_by_country2 = '''SELECT time_period_value, cardholder_origin_country, destination_country, spend \n",
    "FROM `ons-fintrans-data-prod.fintrans_visa.spend_origin_and_channel`\n",
    "WHERE time_period = 'Quarter' \n",
    "  AND mcg = 'All' \n",
    "  AND merchant_channel = 'Online' \n",
    "  AND cardholder_origin = 'International Cardholder'\n",
    "  AND cardholder_origin_country != 'All'\n",
    "  AND destination_country = 'UNITED KINGDOM' \n",
    "GROUP BY destination_country, time_period_value, cardholder_origin_country, spend \n",
    "ORDER BY time_period_value, spend DESC\n",
    "LIMIT 5'''\n",
    "df_by_country2 = bq.read_bq_table_sql(client, UK_spending_by_country2)\n",
    "df_by_country2.head()"
   ]
  },
  {
   "cell_type": "code",
   "execution_count": null,
   "id": "44e5713f-2eb5-4436-aa35-4a603fcc9967",
   "metadata": {
    "tags": []
   },
   "outputs": [],
   "source": [
    "# Summarise the data by country\n",
    "UK_spending_by_country2 = '''SELECT time_period_value, cardholder_origin_country, destination_country, spend \n",
    "FROM `ons-fintrans-data-prod.fintrans_visa.spend_origin_and_channel`\n",
    "WHERE time_period = 'Quarter' \n",
    "  AND mcg = 'All' \n",
    "  AND merchant_channel = 'Online' \n",
    "  AND cardholder_origin = 'International Cardholder'\n",
    "  AND cardholder_origin_country != 'All'\n",
    "  AND destination_country = 'UNITED KINGDOM' \n",
    "GROUP BY destination_country, time_period_value, cardholder_origin_country, spend \n",
    "ORDER BY time_period_value, spend DESC\n",
    "'''\n",
    "df_by_country2 = bq.read_bq_table_sql(client, UK_spending_by_country2)\n",
    "df_by_country2.head()"
   ]
  },
  {
   "cell_type": "code",
   "execution_count": null,
   "id": "41d372c6-e660-4616-9c79-17b2b9e0ddea",
   "metadata": {
    "tags": []
   },
   "outputs": [],
   "source": [
    "# Assuming df_by_country2 contains the query result\n",
    "df_top_5_countries = df_by_country2[['cardholder_origin_country', 'spend']].sort_values(by='spend', ascending=False).head(5)\n",
    "df_top_5_countries"
   ]
  },
  {
   "cell_type": "code",
   "execution_count": null,
   "id": "2cc70390-5280-45b2-b169-3d53227618f3",
   "metadata": {
    "tags": []
   },
   "outputs": [],
   "source": [
    "UK_spending_by_country2 = '''\n",
    "WITH ranked_spend AS (\n",
    "    SELECT \n",
    "        time_period_value, \n",
    "        cardholder_origin_country, \n",
    "        SUM(spend) AS total_spend,\n",
    "        ROW_NUMBER() OVER (PARTITION BY time_period_value ORDER BY SUM(spend) DESC) AS rank\n",
    "    FROM `ons-fintrans-data-prod.fintrans_visa.spend_origin_and_channel`\n",
    "    WHERE time_period = 'Quarter' \n",
    "      AND mcg = 'All' \n",
    "      AND merchant_channel = 'Online' \n",
    "      AND cardholder_origin = 'International Cardholder'\n",
    "      AND cardholder_origin_country != 'All'\n",
    "      AND destination_country = 'UNITED KINGDOM'\n",
    "    GROUP BY time_period_value, cardholder_origin_country\n",
    ")\n",
    "SELECT \n",
    "    time_period_value,\n",
    "    cardholder_origin_country,\n",
    "    total_spend\n",
    "FROM ranked_spend\n",
    "WHERE rank <= 5\n",
    "ORDER BY time_period_value, rank\n",
    "'''\n",
    "# Execute the query and fetch the results into a pandas DataFrame\n",
    "df_by_country2 = client.query(UK_spending_by_country2).to_dataframe()\n",
    "\n",
    "# Display the first few rows of the DataFrame\n",
    "df_by_country2.head()"
   ]
  },
  {
   "cell_type": "code",
   "execution_count": null,
   "id": "cdc9f66f-fd68-49ba-b683-b617aca4318d",
   "metadata": {
    "tags": []
   },
   "outputs": [],
   "source": [
    "import plotly.express as px\n",
    "\n",
    "# Create a bar chart to show spend over time for each destination country\n",
    "bar_chart = px.bar(\n",
    "    df_by_country2,\n",
    "    x=\"time_period_value\",  # Time period on the x-axis\n",
    "    y=\"spend\",               # Spend value on the y-axis\n",
    "    color=\"destination_country\",  # Color bars by destination country\n",
    "    title=\"Spending by Destination Country Over Time\",\n",
    "    labels={\"time_period_value\": \"Time Period\", \"spend\": \"Spend\"},\n",
    "    barmode=\"group\"  # Group bars by destination_country\n",
    ")\n",
    "\n",
    "# Show the bar chart\n",
    "bar_chart.show()"
   ]
  },
  {
   "cell_type": "code",
   "execution_count": null,
   "id": "5a0d9015-d6a9-4b03-a12d-41ff61cfb69a",
   "metadata": {
    "tags": []
   },
   "outputs": [],
   "source": [
    "import matplotlib.pyplot as plt\n",
    "import pandas as pd\n",
    "\n",
    "# Grouping the data for the plot and saving the result to a CSV file\n",
    "grouped_data = df_by_country2[['time_period_value', 'destination_country', 'spend']].groupby(['time_period_value', 'destination_country']).sum().unstack()\n",
    "\n",
    "# Save the aggregated data to a CSV file\n",
    "csv_filename = '/home/jupyter/uk_spending_by_country.csv'\n",
    "grouped_data.to_csv(csv_filename)\n",
    "\n",
    "# Now plot the stacked bar chart\n",
    "plt.figure(figsize=(12, 8))\n",
    "grouped_data.plot(kind='bar', stacked=True, figsize=(12, 8))\n",
    "\n",
    "# Adding labels and title\n",
    "plt.title('UK Spending by Country (Online - All Cards)', fontsize=16)\n",
    "plt.xlabel('Time Period', fontsize=12)\n",
    "plt.ylabel('Spending', fontsize=12)\n",
    "plt.legend(title='Destination Country', bbox_to_anchor=(1.05, 1), loc='upper left')\n",
    "\n",
    "# Saving the plot as a PNG image\n",
    "png_filename = '/home/jupyter/uk_spending_by_country.png'\n",
    "plt.tight_layout()  # Ensures that everything fits well\n",
    "plt.savefig(png_filename)\n",
    "\n",
    "# Show the plot (optional)\n",
    "plt.show()\n",
    "\n",
    "# Return file paths for reference\n",
    "csv_filename, png_filename"
   ]
  },
  {
   "cell_type": "code",
   "execution_count": null,
   "id": "a26819ab-6e1a-4b6c-beb0-610730c69c4b",
   "metadata": {
    "tags": []
   },
   "outputs": [],
   "source": [
    "import pandas as pd\n",
    "import plotly.express as px\n",
    "\n",
    "# Aggregate the data by time_period_value, summing the 'spend' for each period\n",
    "df_aggregated = df_by_country2.groupby(\"time_period_value\", as_index=False)[\"spend\"].sum()\n",
    "\n",
    "# Create a simple line chart with the aggregated data\n",
    "pfig2 = px.line(\n",
    "    df_aggregated,\n",
    "    x=\"time_period_value\",\n",
    "    y=\"spend\",\n",
    "    title=\"Total Spend Over Time (Aggregated)\",\n",
    "    labels={\"time_period_value\": \"Time Period\", \"spend\": \"Total Spend\"}\n",
    ")\n",
    "\n",
    "# Show the plot\n",
    "pfig2.show()"
   ]
  },
  {
   "cell_type": "code",
   "execution_count": null,
   "id": "04723b20-8829-480d-8d83-1e181f975c52",
   "metadata": {
    "tags": []
   },
   "outputs": [],
   "source": [
    "import pandas as pd\n",
    "import plotly.express as px\n",
    "\n",
    "# Aggregate the data by time_period_value, summing the 'spend' for each period\n",
    "df_aggregated = df_by_country2.groupby(\"time_period_value\", as_index=False)[\"spend\"].sum()\n",
    "\n",
    "# Create a simple line chart with the aggregated data\n",
    "pfig2 = px.line(\n",
    "    df_aggregated,\n",
    "    x=\"time_period_value\",\n",
    "    y=\"spend\",\n",
    "    title=\"Total Spend Over Time (Aggregated)\",\n",
    "    labels={\"time_period_value\": \"Time Period\", \"spend\": \"Total Spend\"}\n",
    ")\n",
    "\n",
    "# Update the x-axis to rotate the time period labels vertically\n",
    "pfig2.update_layout(\n",
    "    xaxis=dict(\n",
    "        tickangle=90  # Rotate the x-axis labels to vertical (90 degrees)\n",
    "    )\n",
    ")\n",
    "\n",
    "# Show the plot\n",
    "pfig2.show()"
   ]
  },
  {
   "cell_type": "code",
   "execution_count": null,
   "id": "9564466f-c5ac-491b-9534-3f52b39dd5c8",
   "metadata": {
    "tags": []
   },
   "outputs": [],
   "source": [
    "import pandas as pd\n",
    "import plotly.express as px\n",
    "\n",
    "# Aggregate the data by time_period_value, summing the 'spend' for each period\n",
    "df_aggregated = df_by_country2.groupby(\"time_period_value\", as_index=False)[\"spend\"].sum()\n",
    "\n",
    "# Create a simple line chart with the aggregated data\n",
    "pfig2 = px.line(\n",
    "    df_aggregated,\n",
    "    x=\"time_period_value\",\n",
    "    y=\"spend\",\n",
    "    title=\"Total Spend Over Time (Aggregated)\",\n",
    "    labels={\"time_period_value\": \"Time Period\", \"spend\": \"Total Spend\"}\n",
    ")\n",
    "\n",
    "# Update the x-axis to rotate the time period labels vertically facing left\n",
    "pfig2.update_layout(\n",
    "    xaxis=dict(\n",
    "        tickangle=-90  # Rotate the x-axis labels to vertical, facing the left\n",
    "    )\n",
    ")\n",
    "\n",
    "# Show the plot\n",
    "pfig2.show()"
   ]
  },
  {
   "cell_type": "code",
   "execution_count": null,
   "id": "9e6afec7-84c3-48de-925f-ab2b1c6a3528",
   "metadata": {
    "tags": []
   },
   "outputs": [],
   "source": [
    "import pandas as pd\n",
    "import plotly.express as px\n",
    "\n",
    "# Aggregate the data by time_period_value, summing the 'spend' for each period\n",
    "df_aggregated = df_by_country2.groupby(\"time_period_value\", as_index=False)[\"spend\"].sum()\n",
    "\n",
    "# Create a simple line chart with the aggregated data\n",
    "pfig2 = px.line(\n",
    "    df_aggregated,\n",
    "    x=\"time_period_value\",\n",
    "    y=\"spend\",\n",
    "    title=\"Total Spend Over Time (Aggregated)\",\n",
    "    labels={\"time_period_value\": \"Time Period\", \"spend\": \"Total Spend\"}\n",
    ")\n",
    "\n",
    "# Update the layout to fix vertical labels and adjust the figure's height\n",
    "pfig2.update_layout(\n",
    "    xaxis=dict(\n",
    "        tickangle=-90  # Rotate the x-axis labels to vertical, facing left\n",
    "    ),\n",
    "    height=500,  # Adjust the height to make the plot more reasonable\n",
    "    title=\"Total Spend Over Time (Aggregated)\"\n",
    ")\n",
    "\n",
    "# Show the plot\n",
    "pfig2.show()"
   ]
  },
  {
   "cell_type": "code",
   "execution_count": null,
   "id": "b7a4303e-98d2-4a73-9e3e-0220c88eccf2",
   "metadata": {
    "tags": []
   },
   "outputs": [],
   "source": [
    "pfig2.update_layout(\n",
    "    xaxis=dict(\n",
    "        tickangle=-90\n",
    "    ),\n",
    "    height=500,\n",
    "    margin={\"t\": 40, \"b\": 100, \"l\": 40, \"r\": 40}  # Adjust margins if necessary\n",
    ")"
   ]
  },
  {
   "cell_type": "code",
   "execution_count": null,
   "id": "ff83730b-b855-4f72-9ca8-c2a6a3f28c49",
   "metadata": {},
   "outputs": [],
   "source": []
  },
  {
   "cell_type": "code",
   "execution_count": null,
   "id": "42b47e4c-ec14-489a-910a-16c8485913e5",
   "metadata": {},
   "outputs": [],
   "source": []
  }
 ],
 "metadata": {
  "environment": {
   "kernel": "python3",
   "name": "r-cpu.m125",
   "type": "gcloud",
   "uri": "us-docker.pkg.dev/deeplearning-platform-release/gcr.io/r-cpu:m125"
  },
  "language_info": {
   "codemirror_mode": {
    "name": "ipython",
    "version": 3
   },
   "file_extension": ".py",
   "mimetype": "text/x-python",
   "name": "python",
   "nbconvert_exporter": "python",
   "pygments_lexer": "ipython3",
   "version": "3.10.15"
  }
 },
 "nbformat": 4,
 "nbformat_minor": 5
}
