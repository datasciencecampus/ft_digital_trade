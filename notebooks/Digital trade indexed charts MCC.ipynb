{
 "cells": [
  {
   "cell_type": "code",
   "execution_count": null,
   "id": "c27ad738-c45b-4adc-a31d-3d730d589407",
   "metadata": {
    "tags": []
   },
   "outputs": [],
   "source": [
    "project_path = \"/home/jupyter\"\n",
    "import os\n",
    "import sys\n",
    "\n",
    "sys.path.append(project_path)\n",
    "import numpy as np\n",
    "import pandas as pd\n",
    "import matplotlib.pyplot as plt\n",
    "import re\n",
    "from google.cloud import bigquery\n",
    "\n",
    "from fintrans_toolbox.src import bq_utils as bq\n",
    "from fintrans_toolbox.src import table_utils as t\n",
    "\n",
    "\n",
    "client = bigquery.Client()"
   ]
  },
  {
   "cell_type": "code",
   "execution_count": null,
   "id": "fac7eb5d-1d1d-4d09-8b86-8498ade9154d",
   "metadata": {
    "tags": []
   },
   "outputs": [],
   "source": [
    "# Summarise the data by mcg\n",
    "UK_spending_by_country = '''SELECT time_period_value, mcg, spend\n",
    "FROM `ons-fintrans-data-prod.fintrans_visa.spend_origin_and_channel` \n",
    "where time_period = 'Quarter'\n",
    "and time_period_value != '2025Q1'  \n",
    "and cardholder_origin_country = 'All' \n",
    "and cardholder_origin = 'UNITED KINGDOM' \n",
    "and merchant_channel = 'Online'\n",
    "and mcg != 'All'\n",
    "and mcg != 'BUSINESS TO BUSINESS'\n",
    "GROUP BY mcg, time_period_value, spend\n",
    "ORDER BY time_period_value, spend DESC'''\n",
    "\n",
    "df_by_mcg = bq.read_bq_table_sql(client, UK_spending_by_country)\n",
    "\n",
    "df_by_mcg['year'] = df_by_mcg['time_period_value'].str[:4]\n",
    "\n",
    "df_by_mcg.head()\n"
   ]
  },
  {
   "cell_type": "code",
   "execution_count": null,
   "id": "aad92df6-6f50-4273-8bc1-19817dc9e006",
   "metadata": {
    "tags": []
   },
   "outputs": [],
   "source": [
    "df_by_mcg.to_csv('mcg_online_abroad.csv')"
   ]
  },
  {
   "cell_type": "code",
   "execution_count": null,
   "id": "1374db56-ab05-42f3-863f-b028fc0053cd",
   "metadata": {},
   "outputs": [],
   "source": [
    "yearly_mcg_df = df_by_mcg.groupby(['year', 'mcg'])['spend'].sum().reset_index()"
   ]
  },
  {
   "cell_type": "code",
   "execution_count": null,
   "id": "8fff9709-ef06-4278-8beb-73f384c6ccd2",
   "metadata": {
    "tags": []
   },
   "outputs": [],
   "source": [
    "yearly_mcg_df.to_csv('yearly_mcg_df.csv')\n",
    "df = pd.read_csv('yearly_mcg_df.csv')\n",
    "filtered_df = df[df['year'] == 2024][['mcg', 'spend']]\n",
    "filtered_df.to_csv('filtered_yearly_mcg_2024.csv', index=False)\n"
   ]
  },
  {
   "cell_type": "code",
   "execution_count": null,
   "id": "568d9c61-bbc4-4576-8639-82bb2da9e01f",
   "metadata": {
    "tags": []
   },
   "outputs": [],
   "source": [
    "pivot_df = yearly_mcg_df.pivot(index='year', columns='mcg', values='spend')\n",
    "\n",
    "# Calculate index (2019 = 100)\n",
    "base_year = '2019'\n",
    "indexed_df = pivot_df.apply(lambda x: (x / x[base_year]) * 100)\n",
    "\n",
    "# Plot the indexed spend values\n",
    "pivot_df.plot(kind='line', marker='o')\n",
    "plt.title('Rest of Europe Yearly Spend')\n",
    "plt.xlabel('Year')\n",
    "plt.ylabel('Spend')\n",
    "plt.legend(title='mcg')\n",
    "plt.grid(True)\n",
    "plt.show()\n"
   ]
  },
  {
   "cell_type": "code",
   "execution_count": null,
   "id": "7cacb778-329a-400a-951d-689e0d39ab02",
   "metadata": {},
   "outputs": [],
   "source": [
    "# Group by 'mcg' and sum the 'spend'\n",
    "total_spend_per_mcg = filtered_df.groupby('mcg')['spend'].sum()\n",
    "\n",
    "# Get the top 10 'mcg' categories by spend\n",
    "top_10_mcg = total_spend_per_mcg.nlargest(10)\n",
    "\n",
    "# Check if the result is not empty\n",
    "if not top_10_mcg.empty:\n",
    "    # Calculate the percentage of total spend for these top 10\n",
    "    top_10_mcg_percentage = (top_10_mcg / top_10_mcg.sum()) * 100\n",
    "\n",
    "    # Plot the bar chart\n",
    "    ax = top_10_mcg_percentage.plot(kind='bar', color='skyblue')\n",
    "\n",
    "    # Customize the plot\n",
    "    plt.ylabel('Percentage of Total Spend')\n",
    "    plt.title('Top 10 MCGs by percentage of total spend, 2024')\n",
    "    plt.xticks(rotation=45, ha='right')\n",
    "    plt.tight_layout()\n",
    "    plt.show()\n",
    "else:\n",
    "    print(\"No data available to plot.\")\n"
   ]
  },
  {
   "cell_type": "code",
   "execution_count": null,
   "id": "74b11ccb-c3c3-466f-8a69-f32388ee9fd6",
   "metadata": {},
   "outputs": [],
   "source": []
  },
  {
   "cell_type": "code",
   "execution_count": null,
   "id": "c370237a-8182-4241-bb51-5be9b5e9f9eb",
   "metadata": {},
   "outputs": [],
   "source": []
  },
  {
   "cell_type": "code",
   "execution_count": null,
   "id": "34a505b4-99d7-4659-8166-ae2010f73fbf",
   "metadata": {},
   "outputs": [],
   "source": []
  },
  {
   "cell_type": "code",
   "execution_count": null,
   "id": "686ab7db-c007-4ded-bff6-fbd6c140daab",
   "metadata": {},
   "outputs": [],
   "source": []
  }
 ],
 "metadata": {
  "environment": {
   "kernel": "python3",
   "name": "r-cpu.m125",
   "type": "gcloud",
   "uri": "us-docker.pkg.dev/deeplearning-platform-release/gcr.io/r-cpu:m125"
  },
  "language_info": {
   "codemirror_mode": {
    "name": "ipython",
    "version": 3
   },
   "file_extension": ".py",
   "mimetype": "text/x-python",
   "name": "python",
   "nbconvert_exporter": "python",
   "pygments_lexer": "ipython3",
   "version": "3.10.15"
  },
  "toc-showcode": true,
  "toc-showmarkdowntxt": true
 },
 "nbformat": 4,
 "nbformat_minor": 5
}
