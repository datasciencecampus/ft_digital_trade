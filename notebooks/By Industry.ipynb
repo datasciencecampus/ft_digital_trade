{
 "cells": [
  {
   "cell_type": "code",
   "execution_count": null,
   "id": "ce9d8476-a134-4bae-a6de-291a7d646017",
   "metadata": {
    "tags": []
   },
   "outputs": [],
   "source": [
    "project_path = \"/home/jupyter\"\n",
    "import os\n",
    "import sys\n",
    "\n",
    "sys.path.append(project_path)\n",
    "import numpy as np\n",
    "import pandas as pd\n",
    "import matplotlib.pyplot as plt\n",
    "import re\n",
    "import plotly.express as px\n",
    "from datetime import datetime\n",
    "from google.cloud import bigquery\n",
    "\n",
    "from fintrans_toolbox.src import bq_utils as bq\n",
    "from fintrans_toolbox.src import table_utils as t\n",
    "\n",
    "client = bigquery.Client()"
   ]
  },
  {
   "cell_type": "code",
   "execution_count": null,
   "id": "bdcfd820-9588-41f7-a317-8f7f6dc9a139",
   "metadata": {
    "tags": []
   },
   "outputs": [],
   "source": [
    "mapper = pd.read_csv('/home/jupyter/ft_digital_trade/data/raw/MCC to SIC.csv')\n",
    "mapper = mapper.drop('SIC Description', axis=1)\n",
    "mapper = mapper.drop('2-digit Match Confidence\\n (1 exact, 0 partial match, ? requires further research/no match)', axis=1)\n",
    "mapper"
   ]
  },
  {
   "cell_type": "code",
   "execution_count": null,
   "id": "f9cb3326-84dc-438d-8663-2759ea16fe03",
   "metadata": {
    "tags": []
   },
   "outputs": [],
   "source": [
    "mcc = mapper.drop('mcg', axis=1)\n",
    "mcc = mcc.drop('VISA Merchant Guide Code', axis=1)\n",
    "mcc = mcc.drop('Goods/ Services', axis=1)\n",
    "mcc = mcc.drop('SIC Section', axis=1)"
   ]
  },
  {
   "cell_type": "code",
   "execution_count": null,
   "id": "45868035-187a-4032-a481-b0b7eb880bc0",
   "metadata": {
    "tags": []
   },
   "outputs": [],
   "source": [
    "#Abroad spend by MCC except all (gives different total spend to previous estimates?)\n",
    "spend_by_mcc = '''SELECT time_period_value, mcc, sum(spend) as total_spend\n",
    "FROM `ons-fintrans-data-prod.fintrans_visa.spend_origin_and_channel`\n",
    "WHERE time_period = 'Quarter' \n",
    "  AND mcc != 'All'\n",
    "  AND merchant_channel = 'All'\n",
    "  AND cardholder_origin = 'UNITED KINGDOM'\n",
    "  AND destination_country != 'UNITED KINGDOM'\n",
    "  AND cardholder_origin_country = 'All' \n",
    "GROUP BY time_period_value, mcc\n",
    "ORDER BY time_period_value ASC'''\n",
    "spend_by_mcc = bq.read_bq_table_sql(client, spend_by_mcc)\n",
    "spend_by_mcc['Year'] = spend_by_mcc['time_period_value'].str[:4]\n",
    "spend_by_mcc['Year'] =pd.to_numeric(spend_by_mcc['Year'], errors='coerce')\n",
    "spend_by_mcc['mcc'] =spend_by_mcc['mcc'].str.strip()\n",
    "#spend_by_mcc\n",
    "\n",
    "#Online + abroad spend by MCC except all (to get % of each industry spend online)\n",
    "online_spend_by_mcc = '''SELECT time_period_value, mcc, sum(spend) as total_spend\n",
    "FROM `ons-fintrans-data-prod.fintrans_visa.spend_origin_and_channel`\n",
    "WHERE time_period = 'Quarter' \n",
    "  AND mcc != 'All'\n",
    "  AND merchant_channel = 'Online'\n",
    "  AND cardholder_origin = 'UNITED KINGDOM'\n",
    "  AND destination_country != 'UNITED KINGDOM'\n",
    "  AND cardholder_origin_country = 'All' \n",
    "GROUP BY time_period_value, mcc\n",
    "ORDER BY time_period_value ASC'''\n",
    "online_spend_by_mcc = bq.read_bq_table_sql(client, online_spend_by_mcc)\n",
    "online_spend_by_mcc['Year'] = online_spend_by_mcc['time_period_value'].str[:4]\n",
    "online_spend_by_mcc['Year'] =pd.to_numeric(online_spend_by_mcc['Year'], errors='coerce')\n",
    "online_spend_by_mcc['mcc'] =online_spend_by_mcc['mcc'].str.strip()\n",
    "online_spend_by_mcc"
   ]
  },
  {
   "cell_type": "code",
   "execution_count": null,
   "id": "7801971a-bf6d-4dab-bdbc-4522106b908c",
   "metadata": {
    "tags": []
   },
   "outputs": [],
   "source": [
    "abroad_yearly_totals = (\n",
    "    spend_by_mcc.groupby(['mcc', 'Year'], as_index=False)['total_spend']\n",
    "    .sum()\n",
    "    .rename(columns={'total_spend': 'yearly_abroad_spend'})\n",
    ")\n",
    "#abroad_yearly_totals = spend_by_mcc.drop(columns=['time_period_value'], errors='ignore')\n",
    "abroad_yearly_totals"
    "\n",
    "online_abroad_yearly_totals = (\n",
    "    online_spend_by_mcc.groupby(['mcc', 'Year'], as_index=False)['total_spend']\n",
    "    .sum()\n",
    "    .rename(columns={'total_spend': 'yearly_abroad_spend_online'})\n",
    ")\n",
    "#online_abroad_yearly_totals = spend_by_mcc.drop(columns=['time_period_value'], errors='ignore')\n",
    "online_abroad_yearly_totals"
   ]
  },
  {
   "cell_type": "code",
   "execution_count": null,
   "id": "64fb8040-d92f-47e7-b1d8-4c364431076e",
   "metadata": {
    "tags": []
   },
   "outputs": [],
   "source": [
    "by_industry = pd.merge(abroad_yearly_totals, mcc, on='mcc', how='outer')\n",
    "by_industry = pd.merge(online_abroad_yearly_totals, mcc, on='mcc', how='outer')\n",
    "by_industry = by_industry.rename(columns={'2-digit SIC 2007': 'SIC'})\n",
    "by_industry['SIC']"
   ]
  },
  {
   "cell_type": "code",
   "execution_count": null,
   "id": "dd6aad21-91ab-4bf9-b61c-75825e930bb2",
   "metadata": {
    "tags": []
   },
   "outputs": [],
   "source": [
    "#by_industry.to_csv('by_industry.csv')"
   ]
  },
  {
   "cell_type": "code",
   "execution_count": null,
   "id": "1b4dab49-1b46-42e5-9093-812160656cd4",
   "metadata": {
    "tags": []
   },
   "outputs": [],
   "source": [
    "yearly_ind_totals = (\n",
    "    by_industry.groupby(['SIC', 'Year'], as_index=False)['yearly_abroad_spend']\n",
    "    .sum()\n",
    "    .rename(columns={'yearly_abroad_spend': 'yearly_ind_spend_abroad'})\n",
    ")\n",
    "yearly_ind_totals = (\n",
    "    by_industry.groupby(['SIC', 'Year'], as_index=False)['yearly_abroad_spend_online']\n",
    "    .sum()\n",
    "    .rename(columns={'yearly_abroad_spend_online': 'yearly_ind_spend_abroad_online'})\n",
    ")\n",
    "yearly_ind_totals"
   ]
  },
  {
   "cell_type": "code",
   "execution_count": null,
   "id": "c317351e-e69b-43f5-834f-d1be55582663",
   "metadata": {
    "tags": []
   },
   "outputs": [],
   "source": [
    "#Testing all industries add up to total for Visa data - they don't\n",
    "total_2019 = yearly_ind_totals.loc[yearly_ind_totals['Year'] == 2019, 'yearly_ind_spend_abroad'].sum()\n",
    "total_2019"
   ]
  },
  {
   "cell_type": "code",
   "execution_count": null,
   "id": "1b5a7310-0a63-48aa-bc52-23dae38efb64",
   "metadata": {
    "tags": []
   },
   "outputs": [],
   "source": [
    "#yearly_ind_totals.to_csv('totals_by_ind.csv')"
   ]
  },
  {
   "cell_type": "code",
   "execution_count": null,
   "id": "416a7579-3b82-4521-b22b-b1b5ec9636f2",
   "metadata": {
    "tags": []
   },
   "outputs": [],
   "source": [
    "ind_totals = pd.read_csv('/home/jupyter/ft_digital_trade/data/raw/16-22 ind totals.csv')\n",
    "ind_totals = ind_totals.drop('2016', axis=1)\n",
    "ind_totals = ind_totals.drop('2017', axis=1)\n",
    "ind_totals = ind_totals.drop('2018', axis=1)\n",
    "ind_totals = ind_totals.rename(columns={'2-digit SIC 2007': 'SIC'})\n",
    "ind_totals"
   ]
  },
  {
   "cell_type": "code",
   "execution_count": null,
   "id": "981c1679-16ee-4b95-b256-be7d63095a37",
   "metadata": {
    "tags": []
   },
   "outputs": [],
   "source": [
    "#ind_totals = ind_totals.transpose()\n",
    "long_format = pd.melt(\n",
    "    ind_totals,\n",
    "    id_vars = ['SIC'],\n",
    "    var_name = 'Year',\n",
    "    value_name = 'published_yearly_total_spend'\n",
    ")\n",
    "num_inds = pd.to_numeric(long_format[\"SIC\"], errors='coerce')\n",
    "num_inds = num_inds.dropna()\n",
    "num_inds\n",
    "long_format['SIC'] = num_inds\n",
    "long_format = long_format.dropna()\n",
    "long_format['Year'] = pd.to_numeric(long_format['Year'])\n",
    "long_format['Year']"
   ]
  },
  {
   "cell_type": "code",
   "execution_count": null,
   "id": "5d44b072-6cdb-4233-9c92-a2a7f751b915",
   "metadata": {
    "tags": []
   },
   "outputs": [],
   "source": [
    "published_by_ind = long_format.sort_values(by=['SIC', 'Year']).reset_index(drop=True)\n",
    "published_by_ind = published_by_ind.dropna()\n",
    "published_by_ind"
   ]
  },
  {
   "cell_type": "code",
   "execution_count": null,
   "id": "dd12dbab-018a-4266-90f3-c2bb9653ffb0",
   "metadata": {
    "tags": []
   },
   "outputs": [],
   "source": [
    "#published_by_ind.to_csv('cleaned_published_ind_totals.csv')"
   ]
  },
  {
   "cell_type": "code",
   "execution_count": null,
   "id": "07e030b7-876c-4908-9010-f18293da201a",
   "metadata": {
    "tags": []
   },
   "outputs": [],
   "source": [
    "visa_vs_published = pd.merge(yearly_ind_totals, published_by_ind, on=['SIC', 'Year'])\n",
    "visa_vs_published"
   ]
  },
  {
   "cell_type": "code",
   "execution_count": null,
   "id": "766f7bf3-aeb4-4a47-bc48-244dffe39da0",
   "metadata": {
    "tags": []
   },
   "outputs": [],
   "source": [
    "visa_vs_published['Visa_Ratio_of_Total_Ind %'] = (visa_vs_published['yearly_ind_spend'] / visa_vs_published['published_yearly_total_spend']) * 100\n",
    "visa_vs_published"
   ]
  },
  {
   "cell_type": "code",
   "execution_count": null,
   "id": "98d5e18a-55dc-44a2-9244-c4c3de00d2f5",
   "metadata": {
    "tags": []
   },
   "outputs": [],
   "source": [
    "#visa_vs_published.to_csv('visa_vs_published.csv')"
   ]
  },
  {
   "cell_type": "code",
   "execution_count": null,
   "id": "89b39c7d-911e-473b-9541-85966aa86359",
   "metadata": {
    "tags": []
   },
   "outputs": [],
   "source": [
    "reformated_vvp = visa_vs_published.pivot(index='SIC', columns='Year', values='Visa_Ratio_of_Total_Ind %')\n",
    "reformated_vvp"
   ]
  },
  {
   "cell_type": "code",
   "execution_count": null,
   "id": "6abad6b1-c6c5-4adf-a7e5-a27aa598f8d1",
   "metadata": {
    "tags": []
   },
   "outputs": [],
   "source": [
    "#reformated_vvp.to_csv('reformated_vvp.csv')"
   ]
  },
  {
   "cell_type": "code",
   "execution_count": null,
   "id": "a7b26fca-68ca-4d1b-8c16-659c57b7e12f",
   "metadata": {},
   "outputs": [],
   "source": [
    "#testing"
   ]
  },
  {
   "cell_type": "code",
   "execution_count": null,
   "id": "a4beb3d5-6386-449d-99b8-bca1878f37ec",
   "metadata": {
    "tags": []
   },
   "outputs": [],
   "source": [
    "data = {\n",
    "    'quarter': ['2019Q1', '2019Q2', '2019Q3', '2019Q4', '2020Q1', '2020Q2', '2020Q3', '2020Q4'],\n",
    "    'year': ['2019', '2019', '2019', '2019', '2020', '2020', '2020', '2020'],\n",
    "    'mcc': ['A', 'A', 'B', 'B', 'A', 'A', 'B', 'B'],\n",
    "    'ind': [69, 69, 73, 73, 69, 69, 73, 73],\n",
    "    'total_spend': [100, 150, 200, 250, 300, 350, 400, 450]\n",
    "}\n",
    "df = pd.DataFrame(data)\n",
    "\n",
    "df['year'] =pd.to_numeric(df['year'], errors='coerce')\n",
    "df['mcc'] =df['mcc'].str.strip()\n",
    "\n",
    "yearly_totals = (\n",
    "    df.groupby(['year', 'mcc'], as_index=False)['total_spend']\n",
    "    .sum()\n",
    "    .rename(columns={'total_spend': 'yearly_spend'})\n",
    ")\n",
    "\n",
    "yearly_ind_totals = (\n",
    "    df.groupby(['year', 'ind'], as_index=False)['total_spend']\n",
    "    .sum()\n",
    "    .rename(columns={'total_spend': 'yearly_ind_spend'})\n",
    ")\n",
    "\n",
    "yearly_ind_totals\n",
    "                             "
   ]
  },
  {
   "cell_type": "code",
   "execution_count": null,
   "id": "d157853a-314b-498a-87cd-f2363e19d8fd",
   "metadata": {},
   "outputs": [],
   "source": []
  }
 ],
 "metadata": {
  "environment": {
   "kernel": "python3",
   "name": "r-cpu.m125",
   "type": "gcloud",
   "uri": "us-docker.pkg.dev/deeplearning-platform-release/gcr.io/r-cpu:m125"
  },
  "language_info": {
   "codemirror_mode": {
    "name": "ipython",
    "version": 3
   },
   "file_extension": ".py",
   "mimetype": "text/x-python",
   "name": "python",
   "nbconvert_exporter": "python",
   "pygments_lexer": "ipython3",
   "version": "3.10.15"
  }
 },
 "nbformat": 4,
 "nbformat_minor": 5
}
