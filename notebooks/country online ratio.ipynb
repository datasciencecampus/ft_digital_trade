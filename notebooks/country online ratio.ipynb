{
 "cells": [
  {
   "cell_type": "code",
   "execution_count": null,
   "id": "c4b807af-d0cd-4c25-9c3f-435d298e95a6",
   "metadata": {
    "tags": []
   },
   "outputs": [],
   "source": [
    "project_path = \"/home/jupyter\"\n",
    "import os\n",
    "import sys\n",
    "\n",
    "sys.path.append(project_path)\n",
    "import numpy as np\n",
    "import pandas as pd\n",
    "import matplotlib.pyplot as plt\n",
    "import re\n",
    "from google.cloud import bigquery\n",
    "\n",
    "from fintrans_toolbox.src import bq_utils as bq\n",
    "from fintrans_toolbox.src import table_utils as t\n",
    "\n",
    "\n",
    "client = bigquery.Client()"
   ]
  },
  {
   "cell_type": "code",
   "execution_count": null,
   "id": "f4ee34c3-d1c1-43fb-8a41-4e765ad71333",
   "metadata": {
    "tags": []
   },
   "outputs": [],
   "source": [
    "# Summarise the data by mcg\n",
    "UK_spending_by_country = '''SELECT time_period_value, destination_country, spend, merchant_channel\n",
    "FROM `ons-fintrans-data-prod.fintrans_visa.spend_origin_and_channel` \n",
    "where time_period = 'Quarter'\n",
    "and time_period_value != '2025Q1'\n",
    "and cardholder_origin_country = 'All' \n",
    "and cardholder_origin = 'UNITED KINGDOM'\n",
    "and destination_country != 'UNITED KINGDOM'\n",
    "and mcg = 'All'\n",
    "GROUP BY destination_country, time_period_value, spend, merchant_channel\n",
    "ORDER BY time_period_value, spend DESC'''\n",
    "\n",
    "country_online_ratio = bq.read_bq_table_sql(client, UK_spending_by_country)\n",
    "\n",
    "country_online_ratio['year'] = country_online_ratio['time_period_value'].str[:4]\n",
    "\n",
    "country_online_ratio.head()"
   ]
  },
  {
   "cell_type": "code",
   "execution_count": null,
   "id": "67e38f38-d513-4ca0-838b-dc2e54cc9e30",
   "metadata": {
    "tags": []
   },
   "outputs": [],
   "source": [
    "country_online_ratio.to_csv('online_ratio.csv')\n",
    "online_ratio_yearly = country_online_ratio.groupby(['year', 'destination_country','merchant_channel'])['spend'].sum().reset_index()\n",
    "\n",
    "online_ratio_yearly.head()"
   ]
  },
  {
   "cell_type": "code",
   "execution_count": null,
   "id": "4f37e20c-9e94-4c14-b15c-33f112353f1b",
   "metadata": {
    "tags": []
   },
   "outputs": [],
   "source": [
    "online_ratio_yearly = country_online_ratio.groupby(['year', 'destination_country','merchant_channel'])['spend'].sum().reset_index()\n",
    "\n",
    "online_ratio_yearly_all = online_ratio_yearly[online_ratio_yearly[\"merchant_channel\"] == \"All\"].set_index([\"year\", \"destination_country\"])[\"spend\"]\n",
    "\n",
    "online_ratio_yearly_all.head(50)"
   ]
  },
  {
   "cell_type": "code",
   "execution_count": null,
   "id": "d21294d7-8073-49d0-860e-3bc72ad941e7",
   "metadata": {
    "tags": []
   },
   "outputs": [],
   "source": [
    "# Ensure 'spend' is numeric\n",
    "#online_ratio_yearly[\"spend\"] = online_ratio_yearly.to_numeric(online_ratio_yearly[\"spend\"], errors=\"coerce\")\n",
    "\n",
    "# Create a mapping of (year, mcg) to 'All' spend\n",
    "all_spend = online_ratio_yearly[online_ratio_yearly[\"merchant_channel\"] == \"All\"].set_index([\"year\", \"destination_country\"])[\"spend\"]\n",
    "\n",
    "# Function to compute percentage relative to 'All' spend\n",
    "def compute_percentage(row):\n",
    "    key = (row[\"year\"], row[\"destination_country\"])\n",
    "    if key in all_spend and pd.notnull(all_spend[key]):\n",
    "        return (row[\"spend\"] / all_spend[key]) * 100\n",
    "    else:\n",
    "        return None\n",
    "\n",
    "# Apply the function to compute the percentage\n",
    "online_ratio_yearly[\"spend_vs_all_%\"] = online_ratio_yearly.apply(compute_percentage, axis=1)\n",
    "\n",
    "# Display the result\n",
    "print(online_ratio_yearly)"
   ]
  },
  {
   "cell_type": "code",
   "execution_count": null,
   "id": "ddfebc4c-5b18-4955-9930-ad8c2b3f59e4",
   "metadata": {
    "tags": []
   },
   "outputs": [],
   "source": [
    "# Ensure 'spend' is numeric\n",
    "online_ratio_yearly[\"year\"] = pd.to_numeric(online_ratio_yearly[\"year\"], errors=\"coerce\")\n",
    "\n",
    "# Compute 'All' spend for each (year, mcg)\n",
    "all_spend = online_ratio_yearly[online_ratio_yearly[\"merchant_channel\"] == \"All\"].set_index([\"year\", \"destination_country\"])[\"spend\"]\n",
    "\n",
    "# Compute spend_vs_all_% for each row\n",
    "def compute_percentage(row):\n",
    "    key = (row[\"year\"], row[\"destination_country\"])\n",
    "    if key in all_spend and pd.notnull(all_spend[key]):\n",
    "        return (row[\"spend\"] / all_spend[key]) * 100\n",
    "    else:\n",
    "        return None\n",
    "\n",
    "online_ratio_yearly[\"spend_vs_all_%\"] = online_ratio_yearly.apply(compute_percentage, axis=1)\n",
    "\n",
    "# Filter only Face to Face and Online rows\n",
    "df_filtered = online_ratio_yearly[online_ratio_yearly[\"merchant_channel\"].isin([\"Face to Face\", \"Online\"])]\n",
    "df_filtered_2 = df_filtered[df_filtered[\"year\"].isin([2019, 2024])]\n",
    "\n",
    "# Pivot to get 2019 and 2024 values side by side\n",
    "pivot_df = df_filtered_2.pivot_table(index=[\"destination_country\", \"merchant_channel\"], columns=\"year\", values=\"spend_vs_all_%\")\n",
    "\n",
    "\n",
    "print(pivot_df)"
   ]
  },
  {
   "cell_type": "code",
   "execution_count": null,
   "id": "4a775ab5-66a1-439c-88ac-4e0bd8ebb229",
   "metadata": {
    "tags": []
   },
   "outputs": [],
   "source": [
    "# Compute the difference between 2024 and 2019\n",
    "pivot_df[\"diff\"] = pivot_df[2024] - pivot_df[2019]\n",
    "\n",
    "print(pivot_df)\n"
   ]
  },
  {
   "cell_type": "code",
   "execution_count": null,
   "id": "8bc084ac-ec13-4a70-baa5-39997819646b",
   "metadata": {
    "tags": []
   },
   "outputs": [],
   "source": [
    "# Compute total change per destination_country for sorting\n",
    "online_subset = pivot_df[pivot_df[\"merchant_channel\"] == \"Online\"]\n",
    "total_change = online_subset.groupby(\"destination_country\")[\"diff\"].sum().sort_values(ascending=False)\n",
    "ordered_countries = list(total_change.index)\n",
    "\n",
    "# Set destination_country as a categorical variable with the desired order\n",
    "pivot_df[\"destination_country\"] = pd.Categorical(\n",
    "         pivot_df[\"destination_country\"],\n",
    "         categories=ordered_countries,\n",
    "         ordered=True\n",
    ")\n",
    "\n",
    "# Sort the DataFrame\n",
    "pivot_df = pivot_df.sort_values([\"destination_country\", \"merchant_channel\"])\n",
    "\n",
    "# Prepare for plotting\n",
    "channels = pivot_df[\"merchant_channel\"].unique()\n",
    "x = np.arange(len(ordered_countries))\n",
    "width = 0.35\n",
    "\n",
    "fig, ax = plt.subplots(figsize=(12, 6))\n",
    "for i, channel in enumerate(channels):\n",
    "    subset = pivot_df[pivot_df[\"merchant_channel\"] == channel]\n",
    "    subset = subset.set_index(\"destination_country\").loc[ordered_countries].reset_index()\n",
    "    ax.bar(x + i * width, subset[\"diff\"], width, label=channel)\n",
    "\n",
    "ax.set_xlabel(\"Destination Country\")\n",
    "ax.set_ylabel(\"Change in Spend vs All % (2024 - 2019)\")\n",
    "ax.set_title(\"Change in Spend vs All % from 2019 to 2024 by Destination Country and Channel\")\n",
    "ax.set_xticks(x + width / 2)\n",
    "ax.set_xticklabels(ordered_countries, rotation=90)\n",
    "ax.legend()\n",
    "plt.grid(axis='y')\n",
    "plt.tight_layout()\n",
    "plt.show()"
   ]
  },
  {
   "cell_type": "code",
   "execution_count": null,
   "id": "c12e674b-705b-4f77-ac2c-5d0fc57b62f0",
   "metadata": {
    "tags": []
   },
   "outputs": [],
   "source": [
    "print(total_change)"
   ]
  },
  {
   "cell_type": "code",
   "execution_count": null,
   "id": "0261e56b-a3bf-4114-91cc-203cd73aebe0",
   "metadata": {},
   "outputs": [],
   "source": []
  },
  {
   "cell_type": "code",
   "execution_count": null,
   "id": "95f49d97-0a98-415f-b0d4-48d2b27221e5",
   "metadata": {},
   "outputs": [],
   "source": []
  }
 ],
 "metadata": {
  "environment": {
   "kernel": "python3",
   "name": "r-cpu.m125",
   "type": "gcloud",
   "uri": "us-docker.pkg.dev/deeplearning-platform-release/gcr.io/r-cpu:m125"
  },
  "language_info": {
   "codemirror_mode": {
    "name": "ipython",
    "version": 3
   },
   "file_extension": ".py",
   "mimetype": "text/x-python",
   "name": "python",
   "nbconvert_exporter": "python",
   "pygments_lexer": "ipython3",
   "version": "3.10.15"
  }
 },
 "nbformat": 4,
 "nbformat_minor": 5
}
