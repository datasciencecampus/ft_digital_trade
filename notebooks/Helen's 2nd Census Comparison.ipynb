{
 "cells": [
  {
   "cell_type": "code",
   "execution_count": null,
   "id": "2f0bdb78-7723-4543-9283-7f90a106cf1a",
   "metadata": {
    "tags": []
   },
   "outputs": [],
   "source": [
    "project_path = \"/home/jupyter\"\n",
    "import os\n",
    "import sys\n",
    "\n",
    "sys.path.append(project_path)\n",
    "import numpy as np\n",
    "import pandas as pd\n",
    "import matplotlib.pyplot as plt\n",
    "import re\n",
    "from google.cloud import bigquery\n",
    "\n",
    "from fintrans_toolbox.src import bq_utils as bq\n",
    "from fintrans_toolbox.src import table_utils as t\n",
    "\n",
    "\n",
    "client = bigquery.Client()"
   ]
  },
  {
   "cell_type": "code",
   "execution_count": null,
   "id": "024aacd7-8964-4603-909a-71b5694b081b",
   "metadata": {
    "tags": []
   },
   "outputs": [],
   "source": [
    "# Select just monthly data and just postal sector to make it easier to work with\n",
    "sql = \"SELECT * FROM `ons-fintrans-data-prod.fintrans_reference.census_2024_P003_population_pcds`  \"\n",
    "census = bq.read_bq_table_sql(client, sql)\n",
    "sql = \"SELECT distinct postal_area, postal_district, postal_sector FROM `ons-fintrans-analysis-prod.fin_wip_notebook.nspl_postal_level_lookup`\"\n",
    "nspl = bq.read_bq_table_sql(client, sql)\n",
    "census_nspl = census.merge(nspl, how = 'left', left_on = 'Postcode_Sectors', right_on = 'postal_sector')\n",
    "census_nspl"
   ]
  },
  {
   "cell_type": "code",
   "execution_count": null,
   "id": "a42cd18c-5d8f-4fb3-bc16-919530c42cef",
   "metadata": {
    "tags": []
   },
   "outputs": [],
   "source": [
    "census_summary = census_nspl.groupby('postal_area').sum('Count').reset_index()\n",
    "census_summary['postal_area'] = census_summary['postal_area'].replace(\" \", \"\")\n",
    "#census_summary.to_csv('census_test.csv')"
   ]
  },
  {
   "cell_type": "code",
   "execution_count": null,
   "id": "92a877cd-a811-48ee-8e21-999e6009c933",
   "metadata": {
    "tags": []
   },
   "outputs": [],
   "source": [
    "# Select just monthly data and just postal sector to make it easier to work with\n",
    "sql = \"SELECT cardholder_location, cardholders, time_period_value FROM `ons-fintrans-data-prod.fintrans_visa.retail_performance_high_streets_towns`  where time_period = 'Quarter' and merchant_location = 'All' and cardholder_location_level = 'All' and mcg = 'All'\"\n",
    "df_all_q = bq.read_bq_table_sql(client, sql)\n"
   ]
  },
  {
   "cell_type": "code",
   "execution_count": null,
   "id": "4fc7bae9-7316-4a90-8986-c70a2a10fa80",
   "metadata": {
    "tags": []
   },
   "outputs": [],
   "source": [
    "# Select just monthly data and just postal sector to make it easier to work with\n",
    "sql = \"SELECT cardholder_location, cardholders, time_period_value FROM `ons-fintrans-data-prod.fintrans_visa.retail_performance_high_streets_towns`  where time_period = 'Quarter' and merchant_location = 'All' and cardholder_location_level = 'POSTAL_AREA' and mcg = 'All'\"\n",
    "df = bq.read_bq_table_sql(client, sql)\n",
    "df['cardholder_location'] = df['cardholder_location'].replace(\" \", \"\")\n",
    "df.sort_values('time_period_value')"
   ]
  },
  {
   "cell_type": "code",
   "execution_count": null,
   "id": "f7b8bf46-9501-499d-9765-1b3b7cecc6c2",
   "metadata": {
    "tags": []
   },
   "outputs": [],
   "source": [
    "df_full = df.merge(census_summary, how = 'outer', left_on = 'cardholder_location', right_on = 'postal_area').sort_values('cardholder_location')\n",
    "df_full = df_full.loc[(df_full['postal_area'] != 'TD') & (df_full['postal_area'] != 'DG')]"
   ]
  },
  {
   "cell_type": "code",
   "execution_count": null,
   "id": "b1f76291-876b-4e62-9c36-885aa1e89058",
   "metadata": {
    "tags": []
   },
   "outputs": [],
   "source": [
    "df_full['year']=df_full['time_period_value'].str[:4]\n",
    "df_full_2021 = df_full.loc[df_full['year']=='2021']\n",
    "df_av_2021 = df_full_2021.groupby(['cardholder_location']).mean(['Count','cardholders']).reset_index()\n",
    "df_av_2021['diff'] = df_av_2021['cardholders']/df_av_2021['Count']\n",
    "df_av_2021.sort_values('diff').to_csv('test.csv')"
   ]
  },
  {
   "cell_type": "code",
   "execution_count": null,
   "id": "3b6f09e5-2c2e-4adc-b4d0-d0dc29440e5d",
   "metadata": {
    "tags": []
   },
   "outputs": [],
   "source": [
    "storage_client = storage.Client()\n",
    "bq.boundary_file_download(storage_client , 'postcode_area','')"
   ]
  },
  {
   "cell_type": "code",
   "execution_count": null,
   "id": "26865773-a872-4ccb-a5d3-2d66fdee5b9e",
   "metadata": {},
   "outputs": [],
   "source": []
  }
 ],
 "metadata": {
  "environment": {
   "kernel": "python3",
   "name": "r-cpu.m125",
   "type": "gcloud",
   "uri": "us-docker.pkg.dev/deeplearning-platform-release/gcr.io/r-cpu:m125"
  },
  "language_info": {
   "codemirror_mode": {
    "name": "ipython",
    "version": 3
   },
   "file_extension": ".py",
   "mimetype": "text/x-python",
   "name": "python",
   "nbconvert_exporter": "python",
   "pygments_lexer": "ipython3",
   "version": "3.10.15"
  }
 },
 "nbformat": 4,
 "nbformat_minor": 5
}
