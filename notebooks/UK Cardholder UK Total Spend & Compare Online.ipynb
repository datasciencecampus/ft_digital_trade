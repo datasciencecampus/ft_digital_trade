{
 "cells": [
  {
   "cell_type": "code",
   "execution_count": null,
   "id": "eff706fe-ad88-4201-8fa6-8d2cdb24c0ce",
   "metadata": {
    "tags": []
   },
   "outputs": [],
   "source": [
    "project_path = \"/home/jupyter\"\n",
    "import os\n",
    "import sys\n",
    "sys.path.append(project_path)\n",
    "from google.cloud import bigquery, storage\n",
    "\n",
    "import matplotlib.pyplot as plt\n",
    "import numpy as np\n",
    "import pandas as pd\n",
    "import plotly.express as px\n",
    "\n",
    "from fintrans_toolbox.src import bq_utils as bq"
   ]
  },
  {
   "cell_type": "code",
   "execution_count": null,
   "id": "bdd91bc4-96f4-4ca1-aa94-d33e6225be51",
   "metadata": {
    "tags": []
   },
   "outputs": [],
   "source": [
    "client = bigquery.Client()"
   ]
  },
  {
   "cell_type": "code",
   "execution_count": null,
   "id": "00e5eb1c-2580-4f30-a9b5-b6ff8521fc66",
   "metadata": {
    "tags": []
   },
   "outputs": [],
   "source": [
    "# Summarise the data by country\n",
    "UK_spending_by_country3a = '''SELECT time_period_value, destination_country, spend FROM `ons-fintrans-data-prod.fintrans_visa.spend_origin_and_channel` where time_period = 'Quarter' and mcg = 'All' and merchant_channel = 'All' and cardholder_origin_country = 'All' and cardholder_origin = 'UNITED KINGDOM' and destination_country = 'UNITED KINGDOM' GROUP BY destination_country, \n",
    "time_period_value, spend ORDER BY time_period_value, destination_country DESC'''\n",
    "df_by_country3a = bq.read_bq_table_sql(client, UK_spending_by_country3a)\n",
    "df_by_country3a.head()"
   ]
  },
  {
   "cell_type": "code",
   "execution_count": null,
   "id": "3351dc06-30f1-46b5-9ffe-cb3237b95382",
   "metadata": {
    "tags": []
   },
   "outputs": [],
   "source": [
    "import pandas as pd\n",
    "\n",
    "# Assuming df_by_country3a is the DataFrame with your data\n",
    "# Ensure 'time_period_value' is a string type and split it to get the year (assuming 'Q1', 'Q2', etc., are part of the time_period_value)\n",
    "\n",
    "# Extract the year from the time_period_value (assuming it's in the format like '2023-Q1', '2023-Q2', etc.)\n",
    "df_by_country3a['year'] = df_by_country3a['time_period_value'].str[:4].astype(int)\n",
    "\n",
    "# Now group by year and sum the spend for each year\n",
    "df_yearly_spend = df_by_country3a.groupby('year')['spend'].sum().reset_index()\n",
    "\n",
    "# Optionally, you can sort the result by year\n",
    "df_yearly_spend = df_yearly_spend.sort_values(by='year')\n",
    "\n",
    "# Display the yearly totals\n",
    "print(df_yearly_spend)"
   ]
  },
  {
   "cell_type": "code",
   "execution_count": null,
   "id": "39ce3300-e389-4915-9c78-f64e7b07f548",
   "metadata": {
    "tags": []
   },
   "outputs": [],
   "source": [
    "df_by_country3a.to_csv('UK_spending_by_country3a.csv')"
   ]
  },
  {
   "cell_type": "code",
   "execution_count": null,
   "id": "805b0712-39c5-4055-80d2-662a70ae7aa9",
   "metadata": {
    "tags": []
   },
   "outputs": [],
   "source": [
    "# Display the yearly totals UK Spent in UK\n",
    "df_yearly_spend.to_csv('UK_yearly_spend_country3a.csv')"
   ]
  },
  {
   "cell_type": "code",
   "execution_count": null,
   "id": "a851eb9b-0a66-404a-a0d6-0f789efad1de",
   "metadata": {
    "tags": []
   },
   "outputs": [],
   "source": [
    "# Step 3: Create the Bar Chart\n",
    "fig_bar = px.bar(df_yearly_spend, \n",
    "                 x='year', \n",
    "                 y='spend', \n",
    "                 title='Yearly Total Spend in the UK (2019-2024)',\n",
    "                 labels={'spend': 'Total Spend (£)', 'year': 'Year'},\n",
    "                 color='year',  # Color bars by year\n",
    "                 text='spend')  # Display spend values on top of bars\n",
    "\n",
    "# Customize the chart\n",
    "fig_bar.update_traces(texttemplate='%{text:.2f}', textposition='outside', marker=dict(line=dict(width=1, color='black')))\n",
    "fig_bar.update_layout(xaxis=dict(tickmode='linear'), yaxis=dict(title='Total Spend (£)'))\n",
    "\n",
    "# Show the bar chart\n",
    "fig_bar.show()\n"
   ]
  },
  {
   "cell_type": "code",
   "execution_count": null,
   "id": "44869682-dd18-46c9-8ecf-0d0eeac695c1",
   "metadata": {
    "tags": []
   },
   "outputs": [],
   "source": [
    "import pandas as pd\n",
    "import plotly.express as px\n",
    "\n",
    "# Step 1: Load the CSV data into a DataFrame\n",
    "df_yearly_spend = pd.read_csv('UK_yearly_spend_country3a.csv')\n",
    "\n",
    "# Step 2: Create the Bar Chart\n",
    "fig_bar = px.bar(df_yearly_spend, \n",
    "                 x='year', \n",
    "                 y='spend', \n",
    "                 title='Yearly Total Spend in the UK (2019-2024)',\n",
    "                 labels={'spend': 'Total Spend (£)', 'year': 'Year'},\n",
    "                 color='year',  # Color bars by year\n",
    "                 text='spend')  # Display spend values on top of bars\n",
    "\n",
    "# Customize the chart: Zoom in by setting the Y-axis range\n",
    "fig_bar.update_traces(texttemplate='%{text:.2f}', textposition='outside', marker=dict(line=dict(width=1, color='black')))\n",
    "\n",
    "# Adjust the Y-axis range to zoom in a bit\n",
    "fig_bar.update_layout(\n",
    "    xaxis=dict(tickmode='linear'),\n",
    "    yaxis=dict(\n",
    "        title='Total Spend (£)', \n",
    "        range=[0, df_yearly_spend['spend'].max() * 1.1]  # Set the max value a bit higher (10% above the max spend)\n",
    "    )\n",
    ")\n",
    "\n",
    "# Show the bar chart\n",
    "fig_bar.show()\n"
   ]
  },
  {
   "cell_type": "code",
   "execution_count": null,
   "id": "b974dfa5-8cfd-46d6-b36f-2e90b9ec94a4",
   "metadata": {
    "tags": []
   },
   "outputs": [],
   "source": [
    "# Step 4: Create the Line Chart\n",
    "fig_line = px.line(df_yearly_spend, \n",
    "                   x='year', \n",
    "                   y='spend', \n",
    "                   title='Yearly Total Spend in the UK (2019-2024) - Line Chart',\n",
    "                   labels={'spend': 'Total Spend (£)', 'year': 'Year'},\n",
    "                   markers=True)  # Mark data points on the line\n",
    "\n",
    "# Customize the line chart\n",
    "fig_line.update_traces(line=dict(width=3), marker=dict(size=8, color='red'))  # Line width and point style\n",
    "\n",
    "# Show the line chart\n",
    "fig_line.show()\n"
   ]
  },
  {
   "cell_type": "code",
   "execution_count": null,
   "id": "e91d0c58-dc5b-4dcb-9e49-3f0c3f6ed9e8",
   "metadata": {
    "tags": []
   },
   "outputs": [],
   "source": [
    "import pandas as pd\n",
    "import plotly.express as px\n",
    "\n",
    "# Step 1: Load the CSV data into a DataFrame\n",
    "df_yearly_spend = pd.read_csv('UK_yearly_spend_country3a.csv')\n",
    "\n",
    "# Step 2: Create the Line Chart\n",
    "fig_line = px.line(df_yearly_spend, \n",
    "                   x='year', \n",
    "                   y='spend', \n",
    "                   title='Yearly Total Spend in the UK (2019-2024) - Line Chart',\n",
    "                   labels={'spend': 'Total Spend (£)', 'year': 'Year'},\n",
    "                   markers=True)  # Mark data points on the line\n",
    "\n",
    "# Customize the line chart\n",
    "fig_line.update_traces(line=dict(width=3), marker=dict(size=8, color='red'))  # Line width and point style\n",
    "\n",
    "# Adjust the Y-axis range to start from 0\n",
    "fig_line.update_layout(\n",
    "    yaxis=dict(\n",
    "        title='Total Spend (£)',\n",
    "        range=[0, df_yearly_spend['spend'].max() * 1.1]  # Ensure Y-axis starts from 0 and adds a 10% margin above the max spend\n",
    "    )\n",
    ")\n",
    "\n",
    "# Show the line chart\n",
    "fig_line.show()\n"
   ]
  },
  {
   "cell_type": "code",
   "execution_count": null,
   "id": "e80aaedf-ae18-4be0-9b9e-f5e68df1aae9",
   "metadata": {
    "tags": []
   },
   "outputs": [],
   "source": [
    "# Summarise the data by country\n",
    "UK_spending_by_country3 = '''SELECT time_period_value, destination_country, spend FROM `ons-fintrans-data-prod.fintrans_visa.spend_origin_and_channel` where time_period = 'Quarter' and mcg = 'All' and merchant_channel = 'Online' and cardholder_origin_country = 'All' and cardholder_origin = 'UNITED KINGDOM' and destination_country = 'UNITED KINGDOM' GROUP BY destination_country, \n",
    "time_period_value, spend ORDER BY time_period_value, destination_country DESC'''\n",
    "df_by_country3 = bq.read_bq_table_sql(client, UK_spending_by_country3)\n",
    "# Rename the 'spend' column to 'online_spend'\n",
    "df_by_country3 = df_by_country3.rename(columns={'spend': 'online_spend'})\n",
    "df_by_country3.head()\n"
   ]
  },
  {
   "cell_type": "code",
   "execution_count": null,
   "id": "01a04a7b-ee35-40ed-ba6b-8919f91e0cfc",
   "metadata": {
    "tags": []
   },
   "outputs": [],
   "source": [
    "import pandas as pd\n",
    "\n",
    "# Assuming df_by_country3a is the DataFrame with your data\n",
    "# Ensure 'time_period_value' is a string type and split it to get the year (assuming 'Q1', 'Q2', etc., are part of the time_period_value)\n",
    "\n",
    "# Extract the year from the time_period_value (assuming it's in the format like '2023-Q1', '2023-Q2', etc.)\n",
    "df_by_country3['year'] = df_by_country3['time_period_value'].str[:4].astype(int)\n",
    "\n",
    "# Now group by year and sum the spend for each year\n",
    "df_yearly_spend1 = df_by_country3.groupby('year')['online_spend'].sum().reset_index()\n",
    "\n",
    "# Optionally, you can sort the result by year\n",
    "df_yearly_spend1 = df_yearly_spend1.sort_values(by='year')\n",
    "\n",
    "# Display the yearly totals\n",
    "print(df_yearly_spend1)"
   ]
  },
  {
   "cell_type": "code",
   "execution_count": null,
   "id": "8b91ec51-2d78-4af0-9f7e-bc9dfc329b7a",
   "metadata": {
    "tags": []
   },
   "outputs": [],
   "source": [
    "df_yearly_spend1.to_csv('UK_yearly_spend_Online.csv')"
   ]
  },
  {
   "cell_type": "code",
   "execution_count": null,
   "id": "596de744-d17c-4aac-b371-bfe46f455fdf",
   "metadata": {
    "tags": []
   },
   "outputs": [],
   "source": [
    "import pandas as pd\n",
    "\n",
    "# Read the online spend CSV\n",
    "df_online_spend = pd.read_csv('UK_yearly_spend_Online.csv')\n",
    "\n",
    "# Read the total spend CSV\n",
    "df_total_spend = pd.read_csv('UK_yearly_spend_country3a.csv')\n",
    "\n",
    "# Display the first few rows of each DataFrame to check the structure\n",
    "print(df_online_spend.head())\n",
    "print(df_total_spend.head())"
   ]
  },
  {
   "cell_type": "code",
   "execution_count": null,
   "id": "c7708408-0ded-48c2-9933-c52e8ef1ddfd",
   "metadata": {
    "tags": []
   },
   "outputs": [],
   "source": [
    "# Merge the two DataFrames on 'year'\n",
    "merged_spend = pd.merge(df_online_spend[['year', 'online_spend']], df_total_spend[['year', 'spend']], on='year', how='inner')\n",
    "\n",
    "# Display the merged DataFrame to verify\n",
    "print(merged_spend.head())\n"
   ]
  },
  {
   "cell_type": "code",
   "execution_count": null,
   "id": "b3fae356-1449-42ab-bd1e-1f2a6e56d74a",
   "metadata": {
    "tags": []
   },
   "outputs": [],
   "source": [
    "# Calculate the online spend ratio (as a percentage)\n",
    "merged_spend['online_spend_ratio'] = (merged_spend['online_spend'] / merged_spend['spend']) * 100\n",
    "\n",
    "# Display the DataFrame with the new ratio column\n",
    "print(merged_spend[['year', 'online_spend_ratio']])\n"
   ]
  },
  {
   "cell_type": "code",
   "execution_count": null,
   "id": "51000299-a9f5-4a43-9565-63ba47fa98da",
   "metadata": {
    "tags": []
   },
   "outputs": [],
   "source": [
    "# Save the result to a new CSV file\n",
    "merged_spend.to_csv('UK_yearly_online_spend_ratio.csv', index=False)\n",
    "\n",
    "# Display a success message\n",
    "print(\"The online spend ratio has been saved to 'UK_yearly_online_spend_ratio.csv'.\")\n"
   ]
  },
  {
   "cell_type": "code",
   "execution_count": null,
   "id": "c5da7050-2f09-400a-8c95-80dbb5c3aa98",
   "metadata": {
    "tags": []
   },
   "outputs": [],
   "source": [
    "pip install plotly\n"
   ]
  },
  {
   "cell_type": "code",
   "execution_count": null,
   "id": "8936e340-c6f7-4e44-ac6d-e050f7acbc57",
   "metadata": {
    "tags": []
   },
   "outputs": [],
   "source": [
    "import pandas as pd\n",
    "import plotly.express as px\n",
    "\n",
    "# Step 1: Read the CSV files for online spend and total spend\n",
    "df_online_spend = pd.read_csv('UK_yearly_spend_Online.csv')\n",
    "df_total_spend = pd.read_csv('UK_yearly_spend_country3a.csv')\n",
    "\n",
    "# Step 2: Merge the data on 'year'\n",
    "merged_spend = pd.merge(df_online_spend[['year', 'online_spend']], df_total_spend[['year', 'spend']], on='year', how='inner')\n",
    "\n",
    "# Step 3: Calculate the online spend ratio (as a percentage)\n",
    "merged_spend['online_spend_ratio'] = (merged_spend['online_spend'] / merged_spend['spend']) * 100\n",
    "\n",
    "# Step 4: Create the Bar Chart\n",
    "fig_bar = px.bar(merged_spend, \n",
    "                 x='year', \n",
    "                 y='online_spend_ratio', \n",
    "                 title='Online Spend Ratio by Year', \n",
    "                 labels={'online_spend_ratio': 'Online Spend Ratio (%)', 'year': 'Year'}, \n",
    "                 color='year', \n",
    "                 text='online_spend_ratio')\n",
    "\n",
    "# Customize the bar chart\n",
    "fig_bar.update_traces(texttemplate='%{text:.2f}%', textposition='outside', marker=dict(line=dict(width=1, color='black')))\n",
    "fig_bar.update_layout(xaxis=dict(tickmode='linear'), yaxis=dict(range=[0, 100]))\n",
    "\n",
    "# Show the bar chart\n",
    "fig_bar.show()\n",
    "\n",
    "# Step 5: Create the Line Chart\n",
    "fig_line = px.line(merged_spend, \n",
    "                   x='year', \n",
    "                   y='online_spend_ratio', \n",
    "                   title='Online Spend Ratio by Year (Line Chart)', \n",
    "                   labels={'online_spend_ratio': 'Online Spend Ratio (%)', 'year': 'Year'},\n",
    "                   markers=True)\n",
    "\n",
    "# Customize the line chart\n",
    "fig_line.update_traces(line=dict(width=3), marker=dict(size=7, color='red'))\n",
    "fig_line.update_layout(xaxis=dict(tickmode='linear'), yaxis=dict(range=[0, 100]))\n",
    "\n",
    "# Show the line chart\n",
    "fig_line.show()\n"
   ]
  },
  {
   "cell_type": "code",
   "execution_count": null,
   "id": "7049ce6b-18c9-467b-8791-df58e45454ce",
   "metadata": {
    "tags": []
   },
   "outputs": [],
   "source": [
    "# Step 1: Load the CSV data into a DataFrame\n",
    "df_online_spend_ratio = pd.read_csv('UK_yearly_online_spend_ratio.csv')\n",
    "\n",
    "# Step 2: Calculate the average online spend ratio\n",
    "average_online_spend_ratio = df_online_spend_ratio['online_spend_ratio'].mean()\n",
    "\n",
    "# Step 3: Print or display the result\n",
    "print(f\"Average Online Spend Ratio (2019-2024): {average_online_spend_ratio:.2f}%\")\n"
   ]
  },
  {
   "cell_type": "code",
   "execution_count": null,
   "id": "de86b25e-6fc5-497a-8425-1a44537c1ebd",
   "metadata": {},
   "outputs": [],
   "source": []
  }
 ],
 "metadata": {
  "environment": {
   "kernel": "python3",
   "name": "r-cpu.m125",
   "type": "gcloud",
   "uri": "us-docker.pkg.dev/deeplearning-platform-release/gcr.io/r-cpu:m125"
  },
  "language_info": {
   "codemirror_mode": {
    "name": "ipython",
    "version": 3
   },
   "file_extension": ".py",
   "mimetype": "text/x-python",
   "name": "python",
   "nbconvert_exporter": "python",
   "pygments_lexer": "ipython3",
   "version": "3.10.15"
  }
 },
 "nbformat": 4,
 "nbformat_minor": 5
}
