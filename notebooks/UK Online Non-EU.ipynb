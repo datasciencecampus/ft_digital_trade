{
 "cells": [
  {
   "cell_type": "code",
   "execution_count": null,
   "id": "8058aed8-3a38-42d7-b57c-dcd4ba49a08e",
   "metadata": {
    "tags": []
   },
   "outputs": [],
   "source": [
    "project_path = \"/home/jupyter\"\n",
    "import os\n",
    "import sys\n",
    "sys.path.append(project_path)\n",
    "from google.cloud import bigquery, storage\n",
    "\n",
    "import matplotlib.pyplot as plt\n",
    "import numpy as np\n",
    "import pandas as pd\n",
    "import plotly.express as px\n",
    "\n",
    "from fintrans_toolbox.src import bq_utils as bq\n",
    "\n",
    "client = bigquery.Client()"
   ]
  },
  {
   "cell_type": "code",
   "execution_count": null,
   "id": "da52a358-5094-4e1b-95c6-cd536c4d1169",
   "metadata": {
    "tags": []
   },
   "outputs": [],
   "source": [
    "# Summarise the data by country\n",
    "UK_spending_by_country = '''SELECT time_period_value, destination_country, spend \n",
    "FROM `ons-fintrans-data-prod.fintrans_visa.spend_origin_and_channel` \n",
    "where time_period = 'Quarter' \n",
    "and mcg = 'All' \n",
    "and merchant_channel = 'Online' \n",
    "and cardholder_origin_country = 'All' \n",
    "and cardholder_origin = 'UNITED KINGDOM' \n",
    "and destination_country != 'UNITED KINGDOM' \n",
    "GROUP BY destination_country, \n",
    "time_period_value, spend \n",
    "ORDER BY time_period_value, destination_country DESC'''\n",
    "df_by_country = bq.read_bq_table_sql(client, UK_spending_by_country)\n",
    "df_by_country.head()\n"
   ]
  },
  {
   "cell_type": "code",
   "execution_count": null,
   "id": "b3e2e6df-32b5-46ad-9951-d06eea265d69",
   "metadata": {
    "tags": []
   },
   "outputs": [],
   "source": [
    "# Assign value and percentage change variables\n",
    "df_by_country = df_by_country.sort_values(['destination_country','time_period_value'])\n",
    "df_by_country['pct_change'] = df_by_country.groupby(['destination_country']).spend.pct_change()\n",
    "df_by_country['value_change'] = df_by_country.groupby(['destination_country']).spend.diff()\n"
   ]
  },
  {
   "cell_type": "code",
   "execution_count": null,
   "id": "bbe27229-4cb3-4ccf-8058-b5ac566641d6",
   "metadata": {
    "tags": []
   },
   "outputs": [],
   "source": [
    "# Plot stacked bar chart with all values\n",
    "df_by_country[['time_period_value','destination_country','spend']].groupby(['time_period_value','destination_country']).sum().unstack().plot(kind = 'bar', stacked = 'True')"
   ]
  },
  {
   "cell_type": "code",
   "execution_count": null,
   "id": "44fbafd5-ea6e-47a1-8fdc-0b02d95b725f",
   "metadata": {
    "tags": []
   },
   "outputs": [],
   "source": [
    "# Plot line chart using plotly express for all countries\n",
    "pfig2 = px.line(\n",
    "        df_by_country,\n",
    "        x=\"time_period_value\",\n",
    "        y=\"spend\",\n",
    "        color=\"destination_country\")\n",
    "pfig2"
   ]
  },
  {
   "cell_type": "code",
   "execution_count": null,
   "id": "9f3e87ba-ec1d-41dc-8651-b337f1c21459",
   "metadata": {
    "tags": []
   },
   "outputs": [],
   "source": [
    "import matplotlib.pyplot as plt\n",
    "import pandas as pd\n",
    "\n",
    "# Grouping the data for the plot and saving the result to a CSV file\n",
    "grouped_data = df_by_country[['time_period_value', 'destination_country', 'spend']].groupby(['time_period_value', 'destination_country']).sum().unstack()\n",
    "\n",
    "# Save the aggregated data to a CSV file\n",
    "csv_filename = '/home/jupyter/uk_spending_by_country.csv'\n",
    "grouped_data.to_csv(csv_filename)\n",
    "\n",
    "# Now plot the stacked bar chart\n",
    "plt.figure(figsize=(12, 8))\n",
    "grouped_data.plot(kind='bar', stacked=True, figsize=(12, 8))\n",
    "\n",
    "# Adding labels and title\n",
    "plt.title('UK Spending by Country (Online - All Cards)', fontsize=16)\n",
    "plt.xlabel('Time Period', fontsize=12)\n",
    "plt.ylabel('Spending', fontsize=12)\n",
    "plt.legend(title='Destination Country', bbox_to_anchor=(1.05, 1), loc='upper left')\n",
    "\n",
    "# Saving the plot as a PNG image\n",
    "png_filename = '/home/jupyter/uk_spending_by_country.png'\n",
    "plt.tight_layout()  # Ensures that everything fits well\n",
    "plt.savefig(png_filename)\n",
    "\n",
    "# Show the plot (optional)\n",
    "plt.show()\n",
    "\n",
    "# Return file paths for reference\n",
    "csv_filename, png_filename"
   ]
  },
  {
   "cell_type": "code",
   "execution_count": null,
   "id": "4470b633-fa74-4c9b-b157-7f7cec02d78d",
   "metadata": {
    "tags": []
   },
   "outputs": [],
   "source": [
    "# Select some contries to plot and reduce dataframe - Non-EU Countries\n",
    "countries = ['AUSTRALIA',\n",
    "'INDIA',\n",
    "'REST OF  ASIAPAC',\n",
    "'REST OF  C.E.M.E.A.',\n",
    "'REST OF  CANADA',\n",
    "'REST OF  EUROPE',\n",
    "'REST OF  LAT.AM.',\n",
    "'SOUTH AFRICA',\n",
    "'SWITZERLAND',\n",
    "'UNITED ARAB EMIRATES',\n",
    "'UNITED STATES OF AMERICA']\n",
    "plot_df = df_by_country[['time_period_value','destination_country','spend']].loc[df_by_country['destination_country'].isin(countries) ]"
   ]
  },
  {
   "cell_type": "code",
   "execution_count": null,
   "id": "2b4113a3-b9bc-4b42-897c-d93fa828da0a",
   "metadata": {
    "tags": []
   },
   "outputs": [],
   "source": [
    "#stacked bar chart using pandas plot\n",
    "plot_df.groupby(['time_period_value','destination_country']).sum().unstack().plot(kind = 'bar', stacked = 'True')"
   ]
  },
  {
   "cell_type": "code",
   "execution_count": null,
   "id": "a209a9c3-5672-48d4-bffd-3d1ae8976f47",
   "metadata": {
    "tags": []
   },
   "outputs": [],
   "source": [
    "import matplotlib.pyplot as plt\n",
    "import pandas as pd\n",
    "\n",
    "# List of countries to plot\n",
    "countries = ['AUSTRALIA',\n",
    " 'INDIA',\n",
    " 'REST OF  ASIAPAC',\n",
    " 'REST OF  C.E.M.E.A.',\n",
    " 'REST OF  CANADA',\n",
    " 'REST OF  EUROPE',\n",
    " 'REST OF  LAT.AM.',\n",
    " 'SOUTH AFRICA',\n",
    " 'SWITZERLAND',\n",
    " 'UNITED ARAB EMIRATES',\n",
    " 'UNITED STATES OF AMERICA']\n",
    "\n",
    "# Filter the dataframe for the selected countries\n",
    "plot_df = df_by_country[['time_period_value', 'destination_country', 'spend']].loc[df_by_country['destination_country'].isin(countries)]\n",
    "\n",
    "# Group by time_period_value and destination_country and aggregate the spend\n",
    "plot_df_grouped = plot_df.groupby(['time_period_value', 'destination_country']).sum().reset_index()\n",
    "\n",
    "# Pivot the dataframe to have time_period_value as rows and countries as columns\n",
    "pivot_df = plot_df_grouped.pivot(index='time_period_value', columns='destination_country', values='spend')\n",
    "\n",
    "# Plot the line chart\n",
    "plt.figure(figsize=(14, 8))\n",
    "pivot_df.plot(kind='line', marker='o', figsize=(14, 8), linestyle='-', linewidth=2)\n",
    "\n",
    "# Adding labels and title\n",
    "plt.title('UK Spending by Selected Countries (Online - All Cards)', fontsize=16)\n",
    "plt.xlabel('Time Period', fontsize=12)\n",
    "plt.ylabel('Spending', fontsize=12)\n",
    "\n",
    "# Show the plot\n",
    "plt.grid(True)\n",
    "plt.legend(title='Destination Country', bbox_to_anchor=(1.05, 1), loc='upper left')\n",
    "plt.tight_layout()  # Ensures that everything fits well in the figure\n",
    "\n",
    "# Display the chart\n",
    "plt.show()"
   ]
  },
  {
   "cell_type": "code",
   "execution_count": null,
   "id": "f9a311b0-974e-4045-b22e-0e84e5d09f76",
   "metadata": {
    "tags": []
   },
   "outputs": [],
   "source": [
    "pip install kaleido"
   ]
  },
  {
   "cell_type": "code",
   "execution_count": null,
   "id": "403fddca-bebd-4b1c-a863-5d2e4bde1a5e",
   "metadata": {
    "tags": []
   },
   "outputs": [],
   "source": [
    "# Line chart using plotly express\n",
    "pfig = px.line(\n",
    "        plot_df,\n",
    "        x=\"time_period_value\",\n",
    "        y=\"spend\",\n",
    "        color=\"destination_country\")\n",
    "pfig"
   ]
  },
  {
   "cell_type": "code",
   "execution_count": null,
   "id": "11212f88-156d-47d3-b5d0-83e442f05cfb",
   "metadata": {
    "tags": []
   },
   "outputs": [],
   "source": [
    "# Save the figure as a PNG image\n",
    "pfig2.write_image(\"line_chartoutsideuk1.png\")"
   ]
  },
  {
   "cell_type": "code",
   "execution_count": null,
   "id": "d32325fa-9945-424f-ae41-c6842268835c",
   "metadata": {
    "tags": []
   },
   "outputs": [],
   "source": [
    "\n",
    "import plotly.express as px\n",
    "\n",
    "# List of countries to plot\n",
    "countries = [\n",
    "    'AUSTRALIA',\n",
    "    'INDIA',\n",
    "    'REST OF  ASIAPAC',\n",
    "    'REST OF  C.E.M.E.A.',\n",
    "    'REST OF  CANADA',\n",
    "    'REST OF  EUROPE',\n",
    "    'REST OF  LAT.AM.',\n",
    "    'SOUTH AFRICA',\n",
    "    'SWITZERLAND',\n",
    "    'UNITED ARAB EMIRATES',\n",
    "    'UNITED STATES OF AMERICA'\n",
    "]\n",
    "\n",
    "# Filter the dataframe to include only the selected countries\n",
    "plot_df = df_by_country[['time_period_value', 'destination_country', 'spend']].loc[df_by_country['destination_country'].isin(countries)]\n",
    "\n",
    "# Create a line chart using Plotly Express\n",
    "pfig = px.line(\n",
    "    plot_df,  # DataFrame containing the data\n",
    "    x=\"time_period_value\",  # X-axis: Time Periods\n",
    "    y=\"spend\",  # Y-axis: Spending\n",
    "    color=\"destination_country\",  # Different lines for each country\n",
    "    title=\"UK Spending by Selected Countries (Online - All Cards)\",  # Title of the plot\n",
    "    labels={\"spend\": \"Spending\", \"time_period_value\": \"Time Period\"},  # Axis labels\n",
    "    line_shape=\"linear\",  # Line shape (you can choose 'linear', 'spline', etc.)\n",
    ")\n",
    "\n",
    "# Customize the layout for better readability\n",
    "pfig.update_layout(\n",
    "    xaxis_title=\"Time Period\",\n",
    "    yaxis_title=\"Spending\",\n",
    "    legend_title=\"Destination Country\",\n",
    "    template=\"plotly_white\",  # Clean theme\n",
    "    hovermode=\"x unified\"  # Hover mode for better comparison of values at each time period\n",
    ")\n",
    "\n",
    "# Show the figure\n",
    "pfig.show()"
   ]
  },
  {
   "cell_type": "code",
   "execution_count": null,
   "id": "fcbbce7a-abdc-47e9-9ac5-7022ccb1981d",
   "metadata": {
    "tags": []
   },
   "outputs": [],
   "source": [
    "import plotly.express as px\n",
    "\n",
    "# List of countries to plot\n",
    "countries = [\n",
    "    'AUSTRALIA',\n",
    "    'INDIA',\n",
    "    'REST OF  ASIAPAC',\n",
    "    'REST OF  C.E.M.E.A.',\n",
    "    'REST OF  CANADA',\n",
    "    'REST OF  EUROPE',\n",
    "    'REST OF  LAT.AM.',\n",
    "    'SOUTH AFRICA',\n",
    "    'SWITZERLAND',\n",
    "    'UNITED ARAB EMIRATES',\n",
    "    'UNITED STATES OF AMERICA'\n",
    "]\n",
    "\n",
    "# Filter the dataframe to include only the selected countries\n",
    "plot_df = df_by_country[['time_period_value', 'destination_country', 'spend']].loc[df_by_country['destination_country'].isin(countries)]\n",
    "\n",
    "# Check for missing values in the filtered dataframe\n",
    "missing_countries_in_plot = [country for country in countries if country not in plot_df['destination_country'].unique()]\n",
    "print(\"Missing countries in plot:\", missing_countries_in_plot)\n",
    "\n",
    "# Create a line chart using Plotly Express\n",
    "pfig = px.line(\n",
    "    plot_df,  # DataFrame containing the data\n",
    "    x=\"time_period_value\",  # X-axis: Time Periods\n",
    "    y=\"spend\",  # Y-axis: Spending\n",
    "    color=\"destination_country\",  # Different lines for each country\n",
    "    title=\"UK Spending by Selected Countries (Online - All Cards)\",  # Title of the plot\n",
    "    labels={\"spend\": \"Spending\", \"time_period_value\": \"Time Period\"},  # Axis labels\n",
    "    line_shape=\"linear\",  # Line shape (you can choose 'linear', 'spline', etc.)\n",
    ")\n",
    "\n",
    "# Customize the layout for better readability\n",
    "pfig.update_layout(\n",
    "    xaxis_title=\"Time Period\",\n",
    "    yaxis_title=\"Spending\",\n",
    "    legend_title=\"Destination Country\",\n",
    "    template=\"plotly_white\",  # Clean theme\n",
    "    hovermode=\"x unified\"  # Hover mode for better comparison of values at each time period\n",
    ")\n",
    "\n",
    "# Show the figure\n",
    "pfig.show()"
   ]
  },
  {
   "cell_type": "code",
   "execution_count": null,
   "id": "3bd50acb-18de-45f9-ab7f-44cbe0b23bf8",
   "metadata": {
    "tags": []
   },
   "outputs": [],
   "source": [
    "# List of missing countries (that we were trying to plot but are not appearing)\n",
    "missing_countries = [\n",
    "    'REST OF  ASIAPAC', 'REST OF  C.E.M.E.A.', 'REST OF  CANADA', \n",
    "    'REST OF  EUROPE', 'REST OF  LAT.AM.'\n",
    "]\n",
    "\n",
    "# Filter for the missing countries and create a separate plot\n",
    "missing_plot_df = df_by_country[df_by_country['destination_country'].isin(missing_countries)]\n",
    "\n",
    "# Plot the missing countries only to inspect if there are any data points\n",
    "import plotly.express as px\n",
    "\n",
    "pfig_missing = px.line(\n",
    "    missing_plot_df,\n",
    "    x=\"time_period_value\",\n",
    "    y=\"spend\",\n",
    "    color=\"destination_country\",\n",
    "    title=\"Spending by Missing Countries\",\n",
    "    labels={\"spend\": \"Spending\", \"time_period_value\": \"Time Period\"}\n",
    ")\n",
    "\n",
    "# Show the plot for missing countries\n",
    "pfig_missing.show()"
   ]
  },
  {
   "cell_type": "code",
   "execution_count": null,
   "id": "2608a9dd-f42d-4e3e-8de0-4fb28b2dd6f6",
   "metadata": {
    "tags": []
   },
   "outputs": [],
   "source": [
    "# Selected Destination Countries \n",
    "\n",
    "import pandas as pd\n",
    "\n",
    "# List of countries to filter\n",
    "selected_countries = [\n",
    "    'REST OF  ASIAPAC', 'REST OF  C.E.M.E.A.', 'REST OF  CANADA',\n",
    "    'REST OF  EUROPE', 'REST OF  LAT.AM.'\n",
    "]\n",
    "\n",
    "# Filter the data for the selected countries\n",
    "filtered_data = df_by_country[df_by_country['destination_country'].isin(selected_countries)]\n",
    "\n",
    "# Group the data by 'time_period_value' and 'destination_country', summing the 'spend'\n",
    "grouped_data_selected = filtered_data[['time_period_value', 'destination_country', 'spend']].groupby(['time_period_value', 'destination_country']).sum().unstack()\n",
    "\n",
    "# Save the aggregated data to a CSV file\n",
    "csv_filename_selected = '/home/jupyter/uk_spending_selected_countries.csv'\n",
    "grouped_data_selected.to_csv(csv_filename_selected)\n",
    "\n",
    "# Display the table for inspection (optional)\n",
    "print(grouped_data_selected)\n",
    "\n",
    "# Return the CSV filename for reference\n",
    "csv_filename_selected"
   ]
  },
  {
   "cell_type": "code",
   "execution_count": null,
   "id": "3b54f19f-7882-478c-8d32-e15a132b8f2d",
   "metadata": {
    "tags": []
   },
   "outputs": [],
   "source": [
    "# Summarise the UK Cardholder Online Abroad Spending Quarterly Total data by country - USA\n",
    "UK_spending_by_country4 = '''SELECT time_period_value, destination_country, spend \n",
    "FROM `ons-fintrans-data-prod.fintrans_visa.spend_origin_and_channel` \n",
    "where time_period = 'Quarter' \n",
    "and mcg = 'All' \n",
    "and merchant_channel = 'Online' \n",
    "and cardholder_origin_country = 'All' \n",
    "and cardholder_origin = 'UNITED KINGDOM' \n",
    "and destination_country = 'UNITED STATES OF AMERICA' \n",
    "GROUP BY destination_country, \n",
    "time_period_value, spend \n",
    "ORDER BY time_period_value, destination_country DESC'''\n",
    "df_by_country4 = bq.read_bq_table_sql(client, UK_spending_by_country4)\n",
    "df_by_country4.head()"
   ]
  },
  {
   "cell_type": "code",
   "execution_count": null,
   "id": "6e52bb7a-170c-400c-a364-3831c1e8f326",
   "metadata": {
    "tags": []
   },
   "outputs": [],
   "source": [
    "# Run the query and get the data into df_by_country4\n",
    "UK_spending_by_country4 = '''SELECT time_period_value, destination_country, spend \n",
    "FROM `ons-fintrans-data-prod.fintrans_visa.spend_origin_and_channel` \n",
    "WHERE time_period = 'Quarter' \n",
    "  AND mcg = 'All' \n",
    "  AND merchant_channel = 'Online' \n",
    "  AND cardholder_origin_country = 'All' \n",
    "  AND cardholder_origin = 'UNITED KINGDOM' \n",
    "  AND destination_country = 'UNITED STATES OF AMERICA' \n",
    "GROUP BY destination_country, time_period_value, spend \n",
    "ORDER BY time_period_value, destination_country DESC'''\n",
    "\n",
    "# Fetch the data\n",
    "df_by_country4 = bq.read_bq_table_sql(client, UK_spending_by_country4)\n",
    "\n",
    "# Check if the DataFrame is not empty\n",
    "if df_by_country4 is not None and not df_by_country4.empty:\n",
    "    # Export to CSV\n",
    "    df_by_country4.to_csv('uk_spending_to_usa_online_2019_2024.csv', index=False)\n",
    "    print(\"CSV file created successfully!\")\n",
    "else:\n",
    "    print(\"No data returned from the query. Please check your query.\")\n"
   ]
  },
  {
   "cell_type": "code",
   "execution_count": null,
   "id": "6711171c-eae9-4a18-8022-fb6af3ba78c1",
   "metadata": {},
   "outputs": [],
   "source": []
  },
  {
   "cell_type": "code",
   "execution_count": null,
   "id": "0d36db11-835a-45f3-bfd2-fb148d42d063",
   "metadata": {},
   "outputs": [],
   "source": []
  }
 ],
 "metadata": {
  "environment": {
   "kernel": "python3",
   "name": "r-cpu.m125",
   "type": "gcloud",
   "uri": "us-docker.pkg.dev/deeplearning-platform-release/gcr.io/r-cpu:m125"
  },
  "language_info": {
   "codemirror_mode": {
    "name": "ipython",
    "version": 3
   },
   "file_extension": ".py",
   "mimetype": "text/x-python",
   "name": "python",
   "nbconvert_exporter": "python",
   "pygments_lexer": "ipython3",
   "version": "3.10.15"
  }
 },
 "nbformat": 4,
 "nbformat_minor": 5
}
