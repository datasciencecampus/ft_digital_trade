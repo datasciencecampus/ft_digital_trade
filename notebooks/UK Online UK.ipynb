{
 "cells": [
  {
   "cell_type": "code",
   "execution_count": null,
   "id": "6de3803a-30cd-4952-9c73-d768cd6570d8",
   "metadata": {
    "tags": []
   },
   "outputs": [],
   "source": [
    "project_path = \"/home/jupyter\"\n",
    "import os\n",
    "import sys\n",
    "sys.path.append(project_path)\n",
    "from google.cloud import bigquery, storage\n",
    "\n",
    "import matplotlib.pyplot as plt\n",
    "import numpy as np\n",
    "import pandas as pd\n",
    "import plotly.express as px\n",
    "\n",
    "from fintrans_toolbox.src import bq_utils as bq\n",
    "\n",
    "client = bigquery.Client()"
   ]
  },
  {
   "cell_type": "code",
   "execution_count": null,
   "id": "d7dbb779-ea2b-4442-a915-e2374d0b294c",
   "metadata": {
    "tags": []
   },
   "outputs": [],
   "source": [
    "# Summarise the data by UK Cardholder Domestic Spending All\n",
    "\n",
    "UK_spending_by_Dom_All = '''SELECT time_period_value, destination_country, spend \n",
    "FROM `ons-fintrans-data-prod.fintrans_visa.spend_origin_and_channel` \n",
    "where time_period = 'Quarter' \n",
    "and mcc = 'All' \n",
    "and mcg = 'All' \n",
    "and merchant_channel = 'All' \n",
    "and cardholder_origin_country = 'All' \n",
    "and cardholder_origin = 'UNITED KINGDOM' \n",
    "and destination_country = 'UNITED KINGDOM' \n",
    "GROUP BY destination_country, \n",
    "time_period_value, spend \n",
    "ORDER BY time_period_value, destination_country DESC'''\n",
    "df_by_Dom_All = bq.read_bq_table_sql(client, UK_spending_by_Dom_All)\n",
    "df_by_Dom_All.head()\n",
    "\n",
    "#Caculate UK Domestic Total Spending\n",
    "\n",
    "import pandas as pd\n",
    "\n",
    "# Assuming df_by_Dom_All is the DataFrame with your data\n",
    "# Ensure 'time_period_value' is a string type and split it to get the year (assuming 'Q1', 'Q2', etc., are part of the time_period_value)\n",
    "\n",
    "# Extract the year from the time_period_value (assuming it's in the format like '2023-Q1', '2023-Q2', etc.)\n",
    "df_by_Dom_All['year'] = df_by_Dom_All['time_period_value'].str[:4].astype(int)\n",
    "\n",
    "# Now group by year and sum the spend for each year\n",
    "df_yearly_Dom_All = df_by_Dom_All.groupby('year')['spend'].sum().reset_index()\n",
    "\n",
    "# Optionally, you can sort the result by year\n",
    "df_yearly_Dom_All = df_yearly_Dom_All.sort_values(by='year')\n",
    "\n",
    "# Display the yearly totals\n",
    "print(df_yearly_Dom_All)"
   ]
  },
  {
   "cell_type": "code",
   "execution_count": null,
   "id": "ff36c3ac-76be-4168-a951-7a8d50164ef6",
   "metadata": {
    "tags": []
   },
   "outputs": [],
   "source": [
    "df_yearly_Dom_All.to_csv('UK_yearly_Dom_All.csv')"
   ]
  },
  {
   "cell_type": "code",
   "execution_count": null,
   "id": "2ceb8398-a9a2-4c4b-be6d-7e9352c00fd9",
   "metadata": {
    "tags": []
   },
   "outputs": [],
   "source": [
    "# Summarise the data by UK Cardholder Domestic Online Spending All\n",
    "\n",
    "UK_spending_by_Dom_Online_All = '''SELECT time_period_value, destination_country, spend \n",
    "FROM `ons-fintrans-data-prod.fintrans_visa.spend_origin_and_channel` \n",
    "where time_period = 'Quarter' \n",
    "and mcg = 'All' \n",
    "and merchant_channel = 'Online' \n",
    "and cardholder_origin_country = 'All' \n",
    "and cardholder_origin = 'UNITED KINGDOM' \n",
    "and destination_country = 'UNITED KINGDOM' \n",
    "GROUP BY destination_country, \n",
    "time_period_value, spend \n",
    "ORDER BY time_period_value, destination_country DESC'''\n",
    "df_by_Dom_Online_All = bq.read_bq_table_sql(client, UK_spending_by_Dom_Online_All)\n",
    "# Rename the 'spend' column to 'online_spend'\n",
    "df_by_Dom_Online_All = df_by_Dom_Online_All.rename(columns={'spend': 'dom_online_spend'})\n",
    "df_by_Dom_Online_All.head()\n",
    "\n",
    "# Yearly UK Cardholder Domestic Online Spending All\n",
    "\n",
    "import pandas as pd\n",
    "\n",
    "# Assuming df_by_Dom_Online_All is the DataFrame with your data\n",
    "# Ensure 'time_period_value' is a string type and split it to get the year (assuming 'Q1', 'Q2', etc., are part of the time_period_value)\n",
    "\n",
    "# Extract the year from the time_period_value (assuming it's in the format like '2023-Q1', '2023-Q2', etc.)\n",
    "df_by_Dom_Online_All['year'] = df_by_Dom_Online_All['time_period_value'].str[:4].astype(int)\n",
    "\n",
    "# Now group by year and sum the spend for each year\n",
    "df_yearly_Dom_Online_All = df_by_Dom_Online_All.groupby('year')['dom_online_spend'].sum().reset_index()\n",
    "\n",
    "# Optionally, you can sort the result by year\n",
    "df_yearly_Dom_Online_All = df_yearly_Dom_Online_All.sort_values(by='year')\n",
    "\n",
    "# Display the yearly totals\n",
    "print(df_yearly_Dom_Online_All)"
   ]
  },
  {
   "cell_type": "code",
   "execution_count": null,
   "id": "ae745a9e-556f-4d81-adad-c2e77c82fa61",
   "metadata": {
    "tags": []
   },
   "outputs": [],
   "source": [
    "df_yearly_Dom_Online_All.to_csv('UK_yearly_Dom_Online_All.csv')"
   ]
  },
  {
   "cell_type": "code",
   "execution_count": null,
   "id": "f4c75930-485a-447a-8ad8-38865d3438f4",
   "metadata": {
    "tags": []
   },
   "outputs": [],
   "source": [
    "# Bar chart Yearly Domestic Online Spend by UK Cardholders\n",
    "\n",
    "import pandas as pd\n",
    "import plotly.express as px\n",
    "\n",
    "# Step 1: Load the data from the CSV file\n",
    "df_yearly_spend1 = pd.read_csv('UK_yearly_Dom_Online_All.csv')\n",
    "\n",
    "# Step 2: Create the Bar Chart\n",
    "fig_bar = px.bar(df_yearly_spend1, \n",
    "                 x='year', \n",
    "                 y='dom_online_spend', \n",
    "                 title='Yearly Domestic Online Spend by UK Cardholders',\n",
    "                 labels={'dom_online_spend': 'Online Spend (£)', 'year': 'Year'},\n",
    "                 color='year',  # Color bars by year\n",
    "                 text='dom_online_spend')  # Display value on top of bars\n",
    "\n",
    "# Customize the chart: Add text outside the bars\n",
    "fig_bar.update_traces(texttemplate='%{text:.2f}', textposition='outside', marker=dict(line=dict(width=1, color='black')))\n",
    "\n",
    "# Update the y-axis range to zoom in\n",
    "fig_bar.update_layout(\n",
    "    yaxis=dict(\n",
    "        range=[0, df_yearly_spend1['dom_online_spend'].max() * 1.1]  # Add a small buffer above the maximum value\n",
    "    ),\n",
    "    xaxis=dict(tickmode='linear')\n",
    ")\n",
    "\n",
    "# Show the bar chart\n",
    "fig_bar.show()\n"
   ]
  },
  {
   "cell_type": "code",
   "execution_count": null,
   "id": "bac4a542-12c9-4160-bac6-e0f6965727ae",
   "metadata": {
    "tags": []
   },
   "outputs": [],
   "source": [
    "# Create the Line Chart\n",
    "fig_line = px.line(df_yearly_spend1, \n",
    "                   x='year', \n",
    "                   y='dom_online_spend', \n",
    "                   title='Yearly Domestic Online Spend by UK Cardholders (Line Chart)',\n",
    "                   labels={'dom_online_spend': 'Online Spend (£)', 'year': 'Year'},\n",
    "                   markers=True)  # Add markers at each data point\n",
    "\n",
    "# Customize the line chart: Add thicker line and larger markers\n",
    "fig_line.update_traces(line=dict(width=3), marker=dict(size=7, color='red'))\n",
    "fig_line.update_layout(xaxis=dict(tickmode='linear'), yaxis=dict(title='Online Spend (£)'))\n",
    "\n",
    "# Show the line chart\n",
    "fig_line.show()\n"
   ]
  },
  {
   "cell_type": "code",
   "execution_count": null,
   "id": "d3740d88-7724-4a6e-b9c9-e5a4ba752bea",
   "metadata": {
    "tags": []
   },
   "outputs": [],
   "source": [
    "# UK Domestic Online Quarterly Bar Chart  ----------------- Method 1\n",
    "\n",
    "# Assign value and percentage change variables\n",
    "df_by_Dom_Online_All = df_by_Dom_Online_All.sort_values(['destination_country','time_period_value'])\n",
    "df_by_Dom_Online_All['pct_change'] = df_by_Dom_Online_All.groupby(['destination_country']).dom_online_spend.pct_change()\n",
    "df_by_Dom_Online_All['value_change'] = df_by_Dom_Online_All.groupby(['destination_country']).dom_online_spend.diff()\n",
    "\n",
    "# Plot stacked bar chart with all values\n",
    "df_by_Dom_Online_All[['time_period_value','destination_country','dom_online_spend']].groupby(['time_period_value','destination_country']).sum().unstack().plot(kind = 'bar', stacked = 'True')"
   ]
  },
  {
   "cell_type": "code",
   "execution_count": null,
   "id": "33cb4fa0-83c9-4dcb-bbad-c77cc7996c04",
   "metadata": {
    "tags": []
   },
   "outputs": [],
   "source": [
    "# Plot line chart using plotly express for all countries\n",
    "pfig2 = px.line(\n",
    "        df_by_Dom_Online_All,\n",
    "        x=\"time_period_value\",\n",
    "        y=\"dom_online_spend\",\n",
    "        color=\"destination_country\")\n",
    "pfig2"
   ]
  },
  {
   "cell_type": "code",
   "execution_count": null,
   "id": "a3d48815-ee73-4121-8051-8b298aaee677",
   "metadata": {
    "tags": []
   },
   "outputs": [],
   "source": []
  },
  {
   "cell_type": "code",
   "execution_count": null,
   "id": "336dd75f-c79e-4c18-b6a9-10100a7e6170",
   "metadata": {
    "tags": []
   },
   "outputs": [],
   "source": [
    "# UK Domestic Online Quarterly Bar Chart  ----------------- Method 2\n",
    "\n",
    "# Select some contries to plot and reduce dataframe\n",
    "countries = ['UNITED KINGDOM']\n",
    "plot_df = df_by_Dom_Online_All[['time_period_value','destination_country','dom_online_spend']].loc[df_by_Dom_Online_All['destination_country'].isin(countries) ]\n",
    "\n",
    "#stacked bar chart using pandas plot\n",
    "plot_df.groupby(['time_period_value','destination_country']).sum().unstack().plot(kind = 'bar', stacked = 'True')"
   ]
  },
  {
   "cell_type": "code",
   "execution_count": null,
   "id": "c23e73bc-6e63-422b-8d19-466bcc25f9e6",
   "metadata": {
    "tags": []
   },
   "outputs": [],
   "source": [
    "# Compare UK Domestic Yearly Total Spend vs Online Spend ---------------- Method 1\n",
    "\n",
    "import pandas as pd\n",
    "import matplotlib.pyplot as plt\n",
    "\n",
    "# Load the CSV files\n",
    "online_df = pd.read_csv(\"UK_yearly_Dom_Online_All.csv\")\n",
    "all_df = pd.read_csv(\"UK_yearly_Dom_All.csv\")\n",
    "\n",
    "# Plotting the line chart\n",
    "plt.figure(figsize=(10, 6))\n",
    "plt.plot(online_df['year'], online_df['dom_online_spend'], marker='o', label='Domestic Online Spend')\n",
    "plt.plot(all_df['year'], all_df['spend'], marker='o', label='Total Domestic Spend')\n",
    "\n",
    "# Adding labels and title\n",
    "plt.xlabel('Year')\n",
    "plt.ylabel('Spend (in currency units)')\n",
    "plt.title('Comparison of Domestic Online Spend vs Total Domestic Spend in the UK')\n",
    "plt.legend()\n",
    "plt.grid(True)\n",
    "plt.tight_layout()\n",
    "\n",
    "# Save the plot\n",
    "plt.savefig(\"domestic_spend_comparison.png\")\n",
    "plt.show()\n",
    "\n"
   ]
  },
  {
   "cell_type": "code",
   "execution_count": null,
   "id": "74e59a14-040e-4628-b513-84af138a12b6",
   "metadata": {
    "tags": []
   },
   "outputs": [],
   "source": [
    "# Compare UK Domestic Yearly Total Spend vs Online Spend ---------------- Method 2\n",
    "\n",
    "import pandas as pd\n",
    "import plotly.express as px\n",
    "\n",
    "# Load the CSV files\n",
    "df_online = pd.read_csv(\"UK_yearly_Dom_Online_All.csv\")\n",
    "df_total = pd.read_csv(\"UK_yearly_Dom_All.csv\")\n",
    "\n",
    "# Merge the dataframes on 'year'\n",
    "df = pd.merge(df_total, df_online, on='year')\n",
    "\n",
    "# Rename columns for better legend labels\n",
    "df = df.rename(columns={\n",
    "    'spend': 'Domestic Total Spend',\n",
    "    'dom_online_spend': 'Domestic Online Spend'\n",
    "})\n",
    "\n",
    "# Create the line chart\n",
    "fig = px.line(\n",
    "    df,\n",
    "    x='year',\n",
    "    y=['Domestic Total Spend', 'Domestic Online Spend'],\n",
    "    title='UK Domestic Yearly Total Spend vs Online Spend',\n",
    "    labels={'year': 'Year', 'value': 'Spend (£)', 'variable': 'Spending Type'},\n",
    "    markers=True\n",
    ")\n",
    "\n",
    "# Customize the chart\n",
    "fig.update_traces(line=dict(width=3), marker=dict(size=7))\n",
    "fig.update_layout(xaxis=dict(tickmode='linear'))\n",
    "\n",
    "# Show the chart\n",
    "fig.show()\n",
    "\n",
    "\n"
   ]
  },
  {
   "cell_type": "code",
   "execution_count": null,
   "id": "66bbe2d9-b723-4ea2-89ba-018c5f73b73b",
   "metadata": {
    "tags": []
   },
   "outputs": [],
   "source": [
    "# Bar Chart UK Domestic Online Spend to Total Spend Ratio 2019 - 2025\n",
    "\n",
    "import pandas as pd\n",
    "import plotly.express as px\n",
    "\n",
    "# Load data from CSV files\n",
    "df_total_spend = pd.read_csv(\"UK_yearly_Dom_All.csv\")\n",
    "df_online_spend = pd.read_csv(\"UK_yearly_Dom_Online_All.csv\")\n",
    "\n",
    "# Merge the dataframes on 'year'\n",
    "df = pd.merge(df_total_spend, df_online_spend, on='year')\n",
    "\n",
    "# Rename columns for clarity\n",
    "df.rename(columns={'spend': 'total_spend', 'dom_online_spend': 'online_spend'}, inplace=True)\n",
    "\n",
    "# Calculate the ratio of online spend to total spend for each year\n",
    "df['online_total_ratio'] = df['online_spend'] / df['total_spend']\n",
    "\n",
    "# Create the bar chart with the ratio figures on top of each bar\n",
    "fig_bar = px.bar(df, \n",
    "                 x='year', \n",
    "                 y='online_total_ratio', \n",
    "                 title='UK Domestic Online Spend to Total Spend Ratio 2019 - 2025',\n",
    "                 labels={'online_total_ratio': 'Online Spend to Total Spend Ratio', 'year': 'Year'},\n",
    "                 color='online_total_ratio',\n",
    "                 color_continuous_scale='Viridis',\n",
    "                 text='online_total_ratio')\n",
    "\n",
    "# Customize the bar chart appearance\n",
    "fig_bar.update_layout(\n",
    "    xaxis=dict(tickmode='linear'),\n",
    "    yaxis=dict(title='Ratio', range=[0, df['online_total_ratio'].max() + 0.1])\n",
    ")\n",
    "\n",
    "# Update the trace to adjust the text position and formatting\n",
    "fig_bar.update_traces(\n",
    "    texttemplate='%{text:.2f}',\n",
    "    textposition='outside',\n",
    "    textfont_size=12,\n",
    "    textfont_color='black'\n",
    ")\n",
    "\n",
    "# Show the bar chart\n",
    "fig_bar.show()\n",
    "\n"
   ]
  },
  {
   "cell_type": "code",
   "execution_count": null,
   "id": "722c6317-3c38-44c5-b4fe-e7a7cfe43fef",
   "metadata": {},
   "outputs": [],
   "source": []
  }
 ],
 "metadata": {
  "environment": {
   "kernel": "python3",
   "name": "r-cpu.m125",
   "type": "gcloud",
   "uri": "us-docker.pkg.dev/deeplearning-platform-release/gcr.io/r-cpu:m125"
  },
  "language_info": {
   "codemirror_mode": {
    "name": "ipython",
    "version": 3
   },
   "file_extension": ".py",
   "mimetype": "text/x-python",
   "name": "python",
   "nbconvert_exporter": "python",
   "pygments_lexer": "ipython3",
   "version": "3.10.15"
  }
 },
 "nbformat": 4,
 "nbformat_minor": 5
}
