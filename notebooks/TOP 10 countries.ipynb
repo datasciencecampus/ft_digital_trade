{
 "cells": [
  {
   "cell_type": "code",
   "execution_count": null,
   "id": "5dc7b5b0-c0da-4e81-bf94-08e5c793bfef",
   "metadata": {
    "tags": []
   },
   "outputs": [],
   "source": [
    "project_path = \"/home/jupyter\"\n",
    "import os\n",
    "import sys\n",
    "\n",
    "sys.path.append(project_path)\n",
    "import numpy as np\n",
    "import pandas as pd\n",
    "import matplotlib.pyplot as plt\n",
    "import re\n",
    "from google.cloud import bigquery\n",
    "\n",
    "from fintrans_toolbox.src import bq_utils as bq\n",
    "from fintrans_toolbox.src import table_utils as t\n",
    "\n",
    "\n",
    "client = bigquery.Client()"
   ]
  },
  {
   "cell_type": "code",
   "execution_count": null,
   "id": "3179a332-6984-4947-b2e5-69cb30f1b24d",
   "metadata": {
    "tags": []
   },
   "outputs": [],
   "source": [
    "# Summarise the data by mcg\n",
    "UK_spending_by_country = '''SELECT time_period_value, destination_country, spend\n",
    "FROM `ons-fintrans-data-prod.fintrans_visa.spend_origin_and_channel` \n",
    "where time_period = 'Quarter'\n",
    "and time_period_value != '2025Q1'  \n",
    "and merchant_channel = 'Online'\n",
    "and cardholder_origin_country = 'All' \n",
    "and cardholder_origin = 'UNITED KINGDOM'\n",
    "and destination_country != 'UNITED KINGDOM'\n",
    "and mcg = 'All'\n",
    "GROUP BY destination_country, time_period_value, spend\n",
    "ORDER BY time_period_value, spend DESC'''\n",
    "\n",
    "yearly_country_df = bq.read_bq_table_sql(client, UK_spending_by_country)\n",
    "\n",
    "yearly_country_df['year'] = yearly_country_df['time_period_value'].str[:4]\n",
    "\n",
    "yearly_country_df.head()"
   ]
  },
  {
   "cell_type": "code",
   "execution_count": null,
   "id": "934ccf2a-e520-442a-b899-1915afbbba30",
   "metadata": {
    "tags": []
   },
   "outputs": [],
   "source": [
    "yearly_country_df.to_csv('yearly_country_df.csv')\n",
    "df = pd.read_csv('yearly_country_df.csv')\n",
    "latest_country_df = df[df['year'] == 2024][['destination_country', 'spend']]\n",
    "latest_country_df.to_csv('2024_country.csv', index=False)"
   ]
  },
  {
   "cell_type": "code",
   "execution_count": null,
   "id": "d8c70f72-f261-4c1c-8fde-32474b3ac7ff",
   "metadata": {
    "tags": []
   },
   "outputs": [],
   "source": [
    "total_spend_per_country = latest_country_df.groupby('destination_country')['spend'].sum()\n",
    "print(total_spend_per_country)"
   ]
  },
  {
   "cell_type": "code",
   "execution_count": null,
   "id": "b2048811-4710-4bc4-8f7e-954813ff4cfe",
   "metadata": {
    "tags": []
   },
   "outputs": [],
   "source": [
    "total_spend_per_country_perc = (total_spend_per_country / total_spend_per_country.sum()) * 100\n",
    "print(total_spend_per_country_perc)"
   ]
  },
  {
   "cell_type": "code",
   "execution_count": null,
   "id": "6acd04af-3b97-43a8-b75b-2c9c1f90a2dd",
   "metadata": {
    "tags": []
   },
   "outputs": [],
   "source": [
    "# Group by 'mcg' and sum the 'spend'\n",
    "total_spend_per_country = latest_country_df.groupby('destination_country')['spend'].sum()\n",
    "\n",
    "# Get the top 10 'mcg' categories by spend\n",
    "top_10_country = total_spend_per_country.nlargest(10)\n",
    "\n",
    "# Check if the result is not empty\n",
    "if not top_10_country.empty:\n",
    "    # Calculate the percentage of total spend for these top 10\n",
    "    top_10_country_percentage = (top_10_country / top_10_country.sum()) * 100\n",
    "\n",
    "    # Plot the bar chart\n",
    "    ax = top_10_country_percentage.plot(kind='bar', color='skyblue')\n",
    "\n",
    "    # Customize the plot\n",
    "    plt.ylabel('Percentage of Online Spend')\n",
    "    plt.title('Top 10 Countries by percentage of total online spend, 2024')\n",
    "    plt.xticks(rotation=45, ha='right')\n",
    "    plt.tight_layout()\n",
    "    plt.show()\n",
    "else:\n",
    "    print(\"No data available to plot.\")"
   ]
  },
  {
   "cell_type": "code",
   "execution_count": null,
   "id": "60120308-3c43-485d-a6c0-d3b2fed65ad6",
   "metadata": {},
   "outputs": [],
   "source": []
  }
 ],
 "metadata": {
  "environment": {
   "kernel": "python3",
   "name": "r-cpu.m125",
   "type": "gcloud",
   "uri": "us-docker.pkg.dev/deeplearning-platform-release/gcr.io/r-cpu:m125"
  },
  "language_info": {
   "codemirror_mode": {
    "name": "ipython",
    "version": 3
   },
   "file_extension": ".py",
   "mimetype": "text/x-python",
   "name": "python",
   "nbconvert_exporter": "python",
   "pygments_lexer": "ipython3",
   "version": "3.10.15"
  }
 },
 "nbformat": 4,
 "nbformat_minor": 5
}
