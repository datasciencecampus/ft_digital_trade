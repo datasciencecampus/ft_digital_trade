{
 "cells": [
  {
   "cell_type": "code",
   "execution_count": null,
   "id": "7338d763-bd1d-4db0-803b-104506da86bb",
   "metadata": {
    "tags": []
   },
   "outputs": [],
   "source": [
    "project_path = \"/home/jupyter\"\n",
    "import os\n",
    "import sys\n",
    "\n",
    "sys.path.append(project_path)\n",
    "import numpy as np\n",
    "import pandas as pd\n",
    "import matplotlib.pyplot as plt\n",
    "import re\n",
    "from google.cloud import bigquery\n",
    "\n",
    "from fintrans_toolbox.src import bq_utils as bq\n",
    "from fintrans_toolbox.src import table_utils as t\n",
    "\n",
    "\n",
    "client = bigquery.Client()"
   ]
  },
  {
   "cell_type": "code",
   "execution_count": null,
   "id": "52596a21-76ca-47e2-a411-778bc5309d3f",
   "metadata": {
    "tags": []
   },
   "outputs": [],
   "source": [
    "with open('Digital trade Online spend ratio.ipynb', 'r', encoding='utf-8') as file:\n",
    "    content = file.read()\n",
    "\n",
    "# Replace non-breaking spaces with regular spaces\n",
    "content = content.replace('\\u00A0', ' ')\n",
    "\n",
    "with open('Digital trade Online spend ratio.ipynb', 'w', encoding='utf-8') as file:\n",
    "    file.write(content)"
   ]
  },
  {
   "cell_type": "code",
   "execution_count": null,
   "id": "196d161d-4b1b-4dd4-8cc8-38b63e37f0b7",
   "metadata": {
    "tags": []
   },
   "outputs": [],
   "source": [
    "# Summarise the data by mcg\n",
    "UK_B2B = '''SELECT time_period_value, mcg, spend, mcc, cardholder_location, destination_country\n",
    "FROM `ons-fintrans-data-prod.fintrans_visa.spend_origin_and_channel` \n",
    "where time_period = 'Quarter'\n",
    "and time_period_value != '2025Q1'  \n",
    "and cardholder_origin_country = 'All' \n",
    "and cardholder_origin = 'UNITED KINGDOM'\n",
    "and destination_country != 'UNITED KINGDOM'\n",
    "and mcg IN (\"BUSINESS TO BUSINESS\", \"All\")\n",
    "and mcc = 'All'\n",
    "and merchant_channel = 'All'\n",
    "GROUP BY mcg, time_period_value, spend, mcc, cardholder_location, destination_country\n",
    "ORDER BY time_period_value, mcg DESC'''\n",
    "\n",
    "UK_B2B_year = bq.read_bq_table_sql(client, UK_B2B)\n",
    "\n",
    "UK_B2B_year['year'] = UK_B2B_year['time_period_value'].str[:4]\n",
    "\n",
    "UK_B2B_year.head()\n",
    "\n",
    "UK_B2B_year.to_csv('UK_B2B_year.csv')"
   ]
  },
  {
   "cell_type": "code",
   "execution_count": null,
   "id": "d8c0c249-3d7d-4175-a52f-1ddf1e58b5c4",
   "metadata": {
    "tags": []
   },
   "outputs": [],
   "source": [
    "# Summarise the data by mcg\n",
    "UK_B2B_not = '''SELECT time_period_value, mcg, spend, mcc, cardholder_location, destination_country\n",
    "FROM `ons-fintrans-data-prod.fintrans_visa.spend_origin_and_channel` \n",
    "where time_period = 'Quarter'\n",
    "and time_period_value != '2025Q1'  \n",
    "and cardholder_origin_country = 'All' \n",
    "and cardholder_origin = 'UNITED KINGDOM'\n",
    "and destination_country != 'UNITED KINGDOM'\n",
    "and mcg != 'BUSINESS TO BUSINESS'\n",
    "and mcc = 'All'\n",
    "and merchant_channel = 'All'\n",
    "GROUP BY mcg, time_period_value, spend, mcc, cardholder_location, destination_country\n",
    "ORDER BY time_period_value, mcg DESC'''\n",
    "\n",
    "UK_not_B2B_year = bq.read_bq_table_sql(client, UK_B2B_not)\n",
    "\n",
    "UK_not_B2B_year['year'] = UK_not_B2B_year['time_period_value'].str[:4]\n",
    "\n",
    "UK_not_B2B_year.head()\n",
    "\n",
    "UK_not_B2B_year.to_csv('UK_not_B2B_year.csv')"
   ]
  },
  {
   "cell_type": "code",
   "execution_count": null,
   "id": "34ffebbb-ec3d-42b2-ad43-eec20dc9766c",
   "metadata": {},
   "outputs": [],
   "source": []
  }
 ],
 "metadata": {
  "environment": {
   "kernel": "python3",
   "name": "r-cpu.m125",
   "type": "gcloud",
   "uri": "us-docker.pkg.dev/deeplearning-platform-release/gcr.io/r-cpu:m125"
  },
  "language_info": {
   "codemirror_mode": {
    "name": "ipython",
    "version": 3
   },
   "file_extension": ".py",
   "mimetype": "text/x-python",
   "name": "python",
   "nbconvert_exporter": "python",
   "pygments_lexer": "ipython3",
   "version": "3.10.15"
  }
 },
 "nbformat": 4,
 "nbformat_minor": 5
}
