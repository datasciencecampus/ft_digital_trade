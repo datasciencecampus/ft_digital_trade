{
 "cells": [
  {
   "cell_type": "code",
   "execution_count": null,
   "id": "4c5f4975-f7ac-4611-bc3e-7beef1261ad8",
   "metadata": {
    "tags": []
   },
   "outputs": [],
   "source": [
    "project_path = \"/home/jupyter\"\n",
    "import os\n",
    "import sys\n",
    "\n",
    "sys.path.append(project_path)\n",
    "import numpy as np\n",
    "import pandas as pd\n",
    "import matplotlib.pyplot as plt\n",
    "import plotly.express as px\n",
    "import re\n",
    "from google.cloud import bigquery\n",
    "import plotly.graph_objects as go\n",
    "\n",
    "\n",
    "from fintrans_toolbox.src import bq_utils as bq\n",
    "from fintrans_toolbox.src import table_utils as t\n",
    "\n",
    "client = bigquery.Client()"
   ]
  },
  {
   "cell_type": "code",
   "execution_count": null,
   "id": "7642ef29-999e-4b86-8bf1-1a7f2d4f768a",
   "metadata": {
    "tags": []
   },
   "outputs": [],
   "source": [
    "# Summarise the data by mcg\n",
    "UK_index_merchant_channel = '''SELECT time_period_value, cardholders\n",
    "FROM `ons-fintrans-data-prod.fintrans_visa.spend_origin_and_channel` \n",
    "where time_period = 'Month'\n",
    "and cardholder_origin_country = 'All' \n",
    "and cardholder_origin = 'UNITED KINGDOM'\n",
    "and mcg = 'All'\n",
    "and merchant_channel = 'All'\n",
    "GROUP BY time_period_value, cardholders\n",
    "ORDER BY time_period_value, cardholders DESC'''\n",
    "\n",
    "UK_index_merchant_channel = bq.read_bq_table_sql(client, UK_index_merchant_channel)\n",
    "\n",
    "UK_index_merchant_channel.head()"
   ]
  },
  {
   "cell_type": "code",
   "execution_count": null,
   "id": "fc3d8885-67be-44dc-adec-fb0ff47bbbcd",
   "metadata": {},
   "outputs": [],
   "source": [
    "UK_index_merchant_channel.to_csv('UK_index_merchant_channel.csv')"
   ]
  },
  {
   "cell_type": "code",
   "execution_count": null,
   "id": "45898901-a754-4304-939b-f3f888b1eeca",
   "metadata": {},
   "outputs": [],
   "source": [
    "df_index = pd.read_excel(\"merchant channel 1.xlsx\", engine=\"openpyxl\")\n",
    "\n",
    "# Convert time_period_value to datetime format\n",
    "df_index[\"date\"] = pd.to_datetime(df_index[\"time_period_value\"].astype(str), format=\"%Y%m\")\n",
    "\n",
    "# Aggregate monthly spend for index file\n",
    "monthly_index_spend = df_index.groupby(\"date\")[\"spend\"].sum().reset_index()\n",
    "\n",
    "# Get the base value from January 2019\n",
    "base_date = pd.to_datetime(\"201901\", format=\"%Y%m\")\n",
    "base_value = monthly_index_spend.loc[monthly_index_spend[\"date\"] == base_date, \"spend\"].values[0]\n",
    "\n",
    "# Create monthly index (base = 100)\n",
    "monthly_index_spend[\"monthly_index\"] = (monthly_index_spend[\"spend\"] / base_value) * 100\n",
    "\n",
    "# Prepare main data for indexing\n",
    "monthly_main_spend = df_main.groupby([df_main[\"date\"], df_main[\"merchant_channel\"]])[\"spend\"].sum().reset_index()\n",
    "\n",
    "# Merge with monthly index\n",
    "merged_df = pd.merge(monthly_main_spend, monthly_index_spend[[\"date\", \"monthly_index\"]], on=\"date\", how=\"left\")\n",
    "\n",
    "# Extract data for 2019 to compute the base index for each merchant channel\n",
    "merged_df[\"year\"] = merged_df[\"date\"].dt.year\n",
    "base_2019 = merged_df[merged_df[\"year\"] == 2019].groupby(\"merchant_channel\")[\"spend\"].mean()\n",
    "\n",
    "# Normalize spend using 2019 average as base index (set to 100)\n",
    "merged_df[\"indexed_spend\"] = merged_df.apply(\n",
    "    lambda row: (row[\"spend\"] / base_2019[row[\"merchant_channel\"]]) * 100, axis=1\n",
    ")\n",
    "\n",
    "# Apply monthly index from merchant channel 1.xlsx\n",
    "merged_df[\"adjusted_indexed_spend\"] = merged_df[\"indexed_spend\"] * (merged_df[\"monthly_index\"] / 100)\n",
    "\n",
    "# Save the adjusted data to a CSV file\n",
    "merged_df.to_csv(\"adjusted_monthly_spend_index.csv\", index=False)\n"
   ]
  }
 ],
 "metadata": {
  "environment": {
   "kernel": "python3",
   "name": "r-cpu.m125",
   "type": "gcloud",
   "uri": "us-docker.pkg.dev/deeplearning-platform-release/gcr.io/r-cpu:m125"
  },
  "language_info": {
   "codemirror_mode": {
    "name": "ipython",
    "version": 3
   },
   "file_extension": ".py",
   "mimetype": "text/x-python",
   "name": "python",
   "nbconvert_exporter": "python",
   "pygments_lexer": "ipython3",
   "version": "3.10.15"
  }
 },
 "nbformat": 4,
 "nbformat_minor": 5
}
