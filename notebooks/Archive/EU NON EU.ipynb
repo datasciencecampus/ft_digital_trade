{
 "cells": [
  {
   "cell_type": "code",
   "execution_count": null,
   "id": "c27ad738-c45b-4adc-a31d-3d730d589407",
   "metadata": {
    "tags": []
   },
   "outputs": [],
   "source": [
    "project_path = \"/home/jupyter\"\n",
    "import os\n",
    "import sys\n",
    "\n",
    "sys.path.append(project_path)\n",
    "import numpy as np\n",
    "import pandas as pd\n",
    "import matplotlib.pyplot as plt\n",
    "import re\n",
    "from google.cloud import bigquery\n",
    "\n",
    "from fintrans_toolbox.src import bq_utils as bq\n",
    "from fintrans_toolbox.src import table_utils as t\n",
    "\n",
    "\n",
    "client = bigquery.Client()"
   ]
  },
  {
   "cell_type": "code",
   "execution_count": null,
   "id": "fac7eb5d-1d1d-4d09-8b86-8498ade9154d",
   "metadata": {
    "tags": []
   },
   "outputs": [],
   "source": [
    "# Summarise the data by country\n",
    "UK_spending_by_country = '''SELECT time_period_value, destination_country, spend \n",
    "FROM `ons-fintrans-data-prod.fintrans_visa.spend_origin_and_channel` \n",
    "where time_period = 'Quarter'\n",
    "and time_period_value != '2025Q1' \n",
    "and merchant_channel = 'Online' \n",
    "and cardholder_origin_country = 'All' \n",
    "and cardholder_origin = 'UNITED KINGDOM' \n",
    "and mcg != 'BUSINESS TO BUSINESS'\n",
    "and destination_country != 'UNITED KINGDOM'\n",
    "GROUP BY destination_country, time_period_value, spend \n",
    "ORDER BY time_period_value, destination_country DESC'''\n",
    "\n",
    "df_by_country = bq.read_bq_table_sql(client, UK_spending_by_country)\n",
    "\n",
    "df_by_country['year'] = df_by_country['time_period_value'].str[:4]\n",
    "\n",
    "df_by_country.head()\n"
   ]
  },
  {
   "cell_type": "code",
   "execution_count": null,
   "id": "aad92df6-6f50-4273-8bc1-19817dc9e006",
   "metadata": {
    "tags": []
   },
   "outputs": [],
   "source": [
    "df_by_country.to_csv('UK_country_intl.csv')"
   ]
  },
  {
   "cell_type": "code",
   "execution_count": null,
   "id": "1374db56-ab05-42f3-863f-b028fc0053cd",
   "metadata": {
    "tags": []
   },
   "outputs": [],
   "source": [
    "grouped_df = df_by_country.groupby(['year', 'destination_country'])['spend'].sum().reset_index()"
   ]
  },
  {
   "cell_type": "code",
   "execution_count": null,
   "id": "8fff9709-ef06-4278-8beb-73f384c6ccd2",
   "metadata": {
    "tags": []
   },
   "outputs": [],
   "source": [
    "grouped_df.to_csv('UK_country_yearly.csv')\n",
    "\n",
    "df = pd.read_csv('UK_country_yearly.csv')\n",
    "latest_year = df[df['year'] == 2024][['destination_country', 'spend']]\n",
    "latest_year.to_csv('2024_countries.csv', index=False)\n"
   ]
  },
  {
   "cell_type": "code",
   "execution_count": null,
   "id": "568d9c61-bbc4-4576-8639-82bb2da9e01f",
   "metadata": {
    "tags": []
   },
   "outputs": [],
   "source": [
    "pivot_df = grouped_df.pivot(index='year', columns='destination_country', values='spend')\n",
    "\n",
    "# Calculate index (2019 = 100)\n",
    "base_year = '2019'\n",
    "indexed_df = pivot_df.apply(lambda x: (x / x[base_year]) * 100)\n",
    "\n",
    "# Plot the indexed spend values\n",
    "indexed_df.plot(kind='line', marker='o')\n",
    "plt.title('Indexed Yearly Spend by Destination Country (2019 = 100)')\n",
    "plt.xlabel('Year')\n",
    "plt.ylabel('Indexed Spend')\n",
    "plt.legend(title='Destination Country')\n",
    "plt.grid(True)\n",
    "plt.show()\n"
   ]
  },
  {
   "cell_type": "code",
   "execution_count": null,
   "id": "098546d6-4538-43a9-85d0-62944cda3f0a",
   "metadata": {
    "tags": []
   },
   "outputs": [],
   "source": [
    "# Define EU countries\n",
    "EU_definition = ['FRANCE', 'SPAIN', 'GERMANY', 'AUSTRIA', 'ITALY', 'NETHERLANDS','POLAND', 'PORTUGAL', 'REPUBLIC OF IRELAND', 'REST OF  EUROPE', 'SWITZERLAND']\n",
    "\n",
    "# Label countries as 'EU' or 'Not EU'\n",
    "grouped_df['EU'] = grouped_df['destination_country'].apply(lambda x: 'EU' if x in EU_definition else 'Not EU')\n",
    "\n",
    "# Group by year and EU status\n",
    "EU_NONEU = grouped_df.groupby(['year', 'EU'])['spend'].sum().reset_index()\n",
    "\n",
    "# Save to CSV\n",
    "grouped_df.to_csv('EU_grouped.csv', index=False)\n",
    "EU_NONEU.to_csv('EU_NONEU.csv', index=False)\n"
   ]
  },
  {
   "cell_type": "code",
   "execution_count": null,
   "id": "fc61875f-9eb7-4ab6-9e3c-be61dfbafd5e",
   "metadata": {
    "tags": []
   },
   "outputs": [],
   "source": [
    "pivot_df = EU_NONEU.pivot(index='year', columns='EU', values='spend')\n",
    "\n",
    "# Calculate index (2019 = 100)\n",
    "base_year = '2019'\n",
    "indexed_df = pivot_df.apply(lambda x: (x / x[base_year]) * 100)\n",
    "\n",
    "# Plot the indexed spend values\n",
    "indexed_df.plot(kind='line', marker='o')\n",
    "plt.title('Indexed Yearly Online Spend by Destination (2019 = 100)')\n",
    "plt.xlabel('Year')\n",
    "plt.ylabel('Indexed Spend')\n",
    "plt.legend(title='Destination Coun')\n",
    "plt.grid(True)\n",
    "plt.show()"
   ]
  },
  {
   "cell_type": "code",
   "execution_count": null,
   "id": "7cacb778-329a-400a-951d-689e0d39ab02",
   "metadata": {
    "tags": []
   },
   "outputs": [],
   "source": [
    "# Group by 'mcg' and sum the 'spend'\n",
    "total_spend_per_country = latest_year.groupby('destination_country')['spend'].sum()\n",
    "\n",
    "# Get the top 10 'mcg' categories by spend\n",
    "top_10_country = total_spend_per_country.nlargest(10)\n",
    "\n",
    "# Check if the result is not empty\n",
    "if not top_10_country.empty:\n",
    "    # Calculate the percentage of total spend for these top 10\n",
    "    top_10_country_percentage = (top_10_country / top_10_country.sum()) * 100\n",
    "\n",
    "    # Plot the bar chart\n",
    "    ax = top_10_country_percentage.plot(kind='bar', color='skyblue')\n",
    "\n",
    "    # Customize the plot\n",
    "    plt.ylabel('Percentage of Total Spend')\n",
    "    plt.title('Top 10 Countries by percentage of total spend, 2024')\n",
    "    plt.xticks(rotation=45, ha='right')\n",
    "    plt.tight_layout()\n",
    "    plt.show()\n",
    "else:\n",
    "    print(\"No data available to plot.\")"
   ]
  },
  {
   "cell_type": "code",
   "execution_count": null,
   "id": "74b11ccb-c3c3-466f-8a69-f32388ee9fd6",
   "metadata": {},
   "outputs": [],
   "source": []
  }
 ],
 "metadata": {
  "environment": {
   "kernel": "python3",
   "name": "r-cpu.m125",
   "type": "gcloud",
   "uri": "us-docker.pkg.dev/deeplearning-platform-release/gcr.io/r-cpu:m125"
  },
  "language_info": {
   "codemirror_mode": {
    "name": "ipython",
    "version": 3
   },
   "file_extension": ".py",
   "mimetype": "text/x-python",
   "name": "python",
   "nbconvert_exporter": "python",
   "pygments_lexer": "ipython3",
   "version": "3.10.15"
  },
  "toc-showcode": true,
  "toc-showmarkdowntxt": true
 },
 "nbformat": 4,
 "nbformat_minor": 5
}
