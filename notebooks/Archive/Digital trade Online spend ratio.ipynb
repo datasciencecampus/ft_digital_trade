{
 "cells": [
  {
   "cell_type": "code",
   "execution_count": null,
   "id": "c27ad738-c45b-4adc-a31d-3d730d589407",
   "metadata": {
    "tags": []
   },
   "outputs": [],
   "source": [
    "project_path = \"/home/jupyter\"\n",
    "import os\n",
    "import sys\n",
    "\n",
    "sys.path.append(project_path)\n",
    "import numpy as np\n",
    "import pandas as pd\n",
    "import matplotlib.pyplot as plt\n",
    "import re\n",
    "from google.cloud import bigquery\n",
    "\n",
    "from fintrans_toolbox.src import bq_utils as bq\n",
    "from fintrans_toolbox.src import table_utils as t\n",
    "\n",
    "\n",
    "client = bigquery.Client()"
   ]
  },
  {
   "cell_type": "code",
   "execution_count": null,
   "id": "fac7eb5d-1d1d-4d09-8b86-8498ade9154d",
   "metadata": {
    "tags": []
   },
   "outputs": [],
   "source": [
    "# Summarise the data by mcg\n",
    "UK_spending_by_country = '''SELECT time_period_value, mcg, spend, merchant_channel\n",
    "FROM `ons-fintrans-data-prod.fintrans_visa.spend_origin_and_channel` \n",
    "where time_period = 'Quarter'\n",
    "and time_period_value != '2025Q1'  \n",
    "and cardholder_origin_country = 'All' \n",
    "and cardholder_origin = 'UNITED KINGDOM'\n",
    "and destination_country NOT IN(\"UNITED KINGDOM\",\"REST OF EUROPE\")\n",
    "and mcg IN (\"All\",\"RETAIL GOODS\",\"ELECTRONICS\",\"ENTERTAINMENT\",\"APPAREL & ACCESSORIES\",\"AIRLINES\",\"PROFESSIONAL SERVICES\",\"LODGING\",\"TRANSPORTATION\",\"EDUCATION & GOVERNMENT\",\"TRAVEL SERVICES\")\n",
    "GROUP BY mcg, time_period_value, spend, merchant_channel\n",
    "ORDER BY time_period_value, spend DESC'''\n",
    "\n",
    "online_ratio = bq.read_bq_table_sql(client, UK_spending_by_country)\n",
    "\n",
    "online_ratio['year'] = online_ratio['time_period_value'].str[:4]\n",
    "\n",
    "online_ratio.head()\n"
   ]
  },
  {
   "cell_type": "code",
   "execution_count": null,
   "id": "aad92df6-6f50-4273-8bc1-19817dc9e006",
   "metadata": {
    "tags": []
   },
   "outputs": [],
   "source": [
    "online_ratio.to_csv('online_ratio.csv')\n",
    "online_ratio_yearly = online_ratio.groupby(['year', 'mcg','merchant_channel'])['spend'].sum().reset_index()\n",
    "\n",
    "online_ratio_yearly.head()"
   ]
  },
  {
   "cell_type": "code",
   "execution_count": null,
   "id": "22021837-597a-4358-916d-146321cf8f76",
   "metadata": {
    "tags": []
   },
   "outputs": [],
   "source": [
    "online_ratio_yearly = online_ratio.groupby(['year', 'mcg','merchant_channel'])['spend'].sum().reset_index()\n",
    "\n",
    "online_ratio_yearly_all = online_ratio_yearly[online_ratio_yearly[\"merchant_channel\"] == \"All\"].set_index([\"year\", \"mcg\"])[\"spend\"]\n",
    "\n",
    "online_ratio_yearly_all.head(50)\n"
   ]
  },
  {
   "cell_type": "code",
   "execution_count": null,
   "id": "74b11ccb-c3c3-466f-8a69-f32388ee9fd6",
   "metadata": {
    "tags": []
   },
   "outputs": [],
   "source": [
    "# Ensure 'spend' is numeric\n",
    "#online_ratio_yearly[\"spend\"] = online_ratio_yearly.to_numeric(online_ratio_yearly[\"spend\"], errors=\"coerce\")\n",
    "\n",
    "# Create a mapping of (year, mcg) to 'All' spend\n",
    "all_spend = online_ratio_yearly[online_ratio_yearly[\"merchant_channel\"] == \"All\"].set_index([\"year\", \"mcg\"])[\"spend\"]\n",
    "\n",
    "# Function to compute percentage relative to 'All' spend\n",
    "def compute_percentage(row):\n",
    "    key = (row[\"year\"], row[\"mcg\"])\n",
    "    if key in all_spend and pd.notnull(all_spend[key]):\n",
    "        return (row[\"spend\"] / all_spend[key]) * 100\n",
    "    else:\n",
    "        return None\n",
    "\n",
    "# Apply the function to compute the percentage\n",
    "online_ratio_yearly[\"spend_vs_all_%\"] = online_ratio_yearly.apply(compute_percentage, axis=1)\n",
    "\n",
    "# Display the result\n",
    "print(online_ratio_yearly)\n"
   ]
  },
  {
   "cell_type": "code",
   "execution_count": null,
   "id": "341b0be8-120a-42d7-b2d0-eec10a1b0fca",
   "metadata": {
    "tags": []
   },
   "outputs": [],
   "source": [
    "# Ensure 'spend' is numeric\n",
    "online_ratio_yearly[\"year\"] = pd.to_numeric(online_ratio_yearly[\"year\"], errors=\"coerce\")\n",
    "\n",
    "# Compute 'All' spend for each (year, mcg)\n",
    "all_spend = online_ratio_yearly[online_ratio_yearly[\"merchant_channel\"] == \"All\"].set_index([\"year\", \"mcg\"])[\"spend\"]\n",
    "\n",
    "# Compute spend_vs_all_% for each row\n",
    "def compute_percentage(row):\n",
    "    key = (row[\"year\"], row[\"mcg\"])\n",
    "    if key in all_spend and pd.notnull(all_spend[key]):\n",
    "        return (row[\"spend\"] / all_spend[key]) * 100\n",
    "    else:\n",
    "        return None\n",
    "\n",
    "online_ratio_yearly[\"spend_vs_all_%\"] = online_ratio_yearly.apply(compute_percentage, axis=1)\n",
    "\n",
    "# Filter only Face to Face and Online rows\n",
    "df_filtered = online_ratio_yearly[online_ratio_yearly[\"merchant_channel\"].isin([\"Face to Face\", \"Online\"])]\n",
    "df_filtered_2 = df_filtered[df_filtered[\"year\"].isin([2019, 2024])]\n",
    "\n",
    "# Pivot to get 2019 and 2024 values side by side\n",
    "mcg_online_ratio = df_filtered_2.pivot_table(index=[\"mcg\", \"merchant_channel\"], columns=\"year\", values=\"spend_vs_all_%\")\n",
    "\n",
    "\n",
    "print(mcg_online_ratio)"
   ]
  },
  {
   "cell_type": "code",
   "execution_count": null,
   "id": "f4ed7d13-7628-4df7-b966-bfb6d3cbb01f",
   "metadata": {
    "tags": []
   },
   "outputs": [],
   "source": [
    "# Compute the difference between 2024 and 2019\n",
    "mcg_online_ratio[\"diff\"] = mcg_online_ratio[2024] - mcg_online_ratio[2019]\n",
    "\n",
    "online_subset = mcg_online_ratio[mcg_online_ratio[\"merchant_channel\"] == \"Online\"]\n",
    "total_change = online_subset.groupby(\"mcg\")[\"diff\"].sum().sort_values(ascending=False)\n",
    "ordered_mcgs = list(total_change.index)\n",
    "\n",
    "# Set destination_country as a categorical variable with the desired order\n",
    "mcg_online_ratio[\"mcg\"] = pd.Categorical(\n",
    "         mcg_online_ratio[\"mcg\"],\n",
    "         categories=ordered_mcgs,\n",
    "         ordered=True\n",
    ")\n",
    "\n",
    "# Sort the DataFrame\n",
    "mcg_online_ratio = mcg_online_ratio.sort_values([\"mcg\", \"merchant_channel\"])\n",
    "\n",
    "mcgs = mcg_online_ratio[\"mcg\"].unique()\n",
    "channels = [\"Face to Face\", \"Online\"]\n",
    "x = np.arange(len(mcgs))\n",
    "width = 0.35\n",
    "\n",
    "fig, ax = plt.subplots(figsize=(10, 6))\n",
    "for i, channel in enumerate(channels):\n",
    "    subset = mcg_online_ratio[mcg_online_ratio[\"merchant_channel\"] == \"Online\"]\n",
    "    subset = subset.set_index(\"mcg\").loc[ordered_mcgs].reset_index()\n",
    "    ax.bar(x + i * width, subset[\"diff\"], width, label=channel)\n",
    "\n",
    "ax.set_xlabel(\"Merchant Category Group\")\n",
    "ax.set_ylabel(\"Change in Spend vs All % (2024 - 2019)\")\n",
    "ax.set_title(\"Change in Spend vs All % from 2019 to 2024 by MCG and Channel\")\n",
    "ax.set_xticks(x + width / 2)\n",
    "ax.set_xticklabels(mcgs, rotation=90)\n",
    "ax.legend()\n",
    "plt.grid(axis='y')\n",
    "plt.tight_layout()\n",
    "plt.show()"
   ]
  },
  {
   "cell_type": "code",
   "execution_count": null,
   "id": "d9ebf9fd-0671-452a-a500-2850cb5d8fc5",
   "metadata": {
    "tags": []
   },
   "outputs": [],
   "source": [
    "# Compute the difference between 2024 and 2019\n",
    "pivot_df[\"diff\"] = pivot_df[2024] - pivot_df[2019]\n",
    "\n",
    "# Sort the DataFrame\n",
    "pivot_df = pivot_df.sort_values([\"mcg\", \"merchant_channel\"])\n",
    "\n",
    "mcgs = pivot_df[\"mcg\"].unique()\n",
    "channels = [\"Face to Face\", \"Online\"]\n",
    "x = np.arange(len(mcgs))\n",
    "width = 0.35\n",
    "\n",
    "fig, ax = plt.subplots(figsize=(10, 6))\n",
    "for i, channel in enumerate(channels):\n",
    "    subset = pivot_df[pivot_df[\"merchant_channel\"] == channel]\n",
    "    ax.bar(x + i * width, subset[\"diff\"], width, label=channel)\n",
    "\n",
    "ax.set_xlabel(\"Merchant Category Group\")\n",
    "ax.set_ylabel(\"Change in Spend vs All % (2024 - 2019)\")\n",
    "ax.set_title(\"Change in Spend vs All % from 2019 to 2024 by MCG and Channel\")\n",
    "ax.set_xticks(x + width / 2)\n",
    "ax.set_xticklabels(mcgs, rotation=90)\n",
    "ax.legend()\n",
    "plt.grid(axis='y')\n",
    "plt.tight_layout()\n",
    "plt.show()"
   ]
  },
  {
   "cell_type": "code",
   "execution_count": null,
   "id": "67f578df-738d-4384-8500-445ac6ee5f29",
   "metadata": {},
   "outputs": [],
   "source": []
  }
 ],
 "metadata": {
  "environment": {
   "kernel": "python3",
   "name": "r-cpu.m125",
   "type": "gcloud",
   "uri": "us-docker.pkg.dev/deeplearning-platform-release/gcr.io/r-cpu:m125"
  },
  "language_info": {
   "codemirror_mode": {
    "name": "ipython",
    "version": 3
   },
   "file_extension": ".py",
   "mimetype": "text/x-python",
   "name": "python",
   "nbconvert_exporter": "python",
   "pygments_lexer": "ipython3",
   "version": "3.10.15"
  },
  "toc-showcode": true,
  "toc-showmarkdowntxt": true
 },
 "nbformat": 4,
 "nbformat_minor": 5
}
