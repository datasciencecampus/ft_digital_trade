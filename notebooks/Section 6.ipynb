{
 "cells": [
  {
   "cell_type": "code",
   "execution_count": null,
   "id": "47daf6a0-28ba-4dcb-beae-c9c9c3e85fcb",
   "metadata": {
    "tags": []
   },
   "outputs": [],
   "source": [
    "project_path = \"/home/jupyter\"\n",
    "import os\n",
    "import sys\n",
    "\n",
    "sys.path.append(project_path)\n",
    "import numpy as np\n",
    "import pandas as pd\n",
    "import matplotlib.pyplot as plt\n",
    "import re\n",
    "import plotly.express as px\n",
    "import plotly.graph_objects as go\n",
    "from datetime import datetime\n",
    "from google.cloud import bigquery\n",
    "\n",
    "from fintrans_toolbox.src import bq_utils as bq\n",
    "from fintrans_toolbox.src import table_utils as t\n",
    "\n",
    "client = bigquery.Client()"
   ]
  },
  {
   "cell_type": "markdown",
   "id": "adf41fd4-4aad-403f-9aac-cf7685e7791e",
   "metadata": {},
   "source": [
    "#########################################################\n",
    "#                Graphs for section 6                   #\n",
    "#########################################################"
   ]
  },
  {
   "cell_type": "markdown",
   "id": "4a8a58df-0adf-4d0b-a021-cf34855af152",
   "metadata": {
    "jp-MarkdownHeadingCollapsed": true,
    "tags": []
   },
   "source": [
    "# Figure 4:  International vs Domestic Online Ratio     "
   ]
  },
  {
   "cell_type": "code",
   "execution_count": null,
   "id": "097b19bc-ddc7-4a9f-8a4f-81e6b016a3c6",
   "metadata": {
    "tags": []
   },
   "outputs": [],
   "source": [
    "# Total spend in foreign countries by UK cardholders\n",
    "total_spend_abroad = '''SELECT time_period_value, sum(spend) as total_spend_abroad\n",
    "FROM `ons-fintrans-data-prod.fintrans_visa.spend_origin_and_channel`\n",
    "WHERE time_period = 'Month'\n",
    "  AND mcg = 'All' \n",
    "  AND mcc = 'All'\n",
    "  AND merchant_channel = 'All'\n",
    "  AND cardholder_origin = 'UNITED KINGDOM'\n",
    "  AND cardholder_origin_country = 'All'\n",
    "  AND destination_country != 'UNITED KINGDOM' \n",
    "GROUP BY time_period_value\n",
    "ORDER BY time_period_value ASC'''\n",
    "spend_abroad = bq.read_bq_table_sql(client, total_spend_abroad)\n",
    "#spend_abroad.head()"
   ]
  },
  {
   "cell_type": "code",
   "execution_count": null,
   "id": "b0010fd7-d187-424b-9883-3aee4d4af513",
   "metadata": {
    "tags": []
   },
   "outputs": [],
   "source": [
    "# Total online spend in foreign countries by UK cardholders\n",
    "total_online_spend_abroad = '''SELECT time_period_value, sum(spend) as total_online_spend_abroad\n",
    "FROM `ons-fintrans-data-prod.fintrans_visa.spend_origin_and_channel`\n",
    "WHERE time_period = 'Month' \n",
    "  AND mcg = 'All'\n",
    "  AND mcc = 'All'\n",
    "  AND merchant_channel = 'Online'\n",
    "  AND cardholder_origin = 'UNITED KINGDOM'\n",
    "  AND cardholder_origin_country = 'All'\n",
    "  AND destination_country != 'UNITED KINGDOM' \n",
    "GROUP BY time_period_value\n",
    "ORDER BY time_period_value ASC'''\n",
    "online_spend_abroad = bq.read_bq_table_sql(client, total_online_spend_abroad)\n",
    "#online_spend_abroad.head()"
   ]
  },
  {
   "cell_type": "code",
   "execution_count": null,
   "id": "3ff9ea72-90fc-4dc2-9585-c7f7d082dbdd",
   "metadata": {
    "tags": []
   },
   "outputs": [],
   "source": [
    "# Total spend in the UK by UK cardholders\n",
    "total_spend_domestic = '''SELECT time_period_value, sum(spend) as total_spend_domestic\n",
    "FROM `ons-fintrans-data-prod.fintrans_visa.spend_origin_and_channel`\n",
    "WHERE time_period = 'Month' \n",
    "  AND mcg = 'All' \n",
    "  AND mcc = 'All'\n",
    "  AND merchant_channel = 'All'\n",
    "  AND cardholder_origin = 'UNITED KINGDOM'\n",
    "  AND cardholder_origin_country = 'All' \n",
    "  AND destination_country = 'UNITED KINGDOM'\n",
    "GROUP BY time_period_value\n",
    "ORDER BY time_period_value ASC'''\n",
    "spend_domestic = bq.read_bq_table_sql(client, total_spend_domestic)\n",
    "#spend_domestic.head()"
   ]
  },
  {
   "cell_type": "code",
   "execution_count": null,
   "id": "be985596-8165-4396-9b77-2cd4b5893b18",
   "metadata": {
    "tags": []
   },
   "outputs": [],
   "source": [
    "# Total online spend in UK by UK cardholders\n",
    "total_online_spend_domestic = '''SELECT time_period_value, sum(spend) as total_online_spend_domestic\n",
    "FROM `ons-fintrans-data-prod.fintrans_visa.spend_origin_and_channel`\n",
    "WHERE time_period = 'Month' \n",
    "  AND mcg = 'All' \n",
    "  AND mcc = 'All'\n",
    "  AND merchant_channel = 'Online'\n",
    "  AND cardholder_origin = 'UNITED KINGDOM'\n",
    "  AND cardholder_origin_country = 'All'\n",
    "  AND destination_country = 'UNITED KINGDOM' \n",
    "GROUP BY time_period_value\n",
    "ORDER BY time_period_value ASC'''\n",
    "online_spend_domestic = bq.read_bq_table_sql(client, total_online_spend_domestic)\n",
    "#online_spend_domestic.head()"
   ]
  },
  {
   "cell_type": "code",
   "execution_count": null,
   "id": "356a3c2c-1252-4e08-83e8-0145740f6e39",
   "metadata": {
    "tags": []
   },
   "outputs": [],
   "source": [
    "# Merging abroad figures together \n",
    "merged_abroad_spending = pd.merge(spend_abroad, online_spend_abroad, on='time_period_value')\n",
    "\n",
    "# Merging domestic figures together\n",
    "merged_dom_spending = pd.merge(spend_domestic, online_spend_domestic, on='time_period_value')\n",
    "\n",
    "merged_dom_spending"
   ]
  },
  {
   "cell_type": "code",
   "execution_count": null,
   "id": "8fa2dfca-961d-4608-81e1-59f6cb70f9f4",
   "metadata": {
    "tags": []
   },
   "outputs": [],
   "source": [
    "# Calculating the online % ratio for each\n",
    "\n",
    "merged_abroad_spending[\"Abroad Online %\"] = (merged_abroad_spending['total_online_spend_abroad'] /  merged_abroad_spending['total_spend_abroad']) * 100\n",
    "merged_dom_spending[\"Domestic Online %\"] = (merged_dom_spending['total_online_spend_domestic'] /  merged_dom_spending['total_spend_domestic']) * 100\n",
    "\n",
    "merged_abroad_spending"
   ]
  },
  {
   "cell_type": "code",
   "execution_count": null,
   "id": "1aa36864-d772-4c86-b179-bcbce736e069",
   "metadata": {
    "tags": []
   },
   "outputs": [],
   "source": [
    "# Gathering online ratios into one table\n",
    "int_vs_dom_ratios = merged_abroad_spending\n",
    "int_vs_dom_ratios = pd.merge(int_vs_dom_ratios, merged_dom_spending, on='time_period_value')\n",
    "\n",
    "int_vs_dom_ratios = int_vs_dom_ratios.drop(columns=[\"total_spend_abroad\", \"total_online_spend_abroad\", \"total_spend_domestic\", \"total_online_spend_domestic\"])\n",
    "#int_vs_dom_ratios.to_csv(\"Figure 4: International vs Domestic Online Ratio.csv\")"
   ]
  },
  {
   "cell_type": "code",
   "execution_count": null,
   "id": "653f9531-9cc1-4829-98f1-c0419988e3ae",
   "metadata": {
    "tags": []
   },
   "outputs": [],
   "source": [
    "# Line chart for the Figure 4\n",
    "fig4 = px.line(\n",
    "        int_vs_dom_ratios,\n",
    "        x=\"time_period_value\",\n",
    "        y=[\"Abroad Online %\", \"Domestic Online %\"],\n",
    "    )\n",
    "fig4"
   ]
  },
  {
   "cell_type": "markdown",
   "id": "3985bfc5-02e2-4cb8-86fb-df9313f60d47",
   "metadata": {
    "tags": []
   },
   "source": [
    "# Figure 5:  Domestic Online Spend at Retail MCCs vs RSI Internet Sales %"
   ]
  },
  {
   "cell_type": "code",
   "execution_count": null,
   "id": "f65cd3d7-e336-4cd1-836c-9c3dcf9b7c41",
   "metadata": {
    "tags": []
   },
   "outputs": [],
   "source": [
    "# Domestic spend at selected MCCs that relate to SIC 47 (Retail Sector)\n",
    "total_by_mcc = '''SELECT time_period_value, sum(spend) as total_spend\n",
    "FROM `ons-fintrans-data-prod.fintrans_visa.spend_origin_and_channel`\n",
    "WHERE time_period = 'Month'\n",
    "  AND mcg != 'All' \n",
    "  AND mcc in (\"ANTIQUE REPRODUCTION STORES\",\n",
    "\"ANTIQUE SHOPS\",\n",
    "\"ART DEALERS & GALLERIES\",\n",
    "\"ARTIST/CRAFT SHOPS\",\n",
    "\"AUTOMATED FUEL DISPENSERS\",\n",
    "\"BAKERIES\",\n",
    "\"BICYCLE SHOPS/SALES/SERVICE\",\n",
    "\"BOOK STORES\",\n",
    "\"CAMERA & PHOTO SUPPLY STORES\",\n",
    "\"CANDY/NUT/CONFECTION STORES\",\n",
    "\"CATALOG MERCHANT\",\n",
    "\"CHILDREN/INFANTS WEAR STORES\",\n",
    "\"COMBINATION CATALOG & RETAIL\",\n",
    "\"COMPUTER SOFTWARE STORES\",\n",
    "\"CONTINUITY/SUBSCRIPTION MERCHT\",\n",
    "\"COSMETIC STORES\",\n",
    "\"DAIRY PRODUCT STORES\",\n",
    "\"DEPARTMENT STORES\",\n",
    "\"DIGITAL GOODS APP(EXCL GAMES)\",\n",
    "\"DIGITAL GOODS BOOKSMOVIEMUSIC\",\n",
    "\"DIGITAL GOODS GAMES\",\n",
    "\"DIRECT SELL/DOOR-TO-DOOR\",\n",
    "\"DISCOUNT STORES\",\n",
    "\"DRAPERY & UPHOLSTERY STORES\",\n",
    "\"DUTY FREE STORES\",\n",
    "\"ELEC RAZOR STORES/SALE/SERV\",\n",
    "\"ELECTRIC VEHICLE CHARGING\",\n",
    "\"ELECTRONICS STORES\",\n",
    "\"FABRIC STORES\",\n",
    "\"FAMILY CLOTHING STORES\",\n",
    "\"FILMS/VIDEO PRODUCTION/DIST\",\n",
    "\"FIREPLACES & ACCESSORIES\",\n",
    "\"FLOOR COVERING STORES\",\n",
    "\"FLORISTS\",\n",
    "\"FREEZER/MEAT LOCKERS\",\n",
    "\"FUEL DEALERS\",\n",
    "\"FURNITURE/EQUIP STORES\",\n",
    "\"FURRIERS AND FUR SHOPS\",\n",
    "\"GIFT, CARD, NOVELTY STORES\",\n",
    "\"GLASS/PAINT/WALLPAPER STORES\",\n",
    "\"GLASSWARE/CRYSTAL STORES\",\n",
    "\"GROCERY STORES/SUPERMARKETS\",\n",
    "\"HARDWARE STORES\",\n",
    "\"HOBBY, TOY & GAME STORES\",\n",
    "\"HOME SUPPLY WAREHOUSE STORES\",\n",
    "\"HOUSEHOLD APPLIANCE STORES\",\n",
    "\"INBOUND TELEMARKETING MERCHANT\",\n",
    "\"JEWELRY STORES\",\n",
    "\"LARGE DIGITAL GOODS MERCHANT\",\n",
    "\"LUGGAGE/LEATHER STORES\",\n",
    "\"MEN/BOYS CLOTHING/ACC STORES\",\n",
    "\"MENS/WOMENS CLOTHING STORES\",\n",
    "\"MISC APPAREL/ACCESS STORES\",\n",
    "\"MISC FOOD STORES - DEFAULT\",\n",
    "\"MISC GENERAL MERCHANDISE\",\n",
    "\"MISC HOME FURNISHING SPECIALTY\",\n",
    "\"MISC SPECIALTY RETAIL\",\n",
    "\"MUSIC STORES/PIANOS\",\n",
    "\"NEWS DEALERS/NEWSSTANDS\",\n",
    "\"NURSERIES, LAWN/GARDEN SUPPLY\",\n",
    "\"ONLINE MARKETPLACES\",\n",
    "\"OTHER DIRECT MARKETERS\",\n",
    "\"OUTBOUND TELEMARKETING MERCHNT\",\n",
    "\"PET STORES/FOOD & SUPPLY\",\n",
    "\"RECORD STORES\",\n",
    "\"RELIGIOUS GOODS STORES\",\n",
    "\"SERVICE STATIONS\",\n",
    "\"SHOE STORES\",\n",
    "\"SPORTING GOODS STORES\",\n",
    "\"SPORTS/RIDING APPAREL STORES\",\n",
    "\"STAMP & COIN STORES\",\n",
    "\"STATIONERY STORES\",\n",
    "\"TENT AND AWNING SHOPS\",\n",
    "\"USED MERCHANDISE STORES\",\n",
    "\"VARIETY STORES\",\n",
    "\"VIDEO AMUSEMENT GAME SUPPLY\",\n",
    "\"WIG AND TOUPEE STORES\",\n",
    "\"WOMENS ACCESS/SPECIALTY\",\n",
    "\"WOMENS READY TO WEAR STORES\")\n",
    "  AND merchant_channel = 'All'\n",
    "  AND cardholder_origin = 'UNITED KINGDOM'\n",
    "  AND cardholder_origin_country = 'All'\n",
    "  AND destination_country = 'UNITED KINGDOM'\n",
    "GROUP BY time_period_value\n",
    "ORDER BY time_period_value ASC'''\n",
    "spend_by_retail_mcc = bq.read_bq_table_sql(client, total_by_mcc)\n",
    "spend_by_retail_mcc"
   ]
  },
  {
   "cell_type": "code",
   "execution_count": null,
   "id": "80f79f0d-0ff5-4716-a5d7-2ec379c277d7",
   "metadata": {
    "tags": []
   },
   "outputs": [],
   "source": [
    "# Domestic spend at selected MCCs that relate to SIC 47 (Retail Sector)\n",
    "online_by_mcc = '''SELECT time_period_value, sum(spend) as online_spend\n",
    "FROM `ons-fintrans-data-prod.fintrans_visa.spend_origin_and_channel`\n",
    "WHERE time_period = 'Month'\n",
    "  AND mcg != 'All' \n",
    "  AND mcc in (\"ANTIQUE REPRODUCTION STORES\",\n",
    "\"ANTIQUE SHOPS\",\n",
    "\"ART DEALERS & GALLERIES\",\n",
    "\"ARTIST/CRAFT SHOPS\",\n",
    "\"AUTOMATED FUEL DISPENSERS\",\n",
    "\"BAKERIES\",\n",
    "\"BICYCLE SHOPS/SALES/SERVICE\",\n",
    "\"BOOK STORES\",\n",
    "\"CAMERA & PHOTO SUPPLY STORES\",\n",
    "\"CANDY/NUT/CONFECTION STORES\",\n",
    "\"CATALOG MERCHANT\",\n",
    "\"CHILDREN/INFANTS WEAR STORES\",\n",
    "\"COMBINATION CATALOG & RETAIL\",\n",
    "\"COMPUTER SOFTWARE STORES\",\n",
    "\"CONTINUITY/SUBSCRIPTION MERCHT\",\n",
    "\"COSMETIC STORES\",\n",
    "\"DAIRY PRODUCT STORES\",\n",
    "\"DEPARTMENT STORES\",\n",
    "\"DIGITAL GOODS APP(EXCL GAMES)\",\n",
    "\"DIGITAL GOODS BOOKSMOVIEMUSIC\",\n",
    "\"DIGITAL GOODS GAMES\",\n",
    "\"DIRECT SELL/DOOR-TO-DOOR\",\n",
    "\"DISCOUNT STORES\",\n",
    "\"DRAPERY & UPHOLSTERY STORES\",\n",
    "\"DUTY FREE STORES\",\n",
    "\"ELEC RAZOR STORES/SALE/SERV\",\n",
    "\"ELECTRIC VEHICLE CHARGING\",\n",
    "\"ELECTRONICS STORES\",\n",
    "\"FABRIC STORES\",\n",
    "\"FAMILY CLOTHING STORES\",\n",
    "\"FILMS/VIDEO PRODUCTION/DIST\",\n",
    "\"FIREPLACES & ACCESSORIES\",\n",
    "\"FLOOR COVERING STORES\",\n",
    "\"FLORISTS\",\n",
    "\"FREEZER/MEAT LOCKERS\",\n",
    "\"FUEL DEALERS\",\n",
    "\"FURNITURE/EQUIP STORES\",\n",
    "\"FURRIERS AND FUR SHOPS\",\n",
    "\"GIFT, CARD, NOVELTY STORES\",\n",
    "\"GLASS/PAINT/WALLPAPER STORES\",\n",
    "\"GLASSWARE/CRYSTAL STORES\",\n",
    "\"GROCERY STORES/SUPERMARKETS\",\n",
    "\"HARDWARE STORES\",\n",
    "\"HOBBY, TOY & GAME STORES\",\n",
    "\"HOME SUPPLY WAREHOUSE STORES\",\n",
    "\"HOUSEHOLD APPLIANCE STORES\",\n",
    "\"INBOUND TELEMARKETING MERCHANT\",\n",
    "\"JEWELRY STORES\",\n",
    "\"LARGE DIGITAL GOODS MERCHANT\",\n",
    "\"LUGGAGE/LEATHER STORES\",\n",
    "\"MEN/BOYS CLOTHING/ACC STORES\",\n",
    "\"MENS/WOMENS CLOTHING STORES\",\n",
    "\"MISC APPAREL/ACCESS STORES\",\n",
    "\"MISC FOOD STORES - DEFAULT\",\n",
    "\"MISC GENERAL MERCHANDISE\",\n",
    "\"MISC HOME FURNISHING SPECIALTY\",\n",
    "\"MISC SPECIALTY RETAIL\",\n",
    "\"MUSIC STORES/PIANOS\",\n",
    "\"NEWS DEALERS/NEWSSTANDS\",\n",
    "\"NURSERIES, LAWN/GARDEN SUPPLY\",\n",
    "\"ONLINE MARKETPLACES\",\n",
    "\"OTHER DIRECT MARKETERS\",\n",
    "\"OUTBOUND TELEMARKETING MERCHNT\",\n",
    "\"PET STORES/FOOD & SUPPLY\",\n",
    "\"RECORD STORES\",\n",
    "\"RELIGIOUS GOODS STORES\",\n",
    "\"SERVICE STATIONS\",\n",
    "\"SHOE STORES\",\n",
    "\"SPORTING GOODS STORES\",\n",
    "\"SPORTS/RIDING APPAREL STORES\",\n",
    "\"STAMP & COIN STORES\",\n",
    "\"STATIONERY STORES\",\n",
    "\"TENT AND AWNING SHOPS\",\n",
    "\"USED MERCHANDISE STORES\",\n",
    "\"VARIETY STORES\",\n",
    "\"VIDEO AMUSEMENT GAME SUPPLY\",\n",
    "\"WIG AND TOUPEE STORES\",\n",
    "\"WOMENS ACCESS/SPECIALTY\",\n",
    "\"WOMENS READY TO WEAR STORES\")\n",
    "  AND merchant_channel = 'Online'\n",
    "  AND cardholder_origin = 'UNITED KINGDOM'\n",
    "  AND cardholder_origin_country = 'All'\n",
    "  AND destination_country = 'UNITED KINGDOM'\n",
    "GROUP BY time_period_value\n",
    "ORDER BY time_period_value ASC'''\n",
    "online_spend_by_retail_mcc = bq.read_bq_table_sql(client, online_by_mcc)\n",
    "online_spend_by_retail_mcc"
   ]
  },
  {
   "cell_type": "code",
   "execution_count": null,
   "id": "e3c71dcf-daed-4b47-9ce1-8e878399395b",
   "metadata": {
    "tags": []
   },
   "outputs": [],
   "source": [
    "# Calculating the ratio of domestic spend that is online for our selected MCCs\n",
    "retail_online_ratio = pd.merge(spend_by_retail_mcc, online_spend_by_retail_mcc, on=\"time_period_value\")\n",
    "retail_online_ratio[\"Online %\"] = (retail_online_ratio[\"online_spend\"] / retail_online_ratio[\"total_spend\"]) * 100\n",
    "\n",
    "retail_online_ratio = retail_online_ratio.drop(columns=[\"total_spend\", \"online_spend\"])\n",
    "retail_online_ratio"
   ]
  },
  {
   "cell_type": "code",
   "execution_count": null,
   "id": "2aed93f0-ceff-4b0d-88d5-ed1eadd2d1ed",
   "metadata": {
    "tags": []
   },
   "outputs": [],
   "source": [
    "# Getting the ratio of sales that are over the internet published by RSI\n",
    "RSI_online_ratio = pd.read_csv(\"/home/jupyter/ft_digital_trade/data/raw/RSI Internet Sales.csv\")\n",
    "\n",
    "# Combining RSI internet sales and spend at 'retail' MCCs online %\n",
    "RSI_online_ratio[\"Retail MCCs Online %\"] = retail_online_ratio[\"Online %\"]\n",
    "RSI_online_ratio[\"time_period_value\"] = RSI_online_ratio[\"time_period_value\"].astype(str)\n",
    "\n",
    "RSI_vs_retail_mccs = RSI_online_ratio\n",
    "#RSI_vs_retail_mccs.to_csv(\"Figure 5: RSI Internet Sales % vs Retail MCCs Online %.csv\")"
   ]
  },
  {
   "cell_type": "code",
   "execution_count": null,
   "id": "82a5e89f-8de9-4726-a1b0-3383c2500f63",
   "metadata": {
    "tags": []
   },
   "outputs": [],
   "source": [
    "# Line chart for the Figure 5\n",
    "fig5 = px.line(\n",
    "        RSI_vs_retail_mccs,\n",
    "        x=\"time_period_value\",\n",
    "        y=[\"RSI Internet Sales %\", \"Retail MCCs Online %\"],\n",
    "    )\n",
    "fig5"
   ]
  },
  {
   "cell_type": "markdown",
   "id": "7467ae18-1081-4263-b2ff-4ee0d558bf8a",
   "metadata": {},
   "source": [
    "# Table 1: International & Online Spend as % of Total"
   ]
  },
  {
   "cell_type": "code",
   "execution_count": null,
   "id": "8fb3a88f-2cb6-4588-9f9f-1426ffb7bc80",
   "metadata": {
    "tags": []
   },
   "outputs": [],
   "source": [
    "# Total spend by UK cardholders\n",
    "total_spend = '''SELECT time_period_value, sum(spend) as total_spend\n",
    "FROM `ons-fintrans-data-prod.fintrans_visa.spend_origin_and_channel`\n",
    "WHERE time_period = 'Month' \n",
    "  AND mcg = 'All' \n",
    "  AND mcc = 'All'\n",
    "  AND merchant_channel = 'All'\n",
    "  AND cardholder_origin = 'UNITED KINGDOM'\n",
    "  AND cardholder_origin_country = 'All' \n",
    "GROUP BY time_period_value\n",
    "ORDER BY time_period_value ASC'''\n",
    "spend_total = bq.read_bq_table_sql(client, total_spend)\n",
    "\n",
    "spend_total['Year'] = spend_total['time_period_value'].str[:4].astype(int)\n",
    "\n",
    "yearly_total_spend = spend_total.groupby(['Year'])['total_spend'].sum().reset_index()\n",
    "#yearly_total_spend"
   ]
  },
  {
   "cell_type": "code",
   "execution_count": null,
   "id": "afc99047-6dcc-4e25-b3b4-0233c285641b",
   "metadata": {
    "tags": []
   },
   "outputs": [],
   "source": [
    "online_spend_abroad['Year'] = online_spend_abroad['time_period_value'].str[:4].astype(int)\n",
    "yearly_abr_online_spend = online_spend_abroad.groupby(['Year'])['total_online_spend_abroad'].sum().reset_index()\n",
    "\n",
    "total_vs_intonline = pd.merge(yearly_total_spend, yearly_abr_online_spend, on=\"Year\")\n",
    "total_vs_intonline[\"International + Online Spend Ratio\"] = (total_vs_intonline[\"total_online_spend_abroad\"] / total_vs_intonline[\"total_spend\"] ) * 100\n",
    "\n",
    "total_vs_intonline = total_vs_intonline.drop(columns=[\"total_spend\", \"total_online_spend_abroad\"])\n",
    "total_vs_intonline"
   ]
  },
  {
   "cell_type": "code",
   "execution_count": null,
   "id": "7e10d944-8909-48ee-83db-82742ff3ff89",
   "metadata": {
    "tags": []
   },
   "outputs": [],
   "source": [
    "# Table 1:\n",
    "#total_vs_intonline.to_csv(\"Table 1: Ratio of spend that is online and abroad, yearly.csv\")"
   ]
  },
  {
   "cell_type": "markdown",
   "id": "3bba596a-8803-4d0d-8f6a-53cbff3194c7",
   "metadata": {
    "jp-MarkdownHeadingCollapsed": true,
    "tags": []
   },
   "source": [
    "#########################################################\n",
    "#                Analysis for section 6                 #\n",
    "#########################################################"
   ]
  },
  {
   "cell_type": "code",
   "execution_count": null,
   "id": "3df4ad66-76ef-42e5-bf56-9e48294bd20b",
   "metadata": {
    "tags": []
   },
   "outputs": [],
   "source": [
    "# Calculating the averages over whole time series for international and domestic online ratios\n",
    "int_average = int_vs_dom_ratios[\"Abroad Online %\"].mean()\n",
    "dom_average = int_vs_dom_ratios[\"Domestic Online %\"].mean()\n",
    "\n",
    "print(f\"Average online ratio for international spend over time series was {int_average}\")\n",
    "print(f\"Average online ratio for domestic spend over time series was {dom_average}\")"
   ]
  },
  {
   "cell_type": "code",
   "execution_count": null,
   "id": "37e413af-11aa-4bd0-9b17-bc5d380f7d28",
   "metadata": {
    "tags": []
   },
   "outputs": [],
   "source": [
    "# Calculating the average ratios for both in 2019 and 2024 to see how the 'gap' between them has fallen\n",
    "# Making a year column\n",
    "int_vs_dom_ratios[\"Year\"] = int_vs_dom_ratios['time_period_value'].str[:4]\n",
    "\n",
    "# Same average spend function as used in Section 4 code\n",
    "def average_spend(df, column_name, year=2019):\n",
    "    # Convert year to string for comparison\n",
    "    year_str = str(year)\n",
    "    \n",
    "    # Filter rows where 'time_period_value' starts with the year\n",
    "    filtered_df = df[df['time_period_value'].astype(str).str.startswith(year_str)]\n",
    "    \n",
    "    # Calculate and return the average\n",
    "    return filtered_df[column_name].mean()\n",
    "\n",
    "int_average_2019 = average_spend(int_vs_dom_ratios, \"Abroad Online %\", 2019)\n",
    "int_average_2024 = average_spend(int_vs_dom_ratios, \"Abroad Online %\", 2024)\n",
    "int_average_2025 = average_spend(int_vs_dom_ratios, \"Abroad Online %\", 2025) # Value used in graph title\n",
    "\n",
    "dom_average_2019 = average_spend(int_vs_dom_ratios, \"Domestic Online %\", 2019)\n",
    "dom_average_2024 = average_spend(int_vs_dom_ratios, \"Domestic Online %\", 2024)\n",
    "dom_average_2019\n",
    "\n",
    "gap_in_2019 = int_average_2019 - dom_average_2019\n",
    "gap_in_2024 = int_average_2024 - dom_average_2024\n",
    "\n",
    "print(f\"Difference in ratios in 2019 was {gap_in_2019} but only {gap_in_2024} in 2024\")\n",
    "print(f\"In 2025, an average of {int_average_2025} of international transations were made online\")"
   ]
  },
  {
   "cell_type": "code",
   "execution_count": null,
   "id": "6b0095ad-ff7f-419a-96d7-e668b77088dd",
   "metadata": {
    "tags": []
   },
   "outputs": [],
   "source": [
    "# Peaks in each series\n",
    "int_peak = int_vs_dom_ratios.nlargest(1, \"Abroad Online %\")\n",
    "int_peak = int_vs_dom_ratios.nlargest(1, \"Domestic Online %\")\n",
    "\n",
    "print(int_peak)\n",
    "print(dom_peak)"
   ]
  },
  {
   "cell_type": "code",
   "execution_count": null,
   "id": "bda05b5b-3b96-4405-ad00-4bcbda60b86d",
   "metadata": {
    "tags": []
   },
   "outputs": [],
   "source": [
    "# Difference between 2024 and 2019 average values \n",
    "\n",
    "int_difference = int_average_2024 - int_average_2019\n",
    "dom_difference = dom_average_2024 - dom_average_2019\n",
    "\n",
    "print(f\"From 2019 to 2024, the international online ratio has decreased by {int_difference} while the domestic online ratio has increased by {dom_difference}\")"
   ]
  },
  {
   "cell_type": "code",
   "execution_count": null,
   "id": "573f7c4f-4b7f-4fe2-a199-d90998bb8595",
   "metadata": {
    "tags": []
   },
   "outputs": [],
   "source": [
    "# June 2025 compared with June 2019\n",
    "starting_month = \"201906\"\n",
    "finishing_month = \"202506\"\n",
    "\n",
    "def nom_growth_between_months(starting_month, finishing_month, table, column):\n",
    "    start_rows = table.loc[table['time_period_value'] == starting_month, column]\n",
    "    end_rows = table.loc[table['time_period_value'] == finishing_month, column]\n",
    "\n",
    "    if start_rows.empty or end_rows.empty:\n",
    "        raise ValueError(f\"Missing data for: {starting_month if start_rows.empty else finishing_month}\")\n",
    "\n",
    "    start_value = start_rows.values[0]\n",
    "    end_value = end_rows.values[0]\n",
    "\n",
    "    difference = end_value - start_value\n",
    "    return difference\n",
    "\n",
    "int_june19_to_june25 = nom_growth_between_months(starting_month, finishing_month, int_vs_dom_ratios, \"Abroad Online %\")\n",
    "dom_june19_to_june25 = nom_growth_between_months(starting_month, finishing_month, int_vs_dom_ratios, \"Domestic Online %\")\n",
    "\n",
    "print(f\"From June 2019 to June 2025, the international online ratio has fallen by {int_june19_to_june25} while it has increased by {dom_june19_to_june25} for domestic transactions\")"
   ]
  },
  {
   "cell_type": "code",
   "execution_count": null,
   "id": "6b1c1012-bb93-40eb-a5ef-b8fb14763826",
   "metadata": {
    "tags": []
   },
   "outputs": [],
   "source": [
    "# Calculating the average growth for each destination in each month from 202201 onwards\n",
    "### If using monthly values (like this) the result is X.3 but when using quarterly values it is X.2 ###\n",
    "# Creating temporary copies to avoid SettingWithCopyWarning\n",
    "temp_df = int_vs_dom_ratios.copy()\n",
    "\n",
    "# Extract year and month\n",
    "temp_df['quarter'] = temp_df['time_period_value'].str[-2:].str.replace('Q', '').astype(int)\n",
    "temp_df['year'] = temp_df['time_period_value'].str[:4].astype(int)\n",
    "# Filter for 202201 and later\n",
    "temp_df = temp_df[(temp_df['year'] > 2021)]\n",
    "int_average_since_2022 = temp_df[\"Abroad Online %\"].mean()\n",
    "\n",
    "\n",
    "# Recalculate month for grouping\n",
    "temp_df['month'] = temp_df['time_period_value'].str[-2:]\n",
    "\n",
    "# Group and calculate average percent_change in each month\n",
    "average_df_2022 = temp_df.groupby(['month'])[['Abroad Online %']].mean().reset_index()\n",
    "\n",
    "int_average_since_2022"
   ]
  },
  {
   "cell_type": "code",
   "execution_count": null,
   "id": "35411cbf-abb5-485c-83b0-ce05c2c7f056",
   "metadata": {
    "tags": []
   },
   "outputs": [],
   "source": [
    "# Quarterly queries to look at seasonal (summer) trends in international spending\n",
    "# Total spend in foreign countries by UK cardholders\n",
    "quarterly_spend_abroad = '''SELECT time_period_value, sum(spend) as total_spend_abroad\n",
    "FROM `ons-fintrans-data-prod.fintrans_visa.spend_origin_and_channel`\n",
    "WHERE time_period = 'Quarter'\n",
    "  AND mcg = 'All' \n",
    "  AND mcc = 'All'\n",
    "  AND merchant_channel = 'All'\n",
    "  AND cardholder_origin = 'UNITED KINGDOM'\n",
    "  AND cardholder_origin_country = 'All'\n",
    "  AND destination_country != 'UNITED KINGDOM' \n",
    "GROUP BY time_period_value\n",
    "ORDER BY time_period_value ASC'''\n",
    "quarterly_spend_abroad = bq.read_bq_table_sql(client, quarterly_spend_abroad)\n",
    "#quarterly_spend_abroad.head()"
   ]
  },
  {
   "cell_type": "code",
   "execution_count": null,
   "id": "4cd69ab4-4852-4b32-8705-ee3f1acc29f3",
   "metadata": {
    "tags": []
   },
   "outputs": [],
   "source": [
    "# Online spend in foreign countries by UK cardholders\n",
    "quarterly_spend_online_abroad = '''SELECT time_period_value, sum(spend) as online_spend_abroad\n",
    "FROM `ons-fintrans-data-prod.fintrans_visa.spend_origin_and_channel`\n",
    "WHERE time_period = 'Quarter'\n",
    "  AND mcg = 'All' \n",
    "  AND mcc = 'All'\n",
    "  AND merchant_channel = 'Online'\n",
    "  AND cardholder_origin = 'UNITED KINGDOM'\n",
    "  AND cardholder_origin_country = 'All'\n",
    "  AND destination_country != 'UNITED KINGDOM' \n",
    "GROUP BY time_period_value\n",
    "ORDER BY time_period_value ASC'''\n",
    "quarterly_online_spend_abroad = bq.read_bq_table_sql(client, quarterly_spend_online_abroad)\n",
    "#quarterly_online_spend_abroad.head()"
   ]
  },
  {
   "cell_type": "code",
   "execution_count": null,
   "id": "778674ad-ba65-4a8a-b3f8-324ccbd030fe",
   "metadata": {
    "tags": []
   },
   "outputs": [],
   "source": [
    "merged_quarterly_spend_abroad = pd.merge(quarterly_spend_abroad, quarterly_online_spend_abroad, on=\"time_period_value\")\n",
    "\n",
    "merged_quarterly_spend_abroad"
   ]
  },
  {
   "cell_type": "code",
   "execution_count": null,
   "id": "7dbc1163-f5a2-4a86-b6be-51857245d11b",
   "metadata": {
    "tags": []
   },
   "outputs": [],
   "source": [
    "# Calculating change values for online and f2f spending\n",
    "merged_quarterly_spend_abroad['total_percent_change'] = merged_quarterly_spend_abroad['total_spend_abroad'].pct_change() * 100\n",
    "merged_quarterly_spend_abroad['online_percent_change'] = merged_quarterly_spend_abroad['online_spend_abroad'].pct_change() * 100\n",
    "merged_quarterly_spend_abroad[\"Abroad Online %\"] = (merged_quarterly_spend_abroad[\"online_spend_abroad\"] / merged_quarterly_spend_abroad[\"total_spend_abroad\"]) * 100\n",
    "\n",
    "merged_quarterly_spend_abroad"
   ]
  },
  {
   "cell_type": "code",
   "execution_count": null,
   "id": "751f14f4-7669-4782-b238-1dc1b1fdba4d",
   "metadata": {
    "tags": []
   },
   "outputs": [],
   "source": [
    "# Calculating the average growth for each destination in each quarter from 202201 onwards \n",
    "\n",
    "# Creating temporary copies to avoid SettingWithCopyWarning\n",
    "temp_df = merged_quarterly_spend_abroad.copy()\n",
    "\n",
    "# Extract year and month\n",
    "temp_df['quarter'] = temp_df['time_period_value'].str[-2:].str.replace('Q', '').astype(int)\n",
    "temp_df['year'] = temp_df['time_period_value'].str[:4].astype(int)\n",
    "# Filter for 2022Q1 and later\n",
    "temp_df = temp_df[(temp_df['year'] > 2021)]\n",
    "int_average_since_2022 = temp_df[\"Abroad Online %\"].mean()\n",
    "\n",
    "\n",
    "# Recalculate month for grouping\n",
    "temp_df['quarter'] = temp_df['time_period_value'].str[-2:]\n",
    "\n",
    "# Group and calculate average online ratio in each quarter from 2022 onwards\n",
    "average_df_2022 = temp_df.groupby(['quarter'])[['Abroad Online %']].mean().reset_index()\n",
    "average_qoq_growth_online = temp_df.groupby(['quarter'])[['online_percent_change']].mean().reset_index()\n",
    "average_qoq_growth = temp_df.groupby(['quarter'])[['total_percent_change']].mean().reset_index()\n",
    "\n",
    "print(f\"Average online ratio from Jan 2022 to June 2025 is: {int_average_since_2022}\")\n",
    "print(f\"Average % growth QonQ in international spend from 2022 to 2025: {average_qoq_growth}\")\n",
    "print(f\"Average % growth QonQ in international online spend from 2022 to 2025: {average_qoq_growth_online}\")"
   ]
  },
  {
   "cell_type": "code",
   "execution_count": null,
   "id": "f4b539b7-24d5-4074-86f2-57c802399f3f",
   "metadata": {
    "tags": []
   },
   "outputs": [],
   "source": [
    "# Analysis for the comparison of the 'retail MCCs' with RSI internet sales\n",
    "RSI_vs_retail_mccs"
   ]
  },
  {
   "cell_type": "code",
   "execution_count": null,
   "id": "8516b3cb-1251-407e-a3d5-2ecbfdb6f004",
   "metadata": {
    "tags": []
   },
   "outputs": [],
   "source": [
    "# Calculating growth rates between June 2019 and June 2025\n",
    "starting_month = \"201906\"\n",
    "finishing_month = \"202506\"\n",
    "\n",
    "retail_growth = nom_growth_between_months(starting_month, finishing_month, RSI_vs_retail_mccs, \"Retail MCCs Online %\")\n",
    "RSI_growth = nom_growth_between_months(starting_month, finishing_month, RSI_vs_retail_mccs, \"RSI Internet Sales %\")\n",
    "\n",
    "print(f\"Between June 2019 and June 2025, retail MCCs online ratio grew by {retail_growth} while RSI internet sales grew by {RSI_growth}\")"
   ]
  },
  {
   "cell_type": "code",
   "execution_count": null,
   "id": "2b32282f-06e8-4344-a72d-4ea3a4718e62",
   "metadata": {
    "tags": []
   },
   "outputs": [],
   "source": [
    "# Average gap between the 2 series\n",
    "\n",
    "difference = (RSI_vs_retail_mccs[\"Retail MCCs Online %\"].astype(int).mean() - RSI_vs_retail_mccs[\"RSI Internet Sales %\"].astype(int).mean())\n",
    "\n",
    "print(f\"Average difference between retail spend online ratio and RSI internet sales %: {difference}\")"
   ]
  },
  {
   "cell_type": "code",
   "execution_count": null,
   "id": "42b2e1f1-3eb4-4801-8dc9-36677da5795c",
   "metadata": {},
   "outputs": [],
   "source": [
    "# Needs some more analysis, not sure what yet"
   ]
  }
 ],
 "metadata": {
  "environment": {
   "kernel": "python3",
   "name": "r-cpu.m125",
   "type": "gcloud",
   "uri": "us-docker.pkg.dev/deeplearning-platform-release/gcr.io/r-cpu:m125"
  },
  "language_info": {
   "codemirror_mode": {
    "name": "ipython",
    "version": 3
   },
   "file_extension": ".py",
   "mimetype": "text/x-python",
   "name": "python",
   "nbconvert_exporter": "python",
   "pygments_lexer": "ipython3",
   "version": "3.10.15"
  }
 },
 "nbformat": 4,
 "nbformat_minor": 5
}
