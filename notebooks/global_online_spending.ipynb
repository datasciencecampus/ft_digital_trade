{
 "cells": [
  {
   "cell_type": "code",
   "execution_count": null,
   "id": "55d075ce-db05-4e1f-9388-2767ccb807e3",
   "metadata": {
    "tags": []
   },
   "outputs": [],
   "source": [
    "project_path = \"/home/jupyter\"\n",
    "import os\n",
    "import sys\n",
    "\n",
    "sys.path.append(project_path)\n",
    "import numpy as np\n",
    "import pandas as pd\n",
    "import matplotlib.pyplot as plt\n",
    "import re\n",
    "from google.cloud import bigquery\n",
    "\n",
    "from fintrans_toolbox.src import bq_utils as bq\n",
    "from fintrans_toolbox.src import table_utils as t\n",
    "\n",
    "\n",
    "client = bigquery.Client()"
   ]
  },
  {
   "cell_type": "code",
   "execution_count": null,
   "id": "63ac5c7d-43ba-4964-a0e1-d22d963db974",
   "metadata": {
    "tags": []
   },
   "outputs": [],
   "source": [
    "df = t.read_spend_origin_and_channel(client, time_period=\"Month\",cardholder_origin=\"UNITED KINGDOM\",    merchant_channel=\"Online\",    mcc=\"All\")\n",
    "df.head()"
   ]
  },
  {
   "cell_type": "code",
   "execution_count": null,
   "id": "b0fa0ad5-e739-4dea-b700-e7beeb810fdb",
   "metadata": {
    "tags": []
   },
   "outputs": [],
   "source": [
    "df_spend = df[df['destination_country'] != 'UNITED KINGDOM']\n",
    "df_spend"
   ]
  },
  {
   "cell_type": "code",
   "execution_count": null,
   "id": "b76a4866-f684-41b9-a977-4522258701c8",
   "metadata": {
    "tags": []
   },
   "outputs": [],
   "source": [
    "df_spend_wide = df_spend.pivot_table(index = \"date_time\", columns=\"destination_country\",values=\"spend\")\n",
    "\n",
    "df_spend_wide.to_csv('global_online_visa_OFFSEN.csv')"
   ]
  },
  {
   "cell_type": "code",
   "execution_count": null,
   "id": "741b7217-4788-4155-af96-aa04a7cc0c82",
   "metadata": {},
   "outputs": [],
   "source": []
  },
  {
   "cell_type": "code",
   "execution_count": null,
   "id": "565c66ef-5557-47dc-abfc-2f056511de71",
   "metadata": {
    "tags": []
   },
   "outputs": [],
   "source": [
    "df = t.read_spend_origin_and_channel(client, time_period=\"Month\",cardholder_origin=\"UNITED KINGDOM\",    merchant_channel=\"Online\",    mcc=\"All\")\n",
    "df.head()"
   ]
  }
 ],
 "metadata": {
  "environment": {
   "kernel": "python3",
   "name": "r-cpu.m125",
   "type": "gcloud",
   "uri": "us-docker.pkg.dev/deeplearning-platform-release/gcr.io/r-cpu:m125"
  },
  "language_info": {
   "codemirror_mode": {
    "name": "ipython",
    "version": 3
   },
   "file_extension": ".py",
   "mimetype": "text/x-python",
   "name": "python",
   "nbconvert_exporter": "python",
   "pygments_lexer": "ipython3",
   "version": "3.10.15"
  }
 },
 "nbformat": 4,
 "nbformat_minor": 5
}
