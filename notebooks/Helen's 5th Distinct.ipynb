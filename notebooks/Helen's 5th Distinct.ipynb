{
 "cells": [
  {
   "cell_type": "code",
   "execution_count": null,
   "id": "9ac9ee32-d4e8-4dc9-99ad-8ee81e7acfff",
   "metadata": {
    "tags": []
   },
   "outputs": [],
   "source": [
    "project_path = \"/home/jupyter\"\n",
    "import os\n",
    "import sys\n",
    "\n",
    "sys.path.append(project_path)\n",
    "import numpy as np\n",
    "import pandas as pd\n",
    "import matplotlib.pyplot as plt\n",
    "import re\n",
    "from google.cloud import bigquery\n",
    "\n",
    "from fintrans_toolbox.src import bq_utils as bq\n",
    "from fintrans_toolbox.src import table_utils as t\n",
    "\n",
    "\n",
    "client = bigquery.Client()"
   ]
  },
  {
   "cell_type": "code",
   "execution_count": null,
   "id": "d56b63df-2a01-4db5-9efb-a703e26d1cc5",
   "metadata": {
    "tags": []
   },
   "outputs": [],
   "source": [
    "distquery1 = '''SELECT DISTINCT time_period FROM `ons-fintrans-data-prod.fintrans_visa.spend_origin_and_channel` where merchant_channel = 'Online' ORDER BY time_period DESC'''\n",
    "df_distquery1 = bq.read_bq_table_sql(client, distquery1)\n",
    "df_distquery1\n",
    "df_distquery1.to_csv('Online_time_period.csv')"
   ]
  },
  {
   "cell_type": "code",
   "execution_count": null,
   "id": "72193a96-3031-43b7-8927-2362a5270770",
   "metadata": {
    "tags": []
   },
   "outputs": [],
   "source": [
    "distquery2 = '''SELECT DISTINCT time_period_value FROM `ons-fintrans-data-prod.fintrans_visa.spend_origin_and_channel` where merchant_channel = 'Online' ORDER BY time_period_value DESC'''\n",
    "df_distquery2 = bq.read_bq_table_sql(client, distquery2)\n",
    "df_distquery2\n",
    "df_distquery2.to_csv('Online_time_period_value.csv')"
   ]
  },
  {
   "cell_type": "code",
   "execution_count": null,
   "id": "543bc2f0-352e-4322-95b4-6f9f9fc1dfb9",
   "metadata": {
    "tags": []
   },
   "outputs": [],
   "source": [
    "distquery3 = '''SELECT DISTINCT cardholder_origin FROM `ons-fintrans-data-prod.fintrans_visa.spend_origin_and_channel` where merchant_channel = 'Online' ORDER BY cardholder_origin DESC'''\n",
    "df_distquery3 = bq.read_bq_table_sql(client, distquery3)\n",
    "df_distquery3\n",
    "df_distquery3.to_csv('Online_Cardholer_origin.csv')"
   ]
  },
  {
   "cell_type": "code",
   "execution_count": null,
   "id": "0391d76e-0d12-421d-b367-6ad25a062b52",
   "metadata": {
    "tags": []
   },
   "outputs": [],
   "source": [
    "distquery4 = '''SELECT DISTINCT cardholder_origin_country FROM `ons-fintrans-data-prod.fintrans_visa.spend_origin_and_channel` where merchant_channel = 'Online' ORDER BY cardholder_origin_country ASC'''\n",
    "df_distquery4 = bq.read_bq_table_sql(client, distquery4)\n",
    "df_distquery4"
   ]
  },
  {
   "cell_type": "code",
   "execution_count": null,
   "id": "69fffe09-8cb1-4666-9629-f83a52bbd773",
   "metadata": {
    "tags": []
   },
   "outputs": [],
   "source": [
    "df_distquery4.to_csv('Online_Cardholer_origin_country.csv')"
   ]
  },
  {
   "cell_type": "code",
   "execution_count": null,
   "id": "f1cb9875-26d7-4ffb-baac-63ebb34149e7",
   "metadata": {},
   "outputs": [],
   "source": []
  },
  {
   "cell_type": "code",
   "execution_count": null,
   "id": "865e7cfa-3c9d-46ba-9b09-f695badd8f4c",
   "metadata": {
    "tags": []
   },
   "outputs": [],
   "source": [
    "distquery5 = '''SELECT DISTINCT cardholder_location FROM `ons-fintrans-data-prod.fintrans_visa.spend_origin_and_channel` where merchant_channel = 'Online' ORDER BY cardholder_location ASC'''\n",
    "df_distquery5 = bq.read_bq_table_sql(client, distquery5)\n",
    "df_distquery5"
   ]
  },
  {
   "cell_type": "code",
   "execution_count": null,
   "id": "b3af00a8-31c5-4ac0-be96-e770b9938b13",
   "metadata": {
    "tags": []
   },
   "outputs": [],
   "source": [
    "df_distquery5.to_csv('Online_Cardholer_location.csv')"
   ]
  },
  {
   "cell_type": "code",
   "execution_count": null,
   "id": "afcaa44d-2518-4889-8823-4d9269928db0",
   "metadata": {},
   "outputs": [],
   "source": []
  },
  {
   "cell_type": "code",
   "execution_count": null,
   "id": "40b870bc-c519-4803-adfc-7f6b9a0e6e56",
   "metadata": {
    "tags": []
   },
   "outputs": [],
   "source": [
    "distquery6 = '''SELECT DISTINCT mcg FROM `ons-fintrans-data-prod.fintrans_visa.spend_origin_and_channel` where merchant_channel = 'Online' ORDER BY mcg ASC'''\n",
    "df_distquery6 = bq.read_bq_table_sql(client, distquery6)\n",
    "df_distquery6"
   ]
  },
  {
   "cell_type": "code",
   "execution_count": null,
   "id": "f9c7515a-7248-438b-b108-e1a4c3742c9c",
   "metadata": {},
   "outputs": [],
   "source": []
  },
  {
   "cell_type": "code",
   "execution_count": null,
   "id": "e1da16c4-f25d-427f-988b-35a9f5c171a6",
   "metadata": {
    "tags": []
   },
   "outputs": [],
   "source": [
    "distquery7 = '''SELECT DISTINCT mcc FROM `ons-fintrans-data-prod.fintrans_visa.spend_origin_and_channel` where merchant_channel = 'Online' ORDER BY mcc ASC'''\n",
    "df_distquery7 = bq.read_bq_table_sql(client, distquery7)\n",
    "df_distquery7"
   ]
  },
  {
   "cell_type": "code",
   "execution_count": null,
   "id": "37f51fa1-05f9-4012-96eb-e4b1590c9c34",
   "metadata": {
    "tags": []
   },
   "outputs": [],
   "source": [
    "df_distquery7.to_csv('Online_mcc.csv')"
   ]
  },
  {
   "cell_type": "code",
   "execution_count": null,
   "id": "1e0ed5c5-6174-4569-a55e-ba6946cf7138",
   "metadata": {},
   "outputs": [],
   "source": []
  },
  {
   "cell_type": "code",
   "execution_count": null,
   "id": "3d686a6f-0b33-4b0b-b00b-1f77fdfc286b",
   "metadata": {
    "tags": []
   },
   "outputs": [],
   "source": [
    "distquery8 = '''SELECT DISTINCT merchant_channel FROM `ons-fintrans-data-prod.fintrans_visa.spend_origin_and_channel` ORDER BY merchant_channel ASC'''\n",
    "df_distquery8 = bq.read_bq_table_sql(client, distquery8)\n",
    "df_distquery8"
   ]
  },
  {
   "cell_type": "code",
   "execution_count": null,
   "id": "9556f797-d20b-4524-9746-b1f8a35e305c",
   "metadata": {
    "tags": []
   },
   "outputs": [],
   "source": [
    "distquery9 = '''SELECT DISTINCT destination_country FROM `ons-fintrans-data-prod.fintrans_visa.spend_origin_and_channel` where merchant_channel = 'Online' ORDER BY destination_country ASC'''\n",
    "df_distquery9 = bq.read_bq_table_sql(client, distquery9)\n",
    "df_distquery9"
   ]
  },
  {
   "cell_type": "code",
   "execution_count": null,
   "id": "cd11c56f-9b68-4b4a-a6ad-46c7c3508d4e",
   "metadata": {
    "tags": []
   },
   "outputs": [],
   "source": [
    "distquery9 = '''SELECT DISTINCT destination_country FROM `ons-fintrans-data-prod.fintrans_visa.spend_origin_and_channel` where merchant_channel = 'Online' ORDER BY destination_country ASC'''\n",
    "df_distquery9 = bq.read_bq_table_sql(client, distquery9)\n",
    "df_distquery9"
   ]
  },
  {
   "cell_type": "code",
   "execution_count": null,
   "id": "dd3bf369-6de4-4b31-94e3-740b58faa025",
   "metadata": {},
   "outputs": [],
   "source": []
  },
  {
   "cell_type": "code",
   "execution_count": null,
   "id": "9c779b3f-c3d2-4802-b35d-d6224e166ce4",
   "metadata": {
    "tags": []
   },
   "outputs": [],
   "source": [
    "distquery10 = '''SELECT DISTINCT spend FROM `ons-fintrans-data-prod.fintrans_visa.spend_origin_and_channel` where merchant_channel = 'Online' ORDER BY spend ASC'''\n",
    "df_distquery10 = bq.read_bq_table_sql(client, distquery10)\n",
    "df_distquery10"
   ]
  },
  {
   "cell_type": "code",
   "execution_count": null,
   "id": "4c20f292-4083-40d8-bab6-3dc721c60737",
   "metadata": {},
   "outputs": [],
   "source": []
  },
  {
   "cell_type": "code",
   "execution_count": null,
   "id": "845e9571-3994-4beb-a298-800ab702965d",
   "metadata": {
    "tags": []
   },
   "outputs": [],
   "source": [
    "distquery11 = '''SELECT DISTINCT transactions FROM `ons-fintrans-data-prod.fintrans_visa.spend_origin_and_channel` where merchant_channel = 'Online' ORDER BY transactions ASC'''\n",
    "df_distquery11 = bq.read_bq_table_sql(client, distquery11)\n",
    "df_distquery11"
   ]
  },
  {
   "cell_type": "code",
   "execution_count": null,
   "id": "206a7da8-dc6b-42ae-a93b-d1bc3307d03c",
   "metadata": {},
   "outputs": [],
   "source": []
  }
 ],
 "metadata": {
  "environment": {
   "kernel": "python3",
   "name": "r-cpu.m125",
   "type": "gcloud",
   "uri": "us-docker.pkg.dev/deeplearning-platform-release/gcr.io/r-cpu:m125"
  },
  "language_info": {
   "codemirror_mode": {
    "name": "ipython",
    "version": 3
   },
   "file_extension": ".py",
   "mimetype": "text/x-python",
   "name": "python",
   "nbconvert_exporter": "python",
   "pygments_lexer": "ipython3",
   "version": "3.10.15"
  }
 },
 "nbformat": 4,
 "nbformat_minor": 5
}
