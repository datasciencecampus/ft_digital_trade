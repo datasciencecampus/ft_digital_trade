{
 "cells": [
  {
   "cell_type": "code",
   "execution_count": null,
   "id": "5944a579-6711-4ed7-9c6b-7a869f866974",
   "metadata": {
    "tags": []
   },
   "outputs": [],
   "source": [
    "project_path = \"/home/jupyter\"\n",
    "import os\n",
    "import sys\n",
    "\n",
    "sys.path.append(project_path)\n",
    "import numpy as np\n",
    "import pandas as pd\n",
    "import matplotlib.pyplot as plt\n",
    "import re\n",
    "import plotly.express as px\n",
    "from datetime import datetime\n",
    "from google.cloud import bigquery\n",
    "\n",
    "from fintrans_toolbox.src import bq_utils as bq\n",
    "from fintrans_toolbox.src import table_utils as t\n",
    "\n",
    "import ft_digital_trade.src.utils.read_data as read_utils\n",
    "import ft_digital_trade.src.utils.clean_utils as clean_utils\n",
    "import ft_digital_trade.src.utils.calculation_utils as calc_utils\n",
    "import ft_digital_trade.src.utils.plot_utils as plot_utils\n",
    "\n",
    "client = bigquery.Client()"
   ]
  },
  {
   "cell_type": "code",
   "execution_count": null,
   "id": "949b402e-58cb-4a05-adf0-3420692ff09a",
   "metadata": {
    "tags": []
   },
   "outputs": [],
   "source": [
    "# Total spend by UK cardholders\n",
    "total_spend = '''SELECT time_period_value, sum(spend) as total_spend\n",
    "FROM `ons-fintrans-data-prod.fintrans_visa.spend_origin_and_channel`\n",
    "WHERE time_period = 'Quarter' \n",
    "  AND mcg = 'All' \n",
    "  AND mcc = 'All'\n",
    "  AND merchant_channel = 'All'\n",
    "  AND cardholder_origin = 'UNITED KINGDOM'\n",
    "  AND cardholder_origin_country = 'All' \n",
    "GROUP BY time_period_value\n",
    "ORDER BY time_period_value ASC'''\n",
    "spoc_spend_total = bq.read_bq_table_sql(client, total_spend)\n",
    "#spoc_spend_total.head()"
   ]
  },
  {
   "cell_type": "code",
   "execution_count": null,
   "id": "faa46999-8a58-40d7-9bf4-939eb19f146a",
   "metadata": {
    "tags": []
   },
   "outputs": [],
   "source": [
    "# Total spend in the UK by UK cardholders\n",
    "total_spend_domestic = '''SELECT time_period_value, sum(spend) as total_spend_domestic\n",
    "FROM `ons-fintrans-data-prod.fintrans_visa.spend_origin_and_channel`\n",
    "WHERE time_period = 'Quarter' \n",
    "  AND mcg = 'All' \n",
    "  AND mcc = 'All'\n",
    "  AND merchant_channel = 'All'\n",
    "  AND cardholder_origin = 'UNITED KINGDOM'\n",
    "  AND cardholder_origin_country = 'All' \n",
    "  AND destination_country = 'UNITED KINGDOM'\n",
    "GROUP BY time_period_value\n",
    "ORDER BY time_period_value ASC'''\n",
    "spoc_spend_domestic = bq.read_bq_table_sql(client, total_spend_domestic)\n",
    "#spoc_spend_domestic.head()"
   ]
  },
  {
   "cell_type": "code",
   "execution_count": null,
   "id": "3fcb8545-5e68-404e-9a29-78546e25a44e",
   "metadata": {
    "tags": []
   },
   "outputs": [],
   "source": [
    "# Total spend in foreign countries by UK cardholders\n",
    "total_spend_abroad = '''SELECT time_period_value, sum(spend) as total_spend_abroad\n",
    "FROM `ons-fintrans-data-prod.fintrans_visa.spend_origin_and_channel`\n",
    "WHERE time_period = 'Quarter'\n",
    "  AND mcg = 'All' \n",
    "  AND mcc = 'All'\n",
    "  AND merchant_channel = 'All'\n",
    "  AND cardholder_origin = 'UNITED KINGDOM'\n",
    "  AND cardholder_origin_country = 'All'\n",
    "  AND destination_country != 'UNITED KINGDOM' \n",
    "GROUP BY time_period_value\n",
    "ORDER BY time_period_value ASC'''\n",
    "spoc_spend_abroad = bq.read_bq_table_sql(client, total_spend_abroad)\n",
    "#spoc_spend_abroad.head()"
   ]
  },
  {
   "cell_type": "code",
   "execution_count": null,
   "id": "fd8b4b1d-d3b9-40fa-a6fb-cf83d3ee61e6",
   "metadata": {
    "tags": []
   },
   "outputs": [],
   "source": [
    "# Total online spend by UK cardholders\n",
    "total_online_spend = '''SELECT time_period_value, sum(spend) as total_online_spend\n",
    "FROM `ons-fintrans-data-prod.fintrans_visa.spend_origin_and_channel`\n",
    "WHERE time_period = 'Quarter' \n",
    "  AND mcg = 'All' \n",
    "  AND mcc = 'All'\n",
    "  AND merchant_channel = 'Online'\n",
    "  AND cardholder_origin = 'UNITED KINGDOM'\n",
    "  AND cardholder_origin_country = 'All'\n",
    "GROUP BY time_period_value\n",
    "ORDER BY time_period_value ASC'''\n",
    "spoc_online_spend = bq.read_bq_table_sql(client, total_online_spend)\n",
    "#spoc_online_spend.head()"
   ]
  },
  {
   "cell_type": "code",
   "execution_count": null,
   "id": "74f7f3d7-5393-4a09-9369-a000ed11772b",
   "metadata": {
    "tags": []
   },
   "outputs": [],
   "source": [
    "# Check to see if total domestic+abroad spending added together is the same as spoc_spend_total\n",
    "# It is\n",
    "merged_total_spending = pd.merge(spoc_spend_domestic, spoc_spend_abroad, on='time_period_value')\n",
    "merged_total_spending = pd.merge(merged_total_spending, spoc_online_spend, on='time_period_value')\n",
    "merged_total_spending['Total_Spend'] = merged_total_spending['total_spend_domestic'] + merged_total_spending['total_spend_abroad']\n",
    "merged_total_spending"
   ]
  },
  {
   "cell_type": "code",
   "execution_count": null,
   "id": "ca95dc13-e751-4323-9f1d-55008699256c",
   "metadata": {
    "tags": []
   },
   "outputs": [],
   "source": [
    "# Total online spend in UK by UK cardholders\n",
    "total_online_spend_domestic = '''SELECT time_period_value, sum(spend) as total_online_spend_domestic\n",
    "FROM `ons-fintrans-data-prod.fintrans_visa.spend_origin_and_channel`\n",
    "WHERE time_period = 'Quarter' \n",
    "  AND mcg = 'All' \n",
    "  AND mcc = 'All'\n",
    "  AND merchant_channel = 'Online'\n",
    "  AND cardholder_origin = 'UNITED KINGDOM'\n",
    "  AND cardholder_origin_country = 'All'\n",
    "  AND destination_country = 'UNITED KINGDOM' \n",
    "GROUP BY time_period_value\n",
    "ORDER BY time_period_value ASC'''\n",
    "spoc_online_spend_domestic = bq.read_bq_table_sql(client, total_online_spend_domestic)\n",
    "#spoc_online_spend_domestic.head()"
   ]
  },
  {
   "cell_type": "code",
   "execution_count": null,
   "id": "dff4a1b8-80f5-49e5-8075-482255fcfcfd",
   "metadata": {
    "tags": []
   },
   "outputs": [],
   "source": [
    "# Total online spend in foreign countries by UK cardholders\n",
    "total_online_spend_abroad = '''SELECT time_period_value, sum(spend) as total_online_spend_abroad\n",
    "FROM `ons-fintrans-data-prod.fintrans_visa.spend_origin_and_channel`\n",
    "WHERE time_period = 'Quarter' \n",
    "  AND mcg = 'All'\n",
    "  AND mcc = 'All'\n",
    "  AND merchant_channel = 'Online'\n",
    "  AND cardholder_origin = 'UNITED KINGDOM'\n",
    "  AND cardholder_origin_country = 'All'\n",
    "  AND destination_country != 'UNITED KINGDOM' \n",
    "GROUP BY time_period_value\n",
    "ORDER BY time_period_value ASC'''\n",
    "spoc_online_spend_abroad = bq.read_bq_table_sql(client, total_online_spend_abroad)\n",
    "spoc_online_spend_abroad.head()"
   ]
  },
  {
   "cell_type": "code",
   "execution_count": null,
   "id": "4a52a187-2f2e-4864-b869-20119878ff9b",
   "metadata": {
    "tags": []
   },
   "outputs": [],
   "source": [
    "# Total f2f spend in foreign countries by UK cardholders\n",
    "total_f2f_spend_abroad = '''SELECT time_period_value, sum(spend) as total_f2f_spend_abroad\n",
    "FROM `ons-fintrans-data-prod.fintrans_visa.spend_origin_and_channel`\n",
    "WHERE time_period = 'Quarter' \n",
    "  AND mcg = 'All' \n",
    "  AND mcc = 'All'\n",
    "  AND merchant_channel = 'Face to Face'\n",
    "  AND cardholder_origin = 'UNITED KINGDOM'\n",
    "  AND cardholder_origin_country = 'All'\n",
    "  AND destination_country != 'UNITED KINGDOM' \n",
    "GROUP BY time_period_value\n",
    "ORDER BY time_period_value ASC'''\n",
    "spoc_f2f_spend_abroad = bq.read_bq_table_sql(client, total_f2f_spend_abroad)\n",
    "#spoc_f2f_spend_abroad"
   ]
  },
  {
   "cell_type": "code",
   "execution_count": null,
   "id": "4e1256f0-3db7-40de-87dd-f115c8d604c9",
   "metadata": {
    "tags": []
   },
   "outputs": [],
   "source": [
    "# Check to see if abroad online+f2f spending added together is the same as spoc_online_spend_abroad\n",
    "# It is\n",
    "merged_abroad_spending = pd.merge(spoc_online_spend_abroad, spoc_f2f_spend_abroad, on='time_period_value')\n",
    "merged_abroad_spending['Total_Spend_Abroad'] = merged_abroad_spending['total_online_spend_abroad'] + merged_abroad_spending['total_f2f_spend_abroad']\n",
    "merged_abroad_spending"
   ]
  },
  {
   "cell_type": "code",
   "execution_count": null,
   "id": "c369126d-2fd8-4c9c-b80f-0a56009276fb",
   "metadata": {
    "tags": []
   },
   "outputs": [],
   "source": [
    "# Putting it all together in one table\n",
    "# On a quarterly basis\n",
    "complete_df = spoc_spend_total\n",
    "complete_df = pd.merge(complete_df, spoc_spend_domestic, on='time_period_value', how='outer')\n",
    "complete_df = pd.merge(complete_df, spoc_spend_abroad, on='time_period_value', how='outer')\n",
    "complete_df = pd.merge(complete_df, spoc_online_spend, on='time_period_value', how='outer')\n",
    "complete_df = pd.merge(complete_df, spoc_online_spend_domestic, on='time_period_value', how='outer')\n",
    "complete_df = pd.merge(complete_df, spoc_online_spend_abroad, on='time_period_value', how='outer')\n",
    "complete_df = pd.merge(complete_df, spoc_f2f_spend_abroad, on='time_period_value', how='outer')\n",
    "#complete_df"
   ]
  },
  {
   "cell_type": "code",
   "execution_count": null,
   "id": "cefa2459-79b6-4554-b787-c44f9194d306",
   "metadata": {
    "tags": []
   },
   "outputs": [],
   "source": [
    "# Calculating relevant ratios at a quarterly level\n",
    "quarterly_totals = complete_df\n",
    "quarterly_totals['Abroad_Ratio %'] = (quarterly_totals['total_spend_abroad'] / quarterly_totals['total_spend']) * 100\n",
    "quarterly_totals['Online+Abroad_Ratio %'] = (quarterly_totals['total_online_spend_abroad'] / quarterly_totals['total_spend']) * 100\n",
    "quarterly_totals['Ratio of Abroad Spending Online %'] = (quarterly_totals['total_online_spend_abroad'] / quarterly_totals['total_spend_abroad']) * 100\n",
    "quarterly_totals['Ratio of Domestic Spending Online %'] = (quarterly_totals['total_online_spend_domestic'] / quarterly_totals['total_spend_domestic']) * 100\n",
    "quarterly_totals"
   ]
  },
  {
   "cell_type": "code",
   "execution_count": null,
   "id": "0ace89d6-8b90-464b-b56f-92ecbdb62ca5",
   "metadata": {
    "tags": []
   },
   "outputs": [],
   "source": [
    "# Summing everything up on a yearly basis\n",
    "complete_df['Year'] = complete_df['time_period_value'].str[:4]\n",
    "yearly_totals = complete_df.groupby('Year').sum(numeric_only=True).reset_index()\n",
    "yearly_totals = yearly_totals.drop(columns=['time_period_value'], errors='ignore')\n",
    "yearly_totals"
   ]
  },
  {
   "cell_type": "code",
   "execution_count": null,
   "id": "c599ea0b-afa2-4b6d-bc3d-fc0f75a83536",
   "metadata": {
    "tags": []
   },
   "outputs": [],
   "source": [
    "# Calculating relevant ratios\n",
    "yearly_totals['Abroad_Ratio %'] = (yearly_totals['total_spend_abroad'] / yearly_totals['total_spend']) * 100\n",
    "yearly_totals['Online+Abroad_Ratio %'] = (yearly_totals['total_online_spend_abroad'] / yearly_totals['total_spend']) * 100\n",
    "yearly_totals['Ratio of Abroad Spending Online %'] = (yearly_totals['total_online_spend_abroad'] / yearly_totals['total_spend_abroad']) * 100\n",
    "yearly_totals"
   ]
  },
  {
   "cell_type": "code",
   "execution_count": null,
   "id": "5fe9e964-5db7-4622-99da-42d58a933fe4",
   "metadata": {
    "tags": []
   },
   "outputs": [],
   "source": [
    "#yearly_totals.to_csv('spoc_totals_yearly.csv')\n",
    "quarterly_totals.to_csv('spoc_totals_quarterly.csv')"
   ]
  },
  {
   "cell_type": "markdown",
   "id": "f91c9fe9-9858-4a2f-aa17-5c14dbb61447",
   "metadata": {
    "tags": []
   },
   "source": [
    "# Combining with Marketshare values"
   ]
  },
  {
   "cell_type": "code",
   "execution_count": null,
   "id": "7b988f82-68a3-4522-b4c3-1112c5e33447",
   "metadata": {
    "tags": []
   },
   "outputs": [],
   "source": [
    "#This allows you to select different location of merchant spend for face-to-face and online\n",
    "## for more information run the following:\n",
    "##help(read_utils.read_visa)\n",
    "#visa_data = read_utils.read_f2f_online(cardholder_origin = \"all\", f2f =  \"uk\", online =  \"all\")\n",
    "\n",
    "#This applies the same filters for face-to-face and online data\n",
    "## for more information run the following:\n",
    "##help(read_utils.read_visa)\n",
    "visa_data = read_utils.read_visa(cardholder_origin = \"uk\", cardholders_location = \"uk\", spend_location = \"all\")"
   ]
  },
  {
   "cell_type": "code",
   "execution_count": null,
   "id": "4db596c1-9f62-4c42-8445-7781a6187a10",
   "metadata": {
    "tags": []
   },
   "outputs": [],
   "source": [
    "visa = calc_utils.calculate_visa(visa_data)\n",
    "visa = clean_utils.rename_columns(df = visa, suffix = '_spoc')\n",
    "visa"
   ]
  },
  {
   "cell_type": "code",
   "execution_count": null,
   "id": "007c86e0-173b-46c5-8637-4a089208e37a",
   "metadata": {
    "tags": []
   },
   "outputs": [],
   "source": [
    "global_cards = read_utils.read_global_cards()\n",
    "global_cards = clean_utils.clean_global(global_cards)\n",
    "global_cards = calc_utils.calculate_global(global_cards, 'card')\n",
    "\n",
    "# Making what this column represents a bit clearer\n",
    "global_cards = global_cards.rename(columns={'visa_marketshare': 'GDR - Visa Card Marketshare'})\n",
    "global_cards"
   ]
  },
  {
   "cell_type": "code",
   "execution_count": null,
   "id": "04815f53-95b1-43dc-98f4-eaf05608c3a0",
   "metadata": {
    "tags": []
   },
   "outputs": [],
   "source": [
    "global_spend = read_utils.read_global_spend()\n",
    "global_spend = clean_utils.clean_global(global_spend)\n",
    "global_spend = calc_utils.calculate_global(global_spend, 'spend')\n",
    "\n",
    "# Making what this column represents a bit clearer\n",
    "global_spend = global_spend.rename(columns={'visa_marketshare': 'GDR - Visa Spend Marketshare'})\n",
    "\n",
    "# Creating a table with just the marketshare values\n",
    "marketshares = pd.merge(global_cards, global_spend[['year', 'GDR - Visa Spend Marketshare']], on='year', how='left')\n",
    "marketshares = marketshares.drop(['debit', 'credit', 'visa_total', 'total'], axis=1)\n",
    "#marketshares\n",
    "global_spend"
   ]
  },
  {
   "cell_type": "code",
   "execution_count": null,
   "id": "dd8aed44-098d-429c-8c5b-cfc3a21f6b38",
   "metadata": {
    "tags": []
   },
   "outputs": [],
   "source": [
    "uk_finance = read_utils.read_uk_finance()\n",
    "uk_finance = clean_utils.clean_uk_finance(uk_finance)\n",
    "uk_finance = calc_utils.calculate_uk_finance(uk_finance)\n",
    "uk_finance = uk_finance[['year', 'cardholders','total value of purchases',\"total volume of purchases\"]]\n",
    "uk_finance = clean_utils.rename_columns(df = uk_finance , suffix = '_uk_finance')"
   ]
  },
  {
   "cell_type": "code",
   "execution_count": null,
   "id": "b79402e1-a5f8-4266-ae80-3f1ece685a2f",
   "metadata": {
    "tags": []
   },
   "outputs": [],
   "source": [
    "boe = read_utils.read_boe()\n",
    "boe = clean_utils.clean_boe(boe)\n",
    "boe = calc_utils.calculate_boe(boe)\n",
    "boe = clean_utils.rename_columns(df = boe , suffix = '_boe')\n",
    "boe"
   ]
  },
  {
   "cell_type": "code",
   "execution_count": null,
   "id": "cce944ef-aa8c-41d9-bba1-8ec79b8e5786",
   "metadata": {},
   "outputs": [],
   "source": [
    "link = read_utils.read_link()"
   ]
  },
  {
   "cell_type": "code",
   "execution_count": null,
   "id": "0388774b-9dae-4bbd-9277-39bfd6af3d36",
   "metadata": {},
   "outputs": [],
   "source": [
    "merged = visa.merge(uk_finance, how = 'outer', on = 'year')\n",
    "merged = merged.merge(boe, how = 'outer', on = 'year')\n",
    "merged = merged.merge(global_spend, how = 'outer', on = 'year')"
   ]
  },
  {
   "cell_type": "code",
   "execution_count": null,
   "id": "83754c0c-fdae-42e4-a731-3c02f5b457a2",
   "metadata": {},
   "outputs": [],
   "source": [
    "cardholders = merged[['year','cardholders_spoc','cardholders_uk_finance','visa_total_cards_global','total_cards_global', 'visa_marketshare_cards_global']]\n",
    "cardholders = cardholders.copy()\n",
    "cardholders['uk_finance_marketshare'] = cardholders['cardholders_spoc'] / cardholders['cardholders_uk_finance'] *100\n",
    "cardholders['global_marketshare'] = cardholders['cardholders_spoc'] / cardholders['total_cards_global'] *100\n",
    "#melt df for charts\n",
    "cardholders = pd.melt(cardholders, id_vars='year',var_name='Data source', value_name='value')\n",
    "cardholders = calc_utils.calculate_index(df = cardholders)"
   ]
  },
  {
   "cell_type": "code",
   "execution_count": null,
   "id": "62221b5a-8f3c-4da9-ba85-65c45692d822",
   "metadata": {},
   "outputs": [],
   "source": [
    "spend = merged[['year','spend_spoc', \n",
    "        'total value of purchases_uk_finance',\n",
    "       'Mastercard values_boe', 'Visa Europe values_boe',\n",
    "       'Mastercard and Visa values_boe', 'Visa proportion_boe',\n",
    "       'debit_spend_global', 'credit_spend_global', 'visa_total_spend_global',\n",
    "       'total_spend_global', 'visa_marketshare_spend_global']]\n",
    "spend = spend.copy()\n",
    "# #replace 2024 spending with NA\n",
    "spend['spend_spoc'] = np.where(spend['year']==2024, np.nan, spend['spend_spoc'])\n",
    "spend['total value of purchases_uk_finance'] = np.where(spend['year']==2024, np.nan, spend['total value of purchases_uk_finance'])\n",
    "#calculate marketshare\n",
    "spend['uk_finance_marketshare'] = spend['spend_spoc'] / spend['total value of purchases_uk_finance'] *100\n",
    "spend['global_marketshare'] = spend['spend_spoc'] / spend['total_spend_global'] *100\n",
    "spend['boe_marketshare'] = spend['spend_spoc'] / spend['Mastercard and Visa values_boe'] *100\n",
    "#copy used for getting 2019 marketshare\n",
    "spend_copy = spend.copy()\n",
    "#melt df for charts\n",
    "spend = pd.melt(spend, id_vars='year',var_name='Data source', value_name='value')\n",
    "spend = calc_utils.calculate_index(df = spend)\n",
    "spend"
   ]
  },
  {
   "cell_type": "code",
   "execution_count": null,
   "id": "07a06711-a7d0-41cd-aca0-ba059478b2e0",
   "metadata": {},
   "outputs": [],
   "source": [
    "#options of marketshare threshold\n",
    "# marketshare_2019 = spend_copy.iloc[0]['visa_marketshare_spend_global']\n",
    "# marketshare_2019 = spend_copy.iloc[0]['global_marketshare']\n",
    "marketshare_2019 = spend_copy.iloc[0]['uk_finance_marketshare']\n",
    "marketshare_2019"
   ]
  },
  {
   "cell_type": "code",
   "execution_count": null,
   "id": "18b18b67-c40a-47a8-99a1-30b3563511e0",
   "metadata": {},
   "outputs": [],
   "source": [
    "df = merged.copy()\n",
    "#remove 2024 due to incomplete data\n",
    "df = df[df['year'] != 2024]\n",
    "#index spoc data\n",
    "df['idx_cardholders_spoc'] = df['cardholders_spoc'].transform(lambda x: (x / x.iloc[0] * 100))\n",
    "df['idx_spend_spoc'] = df['spend_spoc'].transform(lambda x: (x / x.iloc[0] * 100))\n",
    "# adjust visa spend to 2019 cardholders\n",
    "df['visa_adj_spend_spoc'] = (df['spend_spoc']/df['idx_cardholders_spoc'])*100\n",
    "df['total_spoc'] = df['visa_adj_spend_spoc'] / marketshare_2019 *100\n",
    "#rename columns\n",
    "df = df.rename(columns={'total value of purchases_uk_finance': 'total_uk_finance'})\n",
    "df = df.rename(columns={'visa_total_spend_global': 'visa_total_global','total_spend_global':'total_global'})\n",
    "df = df.rename(columns={'Visa Europe values_boe': 'visa_total_boe', 'Mastercard and Visa values_boe': 'total_boe'})\n",
    "#filter columns\n",
    "df = df[['year', 'visa_adj_spend_spoc', 'total_spoc', 'visa_total_global', 'total_global', 'total_uk_finance', 'visa_total_boe', 'total_boe' ]]\n",
    "#melt df\n",
    "df = pd.melt(df, id_vars='year',var_name='Data source', value_name='value')\n",
    "df = calc_utils.calculate_index(df = df)"
   ]
  },
  {
   "cell_type": "code",
   "execution_count": null,
   "id": "e47e1f92-3d32-4ff6-a5e3-ba7a3f7f4dcf",
   "metadata": {},
   "outputs": [],
   "source": []
  }
 ],
 "metadata": {
  "environment": {
   "kernel": "python3",
   "name": "r-cpu.m125",
   "type": "gcloud",
   "uri": "us-docker.pkg.dev/deeplearning-platform-release/gcr.io/r-cpu:m125"
  },
  "language_info": {
   "codemirror_mode": {
    "name": "ipython",
    "version": 3
   },
   "file_extension": ".py",
   "mimetype": "text/x-python",
   "name": "python",
   "nbconvert_exporter": "python",
   "pygments_lexer": "ipython3",
   "version": "3.10.15"
  }
 },
 "nbformat": 4,
 "nbformat_minor": 5
}
