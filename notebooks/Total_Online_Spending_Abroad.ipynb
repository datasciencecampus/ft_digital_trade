{
 "cells": [
  {
   "cell_type": "code",
   "execution_count": null,
   "id": "b6dd85f2-aeae-4df4-a728-d2e514c19d34",
   "metadata": {
    "tags": []
   },
   "outputs": [],
   "source": [
    "project_path = \"/home/jupyter\"\n",
    "import os\n",
    "import sys\n",
    "sys.path.append(project_path)\n",
    "\n",
    "from google.cloud import bigquery\n",
    "import importlib\n",
    "import plotly.express as px\n",
    "\n",
    "import numpy as np\n",
    "import pandas as pd\n",
    "from datetime import datetime\n",
    "\n",
    "import ft_digital_trade.src.utils.read_data_online as read_utils\n",
    "import ft_digital_trade.src.utils.clean_utils as clean_utils\n",
    "import ft_digital_trade.src.utils.calculation_utils as calc_utils\n",
    "import ft_digital_trade.src.utils.plot_utils as plot_utils"
   ]
  },
  {
   "cell_type": "code",
   "execution_count": null,
   "id": "a8b96e1b-3990-4db1-a03a-455a70236a73",
   "metadata": {
    "tags": []
   },
   "outputs": [],
   "source": [
    "client = bigquery.Client()"
   ]
  },
  {
   "cell_type": "code",
   "execution_count": null,
   "id": "9a7c8b8b-b822-4787-bc0a-18c6c08b3e52",
   "metadata": {
    "tags": []
   },
   "outputs": [],
   "source": [
    "#This allows you to select different location of merchant spend for face-to-face and online\n",
    "## for more information run the following:\n",
    "##help(read_utils.read_visa)\n",
    "#visa_data = read_utils.read_f2f_online(cardholder_origin = \"all\", f2f =  \"uk\", online =  \"all\")\n",
    "\n",
    "#This applies the same filters for face-to-face and online data\n",
    "## for more information run the following:\n",
    "##help(read_utils.read_visa)\n",
    "visa_data_UK = read_utils.read_visa(cardholder_origin = \"uk\", cardholders_location = \"uk\", spend_location = \"uk\")\n",
    "visa_data_All = read_utils.read_visa(cardholder_origin = \"uk\", cardholders_location = \"uk\", spend_location =\"all\")"
   ]
  },
  {
   "cell_type": "code",
   "execution_count": null,
   "id": "4fd524f6-f86e-4ea8-b37e-6ccd6ed7f088",
   "metadata": {
    "tags": []
   },
   "outputs": [],
   "source": [
    "visa_UK = calc_utils.calculate_visa(visa_data_UK)\n",
    "visa_UK = clean_utils.rename_columns(df = visa_UK, suffix = '_VisaUK')\n",
    "\n",
    "visa_All = calc_utils.calculate_visa(visa_data_All)\n",
    "visa_All = clean_utils.rename_columns(df = visa_All, suffix = '_VisaAll')\n",
    "\n",
    "visa_UK.head()"
   ]
  },
  {
   "cell_type": "code",
   "execution_count": null,
   "id": "970b3179-965c-4755-9a8a-adaa928f7d02",
   "metadata": {
    "tags": []
   },
   "outputs": [],
   "source": [
    "global_cards = read_utils.read_global_cards()\n",
    "global_cards = clean_utils.clean_global(global_cards)\n",
    "global_cards = calc_utils.calculate_global(global_cards, 'card')"
   ]
  },
  {
   "cell_type": "code",
   "execution_count": null,
   "id": "9f7afc13-8046-49c4-bc02-d3fe3512da93",
   "metadata": {
    "tags": []
   },
   "outputs": [],
   "source": [
    "global_spend = read_utils.read_global_spend()\n",
    "global_spend = clean_utils.clean_global(global_spend)\n",
    "global_spend = calc_utils.calculate_global(global_spend, 'spend')"
   ]
  },
  {
   "cell_type": "code",
   "execution_count": null,
   "id": "a53bbc3c-e600-4130-b6e8-f9809ffc2690",
   "metadata": {
    "tags": []
   },
   "outputs": [],
   "source": [
    "global_df = global_cards.merge(global_spend, how = 'inner', on = 'year', suffixes = ('_cards', '_spend'))\n",
    "global_df = clean_utils.rename_columns(df = global_df, suffix = '_global')"
   ]
  },
  {
   "cell_type": "code",
   "execution_count": null,
   "id": "d165e9cb-6e3f-4456-b9cb-d90a99842b58",
   "metadata": {
    "tags": []
   },
   "outputs": [],
   "source": [
    "uk_finance = read_utils.read_uk_finance()\n",
    "uk_finance = clean_utils.clean_uk_finance(uk_finance)\n",
    "uk_finance = calc_utils.calculate_uk_finance(uk_finance)\n",
    "uk_finance = uk_finance[['year', 'cardholders','total value of purchases',\"total volume of purchases\"]]\n",
    "uk_finance = clean_utils.rename_columns(df = uk_finance , suffix = '_uk_finance')"
   ]
  },
  {
   "cell_type": "code",
   "execution_count": null,
   "id": "aaefc14c-a1ca-4819-b3e4-e12847e29669",
   "metadata": {
    "tags": []
   },
   "outputs": [],
   "source": [
    "boe = read_utils.read_boe()\n",
    "boe = clean_utils.clean_boe(boe)\n",
    "boe = calc_utils.calculate_boe(boe)\n",
    "boe = clean_utils.rename_columns(df = boe , suffix = '_boe')"
   ]
  },
  {
   "cell_type": "code",
   "execution_count": null,
   "id": "f5afbb93-47c7-4845-b359-604ffb2fd69b",
   "metadata": {
    "tags": []
   },
   "outputs": [],
   "source": [
    "link = read_utils.read_link()"
   ]
  },
  {
   "cell_type": "code",
   "execution_count": null,
   "id": "d83efb4b-e70f-4613-8b82-519d9eaa6aaf",
   "metadata": {
    "tags": []
   },
   "outputs": [],
   "source": [
    "merged_UK = visa_UK.merge(uk_finance, how = 'outer', on = 'year')\n",
    "merged_UK = merged_UK.merge(boe, how = 'outer', on = 'year')\n",
    "merged_UK = merged_UK.merge(global_df, how = 'outer', on = 'year')\n",
    "\n",
    "merged_All = visa_All.merge(uk_finance, how = 'outer', on = 'year')\n",
    "merged_All = merged_All.merge(boe, how = 'outer', on = 'year')\n",
    "merged_All = merged_All.merge(global_df, how = 'outer', on = 'year')"
   ]
  },
  {
   "cell_type": "code",
   "execution_count": null,
   "id": "88e9eeb8-20f0-4bd4-be26-7c9b74d2afc5",
   "metadata": {},
   "outputs": [],
   "source": []
  }
 ],
 "metadata": {
  "environment": {
   "kernel": "python3",
   "name": "r-cpu.m125",
   "type": "gcloud",
   "uri": "us-docker.pkg.dev/deeplearning-platform-release/gcr.io/r-cpu:m125"
  },
  "language_info": {
   "codemirror_mode": {
    "name": "ipython",
    "version": 3
   },
   "file_extension": ".py",
   "mimetype": "text/x-python",
   "name": "python",
   "nbconvert_exporter": "python",
   "pygments_lexer": "ipython3",
   "version": "3.10.15"
  }
 },
 "nbformat": 4,
 "nbformat_minor": 5
}
