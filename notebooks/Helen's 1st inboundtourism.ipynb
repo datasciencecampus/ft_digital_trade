{
 "cells": [
  {
   "cell_type": "code",
   "execution_count": null,
   "id": "a5f03e33-51eb-48ae-99b4-dcca3e73a0ed",
   "metadata": {
    "tags": []
   },
   "outputs": [],
   "source": [
    "project_path = \"/home/jupyter\"\n",
    "import os\n",
    "import sys\n",
    "\n",
    "sys.path.append(project_path)\n",
    "import numpy as np\n",
    "import pandas as pd\n",
    "import matplotlib.pyplot as plt\n",
    "import re\n",
    "from google.cloud import bigquery\n",
    "\n",
    "from fintrans_toolbox.src import bq_utils as bq\n",
    "from fintrans_toolbox.src import table_utils as t\n",
    "\n",
    "\n",
    "client = bigquery.Client()"
   ]
  },
  {
   "cell_type": "code",
   "execution_count": null,
   "id": "2b178567-ff94-4130-a9dc-9bad168caf5a",
   "metadata": {
    "tags": []
   },
   "outputs": [],
   "source": [
    "# Select just monthly data and just postal sector to make it easier to work with\n",
    "sql = \"SELECT * FROM `ons-fintrans-data-prod.fintrans_visa.spend_merchant_location`  where time_period_value = '201901' \"\n",
    "df_inbound = bq.read_bq_table_sql(client, sql)\n",
    "df_inbound"
   ]
  },
  {
   "cell_type": "code",
   "execution_count": null,
   "id": "861e89f1-5374-47bc-93d5-b7acc479e0c0",
   "metadata": {
    "tags": []
   },
   "outputs": [],
   "source": [
    "test = df_inbound['cardholder_issuing_level'].unique()\n",
    "test"
   ]
  },
  {
   "cell_type": "code",
   "execution_count": null,
   "id": "4698197f-4745-49a6-9d2f-25080c84ce6f",
   "metadata": {
    "tags": []
   },
   "outputs": [],
   "source": [
    "# Drop data columns\n",
    "df_inbound = df_inbound.drop(['spend', 'transactions', 'cardholders', 'dist_merchants', 'pct_repeat_pan_cnt'],axis = 1)\n",
    "df_inbound"
   ]
  },
  {
   "cell_type": "code",
   "execution_count": null,
   "id": "df99b83b-6c7c-4b60-8292-aaff5d518a54",
   "metadata": {
    "tags": []
   },
   "outputs": [],
   "source": [
    "# Add random data columns\n",
    "df_inbound['spend'] = np.random.rand(df_inbound.shape[0],1)*10000\n",
    "df_inbound['transactions'] = np.random.randint(15,20000,df_inbound.shape[0])\n",
    "df_inbound['cardholders'] = np.random.randint(10,30000,df_inbound.shape[0])\n",
    "df_inbound['dist_merchants'] = np.random.randint(5,30000,df_inbound.shape[0])\n",
    "df_inbound['pct_repeat_pan_cnt'] = np.random.rand(df_inbound.shape[0],1)\n",
    "df_inbound"
   ]
  },
  {
   "cell_type": "code",
   "execution_count": null,
   "id": "5b2a0c80-54a0-43e9-afcb-2bd35a847f2c",
   "metadata": {
    "tags": []
   },
   "outputs": [],
   "source": [
    "# Save to csv\n",
    "df_inbound.to_csv('inboundtourism_fintrans.csv')"
   ]
  },
  {
   "cell_type": "code",
   "execution_count": null,
   "id": "852ff0f8-8179-4191-94b5-252792b6677d",
   "metadata": {},
   "outputs": [],
   "source": []
  }
 ],
 "metadata": {
  "environment": {
   "kernel": "python3",
   "name": "r-cpu.m125",
   "type": "gcloud",
   "uri": "us-docker.pkg.dev/deeplearning-platform-release/gcr.io/r-cpu:m125"
  },
  "language_info": {
   "codemirror_mode": {
    "name": "ipython",
    "version": 3
   },
   "file_extension": ".py",
   "mimetype": "text/x-python",
   "name": "python",
   "nbconvert_exporter": "python",
   "pygments_lexer": "ipython3",
   "version": "3.10.15"
  }
 },
 "nbformat": 4,
 "nbformat_minor": 5
}
