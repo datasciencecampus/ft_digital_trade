{
 "cells": [
  {
   "cell_type": "markdown",
   "id": "86826dee-62cc-4e83-87cf-db590ea8b472",
   "metadata": {},
   "source": [
    "# Prerequisities"
   ]
  },
  {
   "cell_type": "markdown",
   "id": "7a75363e-82ce-43ae-83b1-5c1c94104b13",
   "metadata": {},
   "source": [
    "download data from : https://officenationalstatistics.sharepoint.com/:f:/s/cardpaym/EqhoxLim2CJJuyKQIMo9WYUBobzXZDpmOstOugLdQlDzrg?e=KOGOtu\n",
    "save data in ft_marketshare/data/raw"
   ]
  },
  {
   "cell_type": "code",
   "execution_count": null,
   "id": "56cbc07a-2f05-45c5-9821-64918738f881",
   "metadata": {
    "tags": []
   },
   "outputs": [],
   "source": [
    "project_path = \"/home/jupyter\"\n",
    "import os\n",
    "import sys\n",
    "sys.path.append(project_path)\n",
    "\n",
    "from google.cloud import bigquery\n",
    "import importlib\n",
    "import plotly.express as px\n",
    "\n",
    "import numpy as np\n",
    "import pandas as pd\n",
    "from datetime import datetime\n",
    "\n",
    "import ft_digital_trade.src.utils.read_data as read_utils\n",
    "import ft_digital_trade.src.utils.clean_utils as clean_utils\n",
    "import ft_digital_trade.src.utils.calculation_utils as calc_utils\n",
    "import ft_digital_trade.src.utils.plot_utils as plot_utils"
   ]
  },
  {
   "cell_type": "code",
   "execution_count": null,
   "id": "9a6fc2f6-76d9-443a-809c-6d3838a49937",
   "metadata": {
    "tags": []
   },
   "outputs": [],
   "source": [
    "client = bigquery.Client()"
   ]
  },
  {
   "cell_type": "markdown",
   "id": "9187f748-d117-4067-934f-41151a574146",
   "metadata": {
    "tags": []
   },
   "source": [
    "# Data"
   ]
  },
  {
   "cell_type": "markdown",
   "id": "a2222cfa-5e68-4861-82b3-146869669362",
   "metadata": {},
   "source": [
    "## Visa"
   ]
  },
  {
   "cell_type": "markdown",
   "id": "646647d0-64f3-4b3b-9105-ae194f780f42",
   "metadata": {},
   "source": [
    "## Chose what filters you want to apply to visa data"
   ]
  },
  {
   "cell_type": "code",
   "execution_count": null,
   "id": "65a9331a-2ef9-406b-bec9-481cadacc2a5",
   "metadata": {
    "tags": []
   },
   "outputs": [],
   "source": [
    "#This allows you to select different location of merchant spend for face-to-face and online\n",
    "## for more information run the following:\n",
    "##help(read_utils.read_visa)\n",
    "#visa_data = read_utils.read_f2f_online(cardholder_origin = \"all\", f2f =  \"uk\", online =  \"all\")\n",
    "\n",
    "#This applies the same filters for face-to-face and online data\n",
    "## for more information run the following:\n",
    "##help(read_utils.read_visa)\n",
    "visa_data = read_utils.read_visa(cardholder_origin = \"uk\", cardholders_location = \"uk\", spend_location = \"uk\")"
   ]
  },
  {
   "cell_type": "code",
   "execution_count": null,
   "id": "dbafa752-f40e-4244-ba35-7e6591593a4e",
   "metadata": {
    "tags": []
   },
   "outputs": [],
   "source": [
    "visa = calc_utils.calculate_visa(visa_data)\n",
    "visa = clean_utils.rename_columns(df = visa, suffix = '_spoc')"
   ]
  },
  {
   "cell_type": "markdown",
   "id": "3e26133c-dcf9-4a8d-b836-169750e99608",
   "metadata": {},
   "source": [
    "## Global"
   ]
  },
  {
   "cell_type": "code",
   "execution_count": null,
   "id": "48669e83-cf4b-4165-a706-b1b092258ac1",
   "metadata": {
    "tags": []
   },
   "outputs": [],
   "source": [
    "global_cards = read_utils.read_global_cards()\n",
    "global_cards = clean_utils.clean_global(global_cards)\n",
    "global_cards = calc_utils.calculate_global(global_cards, 'card')"
   ]
  },
  {
   "cell_type": "code",
   "execution_count": null,
   "id": "79faffab-9d81-4099-8721-2c59a0b5038b",
   "metadata": {
    "tags": []
   },
   "outputs": [],
   "source": [
    "global_spend = read_utils.read_global_spend()\n",
    "global_spend = clean_utils.clean_global(global_spend)\n",
    "global_spend = calc_utils.calculate_global(global_spend, 'spend')"
   ]
  },
  {
   "cell_type": "code",
   "execution_count": null,
   "id": "7a645046-c6ac-4239-af2b-85fd78dc9a25",
   "metadata": {
    "tags": []
   },
   "outputs": [],
   "source": [
    "global_df = global_cards.merge(global_spend, how = 'inner', on = 'year', suffixes = ('_cards', '_spend'))\n",
    "global_df = clean_utils.rename_columns(df = global_df, suffix = '_global')"
   ]
  },
  {
   "cell_type": "markdown",
   "id": "cbc1770c-8690-42e0-b3f5-bb322615eb83",
   "metadata": {},
   "source": [
    "## UK Finance"
   ]
  },
  {
   "cell_type": "code",
   "execution_count": null,
   "id": "cfa64900-28c6-4a5c-8b4e-38c17f24e712",
   "metadata": {},
   "outputs": [],
   "source": [
    "uk_finance = read_utils.read_uk_finance()\n",
    "uk_finance = clean_utils.clean_uk_finance(uk_finance)\n",
    "uk_finance = calc_utils.calculate_uk_finance(uk_finance)\n",
    "uk_finance = uk_finance[['year', 'cardholders','total value of purchases',\"total volume of purchases\"]]\n",
    "uk_finance = clean_utils.rename_columns(df = uk_finance , suffix = '_uk_finance')"
   ]
  },
  {
   "cell_type": "markdown",
   "id": "92724696-14ad-422e-8ac0-32d8dd6bd4ce",
   "metadata": {},
   "source": [
    "## BoE"
   ]
  },
  {
   "cell_type": "code",
   "execution_count": null,
   "id": "a57a7d74-2863-49fa-9870-8e3aa1b0365c",
   "metadata": {},
   "outputs": [],
   "source": [
    "boe = read_utils.read_boe()\n",
    "boe = clean_utils.clean_boe(boe)\n",
    "boe = calc_utils.calculate_boe(boe)\n",
    "boe = clean_utils.rename_columns(df = boe , suffix = '_boe')"
   ]
  },
  {
   "cell_type": "markdown",
   "id": "6c2cf667-214a-4279-bddf-143751c5b3dc",
   "metadata": {},
   "source": [
    "## Link"
   ]
  },
  {
   "cell_type": "code",
   "execution_count": null,
   "id": "46788241-5bb3-4521-9bb3-2d4deadd47ce",
   "metadata": {},
   "outputs": [],
   "source": [
    "link = read_utils.read_link()"
   ]
  },
  {
   "cell_type": "markdown",
   "id": "eb4fd8df-c04f-4cba-9d37-7bb52b1b32a0",
   "metadata": {},
   "source": [
    "# Merge data"
   ]
  },
  {
   "cell_type": "code",
   "execution_count": null,
   "id": "a255675a-a3df-4846-9bff-a3163fa09789",
   "metadata": {
    "tags": []
   },
   "outputs": [],
   "source": [
    "merged = visa.merge(uk_finance, how = 'outer', on = 'year')\n",
    "merged = merged.merge(boe, how = 'outer', on = 'year')\n",
    "merged = merged.merge(global_df, how = 'outer', on = 'year')"
   ]
  },
  {
   "cell_type": "markdown",
   "id": "5934f560-f9ec-4871-b487-bb2d18092a5d",
   "metadata": {},
   "source": [
    "## cardholders"
   ]
  },
  {
   "cell_type": "code",
   "execution_count": null,
   "id": "26b55ba9-6e12-4c15-81ab-e45f2f7af41b",
   "metadata": {
    "tags": []
   },
   "outputs": [],
   "source": [
    "cardholders = merged[['year','cardholders_spoc','cardholders_uk_finance','visa_total_cards_global','total_cards_global', 'visa_marketshare_cards_global']]\n",
    "cardholders = cardholders.copy()\n",
    "cardholders['uk_finance_marketshare'] = cardholders['cardholders_spoc'] / cardholders['cardholders_uk_finance'] *100\n",
    "cardholders['global_marketshare'] = cardholders['cardholders_spoc'] / cardholders['total_cards_global'] *100\n",
    "#melt df for charts\n",
    "cardholders = pd.melt(cardholders, id_vars='year',var_name='Data source', value_name='value')\n",
    "cardholders = calc_utils.calculate_index(df = cardholders)"
   ]
  },
  {
   "cell_type": "markdown",
   "id": "0ae532a6-a9ff-4c8b-879a-8b84204a9ffe",
   "metadata": {},
   "source": [
    "## spend"
   ]
  },
  {
   "cell_type": "code",
   "execution_count": null,
   "id": "9dc66bab-b316-4e10-ba4a-91df99415c03",
   "metadata": {
    "tags": []
   },
   "outputs": [],
   "source": [
    "spend = merged[['year','spend_spoc', \n",
    "        'total value of purchases_uk_finance',\n",
    "       'Mastercard values_boe', 'Visa Europe values_boe',\n",
    "       'Mastercard and Visa values_boe', 'Visa proportion_boe',\n",
    "       'debit_spend_global', 'credit_spend_global', 'visa_total_spend_global',\n",
    "       'total_spend_global', 'visa_marketshare_spend_global']]\n",
    "spend = spend.copy()\n",
    "# #replace 2024 spending with NA\n",
    "spend['spend_spoc'] = np.where(spend['year']==2024, np.nan, spend['spend_spoc'])\n",
    "spend['total value of purchases_uk_finance'] = np.where(spend['year']==2024, np.nan, spend['total value of purchases_uk_finance'])\n",
    "#calculate marketshare\n",
    "spend['uk_finance_marketshare'] = spend['spend_spoc'] / spend['total value of purchases_uk_finance'] *100\n",
    "spend['global_marketshare'] = spend['spend_spoc'] / spend['total_spend_global'] *100\n",
    "spend['boe_marketshare'] = spend['spend_spoc'] / spend['Mastercard and Visa values_boe'] *100\n",
    "#copy used for getting 2019 marketshare\n",
    "spend_copy = spend.copy()\n",
    "#melt df for charts\n",
    "spend = pd.melt(spend, id_vars='year',var_name='Data source', value_name='value')\n",
    "spend = calc_utils.calculate_index(df = spend)"
   ]
  },
  {
   "cell_type": "markdown",
   "id": "a6fb3825-f57b-4a4a-b18b-fc10d3ce2e91",
   "metadata": {},
   "source": [
    "# Plots using external data sources"
   ]
  },
  {
   "cell_type": "markdown",
   "id": "42d3d53a-77e2-4644-ba29-dae146391644",
   "metadata": {},
   "source": [
    "## cardholders"
   ]
  },
  {
   "cell_type": "code",
   "execution_count": null,
   "id": "46d601c8-41c5-4348-8c78-be2f9eed225a",
   "metadata": {},
   "outputs": [],
   "source": [
    "plot_utils.plot_total_cardholders(df = cardholders)"
   ]
  },
  {
   "cell_type": "code",
   "execution_count": null,
   "id": "eb9762bc-f590-4ead-98f4-4764e0eeff49",
   "metadata": {
    "tags": []
   },
   "outputs": [],
   "source": [
    "plot_utils.plot_visa_cardholders(df = cardholders)"
   ]
  },
  {
   "cell_type": "code",
   "execution_count": null,
   "id": "3ac27052-4c3f-482f-8b99-452fad369bdc",
   "metadata": {
    "tags": []
   },
   "outputs": [],
   "source": [
    "plot_utils.plot_marketshare_cardholders(df = cardholders)"
   ]
  },
  {
   "cell_type": "markdown",
   "id": "08b1ea48-4519-4896-872c-21285f424f66",
   "metadata": {},
   "source": [
    "### spend"
   ]
  },
  {
   "cell_type": "code",
   "execution_count": null,
   "id": "09f8750b-1880-4b41-ab8f-53bfd4421ab9",
   "metadata": {},
   "outputs": [],
   "source": [
    "plot_utils.plot_total_spend(df = spend)"
   ]
  },
  {
   "cell_type": "code",
   "execution_count": null,
   "id": "520d3a4a-3e43-439e-8b7e-e3a5671eeca1",
   "metadata": {},
   "outputs": [],
   "source": [
    "plot_utils.plot_visa_spend(df = spend)"
   ]
  },
  {
   "cell_type": "code",
   "execution_count": null,
   "id": "79647799-461b-47f8-8808-bd65546898d1",
   "metadata": {
    "tags": []
   },
   "outputs": [],
   "source": [
    "plot_utils.plot_marketshare_spend(df = spend)"
   ]
  },
  {
   "cell_type": "markdown",
   "id": "90786671-8d1c-4439-ab12-273a363f7f2e",
   "metadata": {},
   "source": [
    "# Index cardholder methodology"
   ]
  },
  {
   "cell_type": "code",
   "execution_count": null,
   "id": "1621e8cf-ee04-492b-af9d-42896df480fe",
   "metadata": {
    "tags": []
   },
   "outputs": [],
   "source": [
    "#options of marketshare threshold\n",
    "# marketshare_2019 = spend_copy.iloc[0]['visa_marketshare_spend_global']\n",
    "# marketshare_2019 = spend_copy.iloc[0]['global_marketshare']\n",
    "marketshare_2019 = spend_copy.iloc[0]['uk_finance_marketshare']\n",
    "marketshare_2019"
   ]
  },
  {
   "cell_type": "code",
   "execution_count": null,
   "id": "68794092-0a63-4924-9ea4-02a52cedbe9e",
   "metadata": {},
   "outputs": [],
   "source": [
    "df = merged.copy()\n",
    "#remove 2024 due to incomplete data\n",
    "df = df[df['year'] != 2024]\n",
    "#index spoc data\n",
    "df['idx_cardholders_spoc'] = df['cardholders_spoc'].transform(lambda x: (x / x.iloc[0] * 100))\n",
    "df['idx_spend_spoc'] = df['spend_spoc'].transform(lambda x: (x / x.iloc[0] * 100))\n",
    "# adjust visa spend to 2019 cardholders\n",
    "df['visa_adj_spend_spoc'] = (df['spend_spoc']/df['idx_cardholders_spoc'])*100\n",
    "df['total_spoc'] = df['visa_adj_spend_spoc'] / marketshare_2019 *100\n",
    "#rename columns\n",
    "df = df.rename(columns={'total value of purchases_uk_finance': 'total_uk_finance'})\n",
    "df = df.rename(columns={'visa_total_spend_global': 'visa_total_global','total_spend_global':'total_global'})\n",
    "df = df.rename(columns={'Visa Europe values_boe': 'visa_total_boe', 'Mastercard and Visa values_boe': 'total_boe'})\n",
    "#filter columns\n",
    "df = df[['year', 'visa_adj_spend_spoc', 'total_spoc', 'visa_total_global', 'total_global', 'total_uk_finance', 'visa_total_boe', 'total_boe' ]]\n",
    "#melt df\n",
    "df = pd.melt(df, id_vars='year',var_name='Data source', value_name='value')\n",
    "df = calc_utils.calculate_index(df = df)\n"
   ]
  },
  {
   "cell_type": "code",
   "execution_count": null,
   "id": "97f3e330-81b8-4a9b-9054-8a0895aa627c",
   "metadata": {
    "tags": []
   },
   "outputs": [],
   "source": [
    "plot_utils.plot_adjusted_visa(df = df, y_value = \"value\")"
   ]
  },
  {
   "cell_type": "code",
   "execution_count": null,
   "id": "faa61232-1466-4103-a5cf-7312a0831ae2",
   "metadata": {
    "tags": []
   },
   "outputs": [],
   "source": [
    "plot_utils.plot_adjusted_visa(df = df, y_value = \"index\")"
   ]
  }
 ],
 "metadata": {
  "environment": {
   "kernel": "python3",
   "name": "r-cpu.m125",
   "type": "gcloud",
   "uri": "us-docker.pkg.dev/deeplearning-platform-release/gcr.io/r-cpu:m125"
  },
  "language_info": {
   "codemirror_mode": {
    "name": "ipython",
    "version": 3
   },
   "file_extension": ".py",
   "mimetype": "text/x-python",
   "name": "python",
   "nbconvert_exporter": "python",
   "pygments_lexer": "ipython3",
   "version": "3.10.15"
  }
 },
 "nbformat": 4,
 "nbformat_minor": 5
}
