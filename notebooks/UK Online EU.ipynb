{
 "cells": [
  {
   "cell_type": "code",
   "execution_count": null,
   "id": "88f5ab57-f1f4-4cd2-85c3-99c0443c5d8a",
   "metadata": {
    "tags": []
   },
   "outputs": [],
   "source": [
    "project_path = \"/home/jupyter\"\n",
    "import os\n",
    "import sys\n",
    "sys.path.append(project_path)\n",
    "from google.cloud import bigquery, storage\n",
    "\n",
    "import matplotlib.pyplot as plt\n",
    "import numpy as np\n",
    "import pandas as pd\n",
    "import plotly.express as px\n",
    "\n",
    "from fintrans_toolbox.src import bq_utils as bq\n",
    "\n",
    "client = bigquery.Client()"
   ]
  },
  {
   "cell_type": "code",
   "execution_count": null,
   "id": "5f7df617-d0b4-43a1-9530-e7fea9ccf476",
   "metadata": {
    "tags": []
   },
   "outputs": [],
   "source": [
    "# Summarise the UK Cardholders Spending data by country Abroad Online Totals\n",
    "\n",
    "UK_spending_by_country = '''SELECT time_period_value, destination_country, spend \n",
    "FROM `ons-fintrans-data-prod.fintrans_visa.spend_origin_and_channel` \n",
    "where time_period = 'Quarter' \n",
    "and mcg = 'All' \n",
    "and merchant_channel = 'Online' \n",
    "and cardholder_origin_country = 'All' \n",
    "and cardholder_origin = 'UNITED KINGDOM' \n",
    "and destination_country != 'UNITED KINGDOM' \n",
    "GROUP BY destination_country, \n",
    "time_period_value, spend \n",
    "ORDER BY time_period_value, destination_country DESC'''\n",
    "df_by_country = bq.read_bq_table_sql(client, UK_spending_by_country)\n",
    "df_by_country.head()"
   ]
  },
  {
   "cell_type": "code",
   "execution_count": null,
   "id": "d5714f4d-6b7e-42cd-aa98-d938a53ae840",
   "metadata": {
    "tags": []
   },
   "outputs": [],
   "source": [
    "df_by_country.to_csv('UK_Spending_By_Country.csv')"
   ]
  },
  {
   "cell_type": "code",
   "execution_count": null,
   "id": "dc99500f-ae79-49a8-b327-7f8df0246196",
   "metadata": {
    "tags": []
   },
   "outputs": [],
   "source": [
    "# Assign value and percentage change variables\n",
    "df_by_country = df_by_country.sort_values(['destination_country','time_period_value'])\n",
    "df_by_country['pct_change'] = df_by_country.groupby(['destination_country']).spend.pct_change()\n",
    "df_by_country['value_change'] = df_by_country.groupby(['destination_country']).spend.diff()\n"
   ]
  },
  {
   "cell_type": "code",
   "execution_count": null,
   "id": "4ed5c103-4824-499c-9ff4-8426a26800fd",
   "metadata": {},
   "outputs": [],
   "source": []
  },
  {
   "cell_type": "code",
   "execution_count": null,
   "id": "154ba1a2-12a2-40ae-860b-92ce9cb5f669",
   "metadata": {
    "tags": []
   },
   "outputs": [],
   "source": [
    "# Plot stacked bar chart with all values - Bar Chart UK Abroad Online Spend by Countries Total 2019 - 2025\n",
    "\n",
    "df_by_country[['time_period_value','destination_country','spend']].groupby(['time_period_value','destination_country']).sum().unstack().plot(kind = 'bar', stacked = 'True')"
   ]
  },
  {
   "cell_type": "code",
   "execution_count": null,
   "id": "3a3917f9-7b72-4c61-b290-0093197b3f61",
   "metadata": {
    "tags": []
   },
   "outputs": [],
   "source": [
    "# Plot line chart using plotly express for all countries\n",
    "pfig2 = px.line(\n",
    "        df_by_country,\n",
    "        x=\"time_period_value\",\n",
    "        y=\"spend\",\n",
    "        color=\"destination_country\")\n",
    "pfig2"
   ]
  },
  {
   "cell_type": "code",
   "execution_count": null,
   "id": "a396b67b-d8d4-43a3-9042-0fa2b023581b",
   "metadata": {
    "tags": []
   },
   "outputs": [],
   "source": [
    "# Top 5 Countries Line Chart\n",
    "\n",
    "import pandas as pd\n",
    "import plotly.express as px\n",
    "\n",
    "# Aggregating total spend by country across all time periods\n",
    "total_spend_by_country = df_by_country.groupby('destination_country')['spend'].sum().reset_index()\n",
    "\n",
    "# Sorting countries by total spend in descending order\n",
    "top_5_countries = total_spend_by_country.sort_values(by='spend', ascending=False).head(5)\n",
    "\n",
    "# Print the top 5 countries with the highest total spend\n",
    "print(\"Top 5 Countries with the Highest Total Spend (2019-2025):\")\n",
    "print(top_5_countries[['destination_country', 'spend']])\n",
    "\n",
    "# Now filter the original DataFrame to include only the top 5 countries\n",
    "df_top_5_countries = df_by_country[df_by_country['destination_country'].isin(top_5_countries['destination_country'])]\n",
    "\n",
    "# Plot the line chart using Plotly Express for the top 5 countries\n",
    "pfig2 = px.line(\n",
    "    df_top_5_countries,\n",
    "    x=\"time_period_value\",\n",
    "    y=\"spend\",\n",
    "    color=\"destination_country\",\n",
    "    title=\"UK Online Spending by Country (Top 5 Countries) from 2019-2025\"\n",
    ")\n",
    "\n",
    "# Show the plot\n",
    "pfig2.show()"
   ]
  },
  {
   "cell_type": "code",
   "execution_count": null,
   "id": "930e061f-3204-4456-821b-aab798149736",
   "metadata": {
    "tags": []
   },
   "outputs": [],
   "source": [
    "pip install kaleido"
   ]
  },
  {
   "cell_type": "code",
   "execution_count": null,
   "id": "4ee6f333-337a-4408-b7f9-0d39422ef26d",
   "metadata": {
    "tags": []
   },
   "outputs": [],
   "source": [
    "pfig2 = px.line(\n",
    "    df_by_country, \n",
    "    x=\"time_period_value\", \n",
    "    y=\"spend\", \n",
    "    color=\"destination_country\"\n",
    ")"
   ]
  },
  {
   "cell_type": "code",
   "execution_count": null,
   "id": "e53053df-1f84-4bb8-bbae-8e08cbcdcaf7",
   "metadata": {
    "tags": []
   },
   "outputs": [],
   "source": [
    "# Save the figure as a PNG image\n",
    "pfig2.write_image(\"line_chartoutsideuk.png\")\n"
   ]
  },
  {
   "cell_type": "code",
   "execution_count": null,
   "id": "7a724803-7bd6-49d2-b6a8-b02b9ff6fb08",
   "metadata": {
    "tags": []
   },
   "outputs": [],
   "source": [
    "# Plot line chart using plotly express for all countries\n",
    "\n",
    "pfig2 = px.line(\n",
    "        df_by_country,\n",
    "        x=\"time_period_value\",\n",
    "        y=\"spend\",\n",
    "        color=\"destination_country\")\n",
    "pfig2"
   ]
  },
  {
   "cell_type": "code",
   "execution_count": null,
   "id": "01571c8f-65d0-4632-a63f-1d8b415def79",
   "metadata": {
    "tags": []
   },
   "outputs": [],
   "source": [
    "# Select some contries to plot and reduce dataframe - Examples\n",
    "countries = ['AUSTRALIA','SPAIN','FRANCE']\n",
    "plot_df = df_by_country[['time_period_value','destination_country','spend']].loc[df_by_country['destination_country'].isin(countries) ]"
   ]
  },
  {
   "cell_type": "code",
   "execution_count": null,
   "id": "81b5495b-011a-40ce-93b7-d4372d5cc8db",
   "metadata": {},
   "outputs": [],
   "source": []
  },
  {
   "cell_type": "code",
   "execution_count": null,
   "id": "a7bf7e5d-77cc-4c5e-b88e-beb6c7d78b95",
   "metadata": {
    "tags": []
   },
   "outputs": [],
   "source": [
    "#stacked bar chart using pandas plot\n",
    "plot_df.groupby(['time_period_value','destination_country']).sum().unstack().plot(kind = 'bar', stacked = 'True')"
   ]
  },
  {
   "cell_type": "code",
   "execution_count": null,
   "id": "b27f6e9e-b1a1-452d-ab0d-052c2b64c235",
   "metadata": {
    "tags": []
   },
   "outputs": [],
   "source": [
    "#Select some contries to plot and reduce dataframe - Examples\n",
    "\n",
    "import matplotlib.pyplot as plt\n",
    "import pandas as pd\n",
    "\n",
    "# List of selected countries to plot\n",
    "countries = ['AUSTRIA','SPAIN','FRANCE', 'GERMANY', 'ITALY','NETHERLANDS','POLAND','PORTUGAL','REPUBLIC OF IRELAND']\n",
    "\n",
    "# Filter the DataFrame to only include selected countries\n",
    "plot_df = df_by_country[['time_period_value', 'destination_country', 'spend']].loc[df_by_country['destination_country'].isin(countries)]\n",
    "\n",
    "# Group by time period and destination country, then aggregate the spend\n",
    "plot_data = plot_df.groupby(['time_period_value', 'destination_country']).sum().unstack()\n",
    "\n",
    "# Plot the stacked bar chart\n",
    "plt.figure(figsize=(14, 8))\n",
    "plot_data.plot(kind='bar', stacked=True, figsize=(14, 8))\n",
    "\n",
    "# Adding labels and title\n",
    "plt.title('UK Spending by Selected Countries (Online - All Cards)', fontsize=16)\n",
    "plt.xlabel('Time Period', fontsize=12)\n",
    "plt.ylabel('Spending', fontsize=12)\n",
    "plt.legend(title='Destination Country', bbox_to_anchor=(1.05, 1), loc='upper left')\n",
    "\n",
    "# Display the plot\n",
    "plt.tight_layout()  # Ensures that everything fits well within the figure\n",
    "plt.show()"
   ]
  },
  {
   "cell_type": "code",
   "execution_count": null,
   "id": "8dd169cc-0faf-48f7-b4a2-6de2240d39b3",
   "metadata": {
    "tags": []
   },
   "outputs": [],
   "source": [
    "# Line chart using plotly express\n",
    "\n",
    "pfig = px.line(\n",
    "        plot_df,\n",
    "        x=\"time_period_value\",\n",
    "        y=\"spend\",\n",
    "        color=\"destination_country\")\n",
    "pfig"
   ]
  },
  {
   "cell_type": "code",
   "execution_count": null,
   "id": "8c295a90-7aea-4bfb-bfc6-5f4ed3cba75f",
   "metadata": {},
   "outputs": [],
   "source": []
  },
  {
   "cell_type": "code",
   "execution_count": null,
   "id": "3f7acd12-47c7-460e-971a-654414caf48a",
   "metadata": {
    "tags": []
   },
   "outputs": [],
   "source": [
    "# Summarise the data by country Non-UK Cardholders Abroad Spending Online Totals by Country\n",
    "\n",
    "UK_spending_by_country1 = '''SELECT time_period_value, destination_country, spend \n",
    "FROM `ons-fintrans-data-prod.fintrans_visa.spend_origin_and_channel` \n",
    "where time_period = 'Quarter' \n",
    "and mcg = 'All' \n",
    "and merchant_channel = 'Online' \n",
    "and cardholder_origin_country = 'All' \n",
    "and cardholder_origin != 'UNITED KINGDOM' \n",
    "and destination_country != 'UNITED KINGDOM' \n",
    "GROUP BY destination_country, \n",
    "time_period_value, spend \n",
    "ORDER BY time_period_value, destination_country DESC'''\n",
    "df_by_country1 = bq.read_bq_table_sql(client, UK_spending_by_country1)\n",
    "df_by_country1.head()"
   ]
  },
  {
   "cell_type": "code",
   "execution_count": null,
   "id": "cb35d299-479e-47bd-b7e3-cc54ec7a4170",
   "metadata": {
    "tags": []
   },
   "outputs": [],
   "source": [
    "df_by_country1.to_csv('UK_Spending_By_Country1.csv')"
   ]
  },
  {
   "cell_type": "code",
   "execution_count": null,
   "id": "24783b87-393a-4c93-9105-8e88a9068274",
   "metadata": {
    "tags": []
   },
   "outputs": [],
   "source": [
    "# Assign value and percentage change variables\n",
    "df_by_country1 = df_by_country1.sort_values(['destination_country','time_period_value'])\n",
    "df_by_country1['pct_change'] = df_by_country1.groupby(['destination_country']).spend.pct_change()\n",
    "df_by_country1['value_change'] = df_by_country1.groupby(['destination_country']).spend.diff()\n"
   ]
  },
  {
   "cell_type": "code",
   "execution_count": null,
   "id": "36c0acb4-569a-4c6b-9eab-16b15b8b62b3",
   "metadata": {
    "tags": []
   },
   "outputs": [],
   "source": [
    "# Plot stacked bar chart with all values - Non-UK Cardholder Abroad Online Spending Totals by Country\n",
    "\n",
    "df_by_country1[['time_period_value','destination_country','spend']].groupby(['time_period_value','destination_country']).sum().unstack().plot(kind = 'bar', stacked = 'True')"
   ]
  },
  {
   "cell_type": "code",
   "execution_count": null,
   "id": "08a32368-4fb5-4b62-8186-ef94e533456d",
   "metadata": {
    "tags": []
   },
   "outputs": [],
   "source": [
    "# Bar chart, side labels\n",
    "\n",
    "import matplotlib.pyplot as plt\n",
    "import pandas as pd\n",
    "\n",
    "# Grouping the data for the plot and saving the result to a CSV file\n",
    "grouped_data = df_by_country1[['time_period_value', 'destination_country', 'spend']].groupby(['time_period_value', 'destination_country']).sum().unstack()\n",
    "\n",
    "# Save the aggregated data to a CSV file\n",
    "csv_filename = '/home/jupyter/uk_spending_by_country.csv'\n",
    "grouped_data.to_csv(csv_filename)\n",
    "\n",
    "# Now plot the stacked bar chart\n",
    "plt.figure(figsize=(12, 8))\n",
    "grouped_data.plot(kind='bar', stacked=True, figsize=(12, 8))\n",
    "\n",
    "# Adding labels and title\n",
    "plt.title('UK Spending by Country (Online - All Cards)', fontsize=16)\n",
    "plt.xlabel('Time Period', fontsize=12)\n",
    "plt.ylabel('Spending', fontsize=12)\n",
    "plt.legend(title='Destination Country', bbox_to_anchor=(1.05, 1), loc='upper left')\n",
    "\n",
    "# Saving the plot as a PNG image\n",
    "png_filename = '/home/jupyter/uk_spending_by_country.png'\n",
    "plt.tight_layout()  # Ensures that everything fits well\n",
    "plt.savefig(png_filename)\n",
    "\n",
    "# Show the plot (optional)\n",
    "plt.show()\n",
    "\n",
    "# Return file paths for reference\n",
    "csv_filename, png_filename"
   ]
  },
  {
   "cell_type": "code",
   "execution_count": null,
   "id": "2c493cfe-9e08-46d1-bd9a-f0074482b3ff",
   "metadata": {
    "tags": []
   },
   "outputs": [],
   "source": [
    "# Bar Chart Quarterly the UK Cardholders Spending data by country Abroad Online Totals\n",
    "\n",
    "\n",
    "import matplotlib.pyplot as plt\n",
    "import pandas as pd\n",
    "\n",
    "# Grouping the data for the plot and saving the result to a CSV file\n",
    "grouped_data = df_by_country1[['time_period_value', 'destination_country', 'spend']].groupby(['time_period_value', 'destination_country']).sum().unstack()\n",
    "\n",
    "# Save the aggregated data to a CSV file\n",
    "csv_filename = '/home/jupyter/uk_spending_by_country.csv'\n",
    "grouped_data.to_csv(csv_filename)\n",
    "\n",
    "# Calculate the total spend for each quarter (sum across all countries)\n",
    "total_spend_per_quarter = grouped_data.sum(axis=1)\n",
    "\n",
    "# Print out the total spend for each quarter\n",
    "print(\"Total Spend per Quarter:\")\n",
    "print(total_spend_per_quarter)\n",
    "\n",
    "# Now plot the stacked bar chart\n",
    "plt.figure(figsize=(12, 8))\n",
    "grouped_data.plot(kind='bar', stacked=True, figsize=(12, 8))\n",
    "\n",
    "# Adding labels and title\n",
    "plt.title('UK Spending by Country (Online - All Cards)', fontsize=16)\n",
    "plt.xlabel('Time Period', fontsize=12)\n",
    "plt.ylabel('Spending', fontsize=12)\n",
    "plt.legend(title='Destination Country', bbox_to_anchor=(1.05, 1), loc='upper left')\n",
    "\n",
    "# Show the total spend on top of each bar\n",
    "for i, value in enumerate(total_spend_per_quarter):\n",
    "    plt.text(i, value + 0.05, f'{value:,.0f}', ha='center', va='bottom', fontsize=10, color='black')\n",
    "\n",
    "# Saving the plot as a PNG image\n",
    "png_filename = '/home/jupyter/uk_spending_by_country.png'\n",
    "plt.tight_layout()  # Ensures that everything fits well\n",
    "plt.savefig(png_filename)\n",
    "\n",
    "# Show the plot (optional)\n",
    "plt.show()\n",
    "\n",
    "# Return file paths for reference\n",
    "csv_filename, png_filename"
   ]
  },
  {
   "cell_type": "code",
   "execution_count": null,
   "id": "86226ab0-5f86-4c28-8c9d-393be1448e6a",
   "metadata": {},
   "outputs": [],
   "source": []
  },
  {
   "cell_type": "code",
   "execution_count": null,
   "id": "7bd23dd5-e09b-45e4-8749-594097185d19",
   "metadata": {},
   "outputs": [],
   "source": []
  }
 ],
 "metadata": {
  "environment": {
   "kernel": "python3",
   "name": "r-cpu.m125",
   "type": "gcloud",
   "uri": "us-docker.pkg.dev/deeplearning-platform-release/gcr.io/r-cpu:m125"
  },
  "language_info": {
   "codemirror_mode": {
    "name": "ipython",
    "version": 3
   },
   "file_extension": ".py",
   "mimetype": "text/x-python",
   "name": "python",
   "nbconvert_exporter": "python",
   "pygments_lexer": "ipython3",
   "version": "3.10.15"
  }
 },
 "nbformat": 4,
 "nbformat_minor": 5
}
