{
 "cells": [
  {
   "cell_type": "code",
   "execution_count": null,
   "id": "61e2e7ab-eccd-41c9-8cf9-4ea635c35d2a",
   "metadata": {
    "tags": []
   },
   "outputs": [],
   "source": [
    "project_path = \"/home/jupyter\"\n",
    "import os\n",
    "import sys\n",
    "\n",
    "sys.path.append(project_path)\n",
    "import numpy as np\n",
    "import pandas as pd\n",
    "import matplotlib.pyplot as plt\n",
    "import re\n",
    "from google.cloud import bigquery\n",
    "\n",
    "from fintrans_toolbox.src import bq_utils as bq\n",
    "from fintrans_toolbox.src import table_utils as t\n",
    "\n",
    "\n",
    "client = bigquery.Client()"
   ]
  },
  {
   "cell_type": "code",
   "execution_count": null,
   "id": "ab4836d9-c291-4fcb-8d5b-fd0f2ac903e0",
   "metadata": {
    "tags": []
   },
   "outputs": [],
   "source": [
    "# Select just monthly data and just postal sector to make it easier to work with\n",
    "sql = \"SELECT distinct * FROM `ons-fintrans-data-prod.fintrans_visa.retail_performance_high_streets_towns`  where time_period = 'Month' and cardholder_location_level = 'POSTAL_SECTOR' and MERCHANT_LOCATION_LEVEL = 'POSTAL_SECTOR' LIMIT 10000\"\n",
    "df = bq.read_bq_table_sql(client, sql)\n",
    "df"
   ]
  },
  {
   "cell_type": "code",
   "execution_count": null,
   "id": "0674e24c-24f8-4b4d-82b9-2a84511ef015",
   "metadata": {},
   "outputs": [],
   "source": []
  }
 ],
 "metadata": {
  "environment": {
   "kernel": "python3",
   "name": "r-cpu.m125",
   "type": "gcloud",
   "uri": "us-docker.pkg.dev/deeplearning-platform-release/gcr.io/r-cpu:m125"
  },
  "language_info": {
   "codemirror_mode": {
    "name": "ipython",
    "version": 3
   },
   "file_extension": ".py",
   "mimetype": "text/x-python",
   "name": "python",
   "nbconvert_exporter": "python",
   "pygments_lexer": "ipython3",
   "version": "3.10.15"
  }
 },
 "nbformat": 4,
 "nbformat_minor": 5
}
