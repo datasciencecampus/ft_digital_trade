{
 "cells": [
  {
   "cell_type": "code",
   "execution_count": null,
   "id": "b37479f4-ec9f-415e-84ac-02ab1d8b2958",
   "metadata": {
    "tags": []
   },
   "outputs": [],
   "source": [
    "project_path = \"/home/jupyter\"\n",
    "import os\n",
    "import sys\n",
    "\n",
    "sys.path.append(project_path)\n",
    "import numpy as np\n",
    "import pandas as pd\n",
    "import matplotlib.pyplot as plt\n",
    "import re\n",
    "import plotly.express as px\n",
    "import plotly.graph_objects as go\n",
    "from datetime import datetime\n",
    "from google.cloud import bigquery\n",
    "\n",
    "from fintrans_toolbox.src import bq_utils as bq\n",
    "from fintrans_toolbox.src import table_utils as t\n",
    "\n",
    "import ft_digital_trade.src.utils.read_data as read_utils\n",
    "import ft_digital_trade.src.utils.clean_utils as clean_utils\n",
    "import ft_digital_trade.src.utils.calculation_utils as calc_utils\n",
    "import ft_digital_trade.src.utils.plot_utils as plot_utils\n",
    "\n",
    "client = bigquery.Client()"
   ]
  },
  {
   "cell_type": "code",
   "execution_count": null,
   "id": "d61bc04c-84f8-477e-aba5-7a27882892b1",
   "metadata": {
    "tags": []
   },
   "outputs": [],
   "source": [
    "# Getting cardholder totals to scale spend values up (not necessary for this as using %, but useful for some other analysis)\n",
    "# Calculating Visa marketshare drop-off using change in cardholders over time\n",
    "# Looks at how total number of UK cardholders in the dataset changes over time to scale each category of spend\n",
    "\n",
    "cardholders = '''SELECT time_period_value, sum(cardholders) as total_cardholders\n",
    "FROM `ons-fintrans-data-prod.fintrans_visa.spend_origin_and_channel`\n",
    "WHERE time_period = 'Quarter' \n",
    "  AND mcg = 'All'\n",
    "  AND mcc = 'All'\n",
    "  AND merchant_channel = 'All'\n",
    "  AND cardholder_origin = 'UNITED KINGDOM'\n",
    "  AND cardholder_origin_country = 'All'\n",
    "  GROUP BY time_period_value\n",
    "  ORDER BY time_period_value ASC\n",
    "'''\n",
    "cardholders_total = bq.read_bq_table_sql(client, cardholders)\n",
    "#cardholders_total\n",
    "\n",
    "base_cardholders = cardholders_total['total_cardholders'].iloc[0]\n",
    "#base_cardholder\n",
    "\n",
    "cardholders_total['Change from Base'] = (base_cardholders / cardholders_total['total_cardholders'])\n",
    "cardholders_total # Change from Base column can now be multiplied against each quarter's spend values to adjust the spend for Visa's marketshare"
   ]
  },
  {
   "cell_type": "code",
   "execution_count": null,
   "id": "f17d70dc-d897-4297-9399-c62d897ec2b7",
   "metadata": {},
   "outputs": [],
   "source": []
  },
  {
   "cell_type": "code",
   "execution_count": null,
   "id": "526d66a6-965f-41eb-aee6-98c77bf8176d",
   "metadata": {
    "tags": []
   },
   "outputs": [],
   "source": [
    "# Total spend in foreign countries by UK cardholders\n",
    "total_spend_abroad = '''SELECT time_period_value, sum(spend) as total_spend_abroad\n",
    "FROM `ons-fintrans-data-prod.fintrans_visa.spend_origin_and_channel`\n",
    "WHERE time_period = 'Quarter'\n",
    "  AND mcg = 'All' \n",
    "  AND mcc = 'All'\n",
    "  AND merchant_channel = 'All'\n",
    "  AND cardholder_origin = 'UNITED KINGDOM'\n",
    "  AND cardholder_origin_country = 'All'\n",
    "  AND destination_country != 'UNITED KINGDOM' \n",
    "GROUP BY time_period_value\n",
    "ORDER BY time_period_value ASC'''\n",
    "spend_abroad = bq.read_bq_table_sql(client, total_spend_abroad)\n",
    "#spend_abroad.head()"
   ]
  },
  {
   "cell_type": "code",
   "execution_count": null,
   "id": "84aa6248-361d-4bd0-9299-74bedeb1bef1",
   "metadata": {
    "tags": []
   },
   "outputs": [],
   "source": [
    "# Total online spend in foreign countries by UK cardholders\n",
    "total_online_spend_abroad = '''SELECT time_period_value, sum(spend) as total_online_spend_abroad\n",
    "FROM `ons-fintrans-data-prod.fintrans_visa.spend_origin_and_channel`\n",
    "WHERE time_period = 'Quarter' \n",
    "  AND mcg = 'All'\n",
    "  AND mcc = 'All'\n",
    "  AND merchant_channel = 'Online'\n",
    "  AND cardholder_origin = 'UNITED KINGDOM'\n",
    "  AND cardholder_origin_country = 'All'\n",
    "  AND destination_country != 'UNITED KINGDOM' \n",
    "GROUP BY time_period_value\n",
    "ORDER BY time_period_value ASC'''\n",
    "online_spend_abroad = bq.read_bq_table_sql(client, total_online_spend_abroad)\n",
    "online_spend_abroad.head()"
   ]
  },
  {
   "cell_type": "code",
   "execution_count": null,
   "id": "41960357-6d28-4223-af75-ce19a0b2a930",
   "metadata": {
    "tags": []
   },
   "outputs": [],
   "source": [
    "# Total spend in the UK by UK cardholders\n",
    "total_spend_domestic = '''SELECT time_period_value, sum(spend) as total_spend_domestic\n",
    "FROM `ons-fintrans-data-prod.fintrans_visa.spend_origin_and_channel`\n",
    "WHERE time_period = 'Quarter' \n",
    "  AND mcg = 'All' \n",
    "  AND mcc = 'All'\n",
    "  AND merchant_channel = 'All'\n",
    "  AND cardholder_origin = 'UNITED KINGDOM'\n",
    "  AND cardholder_origin_country = 'All' \n",
    "  AND destination_country = 'UNITED KINGDOM'\n",
    "GROUP BY time_period_value\n",
    "ORDER BY time_period_value ASC'''\n",
    "spend_domestic = bq.read_bq_table_sql(client, total_spend_domestic)\n",
    "#spend_domestic.head()"
   ]
  },
  {
   "cell_type": "code",
   "execution_count": null,
   "id": "ccb7256e-7151-42a1-b011-d4831dd66f2f",
   "metadata": {
    "tags": []
   },
   "outputs": [],
   "source": [
    "# Total online spend in UK by UK cardholders\n",
    "total_online_spend_domestic = '''SELECT time_period_value, sum(spend) as total_online_spend_domestic\n",
    "FROM `ons-fintrans-data-prod.fintrans_visa.spend_origin_and_channel`\n",
    "WHERE time_period = 'Quarter' \n",
    "  AND mcg = 'All' \n",
    "  AND mcc = 'All'\n",
    "  AND merchant_channel = 'Online'\n",
    "  AND cardholder_origin = 'UNITED KINGDOM'\n",
    "  AND cardholder_origin_country = 'All'\n",
    "  AND destination_country = 'UNITED KINGDOM' \n",
    "GROUP BY time_period_value\n",
    "ORDER BY time_period_value ASC'''\n",
    "online_spend_domestic = bq.read_bq_table_sql(client, total_online_spend_domestic)\n",
    "#online_spend_domestic.head()"
   ]
  },
  {
   "cell_type": "code",
   "execution_count": null,
   "id": "38c3cfd6-6fbf-4bb0-bfb6-44bf84a9582c",
   "metadata": {
    "tags": []
   },
   "outputs": [],
   "source": [
    "# Adjusting all 4 series\n",
    "adjusted_abroad = spend_abroad"
   ]
  },
  {
   "cell_type": "code",
   "execution_count": null,
   "id": "8feb96cf-e1bc-4541-92ec-8fa60f5889a8",
   "metadata": {
    "tags": []
   },
   "outputs": [],
   "source": [
    "# Merging abroad figures together \n",
    "merged_abroad_spending = pd.merge(spend_abroad, online_spend_abroad, on='time_period_value')\n",
    "\n",
    "# Merging domestic figures together\n",
    "merged_dom_spending = pd.merge(spend_domestic, online_spend_domestic, on='time_period_value')\n",
    "\n",
    "#merged_dom_spending"
   ]
  },
  {
   "cell_type": "code",
   "execution_count": null,
   "id": "fd7abcbb-7f72-4425-8939-eb77f34638c5",
   "metadata": {
    "tags": []
   },
   "outputs": [],
   "source": [
    "# Calculating the online % ratio for each\n",
    "\n",
    "merged_abroad_spending[\"Abroad Online %\"] = (merged_abroad_spending['total_online_spend_abroad'] /  merged_abroad_spending['total_spend_abroad']) * 100\n",
    "merged_dom_spending[\"Domestic Online %\"] = (merged_dom_spending['total_online_spend_domestic'] /  merged_dom_spending['total_spend_domestic']) * 100\n",
    "\n",
    "merged_dom_spending"
   ]
  },
  {
   "cell_type": "code",
   "execution_count": null,
   "id": "d80c04f6-2503-4355-a6a4-c9ca1062cacf",
   "metadata": {},
   "outputs": [],
   "source": []
  },
  {
   "cell_type": "code",
   "execution_count": null,
   "id": "2157584c-e21c-4016-bcbf-57c1d30bf207",
   "metadata": {},
   "outputs": [],
   "source": []
  }
 ],
 "metadata": {
  "environment": {
   "kernel": "python3",
   "name": "r-cpu.m125",
   "type": "gcloud",
   "uri": "us-docker.pkg.dev/deeplearning-platform-release/gcr.io/r-cpu:m125"
  },
  "language_info": {
   "codemirror_mode": {
    "name": "ipython",
    "version": 3
   },
   "file_extension": ".py",
   "mimetype": "text/x-python",
   "name": "python",
   "nbconvert_exporter": "python",
   "pygments_lexer": "ipython3",
   "version": "3.10.15"
  }
 },
 "nbformat": 4,
 "nbformat_minor": 5
}
