{
 "cells": [
  {
   "cell_type": "code",
   "execution_count": null,
   "id": "609a657c-757f-4675-b0fd-0618f3d8c44e",
   "metadata": {
    "tags": []
   },
   "outputs": [],
   "source": [
    "project_path = \"/home/jupyter\"\n",
    "import os\n",
    "import sys\n",
    "\n",
    "sys.path.append(project_path)\n",
    "import numpy as np\n",
    "import pandas as pd\n",
    "import matplotlib.pyplot as plt\n",
    "import re\n",
    "from google.cloud import bigquery\n",
    "\n",
    "from fintrans_toolbox.src import bq_utils as bq\n",
    "from fintrans_toolbox.src import table_utils as t\n",
    "\n",
    "\n",
    "client = bigquery.Client()"
   ]
  },
  {
   "cell_type": "code",
   "execution_count": null,
   "id": "8fa9c6ff-f267-444d-b703-8277c1843487",
   "metadata": {},
   "outputs": [],
   "source": [
    "# Select just monthly data and just postal sector to make it easier to work with\n",
    "sql = \"SELECT All * FROM `ons-fintrans-data-prod.fintrans_visa.spend_origin_and_channel`  where time_period_value > '202307' and mcg = 'ENTERTAINMENT' and merchant_channel = 'Online' and cardholder_origin != 'UNITED KINGDOM' and destination_country != 'UNITED KINGDOM'\"  \n",
    "df_inbound = bq.read_bq_table_sql(client, sql)\n",
    "df_inbound"
   ]
  },
  {
   "cell_type": "code",
   "execution_count": null,
   "id": "6d16122c-fb43-4669-bffc-930acaf61fff",
   "metadata": {
    "tags": []
   },
   "outputs": [],
   "source": [
    "query = '''SELECT time_period_value, destination_country, SUM(spend) AS total FROM `ons-fintrans-data-prod.fintrans_visa.spend_origin_and_channel` where time_period = 'Quarter' and merchant_channel = 'Online' and cardholder_origin_country = 'POSTAL_AREA' and cardholder_origin = 'UNITED KINGDOM' and destination_country != 'UNITED KINGDOM' GROUP BY destination_country, time_period_value ORDER BY time_period_value, total DESC'''\n",
    "df_query = bq.read_bq_table_sql(client, query)\n",
    "df_query"
   ]
  },
  {
   "cell_type": "code",
   "execution_count": null,
   "id": "9d60b657-88e6-4579-825c-a3dc6be35a0f",
   "metadata": {
    "tags": []
   },
   "outputs": [],
   "source": [
    "df_query_wide = df_query.pivot_table(index = \"time_period_value\", columns=\"destination_country\",values=\"total\")\n",
    "df_query_wide.to_csv('Intl_Quarterly_Spend.csv')"
   ]
  },
  {
   "cell_type": "code",
   "execution_count": null,
   "id": "51688927-9087-4994-8bd3-630e6b0f4a8e",
   "metadata": {
    "tags": []
   },
   "outputs": [],
   "source": [
    "mcgquery = '''SELECT time_period_value, mcg, SUM(spend) AS total FROM `ons-fintrans-data-prod.fintrans_visa.spend_origin_and_channel` where time_period = 'Quarter' and merchant_channel = 'Online' and cardholder_origin_country = 'POSTAL_AREA' and cardholder_origin = 'UNITED KINGDOM' and destination_country != 'UNITED KINGDOM' GROUP BY mcg, time_period_value ORDER BY time_period_value, total DESC'''\n",
    "df_mcgquery = bq.read_bq_table_sql(client, mcgquery)\n",
    "df_mcgquery\n",
    "df_mcgquery_mcg = df_mcgquery.pivot_table(index = \"time_period_value\", columns=\"mcg\",values=\"total\")\n",
    "df_mcgquery_mcg.to_csv('Intl_Quarterly_Mcg.csv')"
   ]
  },
  {
   "cell_type": "code",
   "execution_count": null,
   "id": "2b08ca86-c7f1-4f1b-93b1-223843e2403e",
   "metadata": {},
   "outputs": [],
   "source": [
    "mcgquery = '''SELECT time_period_value, mcg, SUM(spend) AS total FROM `ons-fintrans-data-prod.fintrans_visa.spend_origin_and_channel` where time_period = 'Quarter' and merchant_channel = 'Online' and cardholder_origin_country = 'POSTAL_AREA' and cardholder_origin = 'UNITED KINGDOM' and destination_country != 'UNITED KINGDOM' GROUP BY mcg, time_period_value ORDER BY time_period_value, total DESC'''\n",
    "df_mcgquery = bq.read_bq_table_sql(client, mcgquery)\n",
    "df_mcgquery\n",
    "df_mcgquery_mcg = df_mcgquery.pivot_table(index = \"time_period_value\", columns=\"mcg\",values=\"total\")"
   ]
  },
  {
   "cell_type": "code",
   "execution_count": null,
   "id": "c3e35783-630e-434e-8461-6a2b79991147",
   "metadata": {},
   "outputs": [],
   "source": []
  }
 ],
 "metadata": {
  "environment": {
   "kernel": "python3",
   "name": "r-cpu.m125",
   "type": "gcloud",
   "uri": "us-docker.pkg.dev/deeplearning-platform-release/gcr.io/r-cpu:m125"
  },
  "language_info": {
   "codemirror_mode": {
    "name": "ipython",
    "version": 3
   },
   "file_extension": ".py",
   "mimetype": "text/x-python",
   "name": "python",
   "nbconvert_exporter": "python",
   "pygments_lexer": "ipython3",
   "version": "3.10.15"
  }
 },
 "nbformat": 4,
 "nbformat_minor": 5
}
