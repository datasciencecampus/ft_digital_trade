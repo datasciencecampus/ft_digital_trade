{
 "cells": [
  {
   "cell_type": "code",
   "execution_count": null,
   "id": "7885fc07-ef9d-451a-ab4a-c0194b594544",
   "metadata": {
    "tags": []
   },
   "outputs": [],
   "source": [
    "project_path = \"/home/jupyter\"\n",
    "import os\n",
    "import sys\n",
    "sys.path.append(project_path)\n",
    "from google.cloud import bigquery, storage\n",
    "\n",
    "import matplotlib.pyplot as plt\n",
    "import numpy as np\n",
    "import pandas as pd\n",
    "import plotly.express as px\n",
    "\n",
    "from fintrans_toolbox.src import bq_utils as bq"
   ]
  },
  {
   "cell_type": "code",
   "execution_count": null,
   "id": "94b9a752-f3c1-42a8-bcec-d5c717c77821",
   "metadata": {
    "tags": []
   },
   "outputs": [],
   "source": [
    "client = bigquery.Client()"
   ]
  },
  {
   "cell_type": "code",
   "execution_count": null,
   "id": "f64fb614-9c7e-483b-b5a2-989213a0d32e",
   "metadata": {
    "tags": []
   },
   "outputs": [],
   "source": [
    "# Summarise the data by country\n",
    "UK_spending_by_country = '''SELECT time_period_value, destination_country, SUM(spend) AS Total FROM `ons-fintrans-data-prod.fintrans_visa.spend_origin_and_channel` where time_period = 'Quarter' and mcg = 'All' and merchant_channel = 'Online' and cardholder_origin_country = 'All' and cardholder_origin = 'UNITED KINGDOM' and destination_country != 'UNITED KINGDOM' GROUP BY destination_country, \n",
    "time_period_value, spend ORDER BY time_period_value, destination_country DESC'''\n",
    "df_by_country = bq.read_bq_table_sql(client, UK_spending_by_country)\n",
    "df_by_country.head()\n"
   ]
  },
  {
   "cell_type": "code",
   "execution_count": null,
   "id": "b2119d1a-5a35-488b-91ab-156dc8fa473b",
   "metadata": {
    "tags": []
   },
   "outputs": [],
   "source": [
    "# Summarise the data by country\n",
    "UK_spending_by_country = '''SELECT time_period_value, destination_country, SUM(spend) AS Total FROM `ons-fintrans-data-prod.fintrans_visa.spend_origin_and_channel` where time_period = 'Quarter' and mcg = 'All' and merchant_channel = 'Online' and cardholder_origin_country = 'All' and cardholder_origin = 'UNITED KINGDOM' and destination_country != 'UNITED KINGDOM' GROUP BY destination_country, \n",
    "time_period_value ORDER BY time_period_value, destination_country DESC'''\n",
    "df_by_country = bq.read_bq_table_sql(client, UK_spending_by_country)\n",
    "df_by_country.head()\n"
   ]
  },
  {
   "cell_type": "code",
   "execution_count": null,
   "id": "879d3c78-771a-4995-a08e-7cb6958fc75b",
   "metadata": {
    "tags": []
   },
   "outputs": [],
   "source": [
    "# Save the DataFrame to a CSV file\n",
    "df_by_country.to_csv('df_by_country.csv', index=False)"
   ]
  },
  {
   "cell_type": "code",
   "execution_count": null,
   "id": "911b97f2-c7dd-4770-9c34-63bf61c500ed",
   "metadata": {
    "tags": []
   },
   "outputs": [],
   "source": [
    "import pandas as pd\n",
    "\n",
    "# Assuming df_by_country is the DataFrame with your data\n",
    "# Ensure 'time_period_value' is a string type and split it to get the year (assuming 'Q1', 'Q2', etc., are part of the time_period_value)\n",
    "\n",
    "# Extract the year from the time_period_value (assuming it's in the format like '2023-Q1', '2023-Q2', etc.)\n",
    "df_by_country['year'] = df_by_country['time_period_value'].str[:4].astype(int)\n",
    "\n",
    "# Now group by year and sum the spend for each year\n",
    "df_yearly_spend = df_by_country.groupby('year')['Total'].sum().reset_index()\n",
    "\n",
    "# Optionally, you can sort the result by year\n",
    "df_yearly_spend = df_yearly_spend.sort_values(by='year')\n",
    "\n",
    "# Display the yearly totals\n",
    "print(df_yearly_spend)"
   ]
  },
  {
   "cell_type": "code",
   "execution_count": null,
   "id": "77281a60-2a91-4846-996a-6461e6c36bbd",
   "metadata": {
    "tags": []
   },
   "outputs": [],
   "source": [
    "import pandas as pd\n",
    "\n",
    "# Assuming df_by_country is the DataFrame with the data from the SQL query\n",
    "\n",
    "# Extract the year from the 'time_period_value' (assuming it's in format like '2023-Q1', '2023-Q2', etc.)\n",
    "df_by_country['year'] = df_by_country['time_period_value'].str[:4].astype(int)\n",
    "\n",
    "# Filter the data for the years 2019 to 2024\n",
    "df_filtered = df_by_country[df_by_country['year'].between(2019, 2024)]\n",
    "\n",
    "# Group by year and sum the total spend for each year\n",
    "df_yearly_spend = df_filtered.groupby('year')['Total'].sum().reset_index()\n",
    "\n",
    "# Sort the result by year\n",
    "df_yearly_spend = df_yearly_spend.sort_values(by='year')\n",
    "\n",
    "# Display the yearly totals\n",
    "print(df_yearly_spend)\n"
   ]
  },
  {
   "cell_type": "code",
   "execution_count": null,
   "id": "16e1bd1c-3aff-4363-968a-5beb897471f0",
   "metadata": {
    "tags": []
   },
   "outputs": [],
   "source": [
    "import pandas as pd\n",
    "\n",
    "# Assuming df_by_country is the DataFrame with your data\n",
    "# Extract the year from the time_period_value (assuming it's in the format like '2023-Q1', '2023-Q2', etc.)\n",
    "df_by_country['year'] = df_by_country['time_period_value'].str[:4].astype(int)\n",
    "\n",
    "# Filter data for the years 2019 to 2024\n",
    "df_filtered = df_by_country[df_by_country['year'].between(2019, 2024)]\n",
    "\n",
    "# Group by year and sum the spend for each year\n",
    "df_yearly_spend = df_filtered.groupby('year')['spend'].sum().reset_index()\n",
    "\n",
    "# Sort the result by year\n",
    "df_yearly_spend = df_yearly_spend.sort_values(by='year')\n",
    "\n",
    "# Display the yearly totals\n",
    "print(df_yearly_spend)\n"
   ]
  },
  {
   "cell_type": "code",
   "execution_count": null,
   "id": "0bbed7e4-21fb-4b48-9911-254d35111caa",
   "metadata": {
    "tags": []
   },
   "outputs": [],
   "source": [
    "# Assign value and percentage change variables\n",
    "df_by_country = df_by_country.sort_values(['destination_country','time_period_value'])\n",
    "df_by_country['pct_change'] = df_by_country.groupby(['destination_country']).spend.pct_change()\n",
    "df_by_country['value_change'] = df_by_country.groupby(['destination_country']).spend.diff()\n"
   ]
  },
  {
   "cell_type": "code",
   "execution_count": null,
   "id": "fa5fa59d-b864-47f0-985d-16533c9bf1be",
   "metadata": {
    "tags": []
   },
   "outputs": [],
   "source": [
    "# Plot stacked bar chart with all values\n",
    "df_by_country[['time_period_value','destination_country','spend']].groupby(['time_period_value','destination_country']).sum().unstack().plot(kind = 'bar', stacked = 'True')"
   ]
  },
  {
   "cell_type": "code",
   "execution_count": null,
   "id": "fa24102a-3f93-4640-b14f-01c502343d0e",
   "metadata": {
    "tags": []
   },
   "outputs": [],
   "source": [
    "# Plot line chart using plotly express for all countries\n",
    "pfig2 = px.line(\n",
    "        df_by_country,\n",
    "        x=\"time_period_value\",\n",
    "        y=\"spend\",\n",
    "        color=\"destination_country\")\n",
    "pfig2"
   ]
  },
  {
   "cell_type": "code",
   "execution_count": null,
   "id": "a206e790-c074-4dfe-9424-57addfb66962",
   "metadata": {
    "tags": []
   },
   "outputs": [],
   "source": [
    "# Select some contries to plot and reduce dataframe\n",
    "countries = ['AUSTRALIA','SPAIN','FRANCE']\n",
    "plot_df = df_by_country[['time_period_value','destination_country','spend']].loc[df_by_country['destination_country'].isin(countries) ]"
   ]
  },
  {
   "cell_type": "code",
   "execution_count": null,
   "id": "ed8c5f12-8a00-4db5-87aa-3cce2bf57091",
   "metadata": {
    "tags": []
   },
   "outputs": [],
   "source": [
    "#stacked bar chart using pandas plot\n",
    "plot_df.groupby(['time_period_value','destination_country']).sum().unstack().plot(kind = 'bar', stacked = 'True')"
   ]
  },
  {
   "cell_type": "code",
   "execution_count": null,
   "id": "c3f0eccd-ad6d-4229-b890-23354a57616d",
   "metadata": {
    "tags": []
   },
   "outputs": [],
   "source": [
    "# Line chart using plotly express\n",
    "pfig = px.line(\n",
    "        plot_df,\n",
    "        x=\"time_period_value\",\n",
    "        y=\"spend\",\n",
    "        color=\"destination_country\")\n",
    "pfig"
   ]
  },
  {
   "cell_type": "code",
   "execution_count": null,
   "id": "e1f9046a-6b49-42af-bddd-e1a78fc7f1f7",
   "metadata": {
    "tags": []
   },
   "outputs": [],
   "source": [
    "# Define as EU or non-EU\n",
    "EU_definition =  [ 'FRANCE','SPAIN','GERMANY','AUSTRIA']\n",
    "#df_by_country['EU'] = np.where(df_by_country.isin('EU_definition')\n",
    "                               \n",
    "                               \n",
    "df_by_country.loc[df_by_country['destination_country'].isin(EU_definition), 'EU'] = 'EU'\n",
    "df_by_country.loc[df_by_country['destination_country'].isin(EU_definition) == False, 'EU'] = 'Not EU'\n",
    "df_by_country"
   ]
  },
  {
   "cell_type": "code",
   "execution_count": null,
   "id": "5d9b8ea4-d844-4e31-9688-823d0e46dc3a",
   "metadata": {
    "tags": []
   },
   "outputs": [],
   "source": [
    "df_by_country.loc[df_by_country['destination_country'].isin(EU_definition), 'EU'] = 'EU'"
   ]
  },
  {
   "cell_type": "code",
   "execution_count": null,
   "id": "e7c92344-0158-46b6-9a79-fa7eda4f80bf",
   "metadata": {},
   "outputs": [],
   "source": []
  }
 ],
 "metadata": {
  "environment": {
   "kernel": "python3",
   "name": "r-cpu.m125",
   "type": "gcloud",
   "uri": "us-docker.pkg.dev/deeplearning-platform-release/gcr.io/r-cpu:m125"
  },
  "language_info": {
   "codemirror_mode": {
    "name": "ipython",
    "version": 3
   },
   "file_extension": ".py",
   "mimetype": "text/x-python",
   "name": "python",
   "nbconvert_exporter": "python",
   "pygments_lexer": "ipython3",
   "version": "3.10.15"
  }
 },
 "nbformat": 4,
 "nbformat_minor": 5
}
