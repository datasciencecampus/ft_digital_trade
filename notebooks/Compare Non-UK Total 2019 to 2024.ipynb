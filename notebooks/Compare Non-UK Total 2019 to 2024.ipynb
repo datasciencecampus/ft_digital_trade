{
 "cells": [
  {
   "cell_type": "code",
   "execution_count": null,
   "id": "570b3174-233b-46d5-8647-e744a5897785",
   "metadata": {
    "tags": []
   },
   "outputs": [],
   "source": [
    "project_path = \"/home/jupyter\"\n",
    "import os\n",
    "import sys\n",
    "sys.path.append(project_path)\n",
    "\n",
    "from google.cloud import bigquery\n",
    "import importlib\n",
    "import plotly.express as px\n",
    "\n",
    "import numpy as np\n",
    "import pandas as pd\n",
    "from datetime import datetime\n",
    "\n",
    "import ft_digital_trade.src.utils.read_data as read_utils\n",
    "import ft_digital_trade.src.utils.clean_utils as clean_utils\n",
    "import ft_digital_trade.src.utils.calculation_utils as calc_utils\n",
    "import ft_digital_trade.src.utils.plot_utils as plot_utils"
   ]
  },
  {
   "cell_type": "code",
   "execution_count": null,
   "id": "083b09f5-d2db-467c-a35f-9dae6ec5714f",
   "metadata": {
    "tags": []
   },
   "outputs": [],
   "source": [
    "client = bigquery.Client()"
   ]
  },
  {
   "cell_type": "code",
   "execution_count": null,
   "id": "c9f07b72-2650-44be-8375-024c30c93da1",
   "metadata": {
    "tags": []
   },
   "outputs": [],
   "source": [
    "#This allows you to select different location of merchant spend for face-to-face and online\n",
    "## for more information run the following:\n",
    "##help(read_utils.read_visa)\n",
    "#visa_data = read_utils.read_f2f_online(cardholder_origin = \"all\", f2f =  \"uk\", online =  \"all\")\n",
    "\n",
    "#This applies the same filters for face-to-face and online data\n",
    "## for more information run the following:\n",
    "##help(read_utils.read_visa)\n",
    "visa_data = read_utils.read_visa(cardholder_origin = \"uk\", cardholders_location = \"uk\", spend_location = \"uk\")"
   ]
  },
  {
   "cell_type": "code",
   "execution_count": null,
   "id": "da0f7c26-5dfe-4434-a058-2249ecdfe7ac",
   "metadata": {
    "tags": []
   },
   "outputs": [],
   "source": [
    "visa = calc_utils.calculate_visa(visa_data)\n",
    "visa = clean_utils.rename_columns(df = visa, suffix = '_spoc')"
   ]
  },
  {
   "cell_type": "code",
   "execution_count": null,
   "id": "8dfb80b8-1f13-40c9-b651-e5635dc34059",
   "metadata": {
    "tags": []
   },
   "outputs": [],
   "source": [
    "global_cards = read_utils.read_global_cards()\n",
    "global_cards = clean_utils.clean_global(global_cards)\n",
    "global_cards = calc_utils.calculate_global(global_cards, 'card')"
   ]
  },
  {
   "cell_type": "code",
   "execution_count": null,
   "id": "936f902e-1142-45cc-a503-f2500bac8fde",
   "metadata": {
    "tags": []
   },
   "outputs": [],
   "source": [
    "global_spend = read_utils.read_global_spend()\n",
    "global_spend = clean_utils.clean_global(global_spend)\n",
    "global_spend = calc_utils.calculate_global(global_spend, 'spend')"
   ]
  },
  {
   "cell_type": "code",
   "execution_count": null,
   "id": "c087effa-956c-4255-9951-1034671af51a",
   "metadata": {
    "tags": []
   },
   "outputs": [],
   "source": [
    "global_df = global_cards.merge(global_spend, how = 'inner', on = 'year', suffixes = ('_cards', '_spend'))\n",
    "global_df = clean_utils.rename_columns(df = global_df, suffix = '_global')"
   ]
  },
  {
   "cell_type": "code",
   "execution_count": null,
   "id": "ff36e3fd-4b05-407d-bb1c-71e570eec27d",
   "metadata": {
    "tags": []
   },
   "outputs": [],
   "source": [
    "uk_finance = read_utils.read_uk_finance()\n",
    "uk_finance = clean_utils.clean_uk_finance(uk_finance)\n",
    "uk_finance = calc_utils.calculate_uk_finance(uk_finance)\n",
    "uk_finance = uk_finance[['year', 'cardholders','total value of purchases',\"total volume of purchases\"]]\n",
    "uk_finance = clean_utils.rename_columns(df = uk_finance , suffix = '_uk_finance')"
   ]
  },
  {
   "cell_type": "code",
   "execution_count": null,
   "id": "79da5c20-64a3-4e1c-bb0a-bd0661cb2596",
   "metadata": {
    "tags": []
   },
   "outputs": [],
   "source": [
    "boe = read_utils.read_boe()\n",
    "boe = clean_utils.clean_boe(boe)\n",
    "boe = calc_utils.calculate_boe(boe)\n",
    "boe = clean_utils.rename_columns(df = boe , suffix = '_boe')"
   ]
  },
  {
   "cell_type": "code",
   "execution_count": null,
   "id": "e794bfa1-b1e2-4fd1-9e93-8d2a62fae3d6",
   "metadata": {
    "tags": []
   },
   "outputs": [],
   "source": [
    "link = read_utils.read_link()"
   ]
  },
  {
   "cell_type": "code",
   "execution_count": null,
   "id": "e830d8ad-4016-4cbc-a99c-ef67124ca4c6",
   "metadata": {
    "tags": []
   },
   "outputs": [],
   "source": [
    "merged = visa.merge(uk_finance, how = 'outer', on = 'year')\n",
    "merged = merged.merge(boe, how = 'outer', on = 'year')\n",
    "merged = merged.merge(global_df, how = 'outer', on = 'year')"
   ]
  },
  {
   "cell_type": "code",
   "execution_count": null,
   "id": "d1fde49b-5dd3-42dd-a2d6-7c727a475c56",
   "metadata": {
    "tags": []
   },
   "outputs": [],
   "source": [
    "cardholders = merged[['year','cardholders_spoc','cardholders_uk_finance','visa_total_cards_global','total_cards_global', 'visa_marketshare_cards_global']]\n",
    "cardholders = cardholders.copy()\n",
    "cardholders['uk_finance_marketshare'] = cardholders['cardholders_spoc'] / cardholders['cardholders_uk_finance'] *100\n",
    "cardholders['global_marketshare'] = cardholders['cardholders_spoc'] / cardholders['total_cards_global'] *100\n",
    "#melt df for charts\n",
    "cardholders = pd.melt(cardholders, id_vars='year',var_name='Data source', value_name='value')\n",
    "cardholders = calc_utils.calculate_index(df = cardholders)"
   ]
  },
  {
   "cell_type": "code",
   "execution_count": null,
   "id": "edd27f45-aa2c-4483-857a-9fc874602a45",
   "metadata": {
    "tags": []
   },
   "outputs": [],
   "source": [
    "spend = merged[['year','spend_spoc', \n",
    "        'total value of purchases_uk_finance',\n",
    "       'Mastercard values_boe', 'Visa Europe values_boe',\n",
    "       'Mastercard and Visa values_boe', 'Visa proportion_boe',\n",
    "       'debit_spend_global', 'credit_spend_global', 'visa_total_spend_global',\n",
    "       'total_spend_global', 'visa_marketshare_spend_global']]\n",
    "spend = spend.copy()\n",
    "# #replace 2024 spending with NA\n",
    "spend['spend_spoc'] = np.where(spend['year']==2024, np.nan, spend['spend_spoc'])\n",
    "spend['total value of purchases_uk_finance'] = np.where(spend['year']==2024, np.nan, spend['total value of purchases_uk_finance'])\n",
    "#calculate marketshare\n",
    "spend['uk_finance_marketshare'] = spend['spend_spoc'] / spend['total value of purchases_uk_finance'] *100\n",
    "spend['global_marketshare'] = spend['spend_spoc'] / spend['total_spend_global'] *100\n",
    "spend['boe_marketshare'] = spend['spend_spoc'] / spend['Mastercard and Visa values_boe'] *100\n",
    "#copy used for getting 2019 marketshare\n",
    "spend_copy = spend.copy()\n",
    "#melt df for charts\n",
    "spend = pd.melt(spend, id_vars='year',var_name='Data source', value_name='value')\n",
    "spend = calc_utils.calculate_index(df = spend)"
   ]
  },
  {
   "cell_type": "code",
   "execution_count": null,
   "id": "018e8c00-5567-412c-bbbe-acdf6da488fe",
   "metadata": {
    "tags": []
   },
   "outputs": [],
   "source": [
    "plot_utils.plot_total_cardholders(df = cardholders)"
   ]
  },
  {
   "cell_type": "code",
   "execution_count": null,
   "id": "0b58ad69-cc34-4f72-8a56-4d5ff35668bf",
   "metadata": {
    "tags": []
   },
   "outputs": [],
   "source": [
    "plot_utils.plot_visa_cardholders(df = cardholders)"
   ]
  },
  {
   "cell_type": "code",
   "execution_count": null,
   "id": "f536852f-04a7-4c2f-b644-dc3534774e12",
   "metadata": {
    "tags": []
   },
   "outputs": [],
   "source": [
    "project_path = \"/home/jupyter\"\n",
    "import os\n",
    "import sys\n",
    "sys.path.append(project_path)\n",
    "from google.cloud import bigquery, storage\n",
    "\n",
    "import matplotlib.pyplot as plt\n",
    "import numpy as np\n",
    "import pandas as pd\n",
    "import plotly.express as px\n",
    "\n",
    "from fintrans_toolbox.src import bq_utils as bq\n",
    "\n",
    "client = bigquery.Client()"
   ]
  },
  {
   "cell_type": "code",
   "execution_count": null,
   "id": "4d860e77-b35e-4981-b427-da15daa2a7c3",
   "metadata": {
    "tags": []
   },
   "outputs": [],
   "source": [
    "# Summarise the data by country - Abroad Total\n",
    "# Summarise the data by UK Cardholder Abroad Spending All\n",
    "\n",
    "UK_spending_by_Intl_All = '''SELECT time_period_value, destination_country, spend \n",
    "FROM `ons-fintrans-data-prod.fintrans_visa.spend_origin_and_channel` \n",
    "where time_period = 'Quarter' \n",
    "and mcc = 'All' \n",
    "and mcg = 'All' \n",
    "and merchant_channel = 'All' \n",
    "and cardholder_origin_country = 'All' \n",
    "and cardholder_origin = 'UNITED KINGDOM' \n",
    "and destination_country != 'UNITED KINGDOM' \n",
    "GROUP BY destination_country, \n",
    "time_period_value, spend \n",
    "ORDER BY time_period_value, destination_country DESC'''\n",
    "df_by_Intl_All = bq.read_bq_table_sql(client, UK_spending_by_Intl_All)\n",
    "df_by_Intl_All = df_by_Intl_All.rename(columns={'spend': 'abroad_spend_all'})\n",
    "df_by_Intl_All.head()\n"
   ]
  },
  {
   "cell_type": "code",
   "execution_count": null,
   "id": "f9cad926-fdf4-42d3-82ad-8d8855266d10",
   "metadata": {
    "tags": []
   },
   "outputs": [],
   "source": [
    "# UK Cardholder Household Spending Quarterly Abroad Totals\n",
    "\n",
    "# Assuming df_by_Intl_All is the DataFrame returned from the BigQuery query\n",
    "# Then group by 'time_period_value' and sum the 'abroad_spend_all' for each quarter\n",
    "\n",
    "# Check if df_by_Intl_All is not None and has the expected columns\n",
    "if df_by_Intl_All is not None and 'time_period_value' in df_by_Intl_All.columns and 'abroad_spend_all' in df_by_Intl_All.columns:\n",
    "    # Group by quarter and sum the total_spend\n",
    "    Q_spending_by_Intl_All = df_by_Intl_All.groupby('time_period_value')['abroad_spend_all'].sum().reset_index()\n",
    "   \n",
    "    print(Q_spending_by_Intl_All)\n",
    "else:\n",
    "    print(\"DataFrame is empty or missing required columns.\")\n"
   ]
  },
  {
   "cell_type": "code",
   "execution_count": null,
   "id": "e8504393-d3c4-4e25-92a8-d200c853c8be",
   "metadata": {
    "tags": []
   },
   "outputs": [],
   "source": [
    "import pandas as pd\n",
    "\n",
    "# Check if df_by_Intl_All is defined and has the expected columns\n",
    "if 'df_by_Intl_All' in globals() and df_by_Intl_All is not None and \\\n",
    "   'time_period_value' in df_by_Intl_All.columns and 'abroad_spend_all' in df_by_Intl_All.columns:\n",
    "    \n",
    "    # Group by quarter and sum the abroad_spend_all\n",
    "    Q_spending_by_Intl_All = df_by_Intl_All.groupby('time_period_value')['abroad_spend_all'].sum().reset_index()\n",
    "    \n",
    "    # Save to CSV\n",
    "    Q_spending_by_Intl_All.to_csv(\"Q_spending_by_Intl_All.csv\", index=False)\n",
    "    print(\"CSV file 'Q_spending_by_Intl_All.csv' has been created successfully.\")\n",
    "else:\n",
    "    print(\"DataFrame is empty or missing required columns.\")\n",
    "\n"
   ]
  },
  {
   "cell_type": "code",
   "execution_count": null,
   "id": "fec74e50-1f6b-4901-a4c3-5f995ae73a61",
   "metadata": {
    "tags": []
   },
   "outputs": [],
   "source": [
    "import pandas as pd\n",
    "\n",
    "# Assuming df_by_country3b is the DataFrame with your data\n",
    "# Ensure 'time_period_value' is a string type and split it to get the year (assuming 'Q1', 'Q2', etc., are part of the time_period_value)\n",
    "\n",
    "# Extract the year from the time_period_value (assuming it's in the format like '2023-Q1', '2023-Q2', etc.)\n",
    "df_by_Intl_All['year'] = df_by_Intl_All['time_period_value'].str[:4].astype(int)\n",
    "\n",
    "# Now group by year and sum the spend for each year\n",
    "df_UK_spending_by_Intl_All = df_by_Intl_All.groupby('year')['abroad_spend_all'].sum().reset_index()\n",
    "\n",
    "# Optionally, you can sort the result by year\n",
    "df_UK_spending_by_Intl_All = df_UK_spending_by_Intl_All.sort_values(by='year')\n",
    "\n",
    "# Display the yearly totals\n",
    "print(df_UK_spending_by_Intl_All)"
   ]
  },
  {
   "cell_type": "code",
   "execution_count": null,
   "id": "0309f7e5-9249-4f57-8f15-26b934801a5e",
   "metadata": {
    "tags": []
   },
   "outputs": [],
   "source": [
    "df_UK_spending_by_Intl_All.to_csv('UK_spending_by_Intl_All.csv')"
   ]
  },
  {
   "cell_type": "code",
   "execution_count": null,
   "id": "03bbc8c0-00c1-48d5-aab4-ac87e55ecfb7",
   "metadata": {
    "tags": []
   },
   "outputs": [],
   "source": [
    "import pandas as pd\n",
    "import plotly.express as px\n",
    "\n",
    "# Step 1: Load the CSV data into a DataFrame\n",
    "df_yearly_spend = pd.read_csv('UK_yearly_spend_country3b.csv')\n",
    "\n",
    "# Step 2: Create the Bar Chart\n",
    "fig_bar = px.bar(df_yearly_spend, \n",
    "                 x='year', \n",
    "                 y='spend', \n",
    "                 title='Yearly Total Spend Outside UK (2019-2024)',\n",
    "                 labels={'spend': 'Total Spend (£)', 'year': 'Year'},\n",
    "                 color='year',  # Color bars by year\n",
    "                 text='spend')  # Display spend values on top of bars\n",
    "\n",
    "# Customize the chart: Zoom in by setting the Y-axis range\n",
    "fig_bar.update_traces(texttemplate='%{text:.2f}', textposition='outside', marker=dict(line=dict(width=1, color='black')))\n",
    "\n",
    "# Adjust the Y-axis range to zoom in a bit\n",
    "fig_bar.update_layout(\n",
    "    xaxis=dict(tickmode='linear'),\n",
    "    yaxis=dict(\n",
    "        title='Total Spend (£)', \n",
    "        range=[0, df_yearly_spend['spend'].max() * 1.1]  # Set the max value a bit higher (10% above the max spend)\n",
    "    )\n",
    ")\n",
    "\n",
    "# Show the bar chart\n",
    "fig_bar.show()\n"
   ]
  },
  {
   "cell_type": "code",
   "execution_count": null,
   "id": "06f15929-424c-4865-87b3-8d9bfc9ab74b",
   "metadata": {
    "tags": []
   },
   "outputs": [],
   "source": [
    "# Step 4: Create the Line Chart\n",
    "fig_line = px.line(df_yearly_spend, \n",
    "                   x='year', \n",
    "                   y='spend', \n",
    "                   title='Yearly Total Spend Outside UK (2019-2024) - Line Chart',\n",
    "                   labels={'spend': 'Total Spend (£)', 'year': 'Year'},\n",
    "                   markers=True)  # Mark data points on the line\n",
    "\n",
    "# Customize the line chart\n",
    "fig_line.update_traces(line=dict(width=3), marker=dict(size=8, color='red'))  # Line width and point style\n",
    "\n",
    "# Show the line chart\n",
    "fig_line.show()\n"
   ]
  },
  {
   "cell_type": "code",
   "execution_count": null,
   "id": "d2a5a1f9-e1ea-4c8e-9217-d8afa35ccfc5",
   "metadata": {},
   "outputs": [],
   "source": []
  },
  {
   "cell_type": "code",
   "execution_count": null,
   "id": "4ee657ed-475b-4a97-8de3-8a6e0faa51f5",
   "metadata": {
    "tags": []
   },
   "outputs": [],
   "source": [
    "# Summarise the data by country - Quarterly Abroad Online\n",
    "# Summarise the data by UK Cardholder Abroad Online Spending All \n",
    "\n",
    "UK_spending_by_online_Intl_All = '''SELECT time_period_value, destination_country, spend \n",
    "FROM `ons-fintrans-data-prod.fintrans_visa.spend_origin_and_channel` \n",
    "where time_period = 'Quarter' \n",
    "and mcg = 'All' \n",
    "and merchant_channel = 'Online' \n",
    "and cardholder_origin_country = 'All' \n",
    "and cardholder_origin = 'UNITED KINGDOM' \n",
    "and destination_country != 'UNITED KINGDOM' \n",
    "GROUP BY destination_country, \n",
    "time_period_value, spend \n",
    "ORDER BY time_period_value, destination_country DESC'''\n",
    "df_by_online_Intl_All = bq.read_bq_table_sql(client, UK_spending_by_online_Intl_All)\n",
    "df_by_online_Intl_All = df_by_online_Intl_All.rename(columns={'spend': 'online_Intl_All'})\n",
    "df_by_online_Intl_All.head()\n"
   ]
  },
  {
   "cell_type": "code",
   "execution_count": null,
   "id": "aa469692-8af6-4e6b-8ec1-e255d1154eae",
   "metadata": {
    "tags": []
   },
   "outputs": [],
   "source": [
    "# UK Cardholder Household Online Spending Quarterly Abroad Totals\n",
    "\n",
    "# Assuming df_by_online_Intl_All is the DataFrame returned from the BigQuery query\n",
    "# Then group by 'time_period_value' and sum the 'total_spend' for each quarter\n",
    "\n",
    "# Check if df_by_online_Intl_All is not None and has the expected columns\n",
    "if df_by_online_Intl_All is not None and 'time_period_value' in df_by_online_Intl_All.columns and 'online_Intl_All' in df_by_online_Intl_All.columns:\n",
    "    # Group by quarter and sum the total_spend\n",
    "    UK_spending_by_online_Intl_All = df_by_online_Intl_All.groupby('time_period_value')['online_Intl_All'].sum().reset_index()\n",
    "   \n",
    "    print(UK_spending_by_online_Intl_All)\n",
    "else:\n",
    "    print(\"DataFrame is empty or missing required columns.\")\n",
    "\n"
   ]
  },
  {
   "cell_type": "code",
   "execution_count": null,
   "id": "1522eec9-af32-4b5a-b5cb-3fbaa5381218",
   "metadata": {
    "tags": []
   },
   "outputs": [],
   "source": [
    "import pandas as pd\n",
    "\n",
    "# Check if df_by_online_Intl_All is defined and has the expected columns\n",
    "if 'df_by_online_Intl_All' in globals() and df_by_online_Intl_All is not None and \\\n",
    "   'time_period_value' in df_by_online_Intl_All.columns and 'online_Intl_All' in df_by_online_Intl_All.columns:\n",
    "    \n",
    "    # Group by quarter and sum the abroad_spend_all\n",
    "    Q_spending_by_online_Intl_All = df_by_online_Intl_All.groupby('time_period_value')['online_Intl_All'].sum().reset_index()\n",
    "    \n",
    "    # Save to CSV\n",
    "    Q_spending_by_online_Intl_All.to_csv(\"Q_spending_by_Online_Intl_All.csv\", index=False)\n",
    "    print(\"CSV file 'Q_spending_by_Online_Intl_All.csv' has been created successfully.\")\n",
    "else:\n",
    "    print(\"DataFrame is empty or missing required columns.\")\n",
    "\n"
   ]
  },
  {
   "cell_type": "code",
   "execution_count": null,
   "id": "0b3d6b97-10e3-4157-80e6-7839b483e0fb",
   "metadata": {
    "tags": []
   },
   "outputs": [],
   "source": [
    "# Quaterly Abroad Online Spend Ratio\n",
    "\n",
    "import pandas as pd\n",
    "\n",
    "# Load the two CSV files\n",
    "online_spending = pd.read_csv(\"Q_spending_by_Online_Intl_All.csv\")\n",
    "total_spending = pd.read_csv(\"Q_spending_by_Intl_All.csv\")\n",
    "\n",
    "# Merge the two DataFrames on 'time_period_value'\n",
    "merged_df = pd.merge(online_spending, total_spending, on=\"time_period_value\", how=\"inner\")\n",
    "\n",
    "# Calculate the online spending ratio\n",
    "merged_df[\"online_spending_ratio\"] = (merged_df[\"online_Intl_All\"] / merged_df[\"abroad_spend_all\"]) * 100\n",
    "\n",
    "# Save the result to a new CSV file\n",
    "merged_df[[\"time_period_value\", \"online_spending_ratio\"]].to_csv(\"Q_Online_Spending_Ratio_Intl.csv\", index=False)\n",
    "\n",
    "print(\"Online spending ratio by quarter has been saved to 'Q_Online_Spending_Ratio_Intl.csv'.\")\n",
    "\n"
   ]
  },
  {
   "cell_type": "code",
   "execution_count": null,
   "id": "562d7867-8601-4028-ba0f-52e6927c7770",
   "metadata": {
    "tags": []
   },
   "outputs": [],
   "source": [
    "import pandas as pd\n",
    "\n",
    "# Assuming df_by_country is the DataFrame with your data\n",
    "# Ensure 'time_period_value' is a string type and split it to get the year (assuming 'Q1', 'Q2', etc., are part of the time_period_value)\n",
    "\n",
    "# Extract the year from the time_period_value (assuming it's in the format like '2023-Q1', '2023-Q2', etc.)\n",
    "df_by_country['year'] = df_by_country['time_period_value'].str[:4].astype(int)\n",
    "\n",
    "# Now group by year and sum the spend for each year\n",
    "df_yearly_spend3 = df_by_country.groupby('year')['online_spend'].sum().reset_index()\n",
    "\n",
    "# Optionally, you can sort the result by year\n",
    "df_yearly_spend3 = df_yearly_spend3.sort_values(by='year')\n",
    "\n",
    "# Display the yearly totals\n",
    "print(df_yearly_spend3)"
   ]
  },
  {
   "cell_type": "code",
   "execution_count": null,
   "id": "f5ba526c-9516-41d9-9c9e-bc066e7092bc",
   "metadata": {
    "tags": []
   },
   "outputs": [],
   "source": [
    "# Display the yearly totals UK Spent in UK\n",
    "df_yearly_spend3.to_csv('UK_yearly_spend_Online_Non-UK.csv')"
   ]
  },
  {
   "cell_type": "code",
   "execution_count": null,
   "id": "d9faff9a-751a-4e2a-998e-99afbd3bf6c5",
   "metadata": {
    "tags": []
   },
   "outputs": [],
   "source": [
    "import pandas as pd\n",
    "import plotly.express as px\n",
    "\n",
    "# Step 1: Load the CSV data into a DataFrame\n",
    "df_yearly_spend = pd.read_csv('UK_yearly_spend_Online_Non-UK.csv')\n",
    "\n",
    "# Step 2: Create the Bar Chart\n",
    "fig_bar = px.bar(df_yearly_spend, \n",
    "                 x='year', \n",
    "                 y='online_spend', \n",
    "                 title='Yearly Total Online Spend Outside UK (2019-2024)',\n",
    "                 labels={'online_spend': 'Online Spend (£)', 'year': 'Year'},\n",
    "                 color='year',  # Color bars by year\n",
    "                 text='online_spend')  # Display spend values on top of bars\n",
    "\n",
    "# Customize the chart: Zoom in by setting the Y-axis range\n",
    "fig_bar.update_traces(texttemplate='%{text:.2f}', textposition='outside', marker=dict(line=dict(width=1, color='black')))\n",
    "\n",
    "# Adjust the Y-axis range to zoom in a bit\n",
    "fig_bar.update_layout(\n",
    "    xaxis=dict(tickmode='linear'),\n",
    "    yaxis=dict(\n",
    "        title='Online Spend (£)', \n",
    "        range=[0, df_yearly_spend['online_spend'].max() * 1.1]  # Set the max value a bit higher (10% above the max spend)\n",
    "    )\n",
    ")\n",
    "\n",
    "# Show the bar chart\n",
    "fig_bar.show()\n"
   ]
  },
  {
   "cell_type": "code",
   "execution_count": null,
   "id": "d9be2d29-556d-4579-bd7f-d3fe6e2dedcf",
   "metadata": {
    "tags": []
   },
   "outputs": [],
   "source": [
    "# Step 4: Create the Line Chart\n",
    "fig_line = px.line(df_yearly_spend, \n",
    "                   x='year', \n",
    "                   y='online_spend', \n",
    "                   title='Yearly Total Online Spend Outside UK (2019-2024) - Line Chart',\n",
    "                   labels={'online_spend': 'Online Spend (£)', 'year': 'Year'},\n",
    "                   markers=True)  # Mark data points on the line\n",
    "\n",
    "# Customize the line chart\n",
    "fig_line.update_traces(line=dict(width=3), marker=dict(size=8, color='red'))  # Line width and point style\n",
    "\n",
    "# Show the line chart\n",
    "fig_line.show()\n"
   ]
  },
  {
   "cell_type": "code",
   "execution_count": null,
   "id": "1b82305b-f011-49e2-8889-1a812195cfae",
   "metadata": {
    "tags": []
   },
   "outputs": [],
   "source": [
    "import pandas as pd\n",
    "\n",
    "# Read the online spend CSV\n",
    "df_online_spend = pd.read_csv('UK_yearly_spend_Online_Non-UK.csv')\n",
    "\n",
    "# Read the total spend CSV\n",
    "df_total_spend = pd.read_csv('UK_yearly_spend_country3b.csv')\n",
    "\n",
    "# Display the first few rows of each DataFrame to check the structure\n",
    "print(df_online_spend.head())\n",
    "print(df_total_spend.head())"
   ]
  },
  {
   "cell_type": "code",
   "execution_count": null,
   "id": "4a6d4900-86cd-4f21-a64f-6138edc05c45",
   "metadata": {
    "tags": []
   },
   "outputs": [],
   "source": [
    "# Merge the two DataFrames on 'year'\n",
    "merged_spend = pd.merge(df_online_spend[['year', 'online_spend']], df_total_spend[['year', 'spend']], on='year', how='inner')\n",
    "\n",
    "# Display the merged DataFrame to verify\n",
    "print(merged_spend.head())\n"
   ]
  },
  {
   "cell_type": "code",
   "execution_count": null,
   "id": "064f2944-387a-418b-bfc3-68e7ad6a371f",
   "metadata": {
    "tags": []
   },
   "outputs": [],
   "source": [
    "# Calculate the online spend ratio (as a percentage)\n",
    "merged_spend['online_spend_ratio'] = (merged_spend['online_spend'] / merged_spend['spend']) * 100\n",
    "\n",
    "# Display the DataFrame with the new ratio column\n",
    "print(merged_spend[['year', 'online_spend_ratio']])\n"
   ]
  },
  {
   "cell_type": "code",
   "execution_count": null,
   "id": "c10e646a-8a06-4455-b30e-4ccb0574133f",
   "metadata": {
    "tags": []
   },
   "outputs": [],
   "source": [
    "# Save the result to a new CSV file\n",
    "merged_spend.to_csv('UK_yearly_online_spend_abroad_ratio.csv', index=False)\n",
    "\n",
    "# Display a success message\n",
    "print(\"The online spend ratio has been saved to 'UK_yearly_online_spend_abroad_ratio.csv'.\")\n"
   ]
  },
  {
   "cell_type": "code",
   "execution_count": null,
   "id": "4c3c2e38-1d9d-4074-a64b-634049083794",
   "metadata": {
    "tags": []
   },
   "outputs": [],
   "source": [
    "import pandas as pd\n",
    "import plotly.express as px\n",
    "\n",
    "# Step 1: Read the CSV files for online spend and total spend\n",
    "df_online_spend = pd.read_csv('UK_yearly_spend_Online_Non-UK.csv')\n",
    "df_total_spend = pd.read_csv('UK_yearly_spend_country3b.csv')\n",
    "\n",
    "# Step 2: Merge the data on 'year'\n",
    "merged_spend = pd.merge(df_online_spend[['year', 'online_spend']], df_total_spend[['year', 'spend']], on='year', how='inner')\n",
    "\n",
    "# Step 3: Calculate the online spend ratio (as a percentage)\n",
    "merged_spend['online_spend_ratio'] = (merged_spend['online_spend'] / merged_spend['spend']) * 100\n",
    "\n",
    "# Step 4: Create the Bar Chart\n",
    "fig_bar = px.bar(merged_spend, \n",
    "                 x='year', \n",
    "                 y='online_spend_ratio', \n",
    "                 title='Online Spend Ratio by Year', \n",
    "                 labels={'online_spend_ratio': 'Online Spend Ratio (%)', 'year': 'Year'}, \n",
    "                 color='year', \n",
    "                 text='online_spend_ratio')\n",
    "\n",
    "# Customize the bar chart\n",
    "fig_bar.update_traces(texttemplate='%{text:.2f}%', textposition='outside', marker=dict(line=dict(width=1, color='black')))\n",
    "fig_bar.update_layout(xaxis=dict(tickmode='linear'), yaxis=dict(range=[0, 100]))\n",
    "\n",
    "# Show the bar chart\n",
    "fig_bar.show()\n",
    "\n",
    "# Step 5: Create the Line Chart\n",
    "fig_line = px.line(merged_spend, \n",
    "                   x='year', \n",
    "                   y='online_spend_ratio', \n",
    "                   title='Online Spend Ratio by Year (Line Chart)', \n",
    "                   labels={'online_spend_ratio': 'Online Spend Ratio (%)', 'year': 'Year'},\n",
    "                   markers=True)\n",
    "\n",
    "# Customize the line chart\n",
    "fig_line.update_traces(line=dict(width=3), marker=dict(size=7, color='red'))\n",
    "fig_line.update_layout(xaxis=dict(tickmode='linear'), yaxis=dict(range=[0, 100]))\n",
    "\n",
    "# Show the line chart\n",
    "fig_line.show()\n"
   ]
  },
  {
   "cell_type": "code",
   "execution_count": null,
   "id": "12081bff-cb8c-4c65-8781-dc3881ccf686",
   "metadata": {
    "tags": []
   },
   "outputs": [],
   "source": [
    "# Step 1: Load the CSV data into a DataFrame\n",
    "df_online_spend_ratio_abroad = pd.read_csv('UK_yearly_online_spend_abroad_ratio.csv')\n",
    "\n",
    "# Step 2: Calculate the average online spend ratio\n",
    "average_online_spend_ratio_abroad = df_online_spend_ratio_abroad['online_spend_ratio'].mean()\n",
    "\n",
    "# Step 3: Print or display the result\n",
    "print(f\"Average Online Spend Ratio Abroad (2019-2024): {average_online_spend_ratio_abroad:.2f}%\")\n"
   ]
  },
  {
   "cell_type": "code",
   "execution_count": null,
   "id": "0e871b27-88d1-44a4-bb2c-c14e771158a0",
   "metadata": {},
   "outputs": [],
   "source": []
  },
  {
   "cell_type": "code",
   "execution_count": null,
   "id": "43e06ff2-b33d-43bd-a1e8-7c1e5ee7a0a7",
   "metadata": {},
   "outputs": [],
   "source": []
  }
 ],
 "metadata": {
  "environment": {
   "kernel": "python3",
   "name": "r-cpu.m125",
   "type": "gcloud",
   "uri": "us-docker.pkg.dev/deeplearning-platform-release/gcr.io/r-cpu:m125"
  },
  "language_info": {
   "codemirror_mode": {
    "name": "ipython",
    "version": 3
   },
   "file_extension": ".py",
   "mimetype": "text/x-python",
   "name": "python",
   "nbconvert_exporter": "python",
   "pygments_lexer": "ipython3",
   "version": "3.10.15"
  }
 },
 "nbformat": 4,
 "nbformat_minor": 5
}
