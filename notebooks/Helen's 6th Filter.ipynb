{
 "cells": [
  {
   "cell_type": "code",
   "execution_count": null,
   "id": "c27ad738-c45b-4adc-a31d-3d730d589407",
   "metadata": {
    "tags": []
   },
   "outputs": [],
   "source": [
    "project_path = \"/home/jupyter\"\n",
    "import os\n",
    "import sys\n",
    "\n",
    "sys.path.append(project_path)\n",
    "import numpy as np\n",
    "import pandas as pd\n",
    "import matplotlib.pyplot as plt\n",
    "import re\n",
    "from google.cloud import bigquery\n",
    "\n",
    "from fintrans_toolbox.src import bq_utils as bq\n",
    "from fintrans_toolbox.src import table_utils as t\n",
    "\n",
    "\n",
    "client = bigquery.Client()"
   ]
  },
  {
   "cell_type": "code",
   "execution_count": null,
   "id": "a2e19e24-492b-4d5c-a9d0-7105b1a552bb",
   "metadata": {},
   "outputs": [],
   "source": [
    "# Select just monthly data and just postal sector to make it easier to work with\n",
    "query1 = \"SELECT All * FROM `ons-fintrans-data-prod.fintrans_visa.spend_origin_and_channel`  where time_period_value = 'Quarter' and merchant_channel = 'Online' and cardholder_origin = 'UNITED KINGDOM' and cardholder_origin_country <> 'All' and destination_country != 'UNITED KINGDOM'\"  \n",
    "df_query1 = bq.read_bq_table_sql(client, query1)\n",
    "df_query1"
   ]
  },
  {
   "cell_type": "code",
   "execution_count": null,
   "id": "13f64dd9-a323-49be-88f4-a12efc31f9a7",
   "metadata": {
    "tags": []
   },
   "outputs": [],
   "source": [
    "mcgquery = '''SELECT time_period_value, mcg, SUM(spend) AS total FROM `ons-fintrans-data-prod.fintrans_visa.spend_origin_and_channel` where time_period = 'Quarter' and merchant_channel = 'Online' and cardholder_origin_country = 'POSTAL_AREA' and cardholder_origin = 'UNITED KINGDOM' and destination_country != 'UNITED KINGDOM' GROUP BY mcg, time_period_value ORDER BY time_period_value, total DESC'''\n",
    "df_mcgquery = bq.read_bq_table_sql(client, mcgquery)\n",
    "df_mcgquery"
   ]
  },
  {
   "cell_type": "code",
   "execution_count": null,
   "id": "5c405013-330b-4cd5-817a-d25198496a1d",
   "metadata": {},
   "outputs": [],
   "source": [
    "chlquery = '''SELECT time_period_value, cardholder_location, SUM(spend) AS total FROM `ons-fintrans-data-prod.fintrans_visa.spend_origin_and_channel` where time_period = 'Quarter' and merchant_channel = 'Online' and cardholder_origin_country = 'POSTAL_AREA' and cardholder_origin = 'UNITED KINGDOM' and destination_country != 'UNITED KINGDOM' GROUP BY cardholder_location, time_period_value ORDER BY time_period_value, total DESC'''\n",
    "df_chlquery = bq.read_bq_table_sql(client, chlquery)\n",
    "df_chlquery\n"
   ]
  },
  {
   "cell_type": "code",
   "execution_count": null,
   "id": "6c40c784-a5f6-4b01-9dca-8742494e1790",
   "metadata": {},
   "outputs": [],
   "source": [
    "df_chlquery.to_csv('UK_Cardholderlocation_chl.csv')"
   ]
  },
  {
   "cell_type": "code",
   "execution_count": null,
   "id": "b4f8d595-7bb7-47c3-8483-bd15fbed42b4",
   "metadata": {
    "tags": []
   },
   "outputs": [],
   "source": [
    "dcquery = '''SELECT time_period_value, destination_country, SUM(spend) AS total FROM `ons-fintrans-data-prod.fintrans_visa.spend_origin_and_channel` where time_period = 'Quarter' and merchant_channel = 'Online' and cardholder_origin_country = 'POSTAL_AREA' and cardholder_origin = 'UNITED KINGDOM' and destination_country = 'UNITED KINGDOM' GROUP BY cardholder_location, destination_country, \n",
    "time_period_value ORDER BY time_period_value, total DESC'''\n",
    "df_dcquery = bq.read_bq_table_sql(client, dcquery)\n",
    "df_dcquery\n"
   ]
  },
  {
   "cell_type": "code",
   "execution_count": null,
   "id": "db776e9f-d829-4097-9040-95f9abbba531",
   "metadata": {},
   "outputs": [],
   "source": [
    "df_dcquery.to_csv('UK_destinationcountry_dc.csv')"
   ]
  },
  {
   "cell_type": "code",
   "execution_count": null,
   "id": "7956e58d-621d-4297-9956-63717e62f4e6",
   "metadata": {
    "tags": []
   },
   "outputs": [],
   "source": [
    "dcqueryintl = '''SELECT time_period_value, destination_country, SUM(spend) AS total FROM `ons-fintrans-data-prod.fintrans_visa.spend_origin_and_channel` where time_period = 'Quarter' and merchant_channel = 'Online' and cardholder_origin_country = 'POSTAL_AREA' and cardholder_origin = 'UNITED KINGDOM' and destination_country != 'UNITED KINGDOM' GROUP BY cardholder_location, destination_country, \n",
    "time_period_value ORDER BY time_period_value, total DESC'''\n",
    "df_dcqueryintl = bq.read_bq_table_sql(client, dcqueryintl)\n",
    "df_dcqueryintl\n"
   ]
  },
  {
   "cell_type": "code",
   "execution_count": null,
   "id": "6dd66157-7f42-4c49-b2d5-c28b97b95923",
   "metadata": {},
   "outputs": [],
   "source": [
    "df_dcqueryintl.to_csv('Intl_destinationcountry_dc.csv')"
   ]
  },
  {
   "cell_type": "code",
   "execution_count": null,
   "id": "8281caa1-4f18-4a83-89b3-753473e56170",
   "metadata": {},
   "outputs": [],
   "source": [
    "\n"
   ]
  },
  {
   "cell_type": "code",
   "execution_count": null,
   "id": "46bf3d3c-2dd7-4b57-a0c6-f0ac0f4bf1e3",
   "metadata": {},
   "outputs": [],
   "source": [
    "\n"
   ]
  },
  {
   "cell_type": "code",
   "execution_count": null,
   "id": "d7e1b88a-ade8-4f72-bcfe-51cc20cf7071",
   "metadata": {
    "tags": []
   },
   "outputs": [],
   "source": [
    "dcqueryindia = '''SELECT time_period_value, SUM(spend) AS total FROM `ons-fintrans-data-prod.fintrans_visa.spend_origin_and_channel` where time_period = 'Quarter' and merchant_channel = 'Online' and cardholder_origin_country = 'POSTAL_AREA' and cardholder_origin = 'UNITED KINGDOM' and destination_country = 'INDIA' GROUP BY cardholder_location, \n",
    "time_period_value ORDER BY time_period_value, total DESC'''\n",
    "df_dcqueryindia = bq.read_bq_table_sql(client, dcqueryindia)\n",
    "df_dcqueryindia "
   ]
  },
  {
   "cell_type": "code",
   "execution_count": null,
   "id": "77143290-a0cc-4ab5-8206-fa9f9aa3ad62",
   "metadata": {
    "tags": []
   },
   "outputs": [],
   "source": [
    "df_dcqueryindia.to_csv('India_destinationcountry_dc.csv')"
   ]
  },
  {
   "cell_type": "code",
   "execution_count": null,
   "id": "cb92f0cf-a80e-4c62-aca8-04868a78df95",
   "metadata": {
    "tags": []
   },
   "outputs": [],
   "source": [
    "dcqueryindia1 = '''SELECT time_period_value, mcc, SUM(spend) AS total FROM `ons-fintrans-data-prod.fintrans_visa.spend_origin_and_channel` where time_period = 'Quarter' and merchant_channel = 'Online' and cardholder_origin_country = 'POSTAL_AREA' and cardholder_origin = 'UNITED KINGDOM' and destination_country = 'INDIA' and mcc != 'All' GROUP BY cardholder_location, time_period_value, mcc ORDER BY time_period_value, total DESC'''\n",
    "df_dcqueryindia1 = bq.read_bq_table_sql(client, dcqueryindia1)\n",
    "df_dcqueryindia1 "
   ]
  },
  {
   "cell_type": "code",
   "execution_count": null,
   "id": "999f60b6-fb5e-459e-95b7-fc68d7631438",
   "metadata": {},
   "outputs": [],
   "source": []
  },
  {
   "cell_type": "code",
   "execution_count": null,
   "id": "410575f9-2cd0-4aa5-a05b-8578f00f2463",
   "metadata": {
    "tags": []
   },
   "outputs": [],
   "source": [
    "df_dcqueryindia1.to_csv('India1_destinationcountry_dc.csv')"
   ]
  },
  {
   "cell_type": "code",
   "execution_count": null,
   "id": "78192ae0-1304-4f75-9419-5eac78d3fe0d",
   "metadata": {},
   "outputs": [],
   "source": []
  },
  {
   "cell_type": "code",
   "execution_count": null,
   "id": "c15f1d82-41ec-4ed5-bb5a-b516a311b24a",
   "metadata": {
    "tags": []
   },
   "outputs": [],
   "source": [
    "dcqueryindia2 = '''SELECT time_period_value, mcc, mcg, cardholder_location, SUM(spend) AS total FROM `ons-fintrans-data-prod.fintrans_visa.spend_origin_and_channel` where time_period_value = '2024Q2' and merchant_channel = 'Online' and cardholder_origin_country = 'POSTAL_AREA' and cardholder_origin = 'UNITED KINGDOM' and destination_country = 'INDIA' and mcc = 'AIRLINES' GROUP BY cardholder_location, time_period_value, mcc, mcg ORDER BY time_period_value, total DESC'''\n",
    "df_dcqueryindia2 = bq.read_bq_table_sql(client, dcqueryindia2)\n",
    "df_dcqueryindia2 "
   ]
  },
  {
   "cell_type": "code",
   "execution_count": null,
   "id": "9c945c76-f83d-48f6-b561-c462d561387d",
   "metadata": {
    "tags": []
   },
   "outputs": [],
   "source": [
    "df_dcqueryindia2.to_csv('India2_destinationcountry_dc.csv')"
   ]
  },
  {
   "cell_type": "code",
   "execution_count": null,
   "id": "363f6827-beb6-4ffb-9e21-42fda139932a",
   "metadata": {},
   "outputs": [],
   "source": []
  },
  {
   "cell_type": "code",
   "execution_count": null,
   "id": "06e01568-d994-41a6-b28f-8bc2f9a03d10",
   "metadata": {
    "tags": []
   },
   "outputs": [],
   "source": [
    "dcqueryindia3 = '''SELECT time_period_value, mcc, cardholder_location, SUM(spend) AS total FROM `ons-fintrans-data-prod.fintrans_visa.spend_origin_and_channel` where time_period_value = '2024Q2' and merchant_channel = 'Online' and cardholder_origin_country = 'All' and cardholder_origin = 'UNITED KINGDOM' and destination_country = 'INDIA' and mcc = 'All' GROUP BY cardholder_origin_country, cardholder_location, time_period_value, mcc ORDER BY time_period_value, total DESC'''\n",
    "df_dcqueryindia3 = bq.read_bq_table_sql(client, dcqueryindia3)\n",
    "df_dcqueryindia3 "
   ]
  },
  {
   "cell_type": "code",
   "execution_count": null,
   "id": "9934ee55-9624-47da-a6ed-c2b8395eda34",
   "metadata": {},
   "outputs": [],
   "source": []
  },
  {
   "cell_type": "code",
   "execution_count": null,
   "id": "e8c04704-aafb-44a1-8ed0-1ab3002d8ff4",
   "metadata": {
    "tags": []
   },
   "outputs": [],
   "source": [
    "df_dcqueryindia3.to_csv('India3_destinationcountry_dc.csv')"
   ]
  },
  {
   "cell_type": "code",
   "execution_count": null,
   "id": "6b608b1a-f356-4dcb-a03b-74e0b80f408e",
   "metadata": {},
   "outputs": [],
   "source": []
  },
  {
   "cell_type": "code",
   "execution_count": null,
   "id": "90f461a9-33f8-4ccc-b7b1-863894d34ee3",
   "metadata": {
    "tags": []
   },
   "outputs": [],
   "source": [
    "dcqueryindia4 = '''SELECT time_period_value, mcc, mcg, cardholder_location, SUM(spend) AS total FROM `ons-fintrans-data-prod.fintrans_visa.spend_origin_and_channel` where time_period_value = '2024Q2' and merchant_channel = 'Online' and cardholder_origin_country = 'All' and cardholder_origin = 'UNITED KINGDOM' and destination_country = 'INDIA' and mcc = 'AIRLINES' GROUP BY cardholder_location, time_period_value, mcc, mcg ORDER BY time_period_value, total DESC'''\n",
    "df_dcqueryindia4 = bq.read_bq_table_sql(client, dcqueryindia4)\n",
    "df_dcqueryindia4 "
   ]
  },
  {
   "cell_type": "code",
   "execution_count": null,
   "id": "edd75cea-416b-421b-aebb-f2f5deeafa3b",
   "metadata": {},
   "outputs": [],
   "source": []
  },
  {
   "cell_type": "code",
   "execution_count": null,
   "id": "f24c63f2-02cc-4c9b-9a41-528b18989b25",
   "metadata": {
    "tags": []
   },
   "outputs": [],
   "source": [
    "df_dcqueryindia4.to_csv('India4_destinationcountry_dc.csv')"
   ]
  },
  {
   "cell_type": "code",
   "execution_count": null,
   "id": "8aec50e7-cee4-4392-87cb-18655ca79a2b",
   "metadata": {},
   "outputs": [],
   "source": []
  }
 ],
 "metadata": {
  "environment": {
   "kernel": "python3",
   "name": "r-cpu.m125",
   "type": "gcloud",
   "uri": "us-docker.pkg.dev/deeplearning-platform-release/gcr.io/r-cpu:m125"
  },
  "language_info": {
   "codemirror_mode": {
    "name": "ipython",
    "version": 3
   },
   "file_extension": ".py",
   "mimetype": "text/x-python",
   "name": "python",
   "nbconvert_exporter": "python",
   "pygments_lexer": "ipython3",
   "version": "3.10.15"
  }
 },
 "nbformat": 4,
 "nbformat_minor": 5
}
