{
 "cells": [
  {
   "cell_type": "code",
   "execution_count": null,
   "id": "f9210fdc-e16e-4a5d-850b-8483df794589",
   "metadata": {
    "tags": []
   },
   "outputs": [],
   "source": [
    "project_path = \"/home/jupyter\"\n",
    "import os\n",
    "import sys\n",
    "\n",
    "sys.path.append(project_path)\n",
    "import numpy as np\n",
    "import pandas as pd\n",
    "import matplotlib.pyplot as plt\n",
    "import plotly.express as px\n",
    "import re\n",
    "from google.cloud import bigquery\n",
    "import plotly.graph_objects as go\n",
    "\n",
    "\n",
    "from fintrans_toolbox.src import bq_utils as bq\n",
    "from fintrans_toolbox.src import table_utils as t\n",
    "\n",
    "client = bigquery.Client()"
   ]
  },
  {
   "cell_type": "code",
   "execution_count": null,
   "id": "2fb1722c-8c23-48f2-aa13-52edc2ab9790",
   "metadata": {
    "tags": []
   },
   "outputs": [],
   "source": [
    "# Summarise the data by mcg\n",
    "UK_Online_spend_abroad = '''SELECT time_period_value, spend, merchant_channel\n",
    "FROM `ons-fintrans-data-prod.fintrans_visa.spend_origin_and_channel` \n",
    "where time_period = 'Quarter'\n",
    "and time_period_value IN ('2024Q1','2024Q2','2024Q3','2024Q4')\n",
    "and cardholder_origin_country = 'All' \n",
    "and cardholder_origin = 'UNITED KINGDOM'\n",
    "and destination_country != 'UNITED KINGDOM'\n",
    "and mcg = 'All'\n",
    "and mcc = 'All'\n",
    "GROUP BY time_period_value, merchant_channel, spend\n",
    "ORDER BY time_period_value, spend DESC'''\n",
    "\n",
    "Online_ratio_abroad = bq.read_bq_table_sql(client, UK_Online_spend_abroad)\n",
    "\n",
    "Online_ratio_abroad['year'] = Online_ratio_abroad['time_period_value'].str[:4]\n",
    "\n",
    "Online_ratio_abroad.head()"
   ]
  },
  {
   "cell_type": "code",
   "execution_count": null,
   "id": "b81793d6-b33a-4164-8b09-4fe04aa834bd",
   "metadata": {
    "tags": []
   },
   "outputs": [],
   "source": [
    "Online_ratio_abroad.to_csv('Online_ratio_abroad.csv')"
   ]
  },
  {
   "cell_type": "code",
   "execution_count": null,
   "id": "119b8e59-5329-4e1c-bc01-00b8d981b7dd",
   "metadata": {
    "tags": []
   },
   "outputs": [],
   "source": [
    "# Calculate total spend for Online channel\n",
    "total_online_spend = Online_ratio_abroad[Online_ratio_abroad['merchant_channel'] == 'Online']['spend'].sum()\n",
    "\n",
    "# Calculate total spend in all category\n",
    "total_spend = Online_ratio_abroad[Online_ratio_abroad['merchant_channel'] == 'All']['spend'].sum()\n",
    "\n",
    "# Calculate total spend in all category\n",
    "total_Face_to_face_spend = Online_ratio_abroad[Online_ratio_abroad['merchant_channel'] == 'Face to Face']['spend'].sum()\n",
    "\n",
    "# Calculate the online spend ratio for the entire year\n",
    "online_spend_ratio_1 = total_online_spend / total_spend\n",
    "\n",
    "# Calculate the online spend ratio for the entire year\n",
    "online_spend_ratio_2 = total_online_spend / (total_online_spend+total_Face_to_face_spend)\n",
    "\n",
    "\n",
    "# Display the result\n",
    "print(online_spend_ratio_1)\n",
    "print(online_spend_ratio_2)\n",
    "\n",
    "\n"
   ]
  },
  {
   "cell_type": "code",
   "execution_count": null,
   "id": "f719c0b4-fc98-4708-8338-db15d4c7c6e5",
   "metadata": {},
   "outputs": [],
   "source": []
  },
  {
   "cell_type": "code",
   "execution_count": null,
   "id": "722dfac9-c1fd-4e51-8a45-145300fe67a3",
   "metadata": {},
   "outputs": [],
   "source": []
  }
 ],
 "metadata": {
  "environment": {
   "kernel": "python3",
   "name": "r-cpu.m125",
   "type": "gcloud",
   "uri": "us-docker.pkg.dev/deeplearning-platform-release/gcr.io/r-cpu:m125"
  },
  "language_info": {
   "codemirror_mode": {
    "name": "ipython",
    "version": 3
   },
   "file_extension": ".py",
   "mimetype": "text/x-python",
   "name": "python",
   "nbconvert_exporter": "python",
   "pygments_lexer": "ipython3",
   "version": "3.10.15"
  }
 },
 "nbformat": 4,
 "nbformat_minor": 5
}
