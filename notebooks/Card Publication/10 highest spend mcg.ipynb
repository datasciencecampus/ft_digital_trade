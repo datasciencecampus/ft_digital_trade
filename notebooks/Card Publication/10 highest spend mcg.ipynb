{
 "cells": [
  {
   "cell_type": "code",
   "execution_count": null,
   "id": "d9ff0af0-d14f-4101-aaa7-473796800a28",
   "metadata": {
    "tags": []
   },
   "outputs": [],
   "source": [
    "project_path = \"/home/jupyter\"\n",
    "import os\n",
    "import sys\n",
    "\n",
    "sys.path.append(project_path)\n",
    "import numpy as np\n",
    "import pandas as pd\n",
    "import matplotlib.pyplot as plt\n",
    "import re\n",
    "from google.cloud import bigquery\n",
    "\n",
    "from fintrans_toolbox.src import bq_utils as bq\n",
    "from fintrans_toolbox.src import table_utils as t\n",
    "\n",
    "\n",
    "client = bigquery.Client()"
   ]
  },
  {
   "cell_type": "code",
   "execution_count": null,
   "id": "be310ddc-30a0-4983-9226-33a58a395a2c",
   "metadata": {
    "tags": []
   },
   "outputs": [],
   "source": [
    "# Summarise the data by mcg\n",
    "UK_spending_by_mcg = '''SELECT time_period_value, mcg, spend\n",
    "FROM `ons-fintrans-data-prod.fintrans_visa.spend_origin_and_channel` \n",
    "where time_period = 'Quarter'\n",
    "and time_period_value != '2025Q1'  \n",
    "and merchant_channel = 'Online'\n",
    "and cardholder_origin_country = 'All' \n",
    "and cardholder_origin = 'UNITED KINGDOM'\n",
    "and mcg != 'All'\n",
    "and mcc != 'All'\n",
    "GROUP BY mcg, time_period_value, spend\n",
    "ORDER BY time_period_value, spend DESC'''\n",
    "\n",
    "yearly_mcg_df = bq.read_bq_table_sql(client, UK_spending_by_mcg)\n",
    "\n",
    "yearly_mcg_df['year'] = yearly_mcg_df['time_period_value'].str[:4]\n",
    "\n",
    "yearly_mcg_df.head()"
   ]
  },
  {
   "cell_type": "code",
   "execution_count": null,
   "id": "043fde10-270c-4fb5-b44b-d41577e81fbb",
   "metadata": {
    "tags": []
   },
   "outputs": [],
   "source": [
    "yearly_mcg_df.to_csv('yearly_mcg_df.csv')\n",
    "df = pd.read_csv('yearly_mcg_df.csv')\n",
    "latest_mcc_df = df[df['year'] == 2024][['mcg', 'spend']]\n",
    "latest_mcc_df.to_csv('latest_mcg_df.csv', index=False)"
   ]
  },
  {
   "cell_type": "code",
   "execution_count": null,
   "id": "b45f0b2d-1f32-4743-b1a7-6f19b10cf4fd",
   "metadata": {
    "tags": []
   },
   "outputs": [],
   "source": [
    "total_spend_per_mcc = latest_mcc_df.groupby('mcg')['spend'].sum()\n",
    "print(total_spend_per_mcc)"
   ]
  },
  {
   "cell_type": "code",
   "execution_count": null,
   "id": "604850e9-e216-45cb-8e9f-5dca7bd5c5fc",
   "metadata": {
    "tags": []
   },
   "outputs": [],
   "source": [
    "# does not use mcc = all due to unknown data. \n",
    "total_spend_per_mcc_perc = (total_spend_per_mcc / total_spend_per_mcc.sum()) * 100\n",
    "print(total_spend_per_mcc_perc)"
   ]
  },
  {
   "cell_type": "code",
   "execution_count": null,
   "id": "5063ec63-9e6f-42d7-a61e-aa5d48e1a476",
   "metadata": {
    "tags": []
   },
   "outputs": [],
   "source": [
    "# Plot the bar chart\n",
    "ax = total_spend_per_mcc_perc.plot(kind='bar', color='skyblue')\n",
    "\n",
    "# Customize the plot\n",
    "plt.ylabel('Percentage of Online Spend')\n",
    "plt.title('Top 10 MCC by Percentage of Total Online Spend, 2024')\n",
    "plt.xticks(rotation=45, ha='right')\n",
    "\n",
    "plt.tight_layout()\n",
    "plt.show()\n",
    "\n"
   ]
  },
  {
   "cell_type": "code",
   "execution_count": null,
   "id": "fc92bfe4-d6d9-4bc3-beb7-c8e1bca963df",
   "metadata": {
    "tags": []
   },
   "outputs": [],
   "source": [
    "print(top_10_mcc)"
   ]
  },
  {
   "cell_type": "code",
   "execution_count": null,
   "id": "9f210722-f6e3-4263-9af2-fc4e7e2fc774",
   "metadata": {},
   "outputs": [],
   "source": []
  }
 ],
 "metadata": {
  "environment": {
   "kernel": "python3",
   "name": "r-cpu.m125",
   "type": "gcloud",
   "uri": "us-docker.pkg.dev/deeplearning-platform-release/gcr.io/r-cpu:m125"
  },
  "language_info": {
   "codemirror_mode": {
    "name": "ipython",
    "version": 3
   },
   "file_extension": ".py",
   "mimetype": "text/x-python",
   "name": "python",
   "nbconvert_exporter": "python",
   "pygments_lexer": "ipython3",
   "version": "3.10.15"
  }
 },
 "nbformat": 4,
 "nbformat_minor": 5
}
