{
 "cells": [
  {
   "cell_type": "code",
   "execution_count": null,
   "id": "37bf79f3-5cdf-4c04-9646-fbc8f32df2cb",
   "metadata": {
    "tags": []
   },
   "outputs": [],
   "source": [
    "project_path = \"/home/jupyter\"\n",
    "import os\n",
    "import sys\n",
    "\n",
    "sys.path.append(project_path)\n",
    "import numpy as np\n",
    "import pandas as pd\n",
    "import matplotlib.pyplot as plt\n",
    "import plotly.express as px\n",
    "import re\n",
    "from google.cloud import bigquery\n",
    "import plotly.graph_objects as go\n",
    "\n",
    "\n",
    "from fintrans_toolbox.src import bq_utils as bq\n",
    "from fintrans_toolbox.src import table_utils as t\n",
    "\n",
    "client = bigquery.Client()"
   ]
  },
  {
   "cell_type": "code",
   "execution_count": null,
   "id": "bc7bfdc8-39d1-4aa6-ae47-68731b6cedae",
   "metadata": {
    "tags": []
   },
   "outputs": [],
   "source": [
    "# Summarise the data by mcg\n",
    "UK_index_merchant_channel = '''SELECT time_period_value, spend, merchant_channel\n",
    "FROM `ons-fintrans-data-prod.fintrans_visa.spend_origin_and_channel` \n",
    "where time_period = 'Month'\n",
    "and cardholder_origin_country = 'All' \n",
    "and cardholder_origin = 'UNITED KINGDOM'\n",
    "and mcg = 'All'\n",
    "GROUP BY time_period_value, merchant_channel, spend\n",
    "ORDER BY time_period_value, spend DESC'''\n",
    "\n",
    "UK_index_merchant_channel = bq.read_bq_table_sql(client, UK_index_merchant_channel)\n",
    "\n",
    "UK_index_merchant_channel.head()"
   ]
  },
  {
   "cell_type": "code",
   "execution_count": null,
   "id": "a781f4b0-a2bc-4108-af39-0d28ff0fbc91",
   "metadata": {
    "tags": []
   },
   "outputs": [],
   "source": [
    "UK_index_merchant_channel.to_csv('UK_index_merchant_channel.csv')"
   ]
  },
  {
   "cell_type": "code",
   "execution_count": null,
   "id": "504d0e00-21da-4b6b-ae01-e641b2cf2b6c",
   "metadata": {
    "tags": []
   },
   "outputs": [],
   "source": [
    "# Summarise the data by mcg\n",
    "UK_index_cardholders = '''SELECT time_period_value, cardholders\n",
    "FROM `ons-fintrans-data-prod.fintrans_visa.spend_origin_and_channel` \n",
    "where time_period = 'Month'\n",
    "and cardholder_origin_country = 'All' \n",
    "and cardholder_origin = 'UNITED KINGDOM'\n",
    "and mcg = 'All'\n",
    "and merchant_channel = 'All'\n",
    "GROUP BY time_period_value, cardholders\n",
    "ORDER BY time_period_value, cardholders DESC'''\n",
    "\n",
    "UK_index_cardholders = bq.read_bq_table_sql(client, UK_index_cardholders)\n",
    "\n",
    "UK_index_cardholders.head()"
   ]
  },
  {
   "cell_type": "code",
   "execution_count": null,
   "id": "cbc4ff17-f0cb-4ef9-8622-ef6a88c623d8",
   "metadata": {
    "tags": []
   },
   "outputs": [],
   "source": [
    "UK_index_cardholders.to_csv('UK_index_cardholders.csv')"
   ]
  },
  {
   "cell_type": "code",
   "execution_count": null,
   "id": "489b51ec-34ca-41b6-8d23-c3e6cff9fe23",
   "metadata": {
    "tags": []
   },
   "outputs": [],
   "source": [
    "# Convert time_period_value to datetime format\n",
    "UK_index_cardholders[\"date\"] = pd.to_datetime(UK_index_cardholders[\"time_period_value\"].astype(str), format=\"%Y%m\")\n",
    "\n",
    "# Aggregate monthly spend\n",
    "monthly_cardholders = UK_index_cardholders.groupby(\"date\")[\"cardholders\"].sum().reset_index()\n",
    "\n",
    "# Filter for 2019 data and calculate the average spend\n",
    "monthly_cardholders[\"year\"] = monthly_cardholders[\"date\"].dt.year\n",
    "base_2019_avg = monthly_cardholders[monthly_cardholders[\"year\"] == 2019][\"cardholders\"].mean()\n",
    "\n",
    "# Create monthly index (base = 100 using 2019 average)\n",
    "monthly_cardholders[\"monthly_index\"] = (monthly_cardholders[\"cardholders\"] / base_2019_avg) * 100\n",
    "\n",
    "# Get the base value from January 2019\n",
    "#base_date = pd.to_datetime(\"201901\", format=\"%Y%m\")\n",
    "#base_value = monthly_cardholders.loc[monthly_cardholders[\"date\"] == base_date, \"cardholders\"].values[0]\n",
    "\n",
    "# Create monthly index (base = 100)\n",
    "#monthly_cardholders[\"monthly_index\"] = (monthly_cardholders[\"cardholders\"] / base_value) * 100\n",
    "\n",
    "# Save the index to a CSV file\n",
    "monthly_cardholders.to_csv(\"monthly_index_cardholders.csv\", index=False)\n",
    "\n",
    "print(monthly_cardholders)"
   ]
  },
  {
   "cell_type": "code",
   "execution_count": null,
   "id": "7ac7b028-fafc-44a2-ad92-86e3bc2528e6",
   "metadata": {
    "tags": []
   },
   "outputs": [],
   "source": [
    "# Convert time_period_value to datetime format\n",
    "UK_index_merchant_channel[\"date\"] = pd.to_datetime(UK_index_merchant_channel[\"time_period_value\"].astype(str), format=\"%Y%m\")\n",
    "\n",
    "monthly_spend = UK_index_merchant_channel.groupby([UK_index_merchant_channel[\"date\"], UK_index_merchant_channel[\"merchant_channel\"]])[\"spend\"].sum().reset_index()\n",
    "monthly_weighted = pd.merge(monthly_spend, monthly_cardholders[[\"date\", \"monthly_index\"]], on=\"date\", how=\"left\")\n",
    "\n",
    "monthly_weighted[\"year\"] = monthly_weighted[\"date\"].dt.year\n",
    "base_2019 = monthly_weighted[monthly_weighted[\"year\"] == 2019].groupby(\"merchant_channel\")[\"spend\"].mean()\n",
    "\n",
    "# Normalize spend using 2019 average as base index (set to 100)\n",
    "monthly_weighted[\"indexed_spend\"] = monthly_weighted.apply(\n",
    "    lambda row: (row[\"spend\"] / base_2019[row[\"merchant_channel\"]]) * 100, axis=1)\n",
    "\n",
    "monthly_weighted[\"weighted_indexed_spend\"] = monthly_weighted[\"indexed_spend\"] * ((200-monthly_weighted[\"monthly_index\"]) / 100)\n",
    "\n",
    "monthly_weighted.to_csv('monthly_weighted.csv')"
   ]
  },
  {
   "cell_type": "code",
   "execution_count": null,
   "id": "c4073ea4-e81b-4178-b1d4-68732e29c23d",
   "metadata": {
    "tags": []
   },
   "outputs": [],
   "source": [
    "# Pivot the data for plotting\n",
    "pivot_df = monthly_weighted.pivot(index=\"date\", columns=\"merchant_channel\", values=\"weighted_indexed_spend\")\n",
    "\n",
    "# Plot the time series\n",
    "plt.figure(figsize=(12, 6))\n",
    "for channel in pivot_df.columns:\n",
    "    plt.plot(pivot_df.index, pivot_df[channel], label=channel)\n",
    "\n",
    "plt.title(\"Monthly Spend Index by Merchant Channel (Base: 2019 Average = 100)\")\n",
    "plt.xlabel(\"Month\")\n",
    "plt.ylabel(\"Spend Index\")\n",
    "plt.legend(title=\"Merchant Channel\")\n",
    "plt.grid(True)\n",
    "plt.tight_layout()\n",
    "\n",
    "# Save or show the plot\n",
    "plt.savefig(\"monthly_spend_index.png\")  # or use plt.show() to display"
   ]
  },
  {
   "cell_type": "code",
   "execution_count": null,
   "id": "4368f135-aa09-41c8-b6ea-d12eb44655b9",
   "metadata": {
    "tags": []
   },
   "outputs": [],
   "source": [
    "print(pivot_df)"
   ]
  },
  {
   "cell_type": "code",
   "execution_count": null,
   "id": "61395d71-eb93-4c33-834b-a6c8d36a3ac1",
   "metadata": {
    "tags": []
   },
   "outputs": [],
   "source": [
    "pivot_df.to_csv('pivot_df.csv')"
   ]
  },
  {
   "cell_type": "code",
   "execution_count": null,
   "id": "b1be7b4c-9cdf-4ec9-a683-0ee3551a3fcd",
   "metadata": {},
   "outputs": [],
   "source": []
  }
 ],
 "metadata": {
  "environment": {
   "kernel": "python3",
   "name": "r-cpu.m125",
   "type": "gcloud",
   "uri": "us-docker.pkg.dev/deeplearning-platform-release/gcr.io/r-cpu:m125"
  },
  "language_info": {
   "codemirror_mode": {
    "name": "ipython",
    "version": 3
   },
   "file_extension": ".py",
   "mimetype": "text/x-python",
   "name": "python",
   "nbconvert_exporter": "python",
   "pygments_lexer": "ipython3",
   "version": "3.10.15"
  }
 },
 "nbformat": 4,
 "nbformat_minor": 5
}
