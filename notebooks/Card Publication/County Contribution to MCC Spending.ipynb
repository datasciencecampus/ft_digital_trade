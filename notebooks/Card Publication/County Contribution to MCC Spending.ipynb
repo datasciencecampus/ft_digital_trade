{
 "cells": [
  {
   "cell_type": "code",
   "execution_count": null,
   "id": "d9ff0af0-d14f-4101-aaa7-473796800a28",
   "metadata": {
    "tags": []
   },
   "outputs": [],
   "source": [
    "project_path = \"/home/jupyter\"\n",
    "import os\n",
    "import sys\n",
    "\n",
    "sys.path.append(project_path)\n",
    "import numpy as np\n",
    "import pandas as pd\n",
    "import matplotlib.pyplot as plt\n",
    "import plotly.express as px\n",
    "import re\n",
    "from google.cloud import bigquery\n",
    "import plotly.graph_objects as go\n",
    "\n",
    "\n",
    "from fintrans_toolbox.src import bq_utils as bq\n",
    "from fintrans_toolbox.src import table_utils as t\n",
    "\n",
    "client = bigquery.Client()"
   ]
  },
  {
   "cell_type": "code",
   "execution_count": null,
   "id": "be310ddc-30a0-4983-9226-33a58a395a2c",
   "metadata": {
    "tags": []
   },
   "outputs": [],
   "source": [
    "# Summarise the data by mcg\n",
    "UK_mcc_country = '''SELECT time_period_value, mcc, spend, destination_country\n",
    "FROM `ons-fintrans-data-prod.fintrans_visa.spend_origin_and_channel` \n",
    "where time_period = 'Quarter'\n",
    "and time_period_value IN (\"2024Q1\",\"2024Q2\",\"2024Q3\",\"2024Q4\")\n",
    "and merchant_channel = 'Online'\n",
    "and cardholder_origin_country = 'All' \n",
    "and cardholder_origin = 'UNITED KINGDOM'\n",
    "and destination_country != 'UNITED KINGDOM'\n",
    "and mcc IN (\"LARGE DIGITAL GOODS MERCHANT\",\"AIRLINES\",\"LODGING\",\"COMPUTER SOFTWARE STORES\",\"TRAVEL AGENCIES\",\"DIGITAL GOODS GAMES\")\n",
    "GROUP BY mcc, time_period_value, spend, destination_country\n",
    "ORDER BY time_period_value, spend DESC'''\n",
    "\n",
    "mcc_country_df = bq.read_bq_table_sql(client, UK_mcc_country)\n",
    "\n",
    "mcc_country_df['year'] = mcc_country_df['time_period_value'].str[:4]\n",
    "\n",
    "mcc_country_df.head()"
   ]
  },
  {
   "cell_type": "code",
   "execution_count": null,
   "id": "21717d9c-6cf9-48df-83f6-17ed2117f6af",
   "metadata": {
    "tags": []
   },
   "outputs": [],
   "source": [
    "mcc_country_df.to_csv('mcc_country_df.csv')"
   ]
  },
  {
   "cell_type": "code",
   "execution_count": null,
   "id": "199a5492-8cdc-4837-97ad-98a911a4d559",
   "metadata": {
    "tags": []
   },
   "outputs": [],
   "source": [
    "# Group by MCC and destination country, summing the spend\n",
    "grouped = mcc_country_df.groupby(['mcc', 'destination_country'])['spend'].sum().reset_index()\n",
    "\n",
    "# Normalize spend to get percentage share within each MCC\n",
    "grouped['total_spend_per_mcc'] = grouped.groupby('mcc')['spend'].transform('sum')\n",
    "grouped['spend_share'] = grouped['spend'] / grouped['total_spend_per_mcc'] * 100\n",
    "\n",
    "# Aggregate countries contributing less than 3% into 'Rest of the World'\n",
    "grouped['destination_country'] = grouped.apply(\n",
    "    lambda row: 'Rest of the World' if row['spend_share'] < 20 else row['destination_country'],\n",
    "    axis=1\n",
    ")\n",
    "\n",
    "# Re-aggregate after replacing low-share countries\n",
    "aggregated = grouped.groupby(['mcc', 'destination_country'])['spend'].sum().reset_index()\n",
    "\n",
    "# Recalculate spend share after aggregation\n",
    "aggregated['total_spend_per_mcc'] = aggregated.groupby('mcc')['spend'].transform('sum')\n",
    "aggregated['spend_share'] = aggregated['spend'] / aggregated['total_spend_per_mcc'] * 100\n",
    "\n",
    "# Pivot the data for plotting\n",
    "pivot_df = aggregated.pivot(index='mcc', columns='destination_country', values='spend_share').fillna(0)\n",
    "\n",
    "\n",
    "#define colours\n",
    "custom_colors = {\n",
    "    'UNITED STATES OF AMERICA': '#1f77b4',\n",
    "    'GERMANY': '#ff7f0e',\n",
    "    'FRANCE': '#2ca02c',\n",
    "    'SPAIN': '#d62728',\n",
    "    'ITALY': '#9467bd',\n",
    "    'NETHERLANDS': '#8c564b',\n",
    "    'SWITZERLAND': '#e377c2',\n",
    "    'AUSTRALIA': '#7f7f7f',\n",
    "    'INDIA': '#bcbd22',\n",
    "    'Rest of the World': '#17becf',\n",
    "    'REPUBLIC OF IRELAND': '#aec7e8',\n",
    "    'REST OF  EUROPE': '#ffbb78',\n",
    "    'REST OF  ASIAPAC': '#98df8a',\n",
    "    'REST OF  C.E.M.E.A.': '#ff9896',\n",
    "    'REST OF LAT.AM.': '#c5b0d5'\n",
    "}\n",
    "\n",
    "\n",
    "# Reorder columns to match color keys\n",
    "pivot_df = pivot_df[sorted(pivot_df.columns, key=lambda x: list(custom_colors.keys()).index(x) if x in custom_colors else 999)]\n",
    "\n",
    "# Plot with custom colors\n",
    "fig, ax = plt.subplots(figsize=(14, 12))\n",
    "pivot_df.plot(kind='bar', stacked=True, ax=ax, width=0.8, color=[custom_colors.get(col, '#cccccc') for col in pivot_df.columns])\n",
    "\n",
    "# Customize the plot\n",
    "ax.set_ylabel('Share of Spend (%)')\n",
    "ax.set_xlabel('Sector (MCC)')\n",
    "ax.set_title('Share of Spend by Destination Country within Each MCC Sector (2024)')\n",
    "plt.xticks(rotation=45, ha='right')\n",
    "\n",
    "# Move the legend to the bottom and make it flatter and wider\n",
    "ax.legend(\n",
    "    loc='upper center',\n",
    "    bbox_to_anchor=(0.5, -0.25),\n",
    "    ncol=6,\n",
    "    title='Destination Country',\n",
    "    frameon=False\n",
    ")\n",
    "\n",
    "plt.tight_layout()\n",
    "plt.savefig(\"stacked_bar_chart_with_flat_legend.png\")"
   ]
  },
  {
   "cell_type": "code",
   "execution_count": null,
   "id": "604850e9-e216-45cb-8e9f-5dca7bd5c5fc",
   "metadata": {
    "tags": []
   },
   "outputs": [],
   "source": [
    "print(pivot_df)"
   ]
  },
  {
   "cell_type": "code",
   "execution_count": null,
   "id": "5063ec63-9e6f-42d7-a61e-aa5d48e1a476",
   "metadata": {},
   "outputs": [],
   "source": []
  }
 ],
 "metadata": {
  "environment": {
   "kernel": "python3",
   "name": "r-cpu.m125",
   "type": "gcloud",
   "uri": "us-docker.pkg.dev/deeplearning-platform-release/gcr.io/r-cpu:m125"
  },
  "language_info": {
   "codemirror_mode": {
    "name": "ipython",
    "version": 3
   },
   "file_extension": ".py",
   "mimetype": "text/x-python",
   "name": "python",
   "nbconvert_exporter": "python",
   "pygments_lexer": "ipython3",
   "version": "3.10.15"
  }
 },
 "nbformat": 4,
 "nbformat_minor": 5
}
