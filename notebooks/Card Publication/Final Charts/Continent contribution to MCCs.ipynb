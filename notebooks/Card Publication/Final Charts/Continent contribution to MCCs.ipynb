{
 "cells": [
  {
   "cell_type": "code",
   "execution_count": null,
   "id": "839cd8fa-b6d7-47f7-8275-0ed169748d45",
   "metadata": {
    "tags": []
   },
   "outputs": [],
   "source": [
    "project_path = \"/home/jupyter\"\n",
    "import os\n",
    "import sys\n",
    "\n",
    "sys.path.append(project_path)\n",
    "import numpy as np\n",
    "import pandas as pd\n",
    "import matplotlib.pyplot as plt\n",
    "import plotly.express as px\n",
    "import re\n",
    "from google.cloud import bigquery\n",
    "import plotly.graph_objects as go\n",
    "\n",
    "\n",
    "from fintrans_toolbox.src import bq_utils as bq\n",
    "from fintrans_toolbox.src import table_utils as t\n",
    "\n",
    "client = bigquery.Client()"
   ]
  },
  {
   "cell_type": "code",
   "execution_count": null,
   "id": "b25132d8-c5ff-4334-ba7c-e454e91ac3e0",
   "metadata": {
    "tags": []
   },
   "outputs": [],
   "source": [
    "# Summarise the data by mcg\n",
    "UK_mcc_country = '''SELECT time_period_value, mcc, spend, destination_country\n",
    "FROM `ons-fintrans-data-prod.fintrans_visa.spend_origin_and_channel` \n",
    "where time_period = 'Quarter'\n",
    "and time_period_value IN (\"2024Q1\",\"2024Q2\",\"2024Q3\",\"2024Q4\")\n",
    "and merchant_channel = 'Online'\n",
    "and cardholder_origin_country = 'All' \n",
    "and cardholder_origin = 'UNITED KINGDOM'\n",
    "and destination_country != 'UNITED KINGDOM'\n",
    "and mcc IN (\"LARGE DIGITAL GOODS MERCHANT\",\"AIRLINES\",\"LODGING\",\"COMPUTER SOFTWARE STORES\",\"TRAVEL AGENCIES\",\"DIGITAL GOODS GAMES\")\n",
    "GROUP BY mcc, time_period_value, spend, destination_country\n",
    "ORDER BY time_period_value, spend DESC'''\n",
    "\n",
    "mcc_country_df = bq.read_bq_table_sql(client, UK_mcc_country)\n",
    "\n",
    "mcc_country_df['year'] = mcc_country_df['time_period_value'].str[:4]\n",
    "\n",
    "mcc_country_df.head()\n",
    "\n",
    "mcc_country_df.to_csv('mcc_country_df.csv')"
   ]
  },
  {
   "cell_type": "code",
   "execution_count": null,
   "id": "ff53e9fb-9a6c-41ca-8c4d-0bd7a25ef1b1",
   "metadata": {
    "tags": []
   },
   "outputs": [],
   "source": [
    "# Define the continent mapping\n",
    "continent_map = {\n",
    "    \"UNITED STATES OF AMERICA\": \"North America\",\n",
    "    \"REST OF  CANADA\": \"North America\",\n",
    "    \"GERMANY\": \"Europe\",\n",
    "    \"REPUBLIC OF IRELAND\": \"Europe\",\n",
    "    \"REST OF  EUROPE\": \"Europe\",\n",
    "    \"SPAIN\": \"Europe\",\n",
    "    \"FRANCE\": \"Europe\",\n",
    "    \"NETHERLANDS\": \"Europe\",\n",
    "    \"ITALY\": \"Europe\",\n",
    "    \"SWITZERLAND\": \"Europe\",\n",
    "    \"POLAND\": \"Europe\",\n",
    "    \"AUSTRIA\": \"Europe\",\n",
    "    \"PORTUGAL\": \"Europe\",\n",
    "    \"REST OF  C.E.M.E.A.\": \"C.E.M.E.A\",\n",
    "    \"UNITED ARAB EMIRATES\": \"Asia-Pacific\",\n",
    "    \"INDIA\": \"Asia-Pacific\",\n",
    "    \"AUSTRALIA\": \"Asia-Pacific\",\n",
    "    \"REST OF  ASIAPAC\": \"Asia-Pacific\",\n",
    "    \"REST OF  LAT.AM.\": \"South America\",\n",
    "    \"SOUTH AFRICA\": \"Africa\"\n",
    "}\n",
    "\n",
    "# Map destination countries to continents\n",
    "mcc_country_df['continent'] = mcc_country_df['destination_country'].map(continent_map).fillna('Other')\n",
    "mcc_country_df.to_csv('continent.csv')\n",
    "\n",
    "# Group by MCC and continent, summing the spend\n",
    "continent_grouped = mcc_country_df.groupby(['mcc', 'continent'])['spend'].sum().reset_index()\n",
    "\n",
    "# Normalize spend to get percentage share within each MCC\n",
    "continent_grouped['total_spend_per_mcc'] = continent_grouped.groupby('mcc')['spend'].transform('sum')\n",
    "continent_grouped['spend_share'] = continent_grouped['spend'] / continent_grouped['total_spend_per_mcc'] * 100\n",
    "\n",
    "# Pivot the data for plotting\n",
    "chart_data = continent_grouped.pivot(index='mcc', columns='continent', values='spend_share').fillna(0)\n",
    "\n",
    "# Define custom colors for continents\n",
    "continent_colors = {\n",
    "    \"North America\": \"#1f77b4\",\n",
    "    \"Europe\": \"#ff7f0e\",\n",
    "    \"Asia-Pacific\": \"#2ca02c\",\n",
    "    \"C.E.M.E.A\": \"#d62728\",\n",
    "    \"South America\": \"#9467bd\",\n",
    "    \"Africa\": \"#8c564b\",\n",
    "    \"Other\": \"#cccccc\"\n",
    "}\n",
    "\n",
    "# Reorder columns to match color keys\n",
    "pivot_df = pivot_df[sorted(pivot_df.columns, key=lambda x: list(continent_colors.keys()).index(x) if x in continent_colors else 999)]\n",
    "\n",
    "# Plot with custom colors\n",
    "fig, ax = plt.subplots(figsize=(14, 12))\n",
    "pivot_df.plot(kind='bar', stacked=True, ax=ax, width=0.8, color=[continent_colors.get(col, '#cccccc') for col in pivot_df.columns])\n",
    "\n",
    "# Customize the plot\n",
    "ax.set_ylabel('Share of Spend (%)')\n",
    "ax.set_xlabel('Sector (MCC)')\n",
    "ax.set_title('Share of Spend by Continent within Each MCC Sector (2024)')\n",
    "plt.xticks(rotation=45, ha='right')\n",
    "\n",
    "# Move the legend to the bottom and make it flatter and wider\n",
    "ax.legend(\n",
    "    loc='upper center',\n",
    "    bbox_to_anchor=(0.5, -0.25),\n",
    "    ncol=4,\n",
    "    title='Continent',\n",
    "    frameon=False\n",
    ")\n",
    "\n",
    "plt.tight_layout()\n",
    "plt.savefig(\"stacked_bar_chart_by_continent.png\")\n"
   ]
  },
  {
   "cell_type": "code",
   "execution_count": null,
   "id": "236b63cb-ff57-427a-8128-56c791092e0e",
   "metadata": {
    "tags": []
   },
   "outputs": [],
   "source": [
    "total_share = grouped.groupby(\"continent\").agg({\n",
    "    \"spend\": \"sum\",\n",
    "    \"total_spend_per_mcc\": \"sum\"  # or 'max', 'min', etc., depending on your logic\n",
    "}).reset_index()\n",
    "total_share[\"share\"] = (total_share[\"spend\"] / total_share[\"total_spend_per_mcc\"]) * 100"
   ]
  },
  {
   "cell_type": "code",
   "execution_count": null,
   "id": "4f496148-b634-4cc3-b295-6a602a113348",
   "metadata": {
    "tags": []
   },
   "outputs": [],
   "source": [
    "print(total_share)"
   ]
  },
  {
   "cell_type": "code",
   "execution_count": null,
   "id": "d98a5e5a-0ae3-43b0-98ee-fca6daf7ab60",
   "metadata": {
    "tags": []
   },
   "outputs": [],
   "source": [
    "print(pivot_df)"
   ]
  },
  {
   "cell_type": "code",
   "execution_count": null,
   "id": "6a5cc9b8-b9dc-47c7-852c-27d0312fc60d",
   "metadata": {
    "tags": []
   },
   "outputs": [],
   "source": [
    "country_grouped = mcc_country_df.groupby(['destination_country'])['spend'].sum()\n",
    "country_grouped_perc = (country_grouped / country_grouped.sum()) * 100\n",
    "country_grouped_perc"
   ]
  },
  {
   "cell_type": "code",
   "execution_count": null,
   "id": "ff66fd0e-e348-4f93-bc08-0861c52d53c4",
   "metadata": {
    "tags": []
   },
   "outputs": [],
   "source": [
    "#the US and rest of canada make up north america, the US accounts for x% of spend calculation below\n",
    "10.385408/(0.944747+10.385408)*100"
   ]
  },
  {
   "cell_type": "code",
   "execution_count": null,
   "id": "69487a09-2187-4a43-89af-9de6560b8e53",
   "metadata": {},
   "outputs": [],
   "source": []
  }
 ],
 "metadata": {
  "environment": {
   "kernel": "python3",
   "name": "r-cpu.m125",
   "type": "gcloud",
   "uri": "us-docker.pkg.dev/deeplearning-platform-release/gcr.io/r-cpu:m125"
  },
  "language_info": {
   "codemirror_mode": {
    "name": "ipython",
    "version": 3
   },
   "file_extension": ".py",
   "mimetype": "text/x-python",
   "name": "python",
   "nbconvert_exporter": "python",
   "pygments_lexer": "ipython3",
   "version": "3.10.15"
  }
 },
 "nbformat": 4,
 "nbformat_minor": 5
}
