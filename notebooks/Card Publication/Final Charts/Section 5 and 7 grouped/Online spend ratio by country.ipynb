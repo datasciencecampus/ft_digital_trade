{
 "cells": [
  {
   "cell_type": "code",
   "execution_count": null,
   "id": "c4b807af-d0cd-4c25-9c3f-435d298e95a6",
   "metadata": {
    "tags": []
   },
   "outputs": [],
   "source": [
    "project_path = \"/home/jupyter\"\n",
    "import os\n",
    "import sys\n",
    "\n",
    "sys.path.append(project_path)\n",
    "import numpy as np\n",
    "import pandas as pd\n",
    "import matplotlib.pyplot as plt\n",
    "import re\n",
    "from google.cloud import bigquery\n",
    "\n",
    "from fintrans_toolbox.src import bq_utils as bq\n",
    "from fintrans_toolbox.src import table_utils as t\n",
    "\n",
    "\n",
    "client = bigquery.Client()"
   ]
  },
  {
   "cell_type": "code",
   "execution_count": null,
   "id": "f4ee34c3-d1c1-43fb-8a41-4e765ad71333",
   "metadata": {
    "tags": []
   },
   "outputs": [],
   "source": [
    "# Summarise the data by mcg\n",
    "UK_spending_by_country = '''SELECT time_period_value, destination_country, spend, merchant_channel\n",
    "FROM `ons-fintrans-data-prod.fintrans_visa.spend_origin_and_channel` \n",
    "where time_period = 'Quarter'\n",
    "and time_period_value != '2025Q1'\n",
    "and cardholder_origin_country = 'All' \n",
    "and cardholder_origin = 'UNITED KINGDOM'\n",
    "and destination_country != 'UNITED KINGDOM'\n",
    "and mcg = 'All'\n",
    "GROUP BY destination_country, time_period_value, spend, merchant_channel\n",
    "ORDER BY time_period_value, spend DESC'''\n",
    "\n",
    "country_online_ratio = bq.read_bq_table_sql(client, UK_spending_by_country)\n",
    "\n",
    "country_online_ratio['year'] = country_online_ratio['time_period_value'].str[:4]\n",
    "\n",
    "country_online_ratio.head()"
   ]
  },
  {
   "cell_type": "code",
   "execution_count": null,
   "id": "67e38f38-d513-4ca0-838b-dc2e54cc9e30",
   "metadata": {
    "tags": []
   },
   "outputs": [],
   "source": [
    "country_online_ratio.to_csv('online_ratio.csv')\n",
    "online_ratio_yearly = country_online_ratio.groupby(['year', 'destination_country','merchant_channel'])['spend'].sum().reset_index()"
   ]
  },
  {
   "cell_type": "code",
   "execution_count": null,
   "id": "d21294d7-8073-49d0-860e-3bc72ad941e7",
   "metadata": {
    "tags": []
   },
   "outputs": [],
   "source": [
    "# Ensure 'spend' is numeric\n",
    "#online_ratio_yearly[\"spend\"] = online_ratio_yearly.to_numeric(online_ratio_yearly[\"spend\"], errors=\"coerce\")\n",
    "\n",
    "# Create a mapping of (year, mcg) to 'All' spend\n",
    "all_spend = online_ratio_yearly[online_ratio_yearly[\"merchant_channel\"] == \"All\"].set_index([\"year\", \"destination_country\"])[\"spend\"]\n",
    "\n",
    "# Function to compute percentage relative to 'All' spend\n",
    "def compute_percentage(row):\n",
    "    key = (row[\"year\"], row[\"destination_country\"])\n",
    "    if key in all_spend and pd.notnull(all_spend[key]):\n",
    "        return (row[\"spend\"] / all_spend[key]) * 100\n",
    "    else:\n",
    "        return None\n",
    "\n",
    "# Apply the function to compute the percentage\n",
    "online_ratio_yearly[\"spend_vs_all_%\"] = online_ratio_yearly.apply(compute_percentage, axis=1)\n",
    "\n",
    "# Display the result\n",
    "print(online_ratio_yearly)"
   ]
  },
  {
   "cell_type": "code",
   "execution_count": null,
   "id": "ddfebc4c-5b18-4955-9930-ad8c2b3f59e4",
   "metadata": {
    "tags": []
   },
   "outputs": [],
   "source": [
    "# Ensure 'spend' is numeric\n",
    "online_ratio_yearly[\"year\"] = pd.to_numeric(online_ratio_yearly[\"year\"], errors=\"coerce\")\n",
    "\n",
    "# Compute 'All' spend for each (year, mcg)\n",
    "all_spend = online_ratio_yearly[online_ratio_yearly[\"merchant_channel\"] == \"All\"].set_index([\"year\", \"destination_country\"])[\"spend\"]\n",
    "\n",
    "# Compute spend_vs_all_% for each row\n",
    "def compute_percentage(row):\n",
    "    key = (row[\"year\"], row[\"destination_country\"])\n",
    "    if key in all_spend and pd.notnull(all_spend[key]):\n",
    "        return (row[\"spend\"] / all_spend[key]) * 100\n",
    "    else:\n",
    "        return None\n",
    "\n",
    "online_ratio_yearly[\"spend_vs_all_%\"] = online_ratio_yearly.apply(compute_percentage, axis=1)\n",
    "\n",
    "# Filter only Face to Face and Online rows\n",
    "online_ratio_2019_2024 = online_ratio_yearly[online_ratio_yearly[\"merchant_channel\"].isin([\"Online\"])]\n",
    "online_ratio_2019_2024 = online_ratio_2019_2024[online_ratio_2019_2024[\"year\"].isin([2019, 2024])]\n",
    "online_ratio_2019_2024"
   ]
  },
  {
   "cell_type": "code",
   "execution_count": null,
   "id": "584cb43e-5e01-4e60-b09a-2d224da558ac",
   "metadata": {
    "tags": []
   },
   "outputs": [],
   "source": [
    "# Group by year and category, summing the spend\n",
    "online_ratio_2019_2024 = online_ratio_2019_2024.groupby(['year', 'destination_country'])['spend_vs_all_%'].sum().reset_index()\n",
    "\n",
    "# Pivot the data to have years as columns\n",
    "pivot_online_ratio_2019_2024 = online_ratio_2019_2024.pivot(index='destination_country', columns='year', values='spend_vs_all_%').fillna(0)\n",
    "\n",
    "# Calculate percentage of total spend for each year\n",
    "#pivot_online_ratio_2019_2024[2019] = pivot_online_ratio_2019_2024[2019] / pivot_online_ratio_2019_2024[2019].sum()\n",
    "#pivot_online_ratio_2019_2024[2024] = pivot_online_ratio_2019_2024[2024] / pivot_online_ratio_2019_2024[2024].sum()\n",
    "\n",
    "# Sort categories by 2024 spend\n",
    "pivot_online_ratio_2019_2024 = pivot_online_ratio_2019_2024.sort_values(by=2024, ascending=False)\n",
    "\n",
    "# Plotting\n",
    "categories = pivot_online_ratio_2019_2024.index.tolist()\n",
    "spend_2024 = pivot_online_ratio_2019_2024[2024].values\n",
    "spend_2019 = pivot_online_ratio_2019_2024[2019].values\n",
    "\n",
    "x = np.arange(len(categories))\n",
    "width = 0.6\n",
    "\n",
    "fig, ax = plt.subplots(figsize=(14, 8))\n",
    "\n",
    "# Bar for 2024\n",
    "bars = ax.bar(x, spend_2024, width, label='2024', color='orange')\n",
    "\n",
    "# Diamond markers for 2019 overlapping the bars\n",
    "ax.scatter(x, spend_2019, color='blue', marker='D', label='2019')\n",
    "\n",
    "# Labels and formatting\n",
    "ax.set_xlabel('Categories')\n",
    "ax.set_ylabel('Share of Spend (%)')\n",
    "ax.set_title('Share of Online Spend by Country, 2019 vs 2024')\n",
    "ax.set_xticks(x)\n",
    "ax.set_xticklabels(categories, rotation=90)\n",
    "ax.yaxis.set_major_formatter(PercentFormatter(1.0))  # Format y-axis as whole percentages\n",
    "ax.legend()\n",
    "\n",
    "plt.tight_layout()\n",
    "plt.show()"
   ]
  },
  {
   "cell_type": "code",
   "execution_count": null,
   "id": "c12e674b-705b-4f77-ac2c-5d0fc57b62f0",
   "metadata": {
    "tags": []
   },
   "outputs": [],
   "source": [
    "pivot_online_ratio_2019_2024"
   ]
  },
  {
   "cell_type": "code",
   "execution_count": null,
   "id": "0261e56b-a3bf-4114-91cc-203cd73aebe0",
   "metadata": {},
   "outputs": [],
   "source": []
  },
  {
   "cell_type": "code",
   "execution_count": null,
   "id": "95f49d97-0a98-415f-b0d4-48d2b27221e5",
   "metadata": {},
   "outputs": [],
   "source": []
  }
 ],
 "metadata": {
  "environment": {
   "kernel": "python3",
   "name": "r-cpu.m125",
   "type": "gcloud",
   "uri": "us-docker.pkg.dev/deeplearning-platform-release/gcr.io/r-cpu:m125"
  },
  "language_info": {
   "codemirror_mode": {
    "name": "ipython",
    "version": 3
   },
   "file_extension": ".py",
   "mimetype": "text/x-python",
   "name": "python",
   "nbconvert_exporter": "python",
   "pygments_lexer": "ipython3",
   "version": "3.10.15"
  }
 },
 "nbformat": 4,
 "nbformat_minor": 5
}
