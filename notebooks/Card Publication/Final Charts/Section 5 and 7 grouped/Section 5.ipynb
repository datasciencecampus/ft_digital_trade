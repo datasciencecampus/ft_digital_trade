{
 "cells": [
  {
   "cell_type": "code",
   "execution_count": null,
   "id": "02db6c21-bc33-479f-a97f-bf23d859234c",
   "metadata": {
    "tags": []
   },
   "outputs": [],
   "source": [
    "project_path = \"/home/jupyter\"\n",
    "import os\n",
    "import sys\n",
    "\n",
    "sys.path.append(project_path)\n",
    "import numpy as np\n",
    "import pandas as pd\n",
    "import plotly.graph_objects as go\n",
    "import matplotlib.pyplot as plt\n",
    "import re\n",
    "from google.cloud import bigquery\n",
    "from matplotlib.ticker import PercentFormatter\n",
    "\n",
    "\n",
    "from fintrans_toolbox.src import bq_utils as bq\n",
    "from fintrans_toolbox.src import table_utils as t\n",
    "\n",
    "\n",
    "client = bigquery.Client()"
   ]
  },
  {
   "cell_type": "code",
   "execution_count": null,
   "id": "9dd5cd34-e68a-4684-929d-eb4f0762d41c",
   "metadata": {
    "tags": []
   },
   "outputs": [],
   "source": [
    "# Summarise the data by mcg\n",
    "UK_spending_by_mcg = '''SELECT time_period_value, mcg, spend\n",
    "FROM `ons-fintrans-data-prod.fintrans_visa.spend_origin_and_channel` \n",
    "where time_period = 'Quarter'\n",
    "and time_period_value != '2025Q1'  \n",
    "and merchant_channel = 'Online'\n",
    "and cardholder_origin_country = 'All' \n",
    "and cardholder_origin = 'UNITED KINGDOM'\n",
    "and mcg != 'All'\n",
    "and mcg != 'BUSINESS TO BUSINESS'\n",
    "and mcg != 'ONLINE MARKETPLACES'\n",
    "and mcc != 'All'\n",
    "GROUP BY mcg, time_period_value, spend\n",
    "ORDER BY time_period_value, spend DESC'''\n",
    "\n",
    "\n",
    "mcg_quarter_year_spend = bq.read_bq_table_sql(client, UK_spending_by_mcg)\n",
    "\n",
    "mcg_quarter_year_spend['year'] = mcg_quarter_year_spend['time_period_value'].str[:4]\n",
    "\n",
    "# Convert the 'year' column to numeric\n",
    "mcg_quarter_year_spend['year'] = pd.to_numeric(mcg_quarter_year_spend['year'], errors='coerce')\n",
    "\n",
    "#mcg_quarter_year_spend.head()"
   ]
  },
  {
   "cell_type": "code",
   "execution_count": null,
   "id": "0e623307-5b4a-4db7-8be3-65780979ef7c",
   "metadata": {
    "tags": []
   },
   "outputs": [],
   "source": [
    "completeness_matrix_mcg = (\n",
    "mcg_quarter_year_spend.pivot_table(index='mcg', columns='time_period_value', values='spend', aggfunc='size')\n",
    "    .fillna(False)\n",
    "    .astype(bool)\n",
    ")\n",
    "\n",
    "incomplete_rows_mcg = completeness_matrix_mcg[~completeness_matrix_mcg.all(axis=1)]\n",
    "incomplete_rows_mcg"
   ]
  },
  {
   "cell_type": "code",
   "execution_count": null,
   "id": "a9d4c1fb-5597-434a-9d30-551adfb67829",
   "metadata": {
    "tags": []
   },
   "outputs": [],
   "source": [
    "# Filter data for 2019 and 2024\n",
    "mcg_quarter_year_spend_2019_2024 = mcg_quarter_year_spend[mcg_quarter_year_spend['year'].isin([2019, 2024])]\n",
    "\n",
    "# Group by year and category, summing the spend\n",
    "mcg_year_spend_2019_2024 = mcg_quarter_year_spend_2019_2024.groupby(['year', 'mcg'])['spend'].sum().reset_index()\n",
    "\n",
    "# Pivot the data to have years as columns\n",
    "pivot_mcg_year_spend_2019_2024 = mcg_year_spend_2019_2024.pivot(index='mcg', columns='year', values='spend').fillna(0)\n",
    "\n",
    "# Calculate percentage of total spend for each year\n",
    "pivot_mcg_year_spend_2019_2024[2019] = pivot_mcg_year_spend_2019_2024[2019] / pivot_mcg_year_spend_2019_2024[2019].sum()\n",
    "pivot_mcg_year_spend_2019_2024[2024] = pivot_mcg_year_spend_2019_2024[2024] / pivot_mcg_year_spend_2019_2024[2024].sum()\n",
    "\n",
    "# Sort categories by 2024 spend\n",
    "pivot_mcg_year_spend_2019_2024 = pivot_mcg_year_spend_2019_2024.sort_values(by=2024, ascending=False)\n",
    "\n",
    "# Plotting\n",
    "categories = pivot_mcg_year_spend_2019_2024.index.tolist()\n",
    "spend_2024 = pivot_mcg_year_spend_2019_2024[2024].values\n",
    "spend_2019 = pivot_mcg_year_spend_2019_2024[2019].values\n",
    "\n",
    "x = np.arange(len(categories))\n",
    "width = 0.6\n",
    "\n",
    "fig, ax = plt.subplots(figsize=(14, 8))\n",
    "\n",
    "# Bar for 2024\n",
    "bars = ax.bar(x, spend_2024, width, label='2024', color='orange')\n",
    "\n",
    "# Diamond markers for 2019 overlapping the bars\n",
    "ax.scatter(x, spend_2019, color='blue', marker='D', label='2019')\n",
    "\n",
    "# Labels and formatting\n",
    "ax.set_xlabel('Categories')\n",
    "ax.set_ylabel('Share of Spend (%)')\n",
    "ax.set_title('Share of Online Spend by Merchant Category Group, 2019 vs 2024')\n",
    "ax.set_xticks(x)\n",
    "ax.set_xticklabels(categories, rotation=90)\n",
    "ax.yaxis.set_major_formatter(PercentFormatter(1.0))  # Format y-axis as whole percentages\n",
    "ax.legend()\n",
    "\n",
    "plt.tight_layout()\n",
    "plt.show()"
   ]
  },
  {
   "cell_type": "code",
   "execution_count": null,
   "id": "6060b4a4-ddaf-449f-a928-874a40101484",
   "metadata": {
    "tags": []
   },
   "outputs": [],
   "source": [
    "#values used in section 5 are listed in the table below\n",
    "pivot_mcg_year_spend_2019_2024"
   ]
  },
  {
   "cell_type": "code",
   "execution_count": null,
   "id": "c9326e62-9fd2-446f-bc15-c1629010407e",
   "metadata": {
    "tags": []
   },
   "outputs": [],
   "source": [
    "# Figure 3 to CSV \n",
    "#pivot_mcg_year_spend_2019_2024.to_csv(\"Figure 3: Share of Online Spend by MCG, 2019 vs 2024.csv\")"
   ]
  },
  {
   "cell_type": "code",
   "execution_count": null,
   "id": "3cc77e9e-3889-4296-9f36-51ceb40200f3",
   "metadata": {
    "tags": []
   },
   "outputs": [],
   "source": [
    "# Calculating Visa marketshare drop-off using change in cardholders over time\n",
    "# Looks at how total number of UK cardholders in the dataset changes over time to scale each category of spend\n",
    "\n",
    "# Added destination_country = \"UK\" so it only captures UK cardholders that actually used their card in teh UK + doesn't double count cardholders that also spent money abroad\n",
    "cardholders = '''SELECT time_period_value, sum(cardholders) as total_cardholders\n",
    "FROM `ons-fintrans-data-prod.fintrans_visa.spend_origin_and_channel`\n",
    "WHERE time_period = 'Month' \n",
    "  AND mcg = 'All' \n",
    "  AND mcc = 'All'\n",
    "  AND merchant_channel = 'All'\n",
    "  AND cardholder_origin = 'UNITED KINGDOM'\n",
    "  AND cardholder_origin_country = 'All'\n",
    "  AND destination_country = 'UNITED KINGDOM'\n",
    "  GROUP BY time_period_value\n",
    "  ORDER BY time_period_value ASC\n",
    "'''\n",
    "cardholders_total = bq.read_bq_table_sql(client, cardholders)\n",
    "#cardholders_total\n",
    "\n",
    "cardholders_total['year'] = cardholders_total['time_period_value'].str[:4]\n",
    "\n",
    "# Convert the 'year' column to numeric\n",
    "cardholders_total['year'] = pd.to_numeric(cardholders_total['year'], errors='coerce')\n",
    "\n",
    "yearly_cardholders = cardholders_total[cardholders_total['year'].isin([2019, 2024])]\n",
    "yearly_cardholders = yearly_cardholders.groupby(['year'])['total_cardholders'].sum().reset_index()\n",
    "\n",
    "base_cardholders = yearly_cardholders['total_cardholders'].iloc[0]\n",
    "#base_cardholder\n",
    "\n",
    "\n",
    "\n",
    "yearly_cardholders['Change from Base'] = (base_cardholders / yearly_cardholders['total_cardholders'])\n",
    "yearly_cardholders # Change from Base column can now be multiplied against each quarter's spend values to adjust the spend for Visa's marketshare"
   ]
  },
  {
   "cell_type": "code",
   "execution_count": null,
   "id": "5971aaaf-be76-4ec2-b5e5-72e0b413d3b0",
   "metadata": {
    "tags": []
   },
   "outputs": [],
   "source": [
    "# Total spend in each MCG to calcualte the online ratios\n",
    "# Summarise the data by mcg\n",
    "total_spending_by_mcg = '''SELECT time_period_value, mcg, spend AS total_spend\n",
    "FROM `ons-fintrans-data-prod.fintrans_visa.spend_origin_and_channel` \n",
    "where time_period = 'Month'\n",
    "and time_period_value != '2025Q1'  \n",
    "and merchant_channel = 'All'\n",
    "and cardholder_origin_country = 'All' \n",
    "and cardholder_origin = 'UNITED KINGDOM'\n",
    "and mcg != 'All'\n",
    "and mcg != 'BUSINESS TO BUSINESS'\n",
    "and mcc != 'All'\n",
    "GROUP BY mcg, time_period_value, spend\n",
    "ORDER BY time_period_value, spend DESC'''\n",
    "\n",
    "total_mcg_by_quarter = bq.read_bq_table_sql(client, total_spending_by_mcg)\n",
    "\n",
    "total_mcg_by_quarter['year'] = total_mcg_by_quarter['time_period_value'].str[:4]\n",
    "\n",
    "# Convert the 'year' column to numeric\n",
    "total_mcg_by_quarter['year'] = pd.to_numeric(total_mcg_by_quarter['year'], errors='coerce')\n",
    "\n",
    "total_mcg_by_quarter.head()"
   ]
  },
  {
   "cell_type": "code",
   "execution_count": null,
   "id": "72e66367-aab6-4dcd-9a4e-26351278a9fa",
   "metadata": {
    "tags": []
   },
   "outputs": [],
   "source": [
    "total_df_filtered = total_mcg_by_quarter[total_mcg_by_quarter['year'].isin([2019, 2024])]\n",
    "total_grouped = total_df_filtered.groupby(['year', 'mcg'])['total_spend'].sum().reset_index()\n",
    "\n",
    "merged_df = pd.merge(total_grouped, mcg_year_spend_2019_2024, on=[\"mcg\", \"year\"])\n",
    "\n",
    "# Calculating adjusted values for use later (shouldn't change online % - it doesn't)\n",
    "merged_df = pd.merge(merged_df, yearly_cardholders, on=\"year\")\n",
    "merged_df[\"adjusted_total_spend\"] = merged_df[\"total_spend\"] * merged_df[\"Change from Base\"]\n",
    "merged_df[\"adjusted_online_spend\"] = merged_df[\"spend\"] * merged_df[\"Change from Base\"]\n",
    "\n",
    "# Calculating the online % of spend by MCG\n",
    "merged_df[\"Online %\"] = merged_df[\"adjusted_online_spend\"] / merged_df[\"adjusted_total_spend\"] * 100\n",
    "\n",
    "# Cleaning up dataframe\n",
    "merged_df = merged_df.drop(columns=[\"total_spend\", \"spend\", \"total_cardholders\", \"Change from Base\"])\n",
    "merged_df"
   ]
  },
  {
   "cell_type": "code",
   "execution_count": null,
   "id": "1e244348-b4b8-491c-ad99-a1c04fe55414",
   "metadata": {
    "tags": []
   },
   "outputs": [],
   "source": [
    "# Change in online ratio for each mcg from 2019 to 2024\n",
    "pivot_df = merged_df.pivot(index='mcg', columns='year', values='Online %').fillna(0)\n",
    "\n",
    "#Calculate absolute and percent change\n",
    "pivot_df['absolute_change'] = pivot_df[2024] - pivot_df[2019]\n",
    "pivot_df['percent_change'] = (pivot_df['absolute_change'] / pivot_df[2019]) * 100\n",
    "\n",
    "pivot_df"
   ]
  },
  {
   "cell_type": "code",
   "execution_count": null,
   "id": "03631927-6191-48ff-af3a-c23e5cdb6b39",
   "metadata": {
    "tags": []
   },
   "outputs": [],
   "source": [
    "# Change in absolute online spend for each mcg from 2019 to 2024\n",
    "pivot_df = merged_df.pivot(index='mcg', columns='year', values='adjusted_online_spend').fillna(0)\n",
    "\n",
    "#Calculate absolute and percent change\n",
    "pivot_df['absolute_change'] = pivot_df[2024] - pivot_df[2019]\n",
    "pivot_df['percent_change'] = (pivot_df['absolute_change'] / pivot_df[2019]) * 100\n",
    "\n",
    "pivot_df"
   ]
  },
  {
   "cell_type": "code",
   "execution_count": null,
   "id": "93d558ff-4f0a-41df-b207-da2e0fd65537",
   "metadata": {},
   "outputs": [],
   "source": []
  },
  {
   "cell_type": "code",
   "execution_count": null,
   "id": "3dcffd6a-f493-4cdc-b016-329104a5d12a",
   "metadata": {},
   "outputs": [],
   "source": []
  }
 ],
 "metadata": {
  "environment": {
   "kernel": "python3",
   "name": "r-cpu.m125",
   "type": "gcloud",
   "uri": "us-docker.pkg.dev/deeplearning-platform-release/gcr.io/r-cpu:m125"
  },
  "language_info": {
   "codemirror_mode": {
    "name": "ipython",
    "version": 3
   },
   "file_extension": ".py",
   "mimetype": "text/x-python",
   "name": "python",
   "nbconvert_exporter": "python",
   "pygments_lexer": "ipython3",
   "version": "3.10.15"
  }
 },
 "nbformat": 4,
 "nbformat_minor": 5
}
