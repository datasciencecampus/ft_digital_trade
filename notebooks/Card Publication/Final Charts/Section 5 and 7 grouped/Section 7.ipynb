{
 "cells": [
  {
   "cell_type": "code",
   "execution_count": null,
   "id": "47be3795-737c-46d4-8cc4-31b529ab31d5",
   "metadata": {},
   "outputs": [],
   "source": [
    "#bubble chart, the first part of section 7"
   ]
  },
  {
   "cell_type": "code",
   "execution_count": null,
   "id": "307aeff9-b67a-47b5-9501-6180e28cabc3",
   "metadata": {
    "tags": []
   },
   "outputs": [],
   "source": [
    "project_path = \"/home/jupyter\"\n",
    "import os\n",
    "import sys\n",
    "\n",
    "sys.path.append(project_path)\n",
    "import numpy as np\n",
    "import pandas as pd\n",
    "import matplotlib.pyplot as plt\n",
    "import re\n",
    "from google.cloud import bigquery\n",
    "\n",
    "from fintrans_toolbox.src import bq_utils as bq\n",
    "from fintrans_toolbox.src import table_utils as t\n",
    "\n",
    "\n",
    "client = bigquery.Client()"
   ]
  },
  {
   "cell_type": "code",
   "execution_count": null,
   "id": "92797355-e3d9-4576-aabf-7c43943a0296",
   "metadata": {
    "tags": []
   },
   "outputs": [],
   "source": [
    "# Summarise the data by mcg\n",
    "UK_spending_by_country = '''SELECT time_period_value, destination_country, spend, merchant_channel\n",
    "FROM `ons-fintrans-data-prod.fintrans_visa.spend_origin_and_channel` \n",
    "where time_period = 'Quarter'\n",
    "and cardholder_origin_country = 'All' \n",
    "and cardholder_origin = 'UNITED KINGDOM'\n",
    "and destination_country != 'UNITED KINGDOM'\n",
    "and mcg = 'All'\n",
    "GROUP BY destination_country, time_period_value, spend, merchant_channel\n",
    "ORDER BY time_period_value, spend DESC'''\n",
    "\n",
    "country_year_quarter_spend_merchant_channel = bq.read_bq_table_sql(client, UK_spending_by_country)\n",
    "\n",
    "country_year_quarter_spend_merchant_channel['year'] = country_year_quarter_spend_merchant_channel['time_period_value'].str[:4]\n",
    "\n",
    "country_year_quarter_spend_merchant_channel.head()"
   ]
  },
  {
   "cell_type": "code",
   "execution_count": null,
   "id": "2b76a768-d495-4f47-b285-301fc90d6a3f",
   "metadata": {
    "tags": []
   },
   "outputs": [],
   "source": [
    "completeness_matrix_country = (\n",
    "country_year_quarter_spend_merchant_channel.pivot_table(index='destination_country', columns='time_period_value', values='spend', aggfunc='size')\n",
    "    .fillna(False)\n",
    "    .astype(bool)\n",
    ")\n",
    "\n",
    "incomplete_rows_country = completeness_matrix_country[~completeness_matrix_country.all(axis=1)]\n",
    "incomplete_rows_country"
   ]
  },
  {
   "cell_type": "code",
   "execution_count": null,
   "id": "a0f3cdfd-2e89-4be4-8027-615670e3dc1e",
   "metadata": {
    "tags": []
   },
   "outputs": [],
   "source": [
    "country_year_quarter_spend_merchant_channel.to_csv('yearly_country_df.csv')\n",
    "country_year_quarter_spend_merchant_channel_series = pd.read_csv('yearly_country_df.csv')\n",
    "\n",
    "# Filter for Online and All channels\n",
    "country_year_quarter_spend_online_series = country_year_quarter_spend_merchant_channel_series[country_year_quarter_spend_merchant_channel_series[\"merchant_channel\"] == \"Online\"]\n",
    "country_year_quarter_spend_All_series = country_year_quarter_spend_merchant_channel_series[country_year_quarter_spend_merchant_channel_series[\"merchant_channel\"] == \"All\"]\n",
    "\n",
    "# Aggregate spend by destination_country and year\n",
    "country_year_spend_online_series = country_year_quarter_spend_online_series.groupby([\"destination_country\", \"year\"])[\"spend\"].sum().unstack()\n",
    "country_year_spend_All_series = country_year_quarter_spend_All_series.groupby([\"destination_country\", \"year\"])[\"spend\"].sum().unstack()\n",
    "\n",
    "# Calculate percentage of online spend out of total spend for each year\n",
    "online_share = (country_year_spend_online_series / country_year_spend_All_series) * 100\n",
    "\n",
    "# Compute the change in share from 2019 to 2024\n",
    "online_share[\"diff\"] = online_share[2024] - online_share[2019]\n",
    "\n",
    "# Calculate percentage of total online spend abroad in 2024\n",
    "country_2024_spend_online_series = country_year_spend_online_series[2024].sum()\n",
    "online_share[\"% of total online spend abroad (2024)\"] = (country_year_spend_online_series[2024] / country_2024_spend_online_series) * 100\n",
    "\n",
    "# Prepare the final DataFrame\n",
    "table_data = online_share.reset_index().rename(columns={\n",
    "    2019: \"2019_online_share\",\n",
    "    2024: \"2024_online_share\"\n",
    "})\n"
   ]
  },
  {
   "cell_type": "code",
   "execution_count": null,
   "id": "75ed3c7e-f762-4585-8220-57d129020b28",
   "metadata": {
    "tags": []
   },
   "outputs": [],
   "source": [
    "plt.figure(figsize=(12, 8))\n",
    "plt.scatter(\n",
    "    table_data[\"2019_online_share\"],\n",
    "    table_data[\"2024_online_share\"],\n",
    "    s=table_data[\"% of total online spend abroad (2024)\"] * 100,\n",
    "    alpha=0.6,\n",
    "    edgecolors='w'\n",
    ")\n",
    "\n",
    "# Add labels for each point\n",
    "for _, row in table_data.iterrows():\n",
    "    plt.text(row[\"2019_online_share\"], row[\"2024_online_share\"], row[\"destination_country\"],\n",
    "             fontsize=8, ha='center', va='center')\n",
    "\n",
    "# Add a 45-degree reference line\n",
    "lims = [\n",
    "    min(table_data[\"2019_online_share\"].min(), table_data[\"2024_online_share\"].min()),\n",
    "    max(table_data[\"2019_online_share\"].max(), table_data[\"2024_online_share\"].max())\n",
    "]\n",
    "plt.plot(lims, lims, 'k--', alpha=0.75)\n",
    "\n",
    "# Set axis labels and title\n",
    "plt.xlabel(\"2019 Online Spend Share (%)\")\n",
    "plt.ylabel(\"2024 Online Spend Share (%)\")\n",
    "plt.title(\"Online Spend Share by Destination Country\\n(2019 vs 2024, Bubble Size = % of Total Online Spend Abroad in 2024)\")\n",
    "\n",
    "# Add gridlines only at 50% on both axes\n",
    "plt.axhline(50, color='gray', linestyle=':', linewidth=1)\n",
    "plt.axvline(50, color='gray', linestyle=':', linewidth=1)\n",
    "plt.grid(False)\n",
    "\n",
    "plt.tight_layout()\n",
    "plt.show()"
   ]
  },
  {
   "cell_type": "code",
   "execution_count": null,
   "id": "ab434c41-1e6b-4af3-9c46-604c253eafa3",
   "metadata": {
    "tags": []
   },
   "outputs": [],
   "source": [
    "# Data for Figure 6\n",
    "#table_data.to_csv(\"Figure 6: 2019 vs 2024 Share of spend that was online, by country.csv\")"
   ]
  },
  {
   "cell_type": "code",
   "execution_count": null,
   "id": "8e8b6711-d3db-4d1a-bf30-a1647677853f",
   "metadata": {
    "tags": []
   },
   "outputs": [],
   "source": [
    "#MCC chart, the second part of section 7"
   ]
  },
  {
   "cell_type": "code",
   "execution_count": null,
   "id": "3b7cafac-5d1a-4f0d-b28f-0167420054a0",
   "metadata": {
    "tags": []
   },
   "outputs": [],
   "source": [
    "# table for the 6 highest mccs internation and domestic\n",
    "mcc_quarter_year_spend = '''SELECT time_period_value, mcc, spend\n",
    "FROM `ons-fintrans-data-prod.fintrans_visa.spend_origin_and_channel` \n",
    "where time_period = 'Quarter'\n",
    "and time_period_value != '2025Q1'  \n",
    "and merchant_channel = 'Online'\n",
    "and cardholder_origin_country = 'All' \n",
    "and cardholder_origin = 'UNITED KINGDOM'\n",
    "and mcg != 'All'\n",
    "and mcg != 'BUSINESS TO BUSINESS'\n",
    "and mcc != 'All'\n",
    "GROUP BY mcc, time_period_value, spend\n",
    "ORDER BY time_period_value, spend DESC'''\n",
    "\n",
    "mcc_quarter_year_spend = bq.read_bq_table_sql(client, mcc_quarter_year_spend)\n",
    "\n",
    "mcc_quarter_year_spend['year'] = mcc_quarter_year_spend['time_period_value'].str[:4]\n",
    "\n",
    "mcc_quarter_year_spend.head()"
   ]
  },
  {
   "cell_type": "code",
   "execution_count": null,
   "id": "8b6ce05b-2567-423c-9a66-e4166ce98c65",
   "metadata": {
    "tags": []
   },
   "outputs": [],
   "source": [
    "completeness_matrix_mcc = (\n",
    "mcc_quarter_year_spend.pivot_table(index='mcc', columns='time_period_value', values='spend', aggfunc='size')\n",
    "    .fillna(False)\n",
    "    .astype(bool)\n",
    ")\n",
    "\n",
    "incomplete_rows_mcc = completeness_matrix_mcc[~completeness_matrix_mcc.all(axis=1)]\n",
    "incomplete_rows_mcc"
   ]
  },
  {
   "cell_type": "code",
   "execution_count": null,
   "id": "f40de7e3-d7db-40cf-8702-374475045e64",
   "metadata": {
    "tags": []
   },
   "outputs": [],
   "source": [
    "mcc_quarter_year_spend.to_csv('mcc_quarter_year_spend.csv')\n",
    "mcc_quarter_year_spend_series = pd.read_csv('mcc_quarter_year_spend.csv')\n",
    "\n",
    "mcc_quarter_year_spend_series_2024 = mcc_quarter_year_spend_series[mcc_quarter_year_spend_series['year'] == 2024][['mcc', 'spend']]\n",
    "mcc_quarter_year_spend_series_2024.to_csv('mcc_quarter_year_spend_series_2024.csv', index=False)\n",
    "mcc_2024_spend = mcc_quarter_year_spend_series_2024.groupby('mcc')['spend'].sum()\n",
    "mcc_2024_perc_spend = (mcc_2024_spend / mcc_2024_spend.sum()) * 100\n",
    "mcc_2024_perc_spend.columns = ['mcc', 'percentage']\n",
    "mcc_2024_perc_spend.to_csv('mcc_2024_perc_spend.csv')\n",
    "\n",
    "mcc_2024_perc_spend_series = pd.read_csv('mcc_2024_perc_spend.csv')\n",
    "mcc_2024_perc_spend_series.columns = ['mcc', 'percentage']\n",
    "top_6_mccs = mcc_2024_perc_spend_series.sort_values(by='percentage', ascending=False).head(6)\n",
    "top_6_mccs"
   ]
  },
  {
   "cell_type": "code",
   "execution_count": null,
   "id": "c408fe87-1084-458d-a693-2d75ac2ba8f9",
   "metadata": {
    "tags": []
   },
   "outputs": [],
   "source": [
    "top_6_sum = top_6_mccs.sum()\n",
    "top_6_sum"
   ]
  },
  {
   "cell_type": "code",
   "execution_count": null,
   "id": "7c148189-6018-4f83-9014-d2d8b38bad75",
   "metadata": {
    "tags": []
   },
   "outputs": [],
   "source": [
    "# table for the 6 highest mccs internation and domestic\n",
    "mcc_quarter_year_spend_int = '''SELECT time_period_value, mcc, spend\n",
    "FROM `ons-fintrans-data-prod.fintrans_visa.spend_origin_and_channel` \n",
    "where time_period = 'Quarter'\n",
    "and time_period_value != '2025Q1'  \n",
    "and merchant_channel = 'Online'\n",
    "and cardholder_origin_country = 'All' \n",
    "and cardholder_origin = 'UNITED KINGDOM'\n",
    "and mcg != 'All'\n",
    "and mcg != 'BUSINESS TO BUSINESS'\n",
    "and mcc != 'All'\n",
    "and destination_country != 'UNITED KINGDOM'\n",
    "GROUP BY mcc, time_period_value, spend\n",
    "ORDER BY time_period_value, spend DESC'''\n",
    "\n",
    "mcc_quarter_year_spend_int = bq.read_bq_table_sql(client, mcc_quarter_year_spend_int)\n",
    "\n",
    "mcc_quarter_year_spend_int['year'] = mcc_quarter_year_spend_int['time_period_value'].str[:4]\n",
    "\n",
    "mcc_quarter_year_spend_int.head()"
   ]
  },
  {
   "cell_type": "code",
   "execution_count": null,
   "id": "fcc4c0c4-93eb-43d7-9f65-e247aafd8b2f",
   "metadata": {
    "tags": []
   },
   "outputs": [],
   "source": [
    "mcc_quarter_year_spend_int.to_csv('mcc_quarter_year_spend_int.csv')\n",
    "mcc_quarter_year_spend_series_int = pd.read_csv('mcc_quarter_year_spend_int.csv')\n",
    "\n",
    "mcc_quarter_year_spend_series_2024_int = mcc_quarter_year_spend_series_int[mcc_quarter_year_spend_series_int['year'] == 2024][['mcc', 'spend']]\n",
    "mcc_2024_spend_int = mcc_quarter_year_spend_series_2024_int.groupby('mcc')['spend'].sum()\n",
    "mcc_2024_perc_spend_int= (mcc_2024_spend_int / mcc_2024_spend_int.sum()) * 100\n",
    "mcc_2024_perc_spend_int.columns = ['mcc', 'percentage']\n",
    "mcc_2024_perc_spend_int.to_csv('mcc_2024_perc_spend_int.csv')\n",
    "\n",
    "mcc_2024_perc_spend_int_series = pd.read_csv('mcc_2024_perc_spend_int.csv')\n",
    "mcc_2024_perc_spend_int_series.columns = ['mcc', 'percentage']\n",
    "top_6_mccs_int = mcc_2024_perc_spend_int_series.sort_values(by='percentage', ascending=False).head(6)\n",
    "top_6_mccs_int"
   ]
  },
  {
   "cell_type": "code",
   "execution_count": null,
   "id": "b7bac037-b222-4dec-9984-72f5cfc2eb84",
   "metadata": {
    "tags": []
   },
   "outputs": [],
   "source": [
    "top_6_sum_int = top_6_mccs_int.sum()\n",
    "top_6_sum_int"
   ]
  },
  {
   "cell_type": "code",
   "execution_count": null,
   "id": "9a855b4f-0f7f-4895-bc6b-35d8b251b00b",
   "metadata": {
    "tags": []
   },
   "outputs": [],
   "source": [
    "#the following code create the segmented bar chart by continent"
   ]
  },
  {
   "cell_type": "code",
   "execution_count": null,
   "id": "3dd682dd-e72a-4f27-9197-6e92fc49812c",
   "metadata": {
    "tags": []
   },
   "outputs": [],
   "source": [
    "# Summarise the data by mcg\n",
    "MCC_top6_quarter_2024_country_spend = '''SELECT time_period_value, mcc, spend, destination_country\n",
    "FROM `ons-fintrans-data-prod.fintrans_visa.spend_origin_and_channel` \n",
    "where time_period = 'Quarter'\n",
    "and time_period_value IN (\"2024Q1\",\"2024Q2\",\"2024Q3\",\"2024Q4\")\n",
    "and merchant_channel = 'Online'\n",
    "and cardholder_origin_country = 'All' \n",
    "and cardholder_origin = 'UNITED KINGDOM'\n",
    "and destination_country != 'UNITED KINGDOM'\n",
    "and mcc IN (\"LARGE DIGITAL GOODS MERCHANT\",\"AIRLINES\",\"LODGING\",\"COMPUTER SOFTWARE STORES\",\"TRAVEL AGENCIES\",\"DIGITAL GOODS GAMES\")\n",
    "GROUP BY mcc, time_period_value, spend, destination_country\n",
    "ORDER BY time_period_value, spend DESC'''\n",
    "\n",
    "MCC_top6_quarter_2024_country_spend = bq.read_bq_table_sql(client, MCC_top6_quarter_2024_country_spend)\n",
    "\n",
    "MCC_top6_quarter_2024_country_spend['year'] = MCC_top6_quarter_2024_country_spend['time_period_value'].str[:4]\n",
    "\n",
    "MCC_top6_quarter_2024_country_spend.to_csv('MCC_top6_quarter_year_country_spend.csv')\n",
    "\n",
    "MCC_top6_quarter_2024_country_spend"
   ]
  },
  {
   "cell_type": "code",
   "execution_count": null,
   "id": "ece1479a-f73e-42f8-b6d0-701066b7d6ce",
   "metadata": {
    "tags": []
   },
   "outputs": [],
   "source": [
    "completeness_matrix_int_mcc = (\n",
    "MCC_top6_quarter_2024_country_spend.pivot_table(index='mcc', columns='time_period_value', values='spend', aggfunc='size')\n",
    "    .fillna(False)\n",
    "    .astype(bool)\n",
    ")\n",
    "\n",
    "incomplete_rows_mcc_int = completeness_matrix_int_mcc[~completeness_matrix_mcc.all(axis=1)]\n",
    "incomplete_rows_mcc_int"
   ]
  },
  {
   "cell_type": "code",
   "execution_count": null,
   "id": "89c26468-a867-42f1-bb9e-26fc1a84ecd0",
   "metadata": {
    "tags": []
   },
   "outputs": [],
   "source": [
    "# Define the continent mapping\n",
    "continent_map = {\n",
    "    \"UNITED STATES OF AMERICA\": \"North America\",\n",
    "    \"REST OF  CANADA\": \"North America\",\n",
    "    \"GERMANY\": \"Europe\",\n",
    "    \"REPUBLIC OF IRELAND\": \"Europe\",\n",
    "    \"REST OF  EUROPE\": \"Europe\",\n",
    "    \"SPAIN\": \"Europe\",\n",
    "    \"FRANCE\": \"Europe\",\n",
    "    \"NETHERLANDS\": \"Europe\",\n",
    "    \"ITALY\": \"Europe\",\n",
    "    \"SWITZERLAND\": \"Europe\",\n",
    "    \"POLAND\": \"Europe\",\n",
    "    \"AUSTRIA\": \"Europe\",\n",
    "    \"PORTUGAL\": \"Europe\",\n",
    "    \"REST OF  C.E.M.E.A.\": \"C.E.M.E.A\",\n",
    "    \"UNITED ARAB EMIRATES\": \"Asia-Pacific\",\n",
    "    \"INDIA\": \"Asia-Pacific\",\n",
    "    \"AUSTRALIA\": \"Asia-Pacific\",\n",
    "    \"REST OF  ASIAPAC\": \"Asia-Pacific\",\n",
    "    \"REST OF  LAT.AM.\": \"South America\",\n",
    "    \"SOUTH AFRICA\": \"Africa\"\n",
    "}\n",
    "\n",
    "# Map destination countries to continents\n",
    "MCC_top6_quarter_2024_country_spend['continent'] = MCC_top6_quarter_2024_country_spend['destination_country'].map(continent_map).fillna('Other')\n",
    "MCC_top6_quarter_2024_country_spend.to_csv('MCC_top6_quarter_year_country_spend.csv')\n",
    "\n",
    "# Group by MCC and continent, summing the spend\n",
    "MCC_top6_2024_continent_spend = MCC_top6_quarter_2024_country_spend.groupby(['mcc', 'continent'])['spend'].sum().reset_index()\n",
    "\n",
    "# Normalize spend to get percentage share within each MCC\n",
    "MCC_top6_2024_continent_spend['total_spend_per_mcc'] = MCC_top6_2024_continent_spend.groupby('mcc')['spend'].transform('sum')\n",
    "MCC_top6_2024_continent_spend['spend_share'] = MCC_top6_2024_continent_spend['spend'] / MCC_top6_2024_continent_spend['total_spend_per_mcc'] * 100\n",
    "\n",
    "# Pivot the data for plotting\n",
    "chart_data = MCC_top6_2024_continent_spend.pivot(index='mcc', columns='continent', values='spend_share').fillna(0)\n",
    "\n",
    "# Define custom colors for continents\n",
    "continent_colors = {\n",
    "    \"North America\": \"#1f77b4\",\n",
    "    \"Europe\": \"#ff7f0e\",\n",
    "    \"Asia-Pacific\": \"#2ca02c\",\n",
    "    \"C.E.M.E.A\": \"#d62728\",\n",
    "    \"South America\": \"#9467bd\",\n",
    "    \"Africa\": \"#8c564b\",\n",
    "    \"Other\": \"#cccccc\"\n",
    "}\n",
    "\n",
    "# Reorder columns to match color keys\n",
    "chart_data = chart_data[sorted(chart_data.columns, key=lambda x: list(continent_colors.keys()).index(x) if x in continent_colors else 999)]\n",
    "\n",
    "# Plot with custom colors\n",
    "fig, ax = plt.subplots(figsize=(14, 12))\n",
    "chart_data.plot(kind='bar', stacked=True, ax=ax, width=0.8, color=[continent_colors.get(col, '#cccccc') for col in chart_data.columns])\n",
    "\n",
    "# Customize the plot\n",
    "ax.set_ylabel('Share of Spend (%)')\n",
    "ax.set_xlabel('Sector (MCC)')\n",
    "ax.set_title('Share of Spend by Continent within Each MCC Sector (2024)')\n",
    "plt.xticks(rotation=45, ha='right')\n",
    "\n",
    "# Move the legend to the bottom and make it flatter and wider\n",
    "ax.legend(\n",
    "    loc='upper center',\n",
    "    bbox_to_anchor=(0.5, -0.25),\n",
    "    ncol=4,\n",
    "    title='Continent',\n",
    "    frameon=False\n",
    ")\n",
    "\n",
    "plt.tight_layout()\n",
    "plt.savefig(\"stacked_bar_chart_by_continent.png\")"
   ]
  },
  {
   "cell_type": "code",
   "execution_count": null,
   "id": "aa409993-4a31-4b56-a65c-ce4391414d90",
   "metadata": {
    "tags": []
   },
   "outputs": [],
   "source": [
    "continent_share = MCC_top6_2024_continent_spend.groupby(\"continent\").agg({\n",
    "    \"spend\": \"sum\",\n",
    "    \"total_spend_per_mcc\": \"sum\"  # or 'max', 'min', etc., depending on your logic\n",
    "}).reset_index()\n",
    "continent_share[\"share\"] = (continent_share[\"spend\"] / continent_share[\"total_spend_per_mcc\"]) * 100\n",
    "continent_share"
   ]
  },
  {
   "cell_type": "code",
   "execution_count": null,
   "id": "cbfd0f17-8a39-4ac9-a09f-fc396e0d6e69",
   "metadata": {
    "tags": []
   },
   "outputs": [],
   "source": [
    "# Data for the MCC by continent chart\n",
    "#chart_data.to_csv(\"Figure 7: Share of online spend abroad by continent in top 6 MCCs.csv\")"
   ]
  },
  {
   "cell_type": "code",
   "execution_count": null,
   "id": "d2a605e0-db60-44ce-a96d-d45571e350ff",
   "metadata": {
    "tags": []
   },
   "outputs": [],
   "source": [
    "country_spend_2024 = MCC_top6_quarter_2024_country_spend.groupby(['destination_country'])['spend'].sum()\n",
    "country_share_2024 = (country_spend_2024 / country_spend_2024.sum()) * 100\n",
    "country_share_2024.reset_index()\n",
    "country_share_2024_vis = country_share_2024.to_frame()\n",
    "country_share_2024_vis"
   ]
  },
  {
   "cell_type": "code",
   "execution_count": null,
   "id": "c1c2290f-b931-4836-b5ac-d992d2f45527",
   "metadata": {
    "tags": []
   },
   "outputs": [],
   "source": [
    "# US Percentage of spending online in North America\n",
    "USA_contribution = country_share_2024_vis.loc[\"UNITED STATES OF AMERICA\", \"spend\"]\n",
    "CA_contribution = country_share_2024_vis.loc[\"REST OF  CANADA\", \"spend\"]\n",
    "usa_percent = USA_contribution / (CA_contribution + USA_contribution) \n",
    "usa_percent"
   ]
  },
  {
   "cell_type": "code",
   "execution_count": null,
   "id": "1756ab6a-af98-4531-b53a-cf1336b538dd",
   "metadata": {
    "tags": []
   },
   "outputs": [],
   "source": [
    "# Group by MCC and destination country, summing the spend\n",
    "MCC_top6_2024_country_spend = MCC_top6_quarter_2024_country_spend.groupby(['mcc', 'destination_country'])['spend'].sum().reset_index()\n",
    "\n",
    "# Normalize spend to get percentage share within each MCC\n",
    "MCC_top6_2024_country_spend['total_spend_per_mcc'] = MCC_top6_2024_country_spend.groupby('mcc')['spend'].transform('sum')\n",
    "MCC_top6_2024_country_spend['spend_share'] = MCC_top6_2024_country_spend['spend'] / MCC_top6_2024_country_spend['total_spend_per_mcc'] * 100\n",
    "\n",
    "# Re-aggregate after replacing low-share countries\n",
    "MCC_top6_2024_country_share = MCC_top6_2024_country_spend.groupby(['mcc', 'destination_country'])['spend'].sum().reset_index()\n",
    "\n",
    "# Recalculate spend share after aggregation\n",
    "MCC_top6_2024_country_share['total_spend_per_mcc'] = MCC_top6_2024_country_share.groupby('mcc')['spend'].transform('sum')\n",
    "MCC_top6_2024_country_share['spend_share'] = MCC_top6_2024_country_share['spend'] / MCC_top6_2024_country_share['total_spend_per_mcc'] * 100\n",
    "\n",
    "MCC_top6_2024_country_share_table = MCC_top6_2024_country_share.pivot(index='mcc', columns='destination_country', values='spend_share').fillna(0)\n",
    "\n",
    "MCC_top6_2024_country_share_table"
   ]
  },
  {
   "cell_type": "code",
   "execution_count": null,
   "id": "de0b810a-ea9d-4112-ba21-100afaa49528",
   "metadata": {},
   "outputs": [],
   "source": []
  }
 ],
 "metadata": {
  "environment": {
   "kernel": "python3",
   "name": "r-cpu.m125",
   "type": "gcloud",
   "uri": "us-docker.pkg.dev/deeplearning-platform-release/gcr.io/r-cpu:m125"
  },
  "language_info": {
   "codemirror_mode": {
    "name": "ipython",
    "version": 3
   },
   "file_extension": ".py",
   "mimetype": "text/x-python",
   "name": "python",
   "nbconvert_exporter": "python",
   "pygments_lexer": "ipython3",
   "version": "3.10.15"
  }
 },
 "nbformat": 4,
 "nbformat_minor": 5
}
