{
 "cells": [
  {
   "cell_type": "code",
   "execution_count": null,
   "id": "02db6c21-bc33-479f-a97f-bf23d859234c",
   "metadata": {
    "tags": []
   },
   "outputs": [],
   "source": [
    "project_path = \"/home/jupyter\"\n",
    "import os\n",
    "import sys\n",
    "\n",
    "sys.path.append(project_path)\n",
    "import numpy as np\n",
    "import pandas as pd\n",
    "import plotly.graph_objects as go\n",
    "import matplotlib.pyplot as plt\n",
    "import re\n",
    "from google.cloud import bigquery\n",
    "from matplotlib.ticker import PercentFormatter\n",
    "\n",
    "\n",
    "from fintrans_toolbox.src import bq_utils as bq\n",
    "from fintrans_toolbox.src import table_utils as t\n",
    "\n",
    "\n",
    "client = bigquery.Client()"
   ]
  },
  {
   "cell_type": "code",
   "execution_count": null,
   "id": "9dd5cd34-e68a-4684-929d-eb4f0762d41c",
   "metadata": {
    "tags": []
   },
   "outputs": [],
   "source": [
    "# Summarise the data by country\n",
    "UK_spending_by_country = '''SELECT time_period_value, destination_country, spend\n",
    "FROM `ons-fintrans-data-prod.fintrans_visa.spend_origin_and_channel` \n",
    "where time_period = 'Quarter'\n",
    "and time_period_value != '2025Q1'  \n",
    "and merchant_channel = 'Online'\n",
    "and cardholder_origin_country = 'All' \n",
    "and cardholder_origin = 'UNITED KINGDOM'\n",
    "and mcg = 'All'\n",
    "and destination_country != 'UNITED KINGDOM'\n",
    "GROUP BY destination_country, time_period_value, spend\n",
    "ORDER BY time_period_value, spend DESC'''\n",
    "\n",
    "\n",
    "country_quarter_year_spend = bq.read_bq_table_sql(client, UK_spending_by_country)\n",
    "\n",
    "country_quarter_year_spend['year'] = country_quarter_year_spend['time_period_value'].str[:4]\n",
    "\n",
    "# Convert the 'year' column to numeric\n",
    "country_quarter_year_spend['year'] = pd.to_numeric(country_quarter_year_spend['year'], errors='coerce')\n",
    "\n",
    "country_quarter_year_spend"
   ]
  },
  {
   "cell_type": "code",
   "execution_count": null,
   "id": "0e623307-5b4a-4db7-8be3-65780979ef7c",
   "metadata": {
    "tags": []
   },
   "outputs": [],
   "source": [
    "completeness_matrix_country = (\n",
    "country_quarter_year_spend.pivot_table(index='destination_country', columns='time_period_value', values='spend', aggfunc='size')\n",
    "    .fillna(False)\n",
    "    .astype(bool)\n",
    ")\n",
    "\n",
    "incomplete_rows_country = completeness_matrix_country[~completeness_matrix_country.all(axis=1)]\n",
    "incomplete_rows_country"
   ]
  },
  {
   "cell_type": "code",
   "execution_count": null,
   "id": "a9d4c1fb-5597-434a-9d30-551adfb67829",
   "metadata": {
    "tags": []
   },
   "outputs": [],
   "source": [
    "# Filter data for 2019 and 2024\n",
    "country_quarter_year_spend_2019_2024 = country_quarter_year_spend[country_quarter_year_spend['year'].isin([2019, 2024])]\n",
    "\n",
    "# Group by year and category, summing the spend\n",
    "country_year_spend_2019_2024 = country_quarter_year_spend_2019_2024.groupby(['year', 'destination_country'])['spend'].sum().reset_index()\n",
    "\n",
    "# Pivot the data to have years as columns\n",
    "pivot_country_year_spend_2019_2024 = country_year_spend_2019_2024.pivot(index='destination_country', columns='year', values='spend').fillna(0)\n",
    "\n",
    "# Calculate percentage of total spend for each year\n",
    "pivot_country_year_spend_2019_2024[2019] = pivot_country_year_spend_2019_2024[2019] / pivot_country_year_spend_2019_2024[2019].sum()\n",
    "pivot_country_year_spend_2019_2024[2024] = pivot_country_year_spend_2019_2024[2024] / pivot_country_year_spend_2019_2024[2024].sum()\n",
    "\n",
    "# Sort categories by 2024 spend\n",
    "pivot_country_year_spend_2019_2024 = pivot_country_year_spend_2019_2024.sort_values(by=2024, ascending=False)\n",
    "\n",
    "# Plotting\n",
    "categories = pivot_country_year_spend_2019_2024.index.tolist()\n",
    "spend_2024 = pivot_country_year_spend_2019_2024[2024].values\n",
    "spend_2019 = pivot_country_year_spend_2019_2024[2019].values\n",
    "\n",
    "x = np.arange(len(categories))\n",
    "width = 0.6\n",
    "\n",
    "fig, ax = plt.subplots(figsize=(14, 8))\n",
    "\n",
    "# Bar for 2024\n",
    "bars = ax.bar(x, spend_2024, width, label='2024', color='orange')\n",
    "\n",
    "# Diamond markers for 2019 overlapping the bars\n",
    "ax.scatter(x, spend_2019, color='blue', marker='D', label='2019')\n",
    "\n",
    "# Labels and formatting\n",
    "ax.set_xlabel('Categories')\n",
    "ax.set_ylabel('Share of Spend (%)')\n",
    "ax.set_title('Share of Online Spend by Country, 2019 vs 2024')\n",
    "ax.set_xticks(x)\n",
    "ax.set_xticklabels(categories, rotation=90)\n",
    "ax.yaxis.set_major_formatter(PercentFormatter(1.0))  # Format y-axis as whole percentages\n",
    "ax.legend()\n",
    "\n",
    "plt.tight_layout()\n",
    "plt.show()"
   ]
  },
  {
   "cell_type": "code",
   "execution_count": null,
   "id": "6060b4a4-ddaf-449f-a928-874a40101484",
   "metadata": {
    "tags": []
   },
   "outputs": [],
   "source": [
    "#values used in section 5 are listed in the table below\n",
    "pivot_country_year_spend_2019_2024"
   ]
  },
  {
   "cell_type": "code",
   "execution_count": null,
   "id": "1e244348-b4b8-491c-ad99-a1c04fe55414",
   "metadata": {
    "tags": []
   },
   "outputs": [],
   "source": [
    "# Change in online ratio for each mcg from 2019 to 2024\n",
    "pivot_df = merged_df.pivot(index='mcg', columns='year', values='Online %').fillna(0)\n",
    "\n",
    "#Calculate absolute and percent change\n",
    "pivot_df['absolute_change'] = pivot_df[2024] - pivot_df[2019]\n",
    "pivot_df['percent_change'] = (pivot_df['absolute_change'] / pivot_df[2019]) * 100\n",
    "\n",
    "pivot_df"
   ]
  },
  {
   "cell_type": "code",
   "execution_count": null,
   "id": "93d558ff-4f0a-41df-b207-da2e0fd65537",
   "metadata": {},
   "outputs": [],
   "source": []
  },
  {
   "cell_type": "code",
   "execution_count": null,
   "id": "3dcffd6a-f493-4cdc-b016-329104a5d12a",
   "metadata": {},
   "outputs": [],
   "source": []
  }
 ],
 "metadata": {
  "environment": {
   "kernel": "python3",
   "name": "r-cpu.m125",
   "type": "gcloud",
   "uri": "us-docker.pkg.dev/deeplearning-platform-release/gcr.io/r-cpu:m125"
  },
  "language_info": {
   "codemirror_mode": {
    "name": "ipython",
    "version": 3
   },
   "file_extension": ".py",
   "mimetype": "text/x-python",
   "name": "python",
   "nbconvert_exporter": "python",
   "pygments_lexer": "ipython3",
   "version": "3.10.15"
  }
 },
 "nbformat": 4,
 "nbformat_minor": 5
}
