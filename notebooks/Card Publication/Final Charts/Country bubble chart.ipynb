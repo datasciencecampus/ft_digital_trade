{
 "cells": [
  {
   "cell_type": "code",
   "execution_count": null,
   "id": "be82a1f3-8847-4291-aabf-cdf439172e55",
   "metadata": {
    "tags": []
   },
   "outputs": [],
   "source": [
    "project_path = \"/home/jupyter\"\n",
    "import os\n",
    "import sys\n",
    "\n",
    "sys.path.append(project_path)\n",
    "import numpy as np\n",
    "import pandas as pd\n",
    "import matplotlib.pyplot as plt\n",
    "import re\n",
    "from google.cloud import bigquery\n",
    "\n",
    "from fintrans_toolbox.src import bq_utils as bq\n",
    "from fintrans_toolbox.src import table_utils as t\n",
    "\n",
    "\n",
    "client = bigquery.Client()"
   ]
  },
  {
   "cell_type": "code",
   "execution_count": null,
   "id": "65a62954-2e0a-4f50-9a53-39c1fe07c208",
   "metadata": {
    "tags": []
   },
   "outputs": [],
   "source": [
    "# Summarise the data by mcg\n",
    "UK_spending_by_country = '''SELECT time_period_value, destination_country, spend, merchant_channel, cardholders\n",
    "FROM `ons-fintrans-data-prod.fintrans_visa.spend_origin_and_channel` \n",
    "where time_period = 'Quarter'\n",
    "and cardholder_origin_country = 'All' \n",
    "and cardholder_origin = 'UNITED KINGDOM'\n",
    "and destination_country != 'UNITED KINGDOM'\n",
    "and mcg = 'All'\n",
    "GROUP BY destination_country, time_period_value, spend, merchant_channel, cardholders\n",
    "ORDER BY time_period_value, spend DESC'''\n",
    "\n",
    "yearly_country_df = bq.read_bq_table_sql(client, UK_spending_by_country)\n",
    "\n",
    "yearly_country_df['year'] = yearly_country_df['time_period_value'].str[:4]\n",
    "\n",
    "yearly_country_df.head()"
   ]
  },
  {
   "cell_type": "code",
   "execution_count": null,
   "id": "e1dc9e2c-edf9-403d-a719-615126aa7dcb",
   "metadata": {
    "tags": []
   },
   "outputs": [],
   "source": [
    "yearly_country_df.to_csv('yearly_country_df.csv')\n",
    "df = pd.read_csv('yearly_country_df.csv')\n",
    "\n",
    "# Filter for Online and All channels\n",
    "online_df = df[df[\"merchant_channel\"] == \"Online\"]\n",
    "all_df = df[df[\"merchant_channel\"] == \"All\"]\n",
    "\n",
    "# Aggregate spend by destination_country and year\n",
    "online_agg = online_df.groupby([\"destination_country\", \"year\"])[\"spend\"].sum().unstack()\n",
    "all_agg = all_df.groupby([\"destination_country\", \"year\"])[\"spend\"].sum().unstack()\n",
    "\n",
    "# Calculate percentage of online spend out of total spend for each year\n",
    "online_share = (online_agg / all_agg) * 100\n",
    "\n",
    "# Compute the change in share from 2019 to 2024\n",
    "online_share[\"diff\"] = online_share[2024] - online_share[2019]\n",
    "\n",
    "# Calculate percentage of total online spend abroad in 2024\n",
    "total_online_2024 = online_agg[2024].sum()\n",
    "online_share[\"% of total online spend abroad (2024)\"] = (online_agg[2024] / total_online_2024) * 100\n",
    "\n",
    "# Prepare the final DataFrame\n",
    "final_df = online_share.reset_index().rename(columns={\n",
    "    2019: \"2019_online_share\",\n",
    "    2024: \"2024_online_share\"\n",
    "})\n"
   ]
  },
  {
   "cell_type": "code",
   "execution_count": null,
   "id": "17ad7cf6-a765-4140-bac3-3415d4a6317f",
   "metadata": {
    "tags": []
   },
   "outputs": [],
   "source": [
    "plt.figure(figsize=(12, 8))\n",
    "plt.scatter(\n",
    "    final_df[\"2019_online_share\"],\n",
    "    final_df[\"2024_online_share\"],\n",
    "    s=final_df[\"% of total online spend abroad (2024)\"] * 100,\n",
    "    alpha=0.6,\n",
    "    edgecolors='w'\n",
    ")\n",
    "\n",
    "# Add labels for each point\n",
    "for _, row in final_df.iterrows():\n",
    "    plt.text(row[\"2019_online_share\"], row[\"2024_online_share\"], row[\"destination_country\"],\n",
    "             fontsize=8, ha='center', va='center')\n",
    "\n",
    "# Add a 45-degree reference line\n",
    "lims = [\n",
    "    min(final_df[\"2019_online_share\"].min(), final_df[\"2024_online_share\"].min()),\n",
    "    max(final_df[\"2019_online_share\"].max(), final_df[\"2024_online_share\"].max())\n",
    "]\n",
    "plt.plot(lims, lims, 'k--', alpha=0.75)\n",
    "\n",
    "# Set axis labels and title\n",
    "plt.xlabel(\"2019 Online Spend Share (%)\")\n",
    "plt.ylabel(\"2024 Online Spend Share (%)\")\n",
    "plt.title(\"Online Spend Share by Destination Country\\n(2019 vs 2024, Bubble Size = % of Total Online Spend Abroad in 2024)\")\n",
    "\n",
    "# Add gridlines only at 50% on both axes\n",
    "plt.axhline(50, color='gray', linestyle=':', linewidth=1)\n",
    "plt.axvline(50, color='gray', linestyle=':', linewidth=1)\n",
    "plt.grid(False)\n",
    "\n",
    "plt.tight_layout()\n",
    "plt.show()\n"
   ]
  },
  {
   "cell_type": "code",
   "execution_count": null,
   "id": "437ee576-fe7f-49ab-b2a6-750836dd65b0",
   "metadata": {
    "tags": []
   },
   "outputs": [],
   "source": [
    "print(final_df)"
   ]
  },
  {
   "cell_type": "code",
   "execution_count": null,
   "id": "edb79b79-8353-49df-9a72-67889759d9e1",
   "metadata": {
    "tags": []
   },
   "outputs": [],
   "source": [
    "online_agg\n"
   ]
  },
  {
   "cell_type": "code",
   "execution_count": null,
   "id": "384d88fd-fbed-4c9d-be44-d2850be45884",
   "metadata": {},
   "outputs": [],
   "source": []
  }
 ],
 "metadata": {
  "environment": {
   "kernel": "python3",
   "name": "r-cpu.m125",
   "type": "gcloud",
   "uri": "us-docker.pkg.dev/deeplearning-platform-release/gcr.io/r-cpu:m125"
  },
  "language_info": {
   "codemirror_mode": {
    "name": "ipython",
    "version": 3
   },
   "file_extension": ".py",
   "mimetype": "text/x-python",
   "name": "python",
   "nbconvert_exporter": "python",
   "pygments_lexer": "ipython3",
   "version": "3.10.15"
  }
 },
 "nbformat": 4,
 "nbformat_minor": 5
}
