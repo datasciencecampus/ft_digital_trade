{
 "cells": [
  {
   "cell_type": "code",
   "execution_count": null,
   "id": "d9ff0af0-d14f-4101-aaa7-473796800a28",
   "metadata": {
    "tags": []
   },
   "outputs": [],
   "source": [
    "project_path = \"/home/jupyter\"\n",
    "import os\n",
    "import sys\n",
    "\n",
    "sys.path.append(project_path)\n",
    "import numpy as np\n",
    "import pandas as pd\n",
    "import matplotlib.pyplot as plt\n",
    "import re\n",
    "from google.cloud import bigquery\n",
    "\n",
    "from fintrans_toolbox.src import bq_utils as bq\n",
    "from fintrans_toolbox.src import table_utils as t\n",
    "\n",
    "\n",
    "client = bigquery.Client()"
   ]
  },
  {
   "cell_type": "code",
   "execution_count": null,
   "id": "be310ddc-30a0-4983-9226-33a58a395a2c",
   "metadata": {
    "tags": []
   },
   "outputs": [],
   "source": [
    "# Summarise the data by mcg\n",
    "UK_spending_by_mcg = '''SELECT time_period_value, mcc, spend\n",
    "FROM `ons-fintrans-data-prod.fintrans_visa.spend_origin_and_channel` \n",
    "where time_period = 'Quarter'\n",
    "and time_period_value != '2025Q1'  \n",
    "and merchant_channel = 'Online'\n",
    "and cardholder_origin_country = 'All' \n",
    "and cardholder_origin = 'UNITED KINGDOM'\n",
    "and mcg != 'All'\n",
    "and mcg != 'BUSINESS TO BUSINESS'\n",
    "and mcc != 'All'\n",
    "and destination_country != 'UNITED KINGDOM'\n",
    "GROUP BY mcc, time_period_value, spend\n",
    "ORDER BY time_period_value, spend DESC'''\n",
    "\n",
    "yearly_mcc = bq.read_bq_table_sql(client, UK_spending_by_mcg)\n",
    "\n",
    "yearly_mcc['year'] = yearly_mcc['time_period_value'].str[:4]\n",
    "\n",
    "yearly_mcc.head()"
   ]
  },
  {
   "cell_type": "code",
   "execution_count": null,
   "id": "043fde10-270c-4fb5-b44b-d41577e81fbb",
   "metadata": {
    "tags": []
   },
   "outputs": [],
   "source": [
    "yearly_mcc.to_csv('yearly_mcc.csv')\n",
    "yearly_mcc_2 = pd.read_csv('yearly_mcc.csv')\n",
    "latest_year_mcc = yearly_mcc_2[yearly_mcc_2['year'] == 2024][['mcc', 'spend']]\n",
    "latest_year_mcc.to_csv('latest_year_mcc.csv', index=False)\n",
    "total_spend_per_mcc = latest_year_mcc.groupby('mcc')['spend'].sum()\n",
    "total_spend_per_mcc_perc = (total_spend_per_mcc / total_spend_per_mcc.sum()) * 100\n",
    "total_spend_per_mcc_perc.to_csv('total_spend_per_mcc_perc.csv')"
   ]
  },
  {
   "cell_type": "code",
   "execution_count": null,
   "id": "eb74ff4a-4ae9-4a61-8777-83713bd5f396",
   "metadata": {
    "tags": []
   },
   "outputs": [],
   "source": [
    "df_perc = pd.read_csv('total_spend_per_mcc_perc.csv')\n",
    "df_perc.columns = ['mcc', 'percentage']\n",
    "top_6_mccs = df_perc.sort_values(by='percentage', ascending=False).head(6)\n",
    "top_6_mccs"
   ]
  },
  {
   "cell_type": "code",
   "execution_count": null,
   "id": "cbcdbc23-c39d-41ba-985a-278a3e1242fc",
   "metadata": {
    "tags": []
   },
   "outputs": [],
   "source": [
    "top_6_sum = top_6_mccs.sum()\n",
    "top_6_sum"
   ]
  },
  {
   "cell_type": "code",
   "execution_count": null,
   "id": "58268bd0-1b72-4ed6-9087-42787eb43f6e",
   "metadata": {},
   "outputs": [],
   "source": []
  }
 ],
 "metadata": {
  "environment": {
   "kernel": "python3",
   "name": "r-cpu.m125",
   "type": "gcloud",
   "uri": "us-docker.pkg.dev/deeplearning-platform-release/gcr.io/r-cpu:m125"
  },
  "language_info": {
   "codemirror_mode": {
    "name": "ipython",
    "version": 3
   },
   "file_extension": ".py",
   "mimetype": "text/x-python",
   "name": "python",
   "nbconvert_exporter": "python",
   "pygments_lexer": "ipython3",
   "version": "3.10.15"
  }
 },
 "nbformat": 4,
 "nbformat_minor": 5
}
