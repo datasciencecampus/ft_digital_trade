{
 "cells": [
  {
   "cell_type": "code",
   "execution_count": null,
   "id": "3091c239-4dfc-4aab-8bac-0bb7bc9c650f",
   "metadata": {
    "tags": []
   },
   "outputs": [],
   "source": [
    "project_path = \"/home/jupyter\"\n",
    "import os\n",
    "import sys\n",
    "\n",
    "sys.path.append(project_path)\n",
    "import numpy as np\n",
    "import pandas as pd\n",
    "import plotly.graph_objects as go\n",
    "import matplotlib.pyplot as plt\n",
    "import re\n",
    "from google.cloud import bigquery\n",
    "from matplotlib.ticker import PercentFormatter\n",
    "\n",
    "\n",
    "from fintrans_toolbox.src import bq_utils as bq\n",
    "from fintrans_toolbox.src import table_utils as t\n",
    "\n",
    "\n",
    "client = bigquery.Client()"
   ]
  },
  {
   "cell_type": "code",
   "execution_count": null,
   "id": "542d65a0-c632-4999-9797-7d3641ff32fe",
   "metadata": {
    "tags": []
   },
   "outputs": [],
   "source": [
    "# Summarise the data by mcg\n",
    "UK_spending_by_mcg = '''SELECT time_period_value, mcg, spend\n",
    "FROM `ons-fintrans-data-prod.fintrans_visa.spend_origin_and_channel` \n",
    "where time_period = 'Quarter'\n",
    "and time_period_value != '2025Q1'  \n",
    "and merchant_channel = 'Online'\n",
    "and cardholder_origin_country = 'All' \n",
    "and cardholder_origin = 'UNITED KINGDOM'\n",
    "and mcg != 'All'\n",
    "and mcg != 'BUSINESS TO BUSINESS'\n",
    "and mcc != 'All'\n",
    "GROUP BY mcg, time_period_value, spend\n",
    "ORDER BY time_period_value, spend DESC'''\n",
    "\n",
    "mcg_by_quarter = bq.read_bq_table_sql(client, UK_spending_by_mcg)\n",
    "\n",
    "mcg_by_quarter['year'] = mcg_by_quarter['time_period_value'].str[:4]\n",
    "\n",
    "# Convert the 'year' column to numeric\n",
    "mcg_by_quarter['year'] = pd.to_numeric(mcg_by_quarter['year'], errors='coerce')\n",
    "\n",
    "mcg_by_quarter.head()"
   ]
  },
  {
   "cell_type": "code",
   "execution_count": null,
   "id": "f63014e0-f421-4f15-bde5-19944e56c6d6",
   "metadata": {
    "tags": []
   },
   "outputs": [],
   "source": [
    "\n",
    "# Filter data for 2019 and 2024\n",
    "df_filtered = mcg_by_quarter[mcg_by_quarter['year'].isin([2019, 2024])]\n",
    "\n",
    "# Group by year and category, summing the spend\n",
    "grouped = df_filtered.groupby(['year', 'mcg'])['spend'].sum().reset_index()\n",
    "\n",
    "# Pivot the data to have years as columns\n",
    "pivot_df = grouped.pivot(index='mcg', columns='year', values='spend').fillna(0)\n",
    "\n",
    "# Calculate percentage of total spend for each year\n",
    "pivot_df[2019] = pivot_df[2019] / pivot_df[2019].sum()\n",
    "pivot_df[2024] = pivot_df[2024] / pivot_df[2024].sum()\n",
    "\n",
    "# Sort categories by 2024 spend\n",
    "pivot_df = pivot_df.sort_values(by=2024, ascending=False)\n",
    "\n",
    "# Plotting\n",
    "categories = pivot_df.index.tolist()\n",
    "spend_2024 = pivot_df[2024].values\n",
    "spend_2019 = pivot_df[2019].values\n",
    "\n",
    "x = np.arange(len(categories))\n",
    "width = 0.6\n",
    "\n",
    "fig, ax = plt.subplots(figsize=(14, 8))\n",
    "\n",
    "# Bar for 2024\n",
    "bars = ax.bar(x, spend_2024, width, label='2024', color='orange')\n",
    "\n",
    "# Diamond markers for 2019 overlapping the bars\n",
    "ax.scatter(x, spend_2019, color='blue', marker='D', label='2019')\n",
    "\n",
    "# Labels and formatting\n",
    "ax.set_xlabel('Categories')\n",
    "ax.set_ylabel('Share of Spend (%)')\n",
    "ax.set_title('Share of Online Spend by Merchant Category Group, 2019 vs 2024')\n",
    "ax.set_xticks(x)\n",
    "ax.set_xticklabels(categories, rotation=90)\n",
    "ax.yaxis.set_major_formatter(PercentFormatter(1.0))  # Format y-axis as whole percentages\n",
    "ax.legend()\n",
    "\n",
    "plt.tight_layout()\n",
    "plt.show()"
   ]
  },
  {
   "cell_type": "code",
   "execution_count": null,
   "id": "4e84b11e-cf42-42aa-a53d-02b9fe07d0f3",
   "metadata": {
    "tags": []
   },
   "outputs": [],
   "source": [
    "print(pivot_df)"
   ]
  },
  {
   "cell_type": "code",
   "execution_count": null,
   "id": "e3d2bc50-4125-45d5-b22b-6de154822898",
   "metadata": {
    "tags": []
   },
   "outputs": [],
   "source": [
    "print(grouped)"
   ]
  },
  {
   "cell_type": "code",
   "execution_count": null,
   "id": "3f01b808-93bd-4e1d-ae76-9a2728478adc",
   "metadata": {
    "tags": []
   },
   "outputs": [],
   "source": [
    "grouped.to_csv('grouped.csv')"
   ]
  },
  {
   "cell_type": "code",
   "execution_count": null,
   "id": "eb207b5c-1e10-4f82-a0ff-0c8bf8731df4",
   "metadata": {
    "tags": []
   },
   "outputs": [],
   "source": [
    "# Change in each mcg from 2019 to 2024\n",
    "pivot_df = grouped.pivot(index='mcg', columns='year', values='spend').fillna(0)\n",
    "\n",
    "#Calculate absolute and percent change\n",
    "pivot_df['absolute_change'] = pivot_df[2024] - pivot_df[2019]\n",
    "pivot_df['percent_change'] = (pivot_df['absolute_change'] / pivot_df[2019]) * 100\n",
    "\n",
    "pivot_df"
   ]
  },
  {
   "cell_type": "code",
   "execution_count": null,
   "id": "e7884df5-221f-4eaa-8674-e134a0772baa",
   "metadata": {
    "tags": []
   },
   "outputs": [],
   "source": [
    "# Total spend in each MCG to calcualte the online ratios\n",
    "# Summarise the data by mcg\n",
    "total_spending_by_mcg = '''SELECT time_period_value, mcg, spend AS total_spend\n",
    "FROM `ons-fintrans-data-prod.fintrans_visa.spend_origin_and_channel` \n",
    "where time_period = 'Quarter'\n",
    "and time_period_value != '2025Q1'  \n",
    "and merchant_channel = 'All'\n",
    "and cardholder_origin_country = 'All' \n",
    "and cardholder_origin = 'UNITED KINGDOM'\n",
    "and mcg != 'All'\n",
    "and mcg != 'BUSINESS TO BUSINESS'\n",
    "and mcc != 'All'\n",
    "GROUP BY mcg, time_period_value, spend\n",
    "ORDER BY time_period_value, spend DESC'''\n",
    "\n",
    "total_mcg_by_quarter = bq.read_bq_table_sql(client, total_spending_by_mcg)\n",
    "\n",
    "total_mcg_by_quarter['year'] = total_mcg_by_quarter['time_period_value'].str[:4]\n",
    "\n",
    "# Convert the 'year' column to numeric\n",
    "total_mcg_by_quarter['year'] = pd.to_numeric(total_mcg_by_quarter['year'], errors='coerce')\n",
    "\n",
    "total_mcg_by_quarter.head()"
   ]
  },
  {
   "cell_type": "code",
   "execution_count": null,
   "id": "9ed0006d-6818-42e6-91fe-414b9598dbe6",
   "metadata": {
    "tags": []
   },
   "outputs": [],
   "source": [
    "total_df_filtered = total_mcg_by_quarter[total_mcg_by_quarter['year'].isin([2019, 2024])]\n",
    "total_grouped = total_df_filtered.groupby(['year', 'mcg'])['total_spend'].sum().reset_index()\n",
    "\n",
    "merged_df = pd.merge(total_grouped, grouped, on=[\"mcg\", \"year\"])\n",
    "merged_df[\"Online %\"] = merged_df[\"spend\"] / merged_df[\"total_spend\"] * 100\n",
    "merged_df"
   ]
  },
  {
   "cell_type": "code",
   "execution_count": null,
   "id": "b7bed3e2-d0c4-42ed-ab8a-2d8bb6909d8c",
   "metadata": {
    "tags": []
   },
   "outputs": [],
   "source": [
    "# Change in online ratio for each mcg from 2019 to 2024\n",
    "pivot_df = merged_df.pivot(index='mcg', columns='year', values='spend').fillna(0)\n",
    "\n",
    "#Calculate absolute and percent change\n",
    "pivot_df['absolute_change'] = pivot_df[2024] - pivot_df[2019]\n",
    "pivot_df['percent_change'] = (pivot_df['absolute_change'] / pivot_df[2019]) * 100\n",
    "\n",
    "pivot_df"
   ]
  },
  {
   "cell_type": "code",
   "execution_count": null,
   "id": "ca677fe6-7fb7-4ca1-8fff-d1c833a9dedd",
   "metadata": {},
   "outputs": [],
   "source": []
  }
 ],
 "metadata": {
  "environment": {
   "kernel": "python3",
   "name": "r-cpu.m125",
   "type": "gcloud",
   "uri": "us-docker.pkg.dev/deeplearning-platform-release/gcr.io/r-cpu:m125"
  },
  "language_info": {
   "codemirror_mode": {
    "name": "ipython",
    "version": 3
   },
   "file_extension": ".py",
   "mimetype": "text/x-python",
   "name": "python",
   "nbconvert_exporter": "python",
   "pygments_lexer": "ipython3",
   "version": "3.10.15"
  }
 },
 "nbformat": 4,
 "nbformat_minor": 5
}
