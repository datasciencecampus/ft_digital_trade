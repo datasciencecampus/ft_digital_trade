{
 "cells": [
  {
   "cell_type": "code",
   "execution_count": null,
   "id": "5bb828a4-f5e7-41a8-9f30-bc787aa715de",
   "metadata": {
    "tags": []
   },
   "outputs": [],
   "source": [
    "project_path = \"/home/jupyter\"\n",
    "import os\n",
    "import sys\n",
    "\n",
    "sys.path.append(project_path)\n",
    "import numpy as np\n",
    "import pandas as pd\n",
    "import matplotlib.pyplot as plt\n",
    "import plotly.express as px\n",
    "import re\n",
    "from google.cloud import bigquery\n",
    "import plotly.graph_objects as go\n",
    "\n",
    "\n",
    "from fintrans_toolbox.src import bq_utils as bq\n",
    "from fintrans_toolbox.src import table_utils as t\n",
    "\n",
    "client = bigquery.Client()"
   ]
  },
  {
   "cell_type": "code",
   "execution_count": null,
   "id": "335f2aff-ba83-426c-9540-4f3f53eac1cb",
   "metadata": {
    "tags": []
   },
   "outputs": [],
   "source": [
    "# Summarise the data by mcg\n",
    "UK_mcc_country = '''SELECT time_period_value, mcc, spend, destination_country\n",
    "FROM `ons-fintrans-data-prod.fintrans_visa.spend_origin_and_channel` \n",
    "where time_period = 'Quarter'\n",
    "and time_period_value IN (\"2024Q1\",\"2024Q2\",\"2024Q3\",\"2024Q4\")\n",
    "and merchant_channel = 'Online'\n",
    "and cardholder_origin_country = 'All' \n",
    "and cardholder_origin = 'UNITED KINGDOM'\n",
    "and destination_country != 'UNITED KINGDOM'\n",
    "and mcc = 'All'\n",
    "GROUP BY mcc, time_period_value, spend, destination_country\n",
    "ORDER BY time_period_value, spend DESC'''\n",
    "\n",
    "mcc_country_df = bq.read_bq_table_sql(client, UK_mcc_country)\n",
    "\n",
    "mcc_country_df['year'] = mcc_country_df['time_period_value'].str[:4]\n",
    "\n",
    "mcc_country_df.head()"
   ]
  },
  {
   "cell_type": "code",
   "execution_count": null,
   "id": "dab61336-0fba-4150-a3b1-4f71da31cecf",
   "metadata": {
    "tags": []
   },
   "outputs": [],
   "source": [
    "# Map destination countries to continents\n",
    "continent_map = {\n",
    "    \"UNITED STATES OF AMERICA\": \"North America\",\n",
    "    \"CANADA\": \"North America\",\n",
    "    \"REST OF  CANADA\": \"North America\",\n",
    "    \"GERMANY\": \"Europe\",\n",
    "    \"REPUBLIC OF IRELAND\": \"Europe\",\n",
    "    \"REST OF  EUROPE\": \"Europe\",\n",
    "    \"SPAIN\": \"Europe\",\n",
    "    \"FRANCE\": \"Europe\",\n",
    "    \"NETHERLANDS\": \"Europe\",\n",
    "    \"ITALY\": \"Europe\",\n",
    "    \"SWITZERLAND\": \"Europe\",\n",
    "    \"POLAND\": \"Europe\",\n",
    "    \"AUSTRIA\": \"Europe\",\n",
    "    \"PORTUGAL\": \"Europe\",\n",
    "    \"REST OF  C.E.M.E.A.\": \"Asia-Pacific\",\n",
    "    \"UNITED ARAB EMIRATES\": \"Asia-Pacific\",\n",
    "    \"INDIA\": \"Asia-Pacific\",\n",
    "    \"AUSTRALIA\": \"Asia-Pacific\",\n",
    "    \"REST OF  ASIAPAC\": \"Asia-Pacific\",\n",
    "    \"REST OF  LAT.AM.\": \"South America\",\n",
    "    \"SOUTH AFRICA\": \"Africa\",\n",
    "    \"REST OF WORLD\": \"Other\"\n",
    "}\n",
    "\n",
    "# Apply continent mapping\n",
    "mcc_country_df[\"continent\"] = mcc_country_df[\"destination_country\"].map(continent_map)\n",
    "mcc_country_df = mcc_country_df.dropna(subset=[\"continent\"])\n",
    "\n",
    "# Group by MCC and continent, then calculate spend share\n",
    "grouped = mcc_country_df.groupby([\"mcc\", \"continent\"])[\"spend\"].sum().reset_index()\n",
    "total_spend = grouped.groupby(\"mcc\")[\"spend\"].sum().reset_index().rename(columns={\"spend\": \"total_spend\"})\n",
    "grouped = grouped.merge(total_spend, on=\"mcc\")\n",
    "grouped[\"share\"] = (grouped[\"spend\"] / grouped[\"total_spend\"]) * 100\n",
    "\n",
    "# Pivot the data for plotting\n",
    "pivot_df = grouped.pivot(index=\"mcc\", columns=\"continent\", values=\"share\").fillna(0)\n",
    "\n",
    "# Plotting\n",
    "fig, ax = plt.subplots(figsize=(16, 10))\n",
    "pivot_df.plot(kind=\"bar\", stacked=True, ax=ax)\n",
    "\n",
    "# Customize plot\n",
    "ax.set_title(\"Share of Spend by Continent within Each MCC Sector (2024)\", fontsize=16)\n",
    "ax.set_ylabel(\"Share of Spend (%)\", fontsize=14)\n",
    "ax.set_xlabel(\"MCC Sector\", fontsize=14)\n",
    "ax.legend(loc=\"lower center\", bbox_to_anchor=(0.5, -0.35), ncol=4)\n",
    "plt.xticks(rotation=0, ha='center')  # Horizontal x-axis labels\n",
    "# Save the plot\n",
    "plt.tight_layout()\n",
    "plt.savefig(\"share_of_spend_by_continent.png\", dpi=300, bbox_inches=\"tight\")"
   ]
  },
  {
   "cell_type": "code",
   "execution_count": null,
   "id": "83e58906-908b-4e52-9920-87021572c64f",
   "metadata": {
    "tags": []
   },
   "outputs": [],
   "source": [
    "print(pivot_df)"
   ]
  },
  {
   "cell_type": "code",
   "execution_count": null,
   "id": "e718e31a-80b2-47e1-9a80-b41ad09419c5",
   "metadata": {},
   "outputs": [],
   "source": []
  }
 ],
 "metadata": {
  "environment": {
   "kernel": "python3",
   "name": "r-cpu.m125",
   "type": "gcloud",
   "uri": "us-docker.pkg.dev/deeplearning-platform-release/gcr.io/r-cpu:m125"
  },
  "language_info": {
   "codemirror_mode": {
    "name": "ipython",
    "version": 3
   },
   "file_extension": ".py",
   "mimetype": "text/x-python",
   "name": "python",
   "nbconvert_exporter": "python",
   "pygments_lexer": "ipython3",
   "version": "3.10.15"
  }
 },
 "nbformat": 4,
 "nbformat_minor": 5
}
