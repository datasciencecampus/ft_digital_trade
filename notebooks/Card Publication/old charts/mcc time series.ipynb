{
 "cells": [
  {
   "cell_type": "code",
   "execution_count": null,
   "id": "7c4fe0ab-6479-427f-b921-ce106e14a88d",
   "metadata": {
    "tags": []
   },
   "outputs": [],
   "source": [
    "project_path = \"/home/jupyter\"\n",
    "import os\n",
    "import sys\n",
    "\n",
    "sys.path.append(project_path)\n",
    "import numpy as np\n",
    "import pandas as pd\n",
    "import matplotlib.pyplot as plt\n",
    "import re\n",
    "from google.cloud import bigquery\n",
    "\n",
    "from fintrans_toolbox.src import bq_utils as bq\n",
    "from fintrans_toolbox.src import table_utils as t\n",
    "\n",
    "\n",
    "client = bigquery.Client()"
   ]
  },
  {
   "cell_type": "code",
   "execution_count": null,
   "id": "80b34248-084c-4d6b-b94f-1a46d948c3aa",
   "metadata": {
    "tags": []
   },
   "outputs": [],
   "source": [
    "# Summarise the data by mcg\n",
    "UK_spending_by_mcc = '''SELECT time_period_value, mcc, spend\n",
    "FROM `ons-fintrans-data-prod.fintrans_visa.spend_origin_and_channel` \n",
    "where time_period = 'Quarter'\n",
    "and time_period_value != '2025Q1'  \n",
    "and merchant_channel = 'Online'\n",
    "and cardholder_origin_country = 'All' \n",
    "and cardholder_origin = 'UNITED KINGDOM'\n",
    "and destination_country != 'UNITED KINGDOM'\n",
    "and mcg != 'All'\n",
    "and mcc != 'All'\n",
    "GROUP BY mcc, time_period_value, spend\n",
    "ORDER BY time_period_value, spend DESC'''\n",
    "\n",
    "mcc_by_quarter = bq.read_bq_table_sql(client, UK_spending_by_mcc)\n",
    "\n",
    "mcc_by_quarter.head()"
   ]
  },
  {
   "cell_type": "code",
   "execution_count": null,
   "id": "45c03fdb-8458-4d1d-93f4-da522c5b6644",
   "metadata": {
    "tags": []
   },
   "outputs": [],
   "source": [
    "mcc_by_quarter.to_csv('mcc_by_quarter.csv')"
   ]
  },
  {
   "cell_type": "code",
   "execution_count": null,
   "id": "7b0aa1a7-374f-40ce-b2b0-838e8b3c2021",
   "metadata": {
    "tags": []
   },
   "outputs": [],
   "source": [
    "# Filter data for 2019 and 2024\n",
    "df_2019 = mcc_by_quarter[mcc_by_quarter['time_period_value'].str.startswith('2019')]\n",
    "df_2024 = mcc_by_quarter[mcc_by_quarter['time_period_value'].str.startswith('2024')]\n",
    "\n",
    "# Get top 5 MCCs by total spend in 2019 and 2024\n",
    "top5_2019 = df_2019.groupby('mcc')['spend'].sum().nlargest(5).index\n",
    "top5_2024 = df_2024.groupby('mcc')['spend'].sum().nlargest(5).index\n",
    "\n",
    "# Combine the top MCCs\n",
    "top_mccs = set(top5_2019).union(set(top5_2024))\n",
    "\n",
    "# Filter the original dataframe for these MCCs\n",
    "df_filtered = mcc_by_quarter[mcc_by_quarter['mcc'].isin(top_mccs)]\n",
    "\n",
    "# Calculate total spend per quarter\n",
    "total_spend_per_quarter = mcc_by_quarter.groupby('time_period_value')['spend'].sum().reset_index()\n",
    "total_spend_per_quarter.columns = ['time_period_value', 'total_spend']\n",
    "\n",
    "# Merge total spend with filtered data\n",
    "df_merged = pd.merge(df_filtered, total_spend_per_quarter, on='time_period_value')\n",
    "df_merged['spend_pct'] = (df_merged['spend'] / df_merged['total_spend']) * 100\n",
    "\n",
    "# Group by quarter and MCC, then sum the percentage\n",
    "df_grouped = df_merged.groupby(['time_period_value', 'mcc'])['spend_pct'].sum().reset_index()\n",
    "\n",
    "# Pivot the data for plotting\n",
    "df_pivot = df_grouped.pivot(index='time_period_value', columns='mcc', values='spend_pct').fillna(0)\n",
    "\n",
    "# Sort the index to ensure chronological order\n",
    "df_pivot = df_pivot.sort_index()\n",
    "\n",
    "# Plot the line chart\n",
    "plt.figure(figsize=(14, 8))\n",
    "for column in df_pivot.columns:\n",
    "    plt.plot(df_pivot.index, df_pivot[column], marker='o', label=column)\n",
    "\n",
    "plt.title('Quarterly % of Total Spend for Top 5 MCCs in 2019 and 2024 (2019 - 2024)')\n",
    "plt.xlabel('Quarter')\n",
    "plt.ylabel('Percentage of Total Spend')\n",
    "plt.xticks(rotation=45)\n",
    "plt.legend(title='MCC', bbox_to_anchor=(1.05, 1), loc='upper left')\n",
    "plt.grid(True)\n",
    "plt.tight_layout()\n",
    "plt.show()"
   ]
  },
  {
   "cell_type": "code",
   "execution_count": null,
   "id": "537f018a-7b0e-490a-808d-2b9dfc3c3bee",
   "metadata": {
    "tags": []
   },
   "outputs": [],
   "source": [
    "print(top5_2019)\n"
   ]
  },
  {
   "cell_type": "code",
   "execution_count": null,
   "id": "94e38a89-36ed-47f3-8f93-3bb49fd85f2c",
   "metadata": {
    "tags": []
   },
   "outputs": [],
   "source": [
    "print(top5_2024)"
   ]
  },
  {
   "cell_type": "code",
   "execution_count": null,
   "id": "60acd23a-ab44-4f45-81c2-0fdb61c673d7",
   "metadata": {},
   "outputs": [],
   "source": []
  }
 ],
 "metadata": {
  "environment": {
   "kernel": "python3",
   "name": "r-cpu.m125",
   "type": "gcloud",
   "uri": "us-docker.pkg.dev/deeplearning-platform-release/gcr.io/r-cpu:m125"
  },
  "language_info": {
   "codemirror_mode": {
    "name": "ipython",
    "version": 3
   },
   "file_extension": ".py",
   "mimetype": "text/x-python",
   "name": "python",
   "nbconvert_exporter": "python",
   "pygments_lexer": "ipython3",
   "version": "3.10.15"
  }
 },
 "nbformat": 4,
 "nbformat_minor": 5
}
